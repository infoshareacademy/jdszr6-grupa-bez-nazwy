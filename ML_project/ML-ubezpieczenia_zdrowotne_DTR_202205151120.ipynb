{
 "cells": [
  {
   "cell_type": "code",
   "execution_count": 1,
   "metadata": {},
   "outputs": [
    {
     "name": "stdout",
     "output_type": "stream",
     "text": [
      "<class 'pandas.core.frame.DataFrame'>\n",
      "RangeIndex: 1338 entries, 0 to 1337\n",
      "Data columns (total 7 columns):\n",
      " #   Column    Non-Null Count  Dtype  \n",
      "---  ------    --------------  -----  \n",
      " 0   age       1338 non-null   int64  \n",
      " 1   sex       1338 non-null   object \n",
      " 2   bmi       1338 non-null   float64\n",
      " 3   children  1338 non-null   int64  \n",
      " 4   smoker    1338 non-null   object \n",
      " 5   region    1338 non-null   object \n",
      " 6   charges   1338 non-null   float64\n",
      "dtypes: float64(2), int64(2), object(3)\n",
      "memory usage: 73.3+ KB\n",
      "None\n",
      "(1338, 7)\n"
     ]
    },
    {
     "data": {
      "text/html": [
       "<div>\n",
       "<style scoped>\n",
       "    .dataframe tbody tr th:only-of-type {\n",
       "        vertical-align: middle;\n",
       "    }\n",
       "\n",
       "    .dataframe tbody tr th {\n",
       "        vertical-align: top;\n",
       "    }\n",
       "\n",
       "    .dataframe thead th {\n",
       "        text-align: right;\n",
       "    }\n",
       "</style>\n",
       "<table border=\"1\" class=\"dataframe\">\n",
       "  <thead>\n",
       "    <tr style=\"text-align: right;\">\n",
       "      <th></th>\n",
       "      <th>age</th>\n",
       "      <th>sex</th>\n",
       "      <th>bmi</th>\n",
       "      <th>children</th>\n",
       "      <th>smoker</th>\n",
       "      <th>region</th>\n",
       "      <th>charges</th>\n",
       "    </tr>\n",
       "  </thead>\n",
       "  <tbody>\n",
       "    <tr>\n",
       "      <th>0</th>\n",
       "      <td>19</td>\n",
       "      <td>female</td>\n",
       "      <td>27.900</td>\n",
       "      <td>0</td>\n",
       "      <td>yes</td>\n",
       "      <td>southwest</td>\n",
       "      <td>16884.92400</td>\n",
       "    </tr>\n",
       "    <tr>\n",
       "      <th>1</th>\n",
       "      <td>18</td>\n",
       "      <td>male</td>\n",
       "      <td>33.770</td>\n",
       "      <td>1</td>\n",
       "      <td>no</td>\n",
       "      <td>southeast</td>\n",
       "      <td>1725.55230</td>\n",
       "    </tr>\n",
       "    <tr>\n",
       "      <th>2</th>\n",
       "      <td>28</td>\n",
       "      <td>male</td>\n",
       "      <td>33.000</td>\n",
       "      <td>3</td>\n",
       "      <td>no</td>\n",
       "      <td>southeast</td>\n",
       "      <td>4449.46200</td>\n",
       "    </tr>\n",
       "    <tr>\n",
       "      <th>3</th>\n",
       "      <td>33</td>\n",
       "      <td>male</td>\n",
       "      <td>22.705</td>\n",
       "      <td>0</td>\n",
       "      <td>no</td>\n",
       "      <td>northwest</td>\n",
       "      <td>21984.47061</td>\n",
       "    </tr>\n",
       "    <tr>\n",
       "      <th>4</th>\n",
       "      <td>32</td>\n",
       "      <td>male</td>\n",
       "      <td>28.880</td>\n",
       "      <td>0</td>\n",
       "      <td>no</td>\n",
       "      <td>northwest</td>\n",
       "      <td>3866.85520</td>\n",
       "    </tr>\n",
       "  </tbody>\n",
       "</table>\n",
       "</div>"
      ],
      "text/plain": [
       "   age     sex     bmi  children smoker     region      charges\n",
       "0   19  female  27.900         0    yes  southwest  16884.92400\n",
       "1   18    male  33.770         1     no  southeast   1725.55230\n",
       "2   28    male  33.000         3     no  southeast   4449.46200\n",
       "3   33    male  22.705         0     no  northwest  21984.47061\n",
       "4   32    male  28.880         0     no  northwest   3866.85520"
      ]
     },
     "execution_count": 1,
     "metadata": {},
     "output_type": "execute_result"
    }
   ],
   "source": [
    "import pandas as pd\n",
    "import numpy as np\n",
    "import matplotlib.pyplot as plt\n",
    "import statsmodels.api as sm\n",
    "from sklearn.linear_model import LinearRegression,Lasso\n",
    "from sklearn.preprocessing import MinMaxScaler, StandardScaler, LabelEncoder,OneHotEncoder\n",
    "from sklearn.metrics import mean_squared_error, mean_absolute_error, r2_score\n",
    "from sklearn.model_selection import train_test_split,GridSearchCV\n",
    "from sklearn.pipeline import Pipeline\n",
    "from sklearn.tree import DecisionTreeRegressor\n",
    "from sklearn import tree\n",
    "file = pd.read_csv('insurance.csv')\n",
    "\n",
    "print(file.info())\n",
    "print(file.shape)\n",
    "\n",
    "file.head()\n"
   ]
  },
  {
   "cell_type": "code",
   "execution_count": 2,
   "metadata": {},
   "outputs": [],
   "source": [
    "file.duplicated().any()\n",
    "file =file.drop_duplicates()"
   ]
  },
  {
   "cell_type": "code",
   "execution_count": 3,
   "metadata": {},
   "outputs": [
    {
     "data": {
      "text/html": [
       "<div>\n",
       "<style scoped>\n",
       "    .dataframe tbody tr th:only-of-type {\n",
       "        vertical-align: middle;\n",
       "    }\n",
       "\n",
       "    .dataframe tbody tr th {\n",
       "        vertical-align: top;\n",
       "    }\n",
       "\n",
       "    .dataframe thead th {\n",
       "        text-align: right;\n",
       "    }\n",
       "</style>\n",
       "<table border=\"1\" class=\"dataframe\">\n",
       "  <thead>\n",
       "    <tr style=\"text-align: right;\">\n",
       "      <th></th>\n",
       "      <th>age</th>\n",
       "      <th>sex</th>\n",
       "      <th>bmi</th>\n",
       "      <th>children</th>\n",
       "      <th>smoker</th>\n",
       "      <th>region</th>\n",
       "      <th>charges</th>\n",
       "    </tr>\n",
       "  </thead>\n",
       "  <tbody>\n",
       "    <tr>\n",
       "      <th>922</th>\n",
       "      <td>38</td>\n",
       "      <td>male</td>\n",
       "      <td>31.000</td>\n",
       "      <td>1</td>\n",
       "      <td>no</td>\n",
       "      <td>southwest</td>\n",
       "      <td>5488.26200</td>\n",
       "    </tr>\n",
       "    <tr>\n",
       "      <th>1198</th>\n",
       "      <td>40</td>\n",
       "      <td>male</td>\n",
       "      <td>29.355</td>\n",
       "      <td>1</td>\n",
       "      <td>no</td>\n",
       "      <td>northwest</td>\n",
       "      <td>6393.60345</td>\n",
       "    </tr>\n",
       "    <tr>\n",
       "      <th>106</th>\n",
       "      <td>19</td>\n",
       "      <td>female</td>\n",
       "      <td>28.400</td>\n",
       "      <td>1</td>\n",
       "      <td>no</td>\n",
       "      <td>southwest</td>\n",
       "      <td>2331.51900</td>\n",
       "    </tr>\n",
       "    <tr>\n",
       "      <th>1315</th>\n",
       "      <td>18</td>\n",
       "      <td>male</td>\n",
       "      <td>28.310</td>\n",
       "      <td>1</td>\n",
       "      <td>no</td>\n",
       "      <td>northeast</td>\n",
       "      <td>11272.33139</td>\n",
       "    </tr>\n",
       "    <tr>\n",
       "      <th>1151</th>\n",
       "      <td>58</td>\n",
       "      <td>female</td>\n",
       "      <td>36.480</td>\n",
       "      <td>0</td>\n",
       "      <td>no</td>\n",
       "      <td>northwest</td>\n",
       "      <td>12235.83920</td>\n",
       "    </tr>\n",
       "  </tbody>\n",
       "</table>\n",
       "</div>"
      ],
      "text/plain": [
       "      age     sex     bmi  children smoker     region      charges\n",
       "922    38    male  31.000         1     no  southwest   5488.26200\n",
       "1198   40    male  29.355         1     no  northwest   6393.60345\n",
       "106    19  female  28.400         1     no  southwest   2331.51900\n",
       "1315   18    male  28.310         1     no  northeast  11272.33139\n",
       "1151   58  female  36.480         0     no  northwest  12235.83920"
      ]
     },
     "execution_count": 3,
     "metadata": {},
     "output_type": "execute_result"
    }
   ],
   "source": [
    "file.sample(5)"
   ]
  },
  {
   "cell_type": "code",
   "execution_count": 4,
   "metadata": {},
   "outputs": [
    {
     "data": {
      "text/plain": [
       "(1337, 8)"
      ]
     },
     "execution_count": 4,
     "metadata": {},
     "output_type": "execute_result"
    }
   ],
   "source": [
    "file =file.drop_duplicates().reset_index()\n",
    "file.shape"
   ]
  },
  {
   "cell_type": "code",
   "execution_count": 5,
   "metadata": {},
   "outputs": [
    {
     "data": {
      "text/plain": [
       "<AxesSubplot:>"
      ]
     },
     "execution_count": 5,
     "metadata": {},
     "output_type": "execute_result"
    },
    {
     "data": {
      "image/png": "[encoded data removed]",
      "text/plain": [
       "<Figure size 432x288 with 1 Axes>"
      ]
     },
     "metadata": {
      "needs_background": "light"
     },
     "output_type": "display_data"
    }
   ],
   "source": [
    "file['charges'].hist(bins=20)"
   ]
  },
  {
   "cell_type": "code",
   "execution_count": 6,
   "metadata": {},
   "outputs": [
    {
     "data": {
      "text/plain": [
       "<AxesSubplot:>"
      ]
     },
     "execution_count": 6,
     "metadata": {},
     "output_type": "execute_result"
    },
    {
     "data": {
      "image/png": "[encoded data removed]",
      "text/plain": [
       "<Figure size 432x288 with 1 Axes>"
      ]
     },
     "metadata": {
      "needs_background": "light"
     },
     "output_type": "display_data"
    }
   ],
   "source": [
    "file['age'].hist(bins=20)"
   ]
  },
  {
   "cell_type": "code",
   "execution_count": 7,
   "metadata": {},
   "outputs": [
    {
     "data": {
      "text/plain": [
       "<AxesSubplot:>"
      ]
     },
     "execution_count": 7,
     "metadata": {},
     "output_type": "execute_result"
    },
    {
     "data": {
      "image/png": "[encoded data removed]",
      "text/plain": [
       "<Figure size 432x288 with 1 Axes>"
      ]
     },
     "metadata": {
      "needs_background": "light"
     },
     "output_type": "display_data"
    }
   ],
   "source": [
    "file['children'].hist(bins=20)"
   ]
  },
  {
   "cell_type": "code",
   "execution_count": 8,
   "metadata": {},
   "outputs": [
    {
     "data": {
      "text/html": [
       "<div>\n",
       "<style scoped>\n",
       "    .dataframe tbody tr th:only-of-type {\n",
       "        vertical-align: middle;\n",
       "    }\n",
       "\n",
       "    .dataframe tbody tr th {\n",
       "        vertical-align: top;\n",
       "    }\n",
       "\n",
       "    .dataframe thead th {\n",
       "        text-align: right;\n",
       "    }\n",
       "</style>\n",
       "<table border=\"1\" class=\"dataframe\">\n",
       "  <thead>\n",
       "    <tr style=\"text-align: right;\">\n",
       "      <th></th>\n",
       "      <th>charges</th>\n",
       "    </tr>\n",
       "    <tr>\n",
       "      <th>sex</th>\n",
       "      <th></th>\n",
       "    </tr>\n",
       "  </thead>\n",
       "  <tbody>\n",
       "    <tr>\n",
       "      <th>female</th>\n",
       "      <td>12569.578844</td>\n",
       "    </tr>\n",
       "    <tr>\n",
       "      <th>male</th>\n",
       "      <td>13974.998864</td>\n",
       "    </tr>\n",
       "  </tbody>\n",
       "</table>\n",
       "</div>"
      ],
      "text/plain": [
       "             charges\n",
       "sex                 \n",
       "female  12569.578844\n",
       "male    13974.998864"
      ]
     },
     "execution_count": 8,
     "metadata": {},
     "output_type": "execute_result"
    }
   ],
   "source": [
    "file[['sex', 'charges']].groupby(by='sex').mean()"
   ]
  },
  {
   "cell_type": "code",
   "execution_count": 9,
   "metadata": {},
   "outputs": [
    {
     "data": {
      "text/html": [
       "<div>\n",
       "<style scoped>\n",
       "    .dataframe tbody tr th:only-of-type {\n",
       "        vertical-align: middle;\n",
       "    }\n",
       "\n",
       "    .dataframe tbody tr th {\n",
       "        vertical-align: top;\n",
       "    }\n",
       "\n",
       "    .dataframe thead th {\n",
       "        text-align: right;\n",
       "    }\n",
       "</style>\n",
       "<table border=\"1\" class=\"dataframe\">\n",
       "  <thead>\n",
       "    <tr style=\"text-align: right;\">\n",
       "      <th></th>\n",
       "      <th>charges</th>\n",
       "    </tr>\n",
       "    <tr>\n",
       "      <th>smoker</th>\n",
       "      <th></th>\n",
       "    </tr>\n",
       "  </thead>\n",
       "  <tbody>\n",
       "    <tr>\n",
       "      <th>no</th>\n",
       "      <td>8440.660307</td>\n",
       "    </tr>\n",
       "    <tr>\n",
       "      <th>yes</th>\n",
       "      <td>32050.231832</td>\n",
       "    </tr>\n",
       "  </tbody>\n",
       "</table>\n",
       "</div>"
      ],
      "text/plain": [
       "             charges\n",
       "smoker              \n",
       "no       8440.660307\n",
       "yes     32050.231832"
      ]
     },
     "execution_count": 9,
     "metadata": {},
     "output_type": "execute_result"
    }
   ],
   "source": [
    "file[['smoker', 'charges']].groupby(by='smoker').mean()"
   ]
  },
  {
   "cell_type": "code",
   "execution_count": 10,
   "metadata": {},
   "outputs": [
    {
     "data": {
      "text/html": [
       "<div>\n",
       "<style scoped>\n",
       "    .dataframe tbody tr th:only-of-type {\n",
       "        vertical-align: middle;\n",
       "    }\n",
       "\n",
       "    .dataframe tbody tr th {\n",
       "        vertical-align: top;\n",
       "    }\n",
       "\n",
       "    .dataframe thead tr th {\n",
       "        text-align: left;\n",
       "    }\n",
       "\n",
       "    .dataframe thead tr:last-of-type th {\n",
       "        text-align: right;\n",
       "    }\n",
       "</style>\n",
       "<table border=\"1\" class=\"dataframe\">\n",
       "  <thead>\n",
       "    <tr>\n",
       "      <th></th>\n",
       "      <th colspan=\"8\" halign=\"left\">charges</th>\n",
       "    </tr>\n",
       "    <tr>\n",
       "      <th></th>\n",
       "      <th>count</th>\n",
       "      <th>mean</th>\n",
       "      <th>std</th>\n",
       "      <th>min</th>\n",
       "      <th>25%</th>\n",
       "      <th>50%</th>\n",
       "      <th>75%</th>\n",
       "      <th>max</th>\n",
       "    </tr>\n",
       "    <tr>\n",
       "      <th>smoker</th>\n",
       "      <th></th>\n",
       "      <th></th>\n",
       "      <th></th>\n",
       "      <th></th>\n",
       "      <th></th>\n",
       "      <th></th>\n",
       "      <th></th>\n",
       "      <th></th>\n",
       "    </tr>\n",
       "  </thead>\n",
       "  <tbody>\n",
       "    <tr>\n",
       "      <th>no</th>\n",
       "      <td>1063.0</td>\n",
       "      <td>8440.660307</td>\n",
       "      <td>5992.973800</td>\n",
       "      <td>1121.8739</td>\n",
       "      <td>3988.883500</td>\n",
       "      <td>7345.72660</td>\n",
       "      <td>11363.019100</td>\n",
       "      <td>36910.60803</td>\n",
       "    </tr>\n",
       "    <tr>\n",
       "      <th>yes</th>\n",
       "      <td>274.0</td>\n",
       "      <td>32050.231832</td>\n",
       "      <td>11541.547176</td>\n",
       "      <td>12829.4551</td>\n",
       "      <td>20826.244213</td>\n",
       "      <td>34456.34845</td>\n",
       "      <td>41019.207275</td>\n",
       "      <td>63770.42801</td>\n",
       "    </tr>\n",
       "  </tbody>\n",
       "</table>\n",
       "</div>"
      ],
      "text/plain": [
       "       charges                                                        \\\n",
       "         count          mean           std         min           25%   \n",
       "smoker                                                                 \n",
       "no      1063.0   8440.660307   5992.973800   1121.8739   3988.883500   \n",
       "yes      274.0  32050.231832  11541.547176  12829.4551  20826.244213   \n",
       "\n",
       "                                                \n",
       "                50%           75%          max  \n",
       "smoker                                          \n",
       "no       7345.72660  11363.019100  36910.60803  \n",
       "yes     34456.34845  41019.207275  63770.42801  "
      ]
     },
     "execution_count": 10,
     "metadata": {},
     "output_type": "execute_result"
    }
   ],
   "source": [
    "file[['smoker', 'charges']].groupby(by='smoker').describe()"
   ]
  },
  {
   "cell_type": "code",
   "execution_count": 11,
   "metadata": {},
   "outputs": [
    {
     "data": {
      "text/html": [
       "<div>\n",
       "<style scoped>\n",
       "    .dataframe tbody tr th:only-of-type {\n",
       "        vertical-align: middle;\n",
       "    }\n",
       "\n",
       "    .dataframe tbody tr th {\n",
       "        vertical-align: top;\n",
       "    }\n",
       "\n",
       "    .dataframe thead th {\n",
       "        text-align: right;\n",
       "    }\n",
       "</style>\n",
       "<table border=\"1\" class=\"dataframe\">\n",
       "  <thead>\n",
       "    <tr style=\"text-align: right;\">\n",
       "      <th></th>\n",
       "      <th>charges</th>\n",
       "    </tr>\n",
       "    <tr>\n",
       "      <th>children</th>\n",
       "      <th></th>\n",
       "    </tr>\n",
       "  </thead>\n",
       "  <tbody>\n",
       "    <tr>\n",
       "      <th>3</th>\n",
       "      <td>15355.318367</td>\n",
       "    </tr>\n",
       "    <tr>\n",
       "      <th>2</th>\n",
       "      <td>15073.563734</td>\n",
       "    </tr>\n",
       "    <tr>\n",
       "      <th>4</th>\n",
       "      <td>13850.656311</td>\n",
       "    </tr>\n",
       "    <tr>\n",
       "      <th>1</th>\n",
       "      <td>12731.171832</td>\n",
       "    </tr>\n",
       "    <tr>\n",
       "      <th>0</th>\n",
       "      <td>12384.695344</td>\n",
       "    </tr>\n",
       "    <tr>\n",
       "      <th>5</th>\n",
       "      <td>8786.035247</td>\n",
       "    </tr>\n",
       "  </tbody>\n",
       "</table>\n",
       "</div>"
      ],
      "text/plain": [
       "               charges\n",
       "children              \n",
       "3         15355.318367\n",
       "2         15073.563734\n",
       "4         13850.656311\n",
       "1         12731.171832\n",
       "0         12384.695344\n",
       "5          8786.035247"
      ]
     },
     "execution_count": 11,
     "metadata": {},
     "output_type": "execute_result"
    }
   ],
   "source": [
    "file[['children', 'charges']].groupby(by='children').mean('charges').sort_values(by='charges', ascending=False)"
   ]
  },
  {
   "cell_type": "code",
   "execution_count": 12,
   "metadata": {},
   "outputs": [
    {
     "data": {
      "text/html": [
       "<div>\n",
       "<style scoped>\n",
       "    .dataframe tbody tr th:only-of-type {\n",
       "        vertical-align: middle;\n",
       "    }\n",
       "\n",
       "    .dataframe tbody tr th {\n",
       "        vertical-align: top;\n",
       "    }\n",
       "\n",
       "    .dataframe thead th {\n",
       "        text-align: right;\n",
       "    }\n",
       "</style>\n",
       "<table border=\"1\" class=\"dataframe\">\n",
       "  <thead>\n",
       "    <tr style=\"text-align: right;\">\n",
       "      <th></th>\n",
       "      <th>user_ID</th>\n",
       "      <th>age</th>\n",
       "      <th>sex</th>\n",
       "      <th>bmi</th>\n",
       "      <th>children</th>\n",
       "      <th>smoker</th>\n",
       "      <th>region</th>\n",
       "      <th>charges</th>\n",
       "    </tr>\n",
       "  </thead>\n",
       "  <tbody>\n",
       "    <tr>\n",
       "      <th>0</th>\n",
       "      <td>0</td>\n",
       "      <td>19</td>\n",
       "      <td>female</td>\n",
       "      <td>27.900</td>\n",
       "      <td>0</td>\n",
       "      <td>yes</td>\n",
       "      <td>southwest</td>\n",
       "      <td>16884.92400</td>\n",
       "    </tr>\n",
       "    <tr>\n",
       "      <th>1</th>\n",
       "      <td>1</td>\n",
       "      <td>18</td>\n",
       "      <td>male</td>\n",
       "      <td>33.770</td>\n",
       "      <td>1</td>\n",
       "      <td>no</td>\n",
       "      <td>southeast</td>\n",
       "      <td>1725.55230</td>\n",
       "    </tr>\n",
       "    <tr>\n",
       "      <th>2</th>\n",
       "      <td>2</td>\n",
       "      <td>28</td>\n",
       "      <td>male</td>\n",
       "      <td>33.000</td>\n",
       "      <td>3</td>\n",
       "      <td>no</td>\n",
       "      <td>southeast</td>\n",
       "      <td>4449.46200</td>\n",
       "    </tr>\n",
       "    <tr>\n",
       "      <th>3</th>\n",
       "      <td>3</td>\n",
       "      <td>33</td>\n",
       "      <td>male</td>\n",
       "      <td>22.705</td>\n",
       "      <td>0</td>\n",
       "      <td>no</td>\n",
       "      <td>northwest</td>\n",
       "      <td>21984.47061</td>\n",
       "    </tr>\n",
       "    <tr>\n",
       "      <th>4</th>\n",
       "      <td>4</td>\n",
       "      <td>32</td>\n",
       "      <td>male</td>\n",
       "      <td>28.880</td>\n",
       "      <td>0</td>\n",
       "      <td>no</td>\n",
       "      <td>northwest</td>\n",
       "      <td>3866.85520</td>\n",
       "    </tr>\n",
       "    <tr>\n",
       "      <th>...</th>\n",
       "      <td>...</td>\n",
       "      <td>...</td>\n",
       "      <td>...</td>\n",
       "      <td>...</td>\n",
       "      <td>...</td>\n",
       "      <td>...</td>\n",
       "      <td>...</td>\n",
       "      <td>...</td>\n",
       "    </tr>\n",
       "    <tr>\n",
       "      <th>1332</th>\n",
       "      <td>1332</td>\n",
       "      <td>50</td>\n",
       "      <td>male</td>\n",
       "      <td>30.970</td>\n",
       "      <td>3</td>\n",
       "      <td>no</td>\n",
       "      <td>northwest</td>\n",
       "      <td>10600.54830</td>\n",
       "    </tr>\n",
       "    <tr>\n",
       "      <th>1333</th>\n",
       "      <td>1333</td>\n",
       "      <td>18</td>\n",
       "      <td>female</td>\n",
       "      <td>31.920</td>\n",
       "      <td>0</td>\n",
       "      <td>no</td>\n",
       "      <td>northeast</td>\n",
       "      <td>2205.98080</td>\n",
       "    </tr>\n",
       "    <tr>\n",
       "      <th>1334</th>\n",
       "      <td>1334</td>\n",
       "      <td>18</td>\n",
       "      <td>female</td>\n",
       "      <td>36.850</td>\n",
       "      <td>0</td>\n",
       "      <td>no</td>\n",
       "      <td>southeast</td>\n",
       "      <td>1629.83350</td>\n",
       "    </tr>\n",
       "    <tr>\n",
       "      <th>1335</th>\n",
       "      <td>1335</td>\n",
       "      <td>21</td>\n",
       "      <td>female</td>\n",
       "      <td>25.800</td>\n",
       "      <td>0</td>\n",
       "      <td>no</td>\n",
       "      <td>southwest</td>\n",
       "      <td>2007.94500</td>\n",
       "    </tr>\n",
       "    <tr>\n",
       "      <th>1336</th>\n",
       "      <td>1336</td>\n",
       "      <td>61</td>\n",
       "      <td>female</td>\n",
       "      <td>29.070</td>\n",
       "      <td>0</td>\n",
       "      <td>yes</td>\n",
       "      <td>northwest</td>\n",
       "      <td>29141.36030</td>\n",
       "    </tr>\n",
       "  </tbody>\n",
       "</table>\n",
       "<p>1337 rows × 8 columns</p>\n",
       "</div>"
      ],
      "text/plain": [
       "      user_ID  age     sex     bmi  children smoker     region      charges\n",
       "0           0   19  female  27.900         0    yes  southwest  16884.92400\n",
       "1           1   18    male  33.770         1     no  southeast   1725.55230\n",
       "2           2   28    male  33.000         3     no  southeast   4449.46200\n",
       "3           3   33    male  22.705         0     no  northwest  21984.47061\n",
       "4           4   32    male  28.880         0     no  northwest   3866.85520\n",
       "...       ...  ...     ...     ...       ...    ...        ...          ...\n",
       "1332     1332   50    male  30.970         3     no  northwest  10600.54830\n",
       "1333     1333   18  female  31.920         0     no  northeast   2205.98080\n",
       "1334     1334   18  female  36.850         0     no  southeast   1629.83350\n",
       "1335     1335   21  female  25.800         0     no  southwest   2007.94500\n",
       "1336     1336   61  female  29.070         0    yes  northwest  29141.36030\n",
       "\n",
       "[1337 rows x 8 columns]"
      ]
     },
     "execution_count": 12,
     "metadata": {},
     "output_type": "execute_result"
    }
   ],
   "source": [
    "file['user_ID'] = pd.DataFrame(file.index).astype(int)\n",
    "file = file[['user_ID', 'age', 'sex', 'bmi', 'children', 'smoker', 'region', 'charges']]\n",
    "file\n",
    "\n",
    "# file_feat_transp_count = pd.DataFrame(file_feat_transp[file_feat_transp[col]].sum())"
   ]
  },
  {
   "cell_type": "code",
   "execution_count": 13,
   "metadata": {},
   "outputs": [
    {
     "data": {
      "text/plain": [
       "0.5205684367988033"
      ]
     },
     "execution_count": 13,
     "metadata": {},
     "output_type": "execute_result"
    }
   ],
   "source": [
    "df_user = (\n",
    "    file[['user_ID', 'charges']]\n",
    "    .groupby('user_ID')\n",
    "    .agg('sum')\n",
    "    .reset_index()\n",
    "    .sort_values(by='charges', ascending=False)\n",
    "    .rename(columns={'charges':'total_charges'})\n",
    ")\n",
    "\n",
    "df_user['cumsum'] = df_user['total_charges'].cumsum()\n",
    "value_80proc = int(df_user['total_charges'].sum()*0.8)\n",
    "df_user['top_user'] = df_user['cumsum'] > value_80proc\n",
    "\n",
    "top_user = set(df_user[df_user['top_user']]['user_ID'])\n",
    "len(top_user)/file['user_ID'].nunique()"
   ]
  },
  {
   "cell_type": "code",
   "execution_count": 14,
   "metadata": {},
   "outputs": [
    {
     "data": {
      "text/html": [
       "<div>\n",
       "<style scoped>\n",
       "    .dataframe tbody tr th:only-of-type {\n",
       "        vertical-align: middle;\n",
       "    }\n",
       "\n",
       "    .dataframe tbody tr th {\n",
       "        vertical-align: top;\n",
       "    }\n",
       "\n",
       "    .dataframe thead th {\n",
       "        text-align: right;\n",
       "    }\n",
       "</style>\n",
       "<table border=\"1\" class=\"dataframe\">\n",
       "  <thead>\n",
       "    <tr style=\"text-align: right;\">\n",
       "      <th></th>\n",
       "      <th>user_ID</th>\n",
       "      <th>total_charges</th>\n",
       "      <th>cumsum</th>\n",
       "      <th>top_user</th>\n",
       "    </tr>\n",
       "  </thead>\n",
       "  <tbody>\n",
       "    <tr>\n",
       "      <th>543</th>\n",
       "      <td>543</td>\n",
       "      <td>63770.42801</td>\n",
       "      <td>6.377043e+04</td>\n",
       "      <td>False</td>\n",
       "    </tr>\n",
       "    <tr>\n",
       "      <th>1299</th>\n",
       "      <td>1299</td>\n",
       "      <td>62592.87309</td>\n",
       "      <td>1.263633e+05</td>\n",
       "      <td>False</td>\n",
       "    </tr>\n",
       "    <tr>\n",
       "      <th>1229</th>\n",
       "      <td>1229</td>\n",
       "      <td>60021.39897</td>\n",
       "      <td>1.863847e+05</td>\n",
       "      <td>False</td>\n",
       "    </tr>\n",
       "    <tr>\n",
       "      <th>577</th>\n",
       "      <td>577</td>\n",
       "      <td>58571.07448</td>\n",
       "      <td>2.449558e+05</td>\n",
       "      <td>False</td>\n",
       "    </tr>\n",
       "    <tr>\n",
       "      <th>818</th>\n",
       "      <td>818</td>\n",
       "      <td>55135.40209</td>\n",
       "      <td>3.000912e+05</td>\n",
       "      <td>False</td>\n",
       "    </tr>\n",
       "    <tr>\n",
       "      <th>...</th>\n",
       "      <td>...</td>\n",
       "      <td>...</td>\n",
       "      <td>...</td>\n",
       "      <td>...</td>\n",
       "    </tr>\n",
       "    <tr>\n",
       "      <th>22</th>\n",
       "      <td>22</td>\n",
       "      <td>1137.01100</td>\n",
       "      <td>1.774966e+07</td>\n",
       "      <td>True</td>\n",
       "    </tr>\n",
       "    <tr>\n",
       "      <th>662</th>\n",
       "      <td>662</td>\n",
       "      <td>1136.39940</td>\n",
       "      <td>1.775080e+07</td>\n",
       "      <td>True</td>\n",
       "    </tr>\n",
       "    <tr>\n",
       "      <th>1243</th>\n",
       "      <td>1243</td>\n",
       "      <td>1135.94070</td>\n",
       "      <td>1.775193e+07</td>\n",
       "      <td>True</td>\n",
       "    </tr>\n",
       "    <tr>\n",
       "      <th>807</th>\n",
       "      <td>807</td>\n",
       "      <td>1131.50660</td>\n",
       "      <td>1.775306e+07</td>\n",
       "      <td>True</td>\n",
       "    </tr>\n",
       "    <tr>\n",
       "      <th>939</th>\n",
       "      <td>939</td>\n",
       "      <td>1121.87390</td>\n",
       "      <td>1.775419e+07</td>\n",
       "      <td>True</td>\n",
       "    </tr>\n",
       "  </tbody>\n",
       "</table>\n",
       "<p>1337 rows × 4 columns</p>\n",
       "</div>"
      ],
      "text/plain": [
       "      user_ID  total_charges        cumsum  top_user\n",
       "543       543    63770.42801  6.377043e+04     False\n",
       "1299     1299    62592.87309  1.263633e+05     False\n",
       "1229     1229    60021.39897  1.863847e+05     False\n",
       "577       577    58571.07448  2.449558e+05     False\n",
       "818       818    55135.40209  3.000912e+05     False\n",
       "...       ...            ...           ...       ...\n",
       "22         22     1137.01100  1.774966e+07      True\n",
       "662       662     1136.39940  1.775080e+07      True\n",
       "1243     1243     1135.94070  1.775193e+07      True\n",
       "807       807     1131.50660  1.775306e+07      True\n",
       "939       939     1121.87390  1.775419e+07      True\n",
       "\n",
       "[1337 rows x 4 columns]"
      ]
     },
     "execution_count": 14,
     "metadata": {},
     "output_type": "execute_result"
    }
   ],
   "source": [
    "df_user"
   ]
  },
  {
   "cell_type": "code",
   "execution_count": 15,
   "metadata": {},
   "outputs": [],
   "source": [
    "df_user_worst = (\n",
    "    file[['user_ID', 'charges']]\n",
    "    .groupby('user_ID')\n",
    "    .agg('sum')\n",
    "    .reset_index()\n",
    "    .sort_values(by='charges', ascending=False)\n",
    "    .rename(columns={'charges':'total_charges'})\n",
    ")\n",
    "\n",
    "df_user_worst['cumsum'] = df_user_worst['total_charges'].cumsum()\n",
    "value_80proc = int(df_user_worst['total_charges'].sum()*0.8)\n",
    "df_user_worst['undesirable_user'] = df_user_worst['cumsum'] < value_80proc\n"
   ]
  },
  {
   "cell_type": "code",
   "execution_count": 16,
   "metadata": {},
   "outputs": [
    {
     "data": {
      "text/html": [
       "<div>\n",
       "<style scoped>\n",
       "    .dataframe tbody tr th:only-of-type {\n",
       "        vertical-align: middle;\n",
       "    }\n",
       "\n",
       "    .dataframe tbody tr th {\n",
       "        vertical-align: top;\n",
       "    }\n",
       "\n",
       "    .dataframe thead th {\n",
       "        text-align: right;\n",
       "    }\n",
       "</style>\n",
       "<table border=\"1\" class=\"dataframe\">\n",
       "  <thead>\n",
       "    <tr style=\"text-align: right;\">\n",
       "      <th></th>\n",
       "      <th>user_ID</th>\n",
       "      <th>undesirable_user</th>\n",
       "      <th>age</th>\n",
       "      <th>sex</th>\n",
       "      <th>bmi</th>\n",
       "      <th>children</th>\n",
       "      <th>smoker</th>\n",
       "      <th>region</th>\n",
       "      <th>charges</th>\n",
       "    </tr>\n",
       "  </thead>\n",
       "  <tbody>\n",
       "    <tr>\n",
       "      <th>0</th>\n",
       "      <td>543</td>\n",
       "      <td>True</td>\n",
       "      <td>54</td>\n",
       "      <td>female</td>\n",
       "      <td>47.410</td>\n",
       "      <td>0</td>\n",
       "      <td>yes</td>\n",
       "      <td>southeast</td>\n",
       "      <td>63770.42801</td>\n",
       "    </tr>\n",
       "    <tr>\n",
       "      <th>1</th>\n",
       "      <td>1299</td>\n",
       "      <td>True</td>\n",
       "      <td>45</td>\n",
       "      <td>male</td>\n",
       "      <td>30.360</td>\n",
       "      <td>0</td>\n",
       "      <td>yes</td>\n",
       "      <td>southeast</td>\n",
       "      <td>62592.87309</td>\n",
       "    </tr>\n",
       "    <tr>\n",
       "      <th>2</th>\n",
       "      <td>1229</td>\n",
       "      <td>True</td>\n",
       "      <td>52</td>\n",
       "      <td>male</td>\n",
       "      <td>34.485</td>\n",
       "      <td>3</td>\n",
       "      <td>yes</td>\n",
       "      <td>northwest</td>\n",
       "      <td>60021.39897</td>\n",
       "    </tr>\n",
       "    <tr>\n",
       "      <th>3</th>\n",
       "      <td>577</td>\n",
       "      <td>True</td>\n",
       "      <td>31</td>\n",
       "      <td>female</td>\n",
       "      <td>38.095</td>\n",
       "      <td>1</td>\n",
       "      <td>yes</td>\n",
       "      <td>northeast</td>\n",
       "      <td>58571.07448</td>\n",
       "    </tr>\n",
       "    <tr>\n",
       "      <th>4</th>\n",
       "      <td>818</td>\n",
       "      <td>True</td>\n",
       "      <td>33</td>\n",
       "      <td>female</td>\n",
       "      <td>35.530</td>\n",
       "      <td>0</td>\n",
       "      <td>yes</td>\n",
       "      <td>northwest</td>\n",
       "      <td>55135.40209</td>\n",
       "    </tr>\n",
       "    <tr>\n",
       "      <th>...</th>\n",
       "      <td>...</td>\n",
       "      <td>...</td>\n",
       "      <td>...</td>\n",
       "      <td>...</td>\n",
       "      <td>...</td>\n",
       "      <td>...</td>\n",
       "      <td>...</td>\n",
       "      <td>...</td>\n",
       "      <td>...</td>\n",
       "    </tr>\n",
       "    <tr>\n",
       "      <th>636</th>\n",
       "      <td>682</td>\n",
       "      <td>True</td>\n",
       "      <td>53</td>\n",
       "      <td>male</td>\n",
       "      <td>24.320</td>\n",
       "      <td>0</td>\n",
       "      <td>no</td>\n",
       "      <td>northwest</td>\n",
       "      <td>9863.47180</td>\n",
       "    </tr>\n",
       "    <tr>\n",
       "      <th>637</th>\n",
       "      <td>527</td>\n",
       "      <td>True</td>\n",
       "      <td>51</td>\n",
       "      <td>female</td>\n",
       "      <td>25.800</td>\n",
       "      <td>1</td>\n",
       "      <td>no</td>\n",
       "      <td>southwest</td>\n",
       "      <td>9861.02500</td>\n",
       "    </tr>\n",
       "    <tr>\n",
       "      <th>638</th>\n",
       "      <td>279</td>\n",
       "      <td>True</td>\n",
       "      <td>51</td>\n",
       "      <td>female</td>\n",
       "      <td>21.560</td>\n",
       "      <td>1</td>\n",
       "      <td>no</td>\n",
       "      <td>southeast</td>\n",
       "      <td>9855.13140</td>\n",
       "    </tr>\n",
       "    <tr>\n",
       "      <th>639</th>\n",
       "      <td>1027</td>\n",
       "      <td>True</td>\n",
       "      <td>54</td>\n",
       "      <td>male</td>\n",
       "      <td>31.600</td>\n",
       "      <td>0</td>\n",
       "      <td>no</td>\n",
       "      <td>southwest</td>\n",
       "      <td>9850.43200</td>\n",
       "    </tr>\n",
       "    <tr>\n",
       "      <th>640</th>\n",
       "      <td>649</td>\n",
       "      <td>True</td>\n",
       "      <td>49</td>\n",
       "      <td>female</td>\n",
       "      <td>42.680</td>\n",
       "      <td>2</td>\n",
       "      <td>no</td>\n",
       "      <td>southeast</td>\n",
       "      <td>9800.88820</td>\n",
       "    </tr>\n",
       "  </tbody>\n",
       "</table>\n",
       "<p>641 rows × 9 columns</p>\n",
       "</div>"
      ],
      "text/plain": [
       "     user_ID  undesirable_user  age     sex     bmi  children smoker  \\\n",
       "0        543              True   54  female  47.410         0    yes   \n",
       "1       1299              True   45    male  30.360         0    yes   \n",
       "2       1229              True   52    male  34.485         3    yes   \n",
       "3        577              True   31  female  38.095         1    yes   \n",
       "4        818              True   33  female  35.530         0    yes   \n",
       "..       ...               ...  ...     ...     ...       ...    ...   \n",
       "636      682              True   53    male  24.320         0     no   \n",
       "637      527              True   51  female  25.800         1     no   \n",
       "638      279              True   51  female  21.560         1     no   \n",
       "639     1027              True   54    male  31.600         0     no   \n",
       "640      649              True   49  female  42.680         2     no   \n",
       "\n",
       "        region      charges  \n",
       "0    southeast  63770.42801  \n",
       "1    southeast  62592.87309  \n",
       "2    northwest  60021.39897  \n",
       "3    northeast  58571.07448  \n",
       "4    northwest  55135.40209  \n",
       "..         ...          ...  \n",
       "636  northwest   9863.47180  \n",
       "637  southwest   9861.02500  \n",
       "638  southeast   9855.13140  \n",
       "639  southwest   9850.43200  \n",
       "640  southeast   9800.88820  \n",
       "\n",
       "[641 rows x 9 columns]"
      ]
     },
     "execution_count": 16,
     "metadata": {},
     "output_type": "execute_result"
    }
   ],
   "source": [
    "df_user_worst=df_user_worst[['user_ID', 'undesirable_user']]\n",
    "df_user_worst = df_user_worst.merge(file, on='user_ID')\n",
    "df_user_worst = df_user_worst[df_user_worst['undesirable_user'] ==True]\n",
    "df_user_worst"
   ]
  },
  {
   "cell_type": "code",
   "execution_count": 17,
   "metadata": {},
   "outputs": [
    {
     "data": {
      "text/html": [
       "<div>\n",
       "<style scoped>\n",
       "    .dataframe tbody tr th:only-of-type {\n",
       "        vertical-align: middle;\n",
       "    }\n",
       "\n",
       "    .dataframe tbody tr th {\n",
       "        vertical-align: top;\n",
       "    }\n",
       "\n",
       "    .dataframe thead th {\n",
       "        text-align: right;\n",
       "    }\n",
       "</style>\n",
       "<table border=\"1\" class=\"dataframe\">\n",
       "  <thead>\n",
       "    <tr style=\"text-align: right;\">\n",
       "      <th></th>\n",
       "      <th>user_ID</th>\n",
       "      <th>age</th>\n",
       "      <th>sex</th>\n",
       "      <th>bmi</th>\n",
       "      <th>children</th>\n",
       "      <th>smoker</th>\n",
       "      <th>region</th>\n",
       "      <th>charges</th>\n",
       "      <th>top_user</th>\n",
       "    </tr>\n",
       "  </thead>\n",
       "  <tbody>\n",
       "    <tr>\n",
       "      <th>1</th>\n",
       "      <td>1</td>\n",
       "      <td>18</td>\n",
       "      <td>male</td>\n",
       "      <td>33.77</td>\n",
       "      <td>1</td>\n",
       "      <td>no</td>\n",
       "      <td>southeast</td>\n",
       "      <td>1725.5523</td>\n",
       "      <td>True</td>\n",
       "    </tr>\n",
       "    <tr>\n",
       "      <th>2</th>\n",
       "      <td>2</td>\n",
       "      <td>28</td>\n",
       "      <td>male</td>\n",
       "      <td>33.00</td>\n",
       "      <td>3</td>\n",
       "      <td>no</td>\n",
       "      <td>southeast</td>\n",
       "      <td>4449.4620</td>\n",
       "      <td>True</td>\n",
       "    </tr>\n",
       "    <tr>\n",
       "      <th>4</th>\n",
       "      <td>4</td>\n",
       "      <td>32</td>\n",
       "      <td>male</td>\n",
       "      <td>28.88</td>\n",
       "      <td>0</td>\n",
       "      <td>no</td>\n",
       "      <td>northwest</td>\n",
       "      <td>3866.8552</td>\n",
       "      <td>True</td>\n",
       "    </tr>\n",
       "    <tr>\n",
       "      <th>5</th>\n",
       "      <td>5</td>\n",
       "      <td>31</td>\n",
       "      <td>female</td>\n",
       "      <td>25.74</td>\n",
       "      <td>0</td>\n",
       "      <td>no</td>\n",
       "      <td>southeast</td>\n",
       "      <td>3756.6216</td>\n",
       "      <td>True</td>\n",
       "    </tr>\n",
       "    <tr>\n",
       "      <th>6</th>\n",
       "      <td>6</td>\n",
       "      <td>46</td>\n",
       "      <td>female</td>\n",
       "      <td>33.44</td>\n",
       "      <td>1</td>\n",
       "      <td>no</td>\n",
       "      <td>southeast</td>\n",
       "      <td>8240.5896</td>\n",
       "      <td>True</td>\n",
       "    </tr>\n",
       "    <tr>\n",
       "      <th>...</th>\n",
       "      <td>...</td>\n",
       "      <td>...</td>\n",
       "      <td>...</td>\n",
       "      <td>...</td>\n",
       "      <td>...</td>\n",
       "      <td>...</td>\n",
       "      <td>...</td>\n",
       "      <td>...</td>\n",
       "      <td>...</td>\n",
       "    </tr>\n",
       "    <tr>\n",
       "      <th>1325</th>\n",
       "      <td>1325</td>\n",
       "      <td>42</td>\n",
       "      <td>female</td>\n",
       "      <td>32.87</td>\n",
       "      <td>0</td>\n",
       "      <td>no</td>\n",
       "      <td>northeast</td>\n",
       "      <td>7050.0213</td>\n",
       "      <td>True</td>\n",
       "    </tr>\n",
       "    <tr>\n",
       "      <th>1326</th>\n",
       "      <td>1326</td>\n",
       "      <td>51</td>\n",
       "      <td>male</td>\n",
       "      <td>30.03</td>\n",
       "      <td>1</td>\n",
       "      <td>no</td>\n",
       "      <td>southeast</td>\n",
       "      <td>9377.9047</td>\n",
       "      <td>True</td>\n",
       "    </tr>\n",
       "    <tr>\n",
       "      <th>1333</th>\n",
       "      <td>1333</td>\n",
       "      <td>18</td>\n",
       "      <td>female</td>\n",
       "      <td>31.92</td>\n",
       "      <td>0</td>\n",
       "      <td>no</td>\n",
       "      <td>northeast</td>\n",
       "      <td>2205.9808</td>\n",
       "      <td>True</td>\n",
       "    </tr>\n",
       "    <tr>\n",
       "      <th>1334</th>\n",
       "      <td>1334</td>\n",
       "      <td>18</td>\n",
       "      <td>female</td>\n",
       "      <td>36.85</td>\n",
       "      <td>0</td>\n",
       "      <td>no</td>\n",
       "      <td>southeast</td>\n",
       "      <td>1629.8335</td>\n",
       "      <td>True</td>\n",
       "    </tr>\n",
       "    <tr>\n",
       "      <th>1335</th>\n",
       "      <td>1335</td>\n",
       "      <td>21</td>\n",
       "      <td>female</td>\n",
       "      <td>25.80</td>\n",
       "      <td>0</td>\n",
       "      <td>no</td>\n",
       "      <td>southwest</td>\n",
       "      <td>2007.9450</td>\n",
       "      <td>True</td>\n",
       "    </tr>\n",
       "  </tbody>\n",
       "</table>\n",
       "<p>696 rows × 9 columns</p>\n",
       "</div>"
      ],
      "text/plain": [
       "      user_ID  age     sex    bmi  children smoker     region    charges  \\\n",
       "1           1   18    male  33.77         1     no  southeast  1725.5523   \n",
       "2           2   28    male  33.00         3     no  southeast  4449.4620   \n",
       "4           4   32    male  28.88         0     no  northwest  3866.8552   \n",
       "5           5   31  female  25.74         0     no  southeast  3756.6216   \n",
       "6           6   46  female  33.44         1     no  southeast  8240.5896   \n",
       "...       ...  ...     ...    ...       ...    ...        ...        ...   \n",
       "1325     1325   42  female  32.87         0     no  northeast  7050.0213   \n",
       "1326     1326   51    male  30.03         1     no  southeast  9377.9047   \n",
       "1333     1333   18  female  31.92         0     no  northeast  2205.9808   \n",
       "1334     1334   18  female  36.85         0     no  southeast  1629.8335   \n",
       "1335     1335   21  female  25.80         0     no  southwest  2007.9450   \n",
       "\n",
       "      top_user  \n",
       "1         True  \n",
       "2         True  \n",
       "4         True  \n",
       "5         True  \n",
       "6         True  \n",
       "...        ...  \n",
       "1325      True  \n",
       "1326      True  \n",
       "1333      True  \n",
       "1334      True  \n",
       "1335      True  \n",
       "\n",
       "[696 rows x 9 columns]"
      ]
     },
     "execution_count": 17,
     "metadata": {},
     "output_type": "execute_result"
    }
   ],
   "source": [
    "df_user = df_user[['user_ID', 'top_user']]\n",
    "file = file.merge(df_user, on='user_ID')\n",
    "file =file[file['top_user'] ==True]\n",
    "file"
   ]
  },
  {
   "cell_type": "code",
   "execution_count": 18,
   "metadata": {},
   "outputs": [],
   "source": [
    "df_children = (\n",
    "    file[['children', 'charges']]\n",
    "    .groupby('children')\n",
    "    .agg('sum')\n",
    "    .reset_index()\n",
    "    .sort_values(by='charges', ascending=False)\n",
    "    .rename(columns={'charges':'total_charges'})\n",
    ")\n",
    "\n",
    "df_children['cumsum'] = df_children['total_charges'].cumsum()\n",
    "value_80proc = int(df_children['total_charges'].sum()*0.8)\n",
    "df_children['top_children'] = df_children['cumsum'] > value_80proc\n",
    "\n",
    "top_children = set(df_children[df_children['top_children']]['children'])\n",
    "df_children = df_children[['children', 'top_children']]"
   ]
  },
  {
   "cell_type": "code",
   "execution_count": 19,
   "metadata": {},
   "outputs": [
    {
     "data": {
      "text/plain": [
       "0.6666666666666666"
      ]
     },
     "execution_count": 19,
     "metadata": {},
     "output_type": "execute_result"
    }
   ],
   "source": [
    "len(top_children)/file['children'].nunique()"
   ]
  },
  {
   "cell_type": "code",
   "execution_count": 20,
   "metadata": {},
   "outputs": [
    {
     "data": {
      "text/html": [
       "<div>\n",
       "<style scoped>\n",
       "    .dataframe tbody tr th:only-of-type {\n",
       "        vertical-align: middle;\n",
       "    }\n",
       "\n",
       "    .dataframe tbody tr th {\n",
       "        vertical-align: top;\n",
       "    }\n",
       "\n",
       "    .dataframe thead th {\n",
       "        text-align: right;\n",
       "    }\n",
       "</style>\n",
       "<table border=\"1\" class=\"dataframe\">\n",
       "  <thead>\n",
       "    <tr style=\"text-align: right;\">\n",
       "      <th></th>\n",
       "      <th>children</th>\n",
       "      <th>top_children</th>\n",
       "    </tr>\n",
       "  </thead>\n",
       "  <tbody>\n",
       "    <tr>\n",
       "      <th>1</th>\n",
       "      <td>1</td>\n",
       "      <td>False</td>\n",
       "    </tr>\n",
       "    <tr>\n",
       "      <th>0</th>\n",
       "      <td>0</td>\n",
       "      <td>False</td>\n",
       "    </tr>\n",
       "    <tr>\n",
       "      <th>2</th>\n",
       "      <td>2</td>\n",
       "      <td>True</td>\n",
       "    </tr>\n",
       "    <tr>\n",
       "      <th>3</th>\n",
       "      <td>3</td>\n",
       "      <td>True</td>\n",
       "    </tr>\n",
       "    <tr>\n",
       "      <th>5</th>\n",
       "      <td>5</td>\n",
       "      <td>True</td>\n",
       "    </tr>\n",
       "    <tr>\n",
       "      <th>4</th>\n",
       "      <td>4</td>\n",
       "      <td>True</td>\n",
       "    </tr>\n",
       "  </tbody>\n",
       "</table>\n",
       "</div>"
      ],
      "text/plain": [
       "   children  top_children\n",
       "1         1         False\n",
       "0         0         False\n",
       "2         2          True\n",
       "3         3          True\n",
       "5         5          True\n",
       "4         4          True"
      ]
     },
     "execution_count": 20,
     "metadata": {},
     "output_type": "execute_result"
    }
   ],
   "source": [
    "df_children"
   ]
  },
  {
   "cell_type": "code",
   "execution_count": 21,
   "metadata": {},
   "outputs": [],
   "source": [
    "df_smoker = (\n",
    "    file[['smoker', 'charges']]\n",
    "    .groupby('smoker')\n",
    "    .agg('sum')\n",
    "    .reset_index()\n",
    "    .sort_values(by='charges', ascending=False)\n",
    "    .rename(columns={'charges':'total_charges'})\n",
    ")\n",
    "\n",
    "df_smoker['cumsum'] = df_smoker['total_charges'].cumsum()\n",
    "value_80proc = int(df_smoker['total_charges'].sum()*0.8)\n",
    "df_smoker['top_smoker'] = df_smoker['cumsum'] > value_80proc\n",
    "\n",
    "top_smoker= set(df_smoker[df_smoker['top_smoker']]['smoker'])\n",
    "df_smoker = df_smoker[['smoker', 'top_smoker']]"
   ]
  },
  {
   "cell_type": "code",
   "execution_count": 22,
   "metadata": {},
   "outputs": [
    {
     "data": {
      "text/plain": [
       "1.0"
      ]
     },
     "execution_count": 22,
     "metadata": {},
     "output_type": "execute_result"
    }
   ],
   "source": [
    "len(top_smoker)/file['smoker'].nunique()"
   ]
  },
  {
   "cell_type": "code",
   "execution_count": 23,
   "metadata": {},
   "outputs": [],
   "source": [
    "df_age = (\n",
    "    file[['age', 'charges']]\n",
    "    .groupby('age')\n",
    "    .agg('sum')\n",
    "    .reset_index()\n",
    "    .sort_values(by='charges', ascending=False)\n",
    "    .rename(columns={'charges':'total_charges'})\n",
    ")\n",
    "\n",
    "df_age['cumsum'] = df_age['total_charges'].cumsum()\n",
    "value_80proc = int(df_age['total_charges'].sum()*0.8)\n",
    "df_age['top_age'] = df_age['cumsum'] > value_80proc\n",
    "\n",
    "top_age= set(df_age[df_age['top_age']]['age'])\n",
    "df_age[['age', 'top_age']].groupby(by='top_age').describe()\n",
    "df_age = df_age[['age', 'top_age']]"
   ]
  },
  {
   "cell_type": "code",
   "execution_count": 24,
   "metadata": {},
   "outputs": [
    {
     "data": {
      "text/plain": [
       "0.3611111111111111"
      ]
     },
     "execution_count": 24,
     "metadata": {},
     "output_type": "execute_result"
    }
   ],
   "source": [
    "len(top_age)/file['age'].nunique()"
   ]
  },
  {
   "cell_type": "code",
   "execution_count": 25,
   "metadata": {},
   "outputs": [],
   "source": [
    "df_sex = (\n",
    "    file[['sex', 'charges']]\n",
    "    .groupby('sex')\n",
    "    .agg('sum')\n",
    "    .reset_index()\n",
    "    .sort_values(by='charges', ascending=False)\n",
    "    .rename(columns={'charges':'total_charges'})\n",
    ")\n",
    "\n",
    "df_sex['cumsum'] = df_sex['total_charges'].cumsum()\n",
    "value_80proc = int(df_sex['total_charges'].sum()*0.8)\n",
    "df_sex['top_sex'] = df_sex['cumsum'] > value_80proc\n",
    "\n",
    "top_sex= set(df_sex[df_sex['top_sex']]['sex'])\n",
    "df_sex = df_sex[['sex', 'top_sex']]"
   ]
  },
  {
   "cell_type": "code",
   "execution_count": 26,
   "metadata": {},
   "outputs": [
    {
     "data": {
      "text/plain": [
       "0.5"
      ]
     },
     "execution_count": 26,
     "metadata": {},
     "output_type": "execute_result"
    }
   ],
   "source": [
    "len(top_sex)/file['sex'].nunique()"
   ]
  },
  {
   "cell_type": "code",
   "execution_count": 27,
   "metadata": {},
   "outputs": [],
   "source": [
    "df_bmi = (\n",
    "    file[['bmi', 'charges']]\n",
    "    .groupby('bmi')\n",
    "    .agg('sum')\n",
    "    .reset_index()\n",
    "    .sort_values(by='charges', ascending=False)\n",
    "    .rename(columns={'charges':'total_charges'})\n",
    ")\n",
    "\n",
    "df_bmi['cumsum'] = df_bmi['total_charges'].cumsum()\n",
    "value_80proc = int(df_bmi['total_charges'].sum()*0.8)\n",
    "df_bmi['top_bmi'] = df_bmi['cumsum'] > value_80proc\n",
    "\n",
    "top_bmi= set(df_bmi[df_bmi['top_bmi']]['bmi'])\n",
    "df_bmi[['bmi', 'top_bmi']].groupby(by='top_bmi').describe()\n",
    "df_bmi = df_bmi[['bmi', 'top_bmi']]"
   ]
  },
  {
   "cell_type": "code",
   "execution_count": 28,
   "metadata": {},
   "outputs": [],
   "source": [
    "# len(top_bmi)/file['bmi'].nunique()"
   ]
  },
  {
   "cell_type": "code",
   "execution_count": 29,
   "metadata": {},
   "outputs": [],
   "source": [
    "df_region = (\n",
    "    file[['region', 'charges']]\n",
    "    .groupby('region')\n",
    "    .agg('sum')\n",
    "    .reset_index()\n",
    "    .sort_values(by='charges', ascending=False)\n",
    "    .rename(columns={'charges':'total_charges'})\n",
    ")\n",
    "\n",
    "df_region['cumsum'] = df_region['total_charges'].cumsum()\n",
    "value_80proc = int(df_region['total_charges'].sum()*0.8)\n",
    "df_region['top_region'] = df_region['cumsum'] > value_80proc\n",
    "\n",
    "top_region= set(df_region[df_region['top_region']]['region'])\n",
    "df_region = df_region[['region', 'top_region']]"
   ]
  },
  {
   "cell_type": "code",
   "execution_count": 30,
   "metadata": {},
   "outputs": [
    {
     "data": {
      "text/plain": [
       "0.25"
      ]
     },
     "execution_count": 30,
     "metadata": {},
     "output_type": "execute_result"
    }
   ],
   "source": [
    "len(top_region)/file['region'].nunique()"
   ]
  },
  {
   "cell_type": "code",
   "execution_count": 31,
   "metadata": {},
   "outputs": [
    {
     "data": {
      "text/html": [
       "<div>\n",
       "<style scoped>\n",
       "    .dataframe tbody tr th:only-of-type {\n",
       "        vertical-align: middle;\n",
       "    }\n",
       "\n",
       "    .dataframe tbody tr th {\n",
       "        vertical-align: top;\n",
       "    }\n",
       "\n",
       "    .dataframe thead th {\n",
       "        text-align: right;\n",
       "    }\n",
       "</style>\n",
       "<table border=\"1\" class=\"dataframe\">\n",
       "  <thead>\n",
       "    <tr style=\"text-align: right;\">\n",
       "      <th></th>\n",
       "      <th>user_ID</th>\n",
       "      <th>age</th>\n",
       "      <th>sex</th>\n",
       "      <th>bmi</th>\n",
       "      <th>children</th>\n",
       "      <th>smoker</th>\n",
       "      <th>region</th>\n",
       "      <th>charges</th>\n",
       "      <th>top_user</th>\n",
       "      <th>top_region</th>\n",
       "      <th>top_children</th>\n",
       "      <th>top_smoker</th>\n",
       "      <th>top_age</th>\n",
       "      <th>top_sex</th>\n",
       "      <th>top_bmi</th>\n",
       "    </tr>\n",
       "  </thead>\n",
       "  <tbody>\n",
       "    <tr>\n",
       "      <th>0</th>\n",
       "      <td>1</td>\n",
       "      <td>18</td>\n",
       "      <td>male</td>\n",
       "      <td>33.770</td>\n",
       "      <td>1</td>\n",
       "      <td>no</td>\n",
       "      <td>southeast</td>\n",
       "      <td>1725.55230</td>\n",
       "      <td>True</td>\n",
       "      <td>False</td>\n",
       "      <td>False</td>\n",
       "      <td>True</td>\n",
       "      <td>False</td>\n",
       "      <td>True</td>\n",
       "      <td>True</td>\n",
       "    </tr>\n",
       "    <tr>\n",
       "      <th>1</th>\n",
       "      <td>1096</td>\n",
       "      <td>22</td>\n",
       "      <td>male</td>\n",
       "      <td>33.770</td>\n",
       "      <td>0</td>\n",
       "      <td>no</td>\n",
       "      <td>southeast</td>\n",
       "      <td>1674.63230</td>\n",
       "      <td>True</td>\n",
       "      <td>False</td>\n",
       "      <td>False</td>\n",
       "      <td>True</td>\n",
       "      <td>True</td>\n",
       "      <td>True</td>\n",
       "      <td>True</td>\n",
       "    </tr>\n",
       "    <tr>\n",
       "      <th>2</th>\n",
       "      <td>270</td>\n",
       "      <td>18</td>\n",
       "      <td>male</td>\n",
       "      <td>29.370</td>\n",
       "      <td>1</td>\n",
       "      <td>no</td>\n",
       "      <td>southeast</td>\n",
       "      <td>1719.43630</td>\n",
       "      <td>True</td>\n",
       "      <td>False</td>\n",
       "      <td>False</td>\n",
       "      <td>True</td>\n",
       "      <td>False</td>\n",
       "      <td>True</td>\n",
       "      <td>False</td>\n",
       "    </tr>\n",
       "    <tr>\n",
       "      <th>3</th>\n",
       "      <td>609</td>\n",
       "      <td>47</td>\n",
       "      <td>female</td>\n",
       "      <td>29.370</td>\n",
       "      <td>1</td>\n",
       "      <td>no</td>\n",
       "      <td>southeast</td>\n",
       "      <td>8547.69130</td>\n",
       "      <td>True</td>\n",
       "      <td>False</td>\n",
       "      <td>False</td>\n",
       "      <td>True</td>\n",
       "      <td>False</td>\n",
       "      <td>False</td>\n",
       "      <td>False</td>\n",
       "    </tr>\n",
       "    <tr>\n",
       "      <th>4</th>\n",
       "      <td>709</td>\n",
       "      <td>18</td>\n",
       "      <td>male</td>\n",
       "      <td>35.200</td>\n",
       "      <td>1</td>\n",
       "      <td>no</td>\n",
       "      <td>southeast</td>\n",
       "      <td>1727.54000</td>\n",
       "      <td>True</td>\n",
       "      <td>False</td>\n",
       "      <td>False</td>\n",
       "      <td>True</td>\n",
       "      <td>False</td>\n",
       "      <td>True</td>\n",
       "      <td>False</td>\n",
       "    </tr>\n",
       "    <tr>\n",
       "      <th>...</th>\n",
       "      <td>...</td>\n",
       "      <td>...</td>\n",
       "      <td>...</td>\n",
       "      <td>...</td>\n",
       "      <td>...</td>\n",
       "      <td>...</td>\n",
       "      <td>...</td>\n",
       "      <td>...</td>\n",
       "      <td>...</td>\n",
       "      <td>...</td>\n",
       "      <td>...</td>\n",
       "      <td>...</td>\n",
       "      <td>...</td>\n",
       "      <td>...</td>\n",
       "      <td>...</td>\n",
       "    </tr>\n",
       "    <tr>\n",
       "      <th>691</th>\n",
       "      <td>81</td>\n",
       "      <td>45</td>\n",
       "      <td>female</td>\n",
       "      <td>38.285</td>\n",
       "      <td>0</td>\n",
       "      <td>no</td>\n",
       "      <td>northeast</td>\n",
       "      <td>7935.29115</td>\n",
       "      <td>True</td>\n",
       "      <td>True</td>\n",
       "      <td>False</td>\n",
       "      <td>True</td>\n",
       "      <td>False</td>\n",
       "      <td>False</td>\n",
       "      <td>False</td>\n",
       "    </tr>\n",
       "    <tr>\n",
       "      <th>692</th>\n",
       "      <td>445</td>\n",
       "      <td>45</td>\n",
       "      <td>female</td>\n",
       "      <td>33.100</td>\n",
       "      <td>0</td>\n",
       "      <td>no</td>\n",
       "      <td>southwest</td>\n",
       "      <td>7345.08400</td>\n",
       "      <td>True</td>\n",
       "      <td>False</td>\n",
       "      <td>False</td>\n",
       "      <td>True</td>\n",
       "      <td>False</td>\n",
       "      <td>False</td>\n",
       "      <td>False</td>\n",
       "    </tr>\n",
       "    <tr>\n",
       "      <th>693</th>\n",
       "      <td>652</td>\n",
       "      <td>45</td>\n",
       "      <td>female</td>\n",
       "      <td>36.300</td>\n",
       "      <td>2</td>\n",
       "      <td>no</td>\n",
       "      <td>southeast</td>\n",
       "      <td>8527.53200</td>\n",
       "      <td>True</td>\n",
       "      <td>False</td>\n",
       "      <td>True</td>\n",
       "      <td>True</td>\n",
       "      <td>False</td>\n",
       "      <td>False</td>\n",
       "      <td>False</td>\n",
       "    </tr>\n",
       "    <tr>\n",
       "      <th>694</th>\n",
       "      <td>1233</td>\n",
       "      <td>45</td>\n",
       "      <td>female</td>\n",
       "      <td>27.830</td>\n",
       "      <td>2</td>\n",
       "      <td>no</td>\n",
       "      <td>southeast</td>\n",
       "      <td>8515.75870</td>\n",
       "      <td>True</td>\n",
       "      <td>False</td>\n",
       "      <td>True</td>\n",
       "      <td>True</td>\n",
       "      <td>False</td>\n",
       "      <td>False</td>\n",
       "      <td>False</td>\n",
       "    </tr>\n",
       "    <tr>\n",
       "      <th>695</th>\n",
       "      <td>713</td>\n",
       "      <td>24</td>\n",
       "      <td>female</td>\n",
       "      <td>22.600</td>\n",
       "      <td>0</td>\n",
       "      <td>no</td>\n",
       "      <td>southwest</td>\n",
       "      <td>2457.50200</td>\n",
       "      <td>True</td>\n",
       "      <td>False</td>\n",
       "      <td>False</td>\n",
       "      <td>True</td>\n",
       "      <td>True</td>\n",
       "      <td>False</td>\n",
       "      <td>True</td>\n",
       "    </tr>\n",
       "  </tbody>\n",
       "</table>\n",
       "<p>696 rows × 15 columns</p>\n",
       "</div>"
      ],
      "text/plain": [
       "     user_ID  age     sex     bmi  children smoker     region     charges  \\\n",
       "0          1   18    male  33.770         1     no  southeast  1725.55230   \n",
       "1       1096   22    male  33.770         0     no  southeast  1674.63230   \n",
       "2        270   18    male  29.370         1     no  southeast  1719.43630   \n",
       "3        609   47  female  29.370         1     no  southeast  8547.69130   \n",
       "4        709   18    male  35.200         1     no  southeast  1727.54000   \n",
       "..       ...  ...     ...     ...       ...    ...        ...         ...   \n",
       "691       81   45  female  38.285         0     no  northeast  7935.29115   \n",
       "692      445   45  female  33.100         0     no  southwest  7345.08400   \n",
       "693      652   45  female  36.300         2     no  southeast  8527.53200   \n",
       "694     1233   45  female  27.830         2     no  southeast  8515.75870   \n",
       "695      713   24  female  22.600         0     no  southwest  2457.50200   \n",
       "\n",
       "     top_user  top_region  top_children  top_smoker  top_age  top_sex  top_bmi  \n",
       "0        True       False         False        True    False     True     True  \n",
       "1        True       False         False        True     True     True     True  \n",
       "2        True       False         False        True    False     True    False  \n",
       "3        True       False         False        True    False    False    False  \n",
       "4        True       False         False        True    False     True    False  \n",
       "..        ...         ...           ...         ...      ...      ...      ...  \n",
       "691      True        True         False        True    False    False    False  \n",
       "692      True       False         False        True    False    False    False  \n",
       "693      True       False          True        True    False    False    False  \n",
       "694      True       False          True        True    False    False    False  \n",
       "695      True       False         False        True     True    False     True  \n",
       "\n",
       "[696 rows x 15 columns]"
      ]
     },
     "execution_count": 31,
     "metadata": {},
     "output_type": "execute_result"
    }
   ],
   "source": [
    "file = file.merge(df_region, on='region')\n",
    "file = file.merge(df_children, on='children')\n",
    "file = file.merge(df_smoker, on='smoker')\n",
    "file = file.merge(df_age, on='age')\n",
    "file = file.merge(df_sex, on='sex')\n",
    "file = file.merge(df_bmi, on='bmi')\n",
    "file\n"
   ]
  },
  {
   "cell_type": "code",
   "execution_count": 32,
   "metadata": {},
   "outputs": [
    {
     "data": {
      "text/plain": [
       "DecisionTreeRegressor(max_leaf_nodes=10, random_state=42)"
      ]
     },
     "execution_count": 32,
     "metadata": {},
     "output_type": "execute_result"
    }
   ],
   "source": [
    "\n",
    "encoder = LabelEncoder()\n",
    "file[['age', 'sex', 'bmi', 'children', 'smoker', 'region', 'top_user', 'top_region', 'top_children', 'top_smoker', 'top_age', 'top_sex', 'top_bmi']] = file[['age', 'sex', 'bmi', 'children', 'smoker', 'region', 'top_user', 'top_region', 'top_children', 'top_smoker', 'top_age', 'top_sex', 'top_bmi' ]].apply(encoder.fit_transform)\n",
    "#, 'top_user', 'top_region', 'top_children', 'top_smoker', 'top_age', 'top_sex', 'top_bmi'\n",
    "file = file.drop(columns=['user_ID'])\n",
    "data_tree = file.copy()\n",
    "tree_reg = DecisionTreeRegressor(random_state=42, max_leaf_nodes=10) \n",
    "x_train, x_test, y_train, y_test = train_test_split(data_tree.drop(columns=[\"charges\"]), data_tree[\"charges\"], test_size=0.3, random_state=42)\n",
    "tree_reg.fit(x_train,y_train)"
   ]
  },
  {
   "cell_type": "code",
   "execution_count": 33,
   "metadata": {},
   "outputs": [],
   "source": [
    "def pred_result(pred,y_test):\n",
    "  score_MSE = round(mean_squared_error(pred, y_test))\n",
    "  score_MAE = round(mean_absolute_error(pred, y_test))\n",
    "  score_r2score = round(r2_score(pred, y_test),2)\n",
    "  print(f\"MSE: {score_MSE} | MAE: {score_MAE} | R2score: {score_r2score}\")"
   ]
  },
  {
   "cell_type": "code",
   "execution_count": 34,
   "metadata": {},
   "outputs": [
    {
     "name": "stdout",
     "output_type": "stream",
     "text": [
      "MSE: 387450 | MAE: 498 | R2score: 0.94\n"
     ]
    }
   ],
   "source": [
    "tree_pred = tree_reg.predict(x_test)\n",
    "pred_result(tree_pred, y_test)"
   ]
  },
  {
   "cell_type": "code",
   "execution_count": 35,
   "metadata": {},
   "outputs": [
    {
     "name": "stdout",
     "output_type": "stream",
     "text": [
      "Feature: 0, Score: 0.94921\n",
      "Feature: 1, Score: 0.00000\n",
      "Feature: 2, Score: 0.00000\n",
      "Feature: 3, Score: 0.03818\n",
      "Feature: 4, Score: 0.00000\n",
      "Feature: 5, Score: 0.00000\n",
      "Feature: 6, Score: 0.00000\n",
      "Feature: 7, Score: 0.00000\n",
      "Feature: 8, Score: 0.01260\n",
      "Feature: 9, Score: 0.00000\n",
      "Feature: 10, Score: 0.00000\n",
      "Feature: 11, Score: 0.00000\n",
      "Feature: 12, Score: 0.00000\n"
     ]
    },
    {
     "data": {
      "image/png": "[encoded data removed]",
      "text/plain": [
       "<Figure size 1440x432 with 1 Axes>"
      ]
     },
     "metadata": {
      "needs_background": "light"
     },
     "output_type": "display_data"
    }
   ],
   "source": [
    "importance = tree_reg.feature_importances_\n",
    "plt.figure(figsize=(20,6))\n",
    "for i,v in enumerate(importance):\n",
    "\tprint('Feature: %0d, Score: %.5f' % (i,v))\n",
    "# plot feature importance\n",
    "plt.bar(x_train.columns, importance)\n",
    "plt.yticks(fontsize=15)\n",
    "plt.show()"
   ]
  },
  {
   "cell_type": "code",
   "execution_count": 36,
   "metadata": {},
   "outputs": [
    {
     "name": "stdout",
     "output_type": "stream",
     "text": [
      "predicted:  5133\n",
      "actual:  5472\n"
     ]
    },
    {
     "name": "stderr",
     "output_type": "stream",
     "text": [
      "c:\\Users\\AMD\\anaconda3\\lib\\site-packages\\sklearn\\base.py:450: UserWarning: X does not have valid feature names, but DecisionTreeRegressor was fitted with feature names\n",
      "  warnings.warn(\n"
     ]
    }
   ],
   "source": [
    "forth_sample = x_test.iloc[4]\n",
    "print(\"predicted: \",int(tree_reg.predict([forth_sample.values])))\n",
    "print(\"actual: \",int(y_test.iloc[4]))"
   ]
  },
  {
   "cell_type": "code",
   "execution_count": 37,
   "metadata": {},
   "outputs": [],
   "source": [
    "from sklearn.tree import export_graphviz\n",
    "from IPython.display import Image\n",
    "from subprocess import call\n",
    "from sklearn.tree import plot_tree\n"
   ]
  },
  {
   "cell_type": "code",
   "execution_count": 38,
   "metadata": {},
   "outputs": [
    {
     "data": {
      "text/plain": [
       "[Text(0.4861111111111111, 0.9, 'age <= 14.5\\nsquared_error = 6267655.633\\nsamples = 487\\nvalue = 5177.983'),\n",
       " Text(0.2222222222222222, 0.7, 'age <= 6.5\\nsquared_error = 1551843.941\\nsamples = 246\\nvalue = 3098.932'),\n",
       " Text(0.1111111111111111, 0.5, 'children <= 1.5\\nsquared_error = 941220.484\\nsamples = 129\\nvalue = 2290.755'),\n",
       " Text(0.05555555555555555, 0.3, 'squared_error = 483089.286\\nsamples = 108\\nvalue = 1991.866'),\n",
       " Text(0.16666666666666666, 0.3, 'squared_error = 475091.787\\nsamples = 21\\nvalue = 3827.894'),\n",
       " Text(0.3333333333333333, 0.5, 'top_region <= 0.5\\nsquared_error = 710954.853\\nsamples = 117\\nvalue = 3989.999'),\n",
       " Text(0.2777777777777778, 0.3, 'squared_error = 453195.761\\nsamples = 74\\nvalue = 3567.204'),\n",
       " Text(0.3888888888888889, 0.3, 'squared_error = 317513.071\\nsamples = 43\\nvalue = 4717.599'),\n",
       " Text(0.75, 0.7, 'age <= 24.5\\nsquared_error = 2165501.969\\nsamples = 241\\nvalue = 7300.169'),\n",
       " Text(0.6111111111111112, 0.5, 'age <= 20.5\\nsquared_error = 1089287.57\\nsamples = 135\\nvalue = 6295.119'),\n",
       " Text(0.5, 0.3, 'children <= 1.5\\nsquared_error = 676017.329\\nsamples = 74\\nvalue = 5732.666'),\n",
       " Text(0.4444444444444444, 0.1, 'squared_error = 283571.978\\nsamples = 37\\nvalue = 5133.78'),\n",
       " Text(0.5555555555555556, 0.1, 'squared_error = 351133.806\\nsamples = 37\\nvalue = 6331.552'),\n",
       " Text(0.7222222222222222, 0.3, 'children <= 2.5\\nsquared_error = 741296.831\\nsamples = 61\\nvalue = 6977.44'),\n",
       " Text(0.6666666666666666, 0.1, 'squared_error = 376036.773\\nsamples = 49\\nvalue = 6671.952'),\n",
       " Text(0.7777777777777778, 0.1, 'squared_error = 295682.203\\nsamples = 12\\nvalue = 8224.847'),\n",
       " Text(0.8888888888888888, 0.5, 'age <= 26.5\\nsquared_error = 611232.512\\nsamples = 106\\nvalue = 8580.184'),\n",
       " Text(0.8333333333333334, 0.3, 'squared_error = 392447.352\\nsamples = 23\\nvalue = 7691.514'),\n",
       " Text(0.9444444444444444, 0.3, 'squared_error = 392374.21\\nsamples = 83\\nvalue = 8826.443')]"
      ]
     },
     "execution_count": 38,
     "metadata": {},
     "output_type": "execute_result"
    },
    {
     "data": {
      "image/png": "[encoded data removed]",
      "text/plain": [
       "<Figure size 2000x600 with 1 Axes>"
      ]
     },
     "metadata": {
      "needs_background": "light"
     },
     "output_type": "display_data"
    }
   ],
   "source": [
    "plt.figure(figsize=[20,6], dpi=100)\n",
    "plot_tree(tree_reg, fontsize=10, feature_names=file.columns)"
   ]
  },
  {
   "cell_type": "code",
   "execution_count": 39,
   "metadata": {},
   "outputs": [
    {
     "data": {
      "text/plain": [
       "DecisionTreeRegressor(max_leaf_nodes=10, random_state=42)"
      ]
     },
     "execution_count": 39,
     "metadata": {},
     "output_type": "execute_result"
    }
   ],
   "source": [
    "data = pd.read_csv(\"insurance.csv\")\n",
    "encoder = LabelEncoder()\n",
    "data[['age','sex','smoker','region']] = data[['age','sex','smoker','region']].apply(encoder.fit_transform)\n",
    "data_tree = data.copy()\n",
    "tree_reg = DecisionTreeRegressor(random_state=42,max_leaf_nodes=10) \n",
    "x_train, x_test, y_train, y_test = train_test_split(data_tree.drop(columns=[\"charges\"]), data_tree[\"charges\"], test_size=0.3, random_state=42)\n",
    "tree_reg.fit(x_train,y_train)"
   ]
  },
  {
   "cell_type": "code",
   "execution_count": 40,
   "metadata": {},
   "outputs": [
    {
     "name": "stdout",
     "output_type": "stream",
     "text": [
      "MSE: 22688344 | MAE: 2864 | R2score: 0.84\n"
     ]
    }
   ],
   "source": [
    "tree_pred = tree_reg.predict(x_test)\n",
    "pred_result(tree_pred, y_test)"
   ]
  },
  {
   "cell_type": "code",
   "execution_count": 41,
   "metadata": {},
   "outputs": [
    {
     "name": "stdout",
     "output_type": "stream",
     "text": [
      "Feature: 0, Score: 0.11787\n",
      "Feature: 1, Score: 0.00000\n",
      "Feature: 2, Score: 0.17301\n",
      "Feature: 3, Score: 0.00379\n",
      "Feature: 4, Score: 0.70533\n",
      "Feature: 5, Score: 0.00000\n"
     ]
    },
    {
     "data": {
      "image/png": "[encoded data removed]",
      "text/plain": [
       "<Figure size 1008x432 with 1 Axes>"
      ]
     },
     "metadata": {
      "needs_background": "light"
     },
     "output_type": "display_data"
    }
   ],
   "source": [
    "importance = tree_reg.feature_importances_\n",
    "plt.figure(figsize=(14,6))\n",
    "for i,v in enumerate(importance):\n",
    "\tprint('Feature: %0d, Score: %.5f' % (i,v))\n",
    "# plot feature importance\n",
    "plt.bar(x_train.columns, importance)\n",
    "plt.yticks(fontsize=15)\n",
    "plt.show()"
   ]
  },
  {
   "cell_type": "code",
   "execution_count": 42,
   "metadata": {},
   "outputs": [
    {
     "name": "stdout",
     "output_type": "stream",
     "text": [
      "predicted:  36158\n",
      "actual:  33750\n"
     ]
    },
    {
     "name": "stderr",
     "output_type": "stream",
     "text": [
      "c:\\Users\\AMD\\anaconda3\\lib\\site-packages\\sklearn\\base.py:450: UserWarning: X does not have valid feature names, but DecisionTreeRegressor was fitted with feature names\n",
      "  warnings.warn(\n"
     ]
    }
   ],
   "source": [
    "forth_sample = x_test.iloc[4]\n",
    "print(\"predicted: \",int(tree_reg.predict([forth_sample.values])))\n",
    "print(\"actual: \",int(y_test.iloc[4]))"
   ]
  },
  {
   "cell_type": "code",
   "execution_count": 43,
   "metadata": {},
   "outputs": [
    {
     "data": {
      "text/plain": [
       "[Text(0.5, 0.9166666666666666, 'smoker <= 0.5\\nsquared_error = 146468393.299\\nsamples = 936\\nvalue = 13379.157'),\n",
       " Text(0.25, 0.75, 'age <= 24.5\\nsquared_error = 37221997.558\\nsamples = 741\\nvalue = 8542.875'),\n",
       " Text(0.125, 0.5833333333333334, 'age <= 4.5\\nsquared_error = 21618064.588\\nsamples = 413\\nvalue = 5409.331'),\n",
       " Text(0.0625, 0.4166666666666667, 'squared_error = 19696578.22\\nsamples = 121\\nvalue = 3233.463'),\n",
       " Text(0.1875, 0.4166666666666667, 'squared_error = 19639476.63\\nsamples = 292\\nvalue = 6310.975'),\n",
       " Text(0.375, 0.5833333333333334, 'age <= 34.5\\nsquared_error = 28938262.494\\nsamples = 328\\nvalue = 12488.466'),\n",
       " Text(0.3125, 0.4166666666666667, 'squared_error = 24342176.216\\nsamples = 148\\nvalue = 10595.861'),\n",
       " Text(0.4375, 0.4166666666666667, 'age <= 40.5\\nsquared_error = 27350528.287\\nsamples = 180\\nvalue = 14044.608'),\n",
       " Text(0.375, 0.25, 'squared_error = 22672890.557\\nsamples = 104\\nvalue = 12922.211'),\n",
       " Text(0.5, 0.25, 'children <= 3.5\\nsquared_error = 29668581.022\\nsamples = 76\\nvalue = 15580.519'),\n",
       " Text(0.4375, 0.08333333333333333, 'squared_error = 24105896.505\\nsamples = 75\\nvalue = 15300.522'),\n",
       " Text(0.5625, 0.08333333333333333, 'squared_error = 0.0\\nsamples = 1\\nvalue = 36580.282'),\n",
       " Text(0.75, 0.75, 'bmi <= 29.972\\nsquared_error = 134977942.179\\nsamples = 195\\nvalue = 31757.029'),\n",
       " Text(0.625, 0.5833333333333334, 'age <= 23.0\\nsquared_error = 24643421.678\\nsamples = 95\\nvalue = 21261.647'),\n",
       " Text(0.5625, 0.4166666666666667, 'squared_error = 10661679.718\\nsamples = 57\\nvalue = 18537.663'),\n",
       " Text(0.6875, 0.4166666666666667, 'squared_error = 17790689.555\\nsamples = 38\\nvalue = 25347.624'),\n",
       " Text(0.875, 0.5833333333333334, 'age <= 9.5\\nsquared_error = 35737222.979\\nsamples = 100\\nvalue = 41727.642'),\n",
       " Text(0.8125, 0.4166666666666667, 'squared_error = 4585081.71\\nsamples = 34\\nvalue = 36158.687'),\n",
       " Text(0.9375, 0.4166666666666667, 'squared_error = 27578432.483\\nsamples = 66\\nvalue = 44596.498')]"
      ]
     },
     "execution_count": 43,
     "metadata": {},
     "output_type": "execute_result"
    },
    {
     "data": {
      "image/png": "[encoded data removed]",
      "text/plain": [
       "<Figure size 2000x600 with 1 Axes>"
      ]
     },
     "metadata": {
      "needs_background": "light"
     },
     "output_type": "display_data"
    }
   ],
   "source": [
    "plt.figure(figsize=[20,6], dpi=100)\n",
    "plot_tree(tree_reg, fontsize=8, feature_names=['age','sex', 'bmi', 'children', 'smoker','region'])"
   ]
  },
  {
   "cell_type": "code",
   "execution_count": 44,
   "metadata": {},
   "outputs": [],
   "source": [
    "import seaborn as sns"
   ]
  },
  {
   "cell_type": "code",
   "execution_count": 45,
   "metadata": {},
   "outputs": [],
   "source": [
    "def model_summary(y_test,tree_pred,title=\"Title\"):\n",
    "    sns.set(rc={'figure.figsize':(10,10)})\n",
    "    max1 = tree_pred.max()\n",
    "    max2 = y_test.max()\n",
    "    m = min(max1,max2)\n",
    "    plt.scatter(y_test,tree_pred)\n",
    "    plt.xlabel(\"test values\")\n",
    "    plt.ylabel(\"prediceted values\")\n",
    "    plt.plot([0,m],[0,m],'r--')\n",
    "    mae = mean_absolute_error(y_test, tree_pred)\n",
    "    r2 = r2_score(y_test, tree_pred)\n",
    "    rmse = mean_squared_error(y_test, tree_pred, squared=False)\n",
    "    plt.title(str(title).upper(), font={'size':16})\n",
    "    t1, t2, t3, t4 = \"Mean:\", \"RMSE:\", \"MAE:\", \"R^2:\"\n",
    "    s1, s2, s3, s4 = format(tree_pred.mean(),'.3f'), format(rmse,'.3f'), format(mae,'.3f'), format(r2,'.3f')\n",
    "    plt.annotate(f\"{t1} {s1:>10} \\n{t2} {s2:>10} \\n{t3} {s3:>11} \\n{t4} {s4:>11}\", [0,max1*.9],\n",
    "                    font={'size':13, 'family':'courier new', 'weight':'bold'},\n",
    "                    bbox={'facecolor': 'white', 'edgecolor' : 'black', 'alpha': 0.5, 'pad': 10})"
   ]
  },
  {
   "cell_type": "code",
   "execution_count": 46,
   "metadata": {},
   "outputs": [
    {
     "data": {
      "image/png": "[encoded data removed]",
      "text/plain": [
       "<Figure size 720x720 with 1 Axes>"
      ]
     },
     "metadata": {},
     "output_type": "display_data"
    }
   ],
   "source": [
    "model_summary(y_test,tree_pred,title=\"Title\")"
   ]
  }
 ],
 "metadata": {
  "interpreter": {
   "hash": "84e7ca4d3cda02558b8488111a750648cb6a4b3668a23f44e278fc8092a466ab"
  },
  "kernelspec": {
   "display_name": "Python 3.8.11 ('base')",
   "language": "python",
   "name": "python3"
  },
  "language_info": {
   "codemirror_mode": {
    "name": "ipython",
    "version": 3
   },
   "file_extension": ".py",
   "mimetype": "text/x-python",
   "name": "python",
   "nbconvert_exporter": "python",
   "pygments_lexer": "ipython3",
   "version": "3.8.11"
  },
  "orig_nbformat": 4
 },
 "nbformat": 4,
 "nbformat_minor": 2
}
