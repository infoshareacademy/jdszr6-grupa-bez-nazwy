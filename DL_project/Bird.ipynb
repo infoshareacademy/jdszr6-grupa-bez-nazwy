{
 "cells": [
  {
   "cell_type": "code",
   "execution_count": 1,
   "metadata": {},
   "outputs": [],
   "source": [
    "import glob2\n",
    "import cv2\n",
    "import os\n",
    "import numpy as np\n",
    "import matplotlib.pyplot as plt"
   ]
  },
  {
   "cell_type": "code",
   "execution_count": 2,
   "metadata": {},
   "outputs": [],
   "source": [
    "files = glob2.glob(\"train/*\")\n",
    "species = []\n",
    "for f in files:\n",
    "    species.append(f[6:]) # birds species list"
   ]
  },
  {
   "cell_type": "markdown",
   "metadata": {},
   "source": [
    "Birds information data scrap from wikipedia - to be updated"
   ]
  },
  {
   "cell_type": "code",
   "execution_count": 3,
   "metadata": {},
   "outputs": [
    {
     "name": "stdout",
     "output_type": "stream",
     "text": [
      "Couldn't find program: 'false'\n"
     ]
    }
   ],
   "source": [
    "%%script false --no-raise-error # dont execute cell\n",
    "\n",
    "from selenium import webdriver\n",
    "from selenium.webdriver.common.by import By\n",
    "from selenium.common.exceptions import NoSuchElementException\n",
    "import re\n",
    "\n",
    "webpage = r\"https://en.wikipedia.org/wiki/Main_Page\"\n",
    "\n",
    "for searchterm in species[:4]:\n",
    "\n",
    "    driver = webdriver.Chrome()\n",
    "    driver.minimize_window()\n",
    "    driver.get(webpage)\n",
    "\n",
    "    # find search-box\n",
    "    sbox = driver.find_element(By.CLASS_NAME, \"vector-search-box-input\")\n",
    "    try:\n",
    "        sbox.send_keys(searchterm) # write searching keywords in search-box\n",
    "        submit = driver.find_element(By.ID, \"searchButton\")\n",
    "        submit.click()\n",
    "\n",
    "        try: # if searchterm correction is available - use it\n",
    "            driver.find_element(By.XPATH, \"//*[@class='mw-search-result'][1]/div[1]/a\").click()\n",
    "            found = \"found with 'did you mean' correction\"\n",
    "        except NoSuchElementException:\n",
    "            found = \"found\"\n",
    "        \n",
    "        # get basic information of specie\n",
    "        basic_info = driver.find_element(By.XPATH, '//*[@id=\"mw-content-text\"]/div[1]/p[2]').text\n",
    "        # clean text\n",
    "        basic_info = re.sub('\\s?\\[.*?\\]', '', basic_info).strip()\n",
    "    \n",
    "    except NoSuchElementException:\n",
    "        found = \"NOT found\"\n",
    "\n",
    "    print(\"searching for\", searchterm, \"-\", found)\n",
    "\n",
    "    try: # look for 'description' heading\n",
    "        driver.find_element(By.ID, \"Description\")\n",
    "        description = driver.find_element(By.XPATH, '//*[@id=\"Description\"]/parent::h2/following-sibling::p').text\n",
    "        description = re.sub('\\s?\\[.*?\\]', '', description).strip()\n",
    "    except NoSuchElementException:\n",
    "        description = \"\"\n",
    "\n",
    "    driver.close()\n",
    "\n",
    "    print(\"information sample:\", basic_info[:75])\n",
    "    print(\"description sample:\", description[:75])"
   ]
  },
  {
   "cell_type": "markdown",
   "metadata": {},
   "source": [
    "Definition to create array of bird species catalogues"
   ]
  },
  {
   "cell_type": "code",
   "execution_count": 4,
   "metadata": {},
   "outputs": [],
   "source": [
    "def get_species_dataset(directory, species_count = None, img_count = None):\n",
    "                                # reduced number of species and images per specie\n",
    "    target = []\n",
    "\n",
    "    zero = glob2.glob(os.path.join(directory, species[0])+\"/*\")[0]\n",
    "    zero_img = cv2.cvtColor(cv2.imread(zero),cv2.COLOR_BGR2RGB).reshape(1,224,224,3)\n",
    "\n",
    "    for specie in species[:species_count]:\n",
    "        specie_id = species.index(specie)\n",
    "        specie_imgs = glob2.glob(os.path.join(directory, specie)+\"/*\")\n",
    "\n",
    "        for img in specie_imgs[:img_count]:\n",
    "            tmp_img = cv2.cvtColor(cv2.imread(img),cv2.COLOR_BGR2RGB).reshape(1,224,224,3)\n",
    "            \n",
    "            if specie == species[0] and img == specie_imgs[0]:\n",
    "                dataset = zero_img\n",
    "                \n",
    "            else:\n",
    "                dataset = np.concatenate((dataset, tmp_img ), axis=0)\n",
    "\n",
    "            target.append(specie_id)\n",
    "            \n",
    "    target_arr = np.array(target).reshape(-1,1)\n",
    "\n",
    "    print(\"            dataset shape:\", dataset.shape)\n",
    "    print(\"             target shape:\", target_arr.shape)\n",
    "    print(\"target classes and counts:\", dict((i, target.count(i)) for i in target))\n",
    "\n",
    "    return dataset, target_arr"
   ]
  },
  {
   "cell_type": "markdown",
   "metadata": {},
   "source": [
    "Dataset for DL training"
   ]
  },
  {
   "cell_type": "code",
   "execution_count": 5,
   "metadata": {},
   "outputs": [
    {
     "name": "stdout",
     "output_type": "stream",
     "text": [
      "            dataset shape: (808, 224, 224, 3)\n",
      "             target shape: (808, 1)\n",
      "target classes and counts: {0: 166, 1: 180, 2: 179, 3: 137, 4: 146}\n"
     ]
    }
   ],
   "source": [
    "x_train, y_train = get_species_dataset(\"train\", 5)"
   ]
  },
  {
   "cell_type": "code",
   "execution_count": 6,
   "metadata": {},
   "outputs": [
    {
     "name": "stdout",
     "output_type": "stream",
     "text": [
      "            dataset shape: (25, 224, 224, 3)\n",
      "             target shape: (25, 1)\n",
      "target classes and counts: {0: 5, 1: 5, 2: 5, 3: 5, 4: 5}\n"
     ]
    }
   ],
   "source": [
    "x_train, y_train = get_species_dataset(\"test\", 5)"
   ]
  }
 ],
 "metadata": {
  "interpreter": {
   "hash": "57bc2b6ce032b5f0e93daa91901b7ea38a856826ef43aa9e95b6d3999f5310df"
  },
  "kernelspec": {
   "display_name": "Python 3.8.8 ('base')",
   "language": "python",
   "name": "python3"
  },
  "language_info": {
   "codemirror_mode": {
    "name": "ipython",
    "version": 3
   },
   "file_extension": ".py",
   "mimetype": "text/x-python",
   "name": "python",
   "nbconvert_exporter": "python",
   "pygments_lexer": "ipython3",
   "version": "3.8.8"
  },
  "orig_nbformat": 4
 },
 "nbformat": 4,
 "nbformat_minor": 2
}
