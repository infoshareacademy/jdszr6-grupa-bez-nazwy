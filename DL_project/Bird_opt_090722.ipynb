{
 "cells": [
  {
   "cell_type": "code",
   "execution_count": 1,
   "metadata": {},
   "outputs": [],
   "source": [
    "import glob2\n",
    "import cv2\n",
    "import os\n",
    "import numpy as np\n",
    "import matplotlib.pyplot as plt"
   ]
  },
  {
   "cell_type": "code",
   "execution_count": 2,
   "metadata": {},
   "outputs": [],
   "source": [
    "files = glob2.glob(\"train/*\")\n",
    "species = []\n",
    "for f in files:\n",
    "    species.append(f[6:]) # birds species list"
   ]
  },
  {
   "cell_type": "markdown",
   "metadata": {},
   "source": [
    "Definition to create array of bird species catalogues"
   ]
  },
  {
   "cell_type": "code",
   "execution_count": 3,
   "metadata": {},
   "outputs": [],
   "source": [
    "def get_species_dataset(directory, species_count = None, img_count = None):\n",
    "                                # reduced number of species and images per specie\n",
    "    target = []\n",
    "\n",
    "    zero = glob2.glob(os.path.join(directory, species[0])+\"/*\")[0]\n",
    "    zero_img = cv2.cvtColor(cv2.imread(zero),cv2.COLOR_BGR2RGB).reshape(1,224,224,3)\n",
    "\n",
    "    for specie in species[:species_count]:\n",
    "        specie_id = species.index(specie)\n",
    "        specie_imgs = glob2.glob(os.path.join(directory, specie)+\"/*\")\n",
    "\n",
    "        for img in specie_imgs[:img_count]:\n",
    "            tmp_img = cv2.cvtColor(cv2.imread(img),cv2.COLOR_BGR2RGB).reshape(1,224,224,3)\n",
    "            \n",
    "            if specie == species[0] and img == specie_imgs[0]:\n",
    "                dataset = zero_img\n",
    "                \n",
    "            else:\n",
    "                dataset = np.concatenate((dataset, tmp_img ), axis=0)\n",
    "\n",
    "            target.append(specie_id)\n",
    "            \n",
    "    target_arr = np.array(target).reshape(-1,1)\n",
    "\n",
    "    print(\"            dataset shape:\", dataset.shape)\n",
    "    print(\"             target shape:\", target_arr.shape)\n",
    "    print(\"target classes and counts:\", dict((i, target.count(i)) for i in target))\n",
    "\n",
    "    return dataset, target_arr"
   ]
  },
  {
   "cell_type": "code",
   "execution_count": 4,
   "metadata": {},
   "outputs": [
    {
     "data": {
      "text/plain": [
       "400"
      ]
     },
     "execution_count": 4,
     "metadata": {},
     "output_type": "execute_result"
    }
   ],
   "source": [
    "len(species)"
   ]
  },
  {
   "cell_type": "markdown",
   "metadata": {},
   "source": [
    "Dataset for DL training"
   ]
  },
  {
   "cell_type": "code",
   "execution_count": 5,
   "metadata": {},
   "outputs": [
    {
     "name": "stdout",
     "output_type": "stream",
     "text": [
      "            dataset shape: (1534, 224, 224, 3)\n",
      "             target shape: (1534, 1)\n",
      "target classes and counts: {0: 166, 1: 180, 2: 179, 3: 137, 4: 146, 5: 137, 6: 130, 7: 133, 8: 161, 9: 165}\n"
     ]
    }
   ],
   "source": [
    "x_train, y_train = get_species_dataset(\"train\", 10)"
   ]
  },
  {
   "cell_type": "code",
   "execution_count": 6,
   "metadata": {},
   "outputs": [
    {
     "name": "stdout",
     "output_type": "stream",
     "text": [
      "            dataset shape: (50, 224, 224, 3)\n",
      "             target shape: (50, 1)\n",
      "target classes and counts: {0: 5, 1: 5, 2: 5, 3: 5, 4: 5, 5: 5, 6: 5, 7: 5, 8: 5, 9: 5}\n"
     ]
    }
   ],
   "source": [
    "x_test, y_test = get_species_dataset(\"test\", 10)"
   ]
  },
  {
   "cell_type": "code",
   "execution_count": 7,
   "metadata": {},
   "outputs": [],
   "source": [
    "import tensorflow as tf"
   ]
  },
  {
   "cell_type": "code",
   "execution_count": 8,
   "metadata": {},
   "outputs": [],
   "source": [
    "from tensorflow.keras import layers\n",
    "from keras.layers import Dropout\n",
    "from tensorflow.keras.optimizers import SGD \n",
    "\n",
    "def create_cnn_model(inShape, convNum, hNum,hAct, outNum, loss, seed, lr):\n",
    "    \"\"\"\n",
    "    :param inShape: kształt wejścia, h*w*c\n",
    "    :param convNum: lista ilości featerów w warstwach konwolucyjnych\n",
    "    :param hNum: lista ilości neuronów w poszczególnych warstwach ukrytych\n",
    "    :param hAct: rodzaj aktywacji w warstwach ukrytych, str\n",
    "    :param outNum: ilość\n",
    "    :param loss: funkcja kosztu\n",
    "    \"\"\"\n",
    "\n",
    "    \n",
    "    # pusty model\n",
    "    model = tf.keras.Sequential()\n",
    "    # warstwa wejściowa\n",
    "    model.add(layers.InputLayer(input_shape=(inShape)))\n",
    "    # warstwy konwolucyjne\n",
    "    for idx, oneConvNum in enumerate(convNum):\n",
    "        # dodajemy kolejną warstwę konwolucyjną\n",
    "        # zmienia nam ilość cech(kanałów) na oneConvNum\n",
    "        model.add(layers.Conv2D(\n",
    "                                    filters=oneConvNum,\n",
    "                                    kernel_size=4,\n",
    "                                    strides=2,\n",
    "                                    padding=\"SAME\",\n",
    "                                    activation=\"relu\"\n",
    "                                    )\n",
    "                                )\n",
    "        # doajemy następującego po convie maxpool'a\n",
    "        # zmniejsza nam wymiarowość HxW o połowę\n",
    "        model.add(layers.MaxPool2D(\n",
    "                                    pool_size=(2, 2),\n",
    "                                    strides=2,\n",
    "                                    padding=\"SAME\"\n",
    "                                    )\n",
    "                                )\n",
    "        # model.add(Dropout(0.2))\n",
    "    # spłaszczamy po konwolucjach, przygotowanie pod relu\n",
    "    model.add(layers.Flatten())\n",
    "    # warstwy fully connected\n",
    "    for idx, oneHidNum in enumerate(hNum):\n",
    "        # dodajemy warstwę\n",
    "        model.add(layers.Dense(oneHidNum, activation=hAct))\n",
    "        model.add(Dropout(0.6))\n",
    "      # warstwy fully connected\n",
    "    # warstwa wyjściowa\n",
    "    model.add(layers.Dense(outNum))\n",
    "    # warstwa softmax, dystrybucja prawdopodobieństwa\n",
    "    model.add(layers.Softmax())\n",
    "    print(model.summary())\n",
    "    \n",
    "    opt = tf.keras.optimizers.Adam()\n",
    "   \n",
    "    \n",
    "    model.compile(\n",
    "        optimizer=opt,\n",
    "        loss=loss,\n",
    "        metrics=[\"accuracy\"]\n",
    "    )\n",
    "    \n",
    "    return model"
   ]
  },
  {
   "cell_type": "code",
   "execution_count": 9,
   "metadata": {},
   "outputs": [
    {
     "name": "stdout",
     "output_type": "stream",
     "text": [
      "Model: \"sequential\"\n",
      "_________________________________________________________________\n",
      " Layer (type)                Output Shape              Param #   \n",
      "=================================================================\n",
      " conv2d (Conv2D)             (None, 112, 112, 32)      1568      \n",
      "                                                                 \n",
      " max_pooling2d (MaxPooling2D  (None, 56, 56, 32)       0         \n",
      " )                                                               \n",
      "                                                                 \n",
      " conv2d_1 (Conv2D)           (None, 28, 28, 64)        32832     \n",
      "                                                                 \n",
      " max_pooling2d_1 (MaxPooling  (None, 14, 14, 64)       0         \n",
      " 2D)                                                             \n",
      "                                                                 \n",
      " conv2d_2 (Conv2D)           (None, 7, 7, 128)         131200    \n",
      "                                                                 \n",
      " max_pooling2d_2 (MaxPooling  (None, 4, 4, 128)        0         \n",
      " 2D)                                                             \n",
      "                                                                 \n",
      " conv2d_3 (Conv2D)           (None, 2, 2, 256)         524544    \n",
      "                                                                 \n",
      " max_pooling2d_3 (MaxPooling  (None, 1, 1, 256)        0         \n",
      " 2D)                                                             \n",
      "                                                                 \n",
      " flatten (Flatten)           (None, 256)               0         \n",
      "                                                                 \n",
      " dense (Dense)               (None, 10)                2570      \n",
      "                                                                 \n",
      " softmax (Softmax)           (None, 10)                0         \n",
      "                                                                 \n",
      "=================================================================\n",
      "Total params: 692,714\n",
      "Trainable params: 692,714\n",
      "Non-trainable params: 0\n",
      "_________________________________________________________________\n",
      "None\n"
     ]
    }
   ],
   "source": [
    "our_cnn = create_cnn_model(\n",
    "    inShape=(224, 224, 3),\n",
    "    convNum=[32,64,128,256],\n",
    "    hNum=[],\n",
    "    hAct='relu',\n",
    "    outNum=10,\n",
    "    loss=tf.keras.losses.SparseCategoricalCrossentropy(), \n",
    "    seed = 42,\n",
    "    lr = 0.01\n",
    ")"
   ]
  },
  {
   "cell_type": "code",
   "execution_count": 10,
   "metadata": {},
   "outputs": [
    {
     "name": "stdout",
     "output_type": "stream",
     "text": [
      "Epoch 1/10\n",
      "24/24 [==============================] - 7s 271ms/step - loss: 8.7442 - accuracy: 0.1578 - val_loss: 1.7278 - val_accuracy: 0.4200\n",
      "Epoch 2/10\n",
      "24/24 [==============================] - 6s 260ms/step - loss: 1.6993 - accuracy: 0.4211 - val_loss: 1.2566 - val_accuracy: 0.6200\n",
      "Epoch 3/10\n",
      "24/24 [==============================] - 6s 264ms/step - loss: 1.1294 - accuracy: 0.6173 - val_loss: 0.9142 - val_accuracy: 0.7000\n",
      "Epoch 4/10\n",
      "24/24 [==============================] - 6s 263ms/step - loss: 0.8725 - accuracy: 0.6936 - val_loss: 0.5216 - val_accuracy: 0.8600\n",
      "Epoch 5/10\n",
      "24/24 [==============================] - 6s 271ms/step - loss: 0.5383 - accuracy: 0.8188 - val_loss: 0.5482 - val_accuracy: 0.8000\n",
      "Epoch 6/10\n",
      "24/24 [==============================] - 6s 260ms/step - loss: 0.3501 - accuracy: 0.8846 - val_loss: 0.5575 - val_accuracy: 0.8000\n",
      "Epoch 7/10\n",
      "24/24 [==============================] - 6s 268ms/step - loss: 0.2025 - accuracy: 0.9316 - val_loss: 0.3487 - val_accuracy: 0.8800\n",
      "Epoch 8/10\n",
      "24/24 [==============================] - 6s 269ms/step - loss: 0.0947 - accuracy: 0.9733 - val_loss: 0.3189 - val_accuracy: 0.9000\n",
      "Epoch 9/10\n",
      "24/24 [==============================] - 6s 264ms/step - loss: 0.0550 - accuracy: 0.9902 - val_loss: 0.2327 - val_accuracy: 0.9200\n",
      "Epoch 10/10\n",
      "24/24 [==============================] - 6s 269ms/step - loss: 0.0276 - accuracy: 0.9974 - val_loss: 0.4198 - val_accuracy: 0.8800\n"
     ]
    }
   ],
   "source": [
    "history = our_cnn.fit(\n",
    "    x=x_train,\n",
    "    y=y_train,\n",
    "    epochs=10,\n",
    "    batch_size=64,\n",
    "    validation_data=(x_test, y_test)\n",
    ")"
   ]
  },
  {
   "cell_type": "code",
   "execution_count": 12,
   "metadata": {},
   "outputs": [
    {
     "data": {
      "image/png": "[encoded data removed]",
      "text/plain": [
       "<Figure size 432x288 with 1 Axes>"
      ]
     },
     "metadata": {
      "needs_background": "light"
     },
     "output_type": "display_data"
    }
   ],
   "source": [
    "plt.plot(history.history[\"loss\"])\n",
    "plt.plot(history.history[\"val_loss\"])\n",
    "plt.legend([\"loss\", \"val_loss\"])\n",
    "plt.show()"
   ]
  },
  {
   "cell_type": "code",
   "execution_count": 13,
   "metadata": {},
   "outputs": [
    {
     "data": {
      "image/png": "[encoded data removed]",
      "text/plain": [
       "<Figure size 432x288 with 1 Axes>"
      ]
     },
     "metadata": {
      "needs_background": "light"
     },
     "output_type": "display_data"
    }
   ],
   "source": [
    "plt.plot(history.history[\"accuracy\"])\n",
    "plt.plot(history.history[\"val_accuracy\"])\n",
    "plt.legend([\"accuracy\", \"val_accuracy\"])\n",
    "plt.show()"
   ]
  },
  {
   "cell_type": "code",
   "execution_count": 18,
   "metadata": {},
   "outputs": [],
   "source": [
    "our_cnn.save_weights(\"weights/model_for_fun_AK\")"
   ]
  },
  {
   "cell_type": "code",
   "execution_count": 20,
   "metadata": {},
   "outputs": [],
   "source": [
    "# our_cnn.predict(x_test[:2])"
   ]
  },
  {
   "cell_type": "markdown",
   "metadata": {},
   "source": [
    "    inShape=(224, 224, 3),\n",
    "    convNum=[8,16,24,32,40],\n",
    "    hNum=[],\n",
    "    hAct='relu',\n",
    "    outNum=5,\n",
    "    loss=tf.keras.losses.SparseCategoricalCrossentropy()"
   ]
  },
  {
   "cell_type": "code",
   "execution_count": 16,
   "metadata": {},
   "outputs": [
    {
     "name": "stdout",
     "output_type": "stream",
     "text": [
      "Model: \"sequential_1\"\n",
      "_________________________________________________________________\n",
      " Layer (type)                Output Shape              Param #   \n",
      "=================================================================\n",
      " conv2d_4 (Conv2D)           (None, 112, 112, 32)      1568      \n",
      "                                                                 \n",
      " max_pooling2d_4 (MaxPooling  (None, 56, 56, 32)       0         \n",
      " 2D)                                                             \n",
      "                                                                 \n",
      " conv2d_5 (Conv2D)           (None, 28, 28, 64)        32832     \n",
      "                                                                 \n",
      " max_pooling2d_5 (MaxPooling  (None, 14, 14, 64)       0         \n",
      " 2D)                                                             \n",
      "                                                                 \n",
      " conv2d_6 (Conv2D)           (None, 7, 7, 128)         131200    \n",
      "                                                                 \n",
      " max_pooling2d_6 (MaxPooling  (None, 4, 4, 128)        0         \n",
      " 2D)                                                             \n",
      "                                                                 \n",
      " conv2d_7 (Conv2D)           (None, 2, 2, 256)         524544    \n",
      "                                                                 \n",
      " max_pooling2d_7 (MaxPooling  (None, 1, 1, 256)        0         \n",
      " 2D)                                                             \n",
      "                                                                 \n",
      " flatten_1 (Flatten)         (None, 256)               0         \n",
      "                                                                 \n",
      " dense_1 (Dense)             (None, 10)                2570      \n",
      "                                                                 \n",
      " softmax_1 (Softmax)         (None, 10)                0         \n",
      "                                                                 \n",
      "=================================================================\n",
      "Total params: 692,714\n",
      "Trainable params: 692,714\n",
      "Non-trainable params: 0\n",
      "_________________________________________________________________\n",
      "None\n"
     ]
    }
   ],
   "source": [
    "model_loaded = create_cnn_model(\n",
    "    inShape=(224, 224, 3),\n",
    "    convNum=[32,64,128,256],\n",
    "    hNum=[],\n",
    "    hAct='relu',\n",
    "    outNum=10,\n",
    "    loss=tf.keras.losses.SparseCategoricalCrossentropy(), \n",
    "    seed = 42,\n",
    "    lr = 0.01\n",
    ")"
   ]
  },
  {
   "cell_type": "code",
   "execution_count": 14,
   "metadata": {},
   "outputs": [],
   "source": [
    "from sklearn.metrics import classification_report, confusion_matrix"
   ]
  },
  {
   "cell_type": "code",
   "execution_count": 17,
   "metadata": {},
   "outputs": [
    {
     "name": "stdout",
     "output_type": "stream",
     "text": [
      "              precision    recall  f1-score   support\n",
      "\n",
      "           0       0.00      0.00      0.00         5\n",
      "           1       0.00      0.00      0.00         5\n",
      "           2       0.09      0.60      0.15         5\n",
      "           3       0.00      0.00      0.00         5\n",
      "           4       0.00      0.00      0.00         5\n",
      "           5       0.00      0.00      0.00         5\n",
      "           6       0.00      0.00      0.00         5\n",
      "           7       0.00      0.00      0.00         5\n",
      "           8       0.00      0.00      0.00         5\n",
      "           9       0.50      0.40      0.44         5\n",
      "\n",
      "    accuracy                           0.10        50\n",
      "   macro avg       0.06      0.10      0.06        50\n",
      "weighted avg       0.06      0.10      0.06        50\n",
      "\n"
     ]
    },
    {
     "name": "stderr",
     "output_type": "stream",
     "text": [
      "C:\\Users\\andrz\\Anaconda3\\lib\\site-packages\\sklearn\\metrics\\_classification.py:1327: UndefinedMetricWarning: Precision and F-score are ill-defined and being set to 0.0 in labels with no predicted samples. Use `zero_division` parameter to control this behavior.\n",
      "  _warn_prf(average, modifier, msg_start, len(result))\n",
      "C:\\Users\\andrz\\Anaconda3\\lib\\site-packages\\sklearn\\metrics\\_classification.py:1327: UndefinedMetricWarning: Precision and F-score are ill-defined and being set to 0.0 in labels with no predicted samples. Use `zero_division` parameter to control this behavior.\n",
      "  _warn_prf(average, modifier, msg_start, len(result))\n",
      "C:\\Users\\andrz\\Anaconda3\\lib\\site-packages\\sklearn\\metrics\\_classification.py:1327: UndefinedMetricWarning: Precision and F-score are ill-defined and being set to 0.0 in labels with no predicted samples. Use `zero_division` parameter to control this behavior.\n",
      "  _warn_prf(average, modifier, msg_start, len(result))\n"
     ]
    }
   ],
   "source": [
    "y_pred = model_loaded.predict(x_test)\n",
    "print(classification_report(y_test, y_pred.argmax(axis=1)))"
   ]
  },
  {
   "cell_type": "code",
   "execution_count": 19,
   "metadata": {},
   "outputs": [
    {
     "name": "stdout",
     "output_type": "stream",
     "text": [
      "[[0 0 4 1 0 0 0 0 0 0]\n",
      " [0 0 4 1 0 0 0 0 0 0]\n",
      " [0 0 3 1 0 0 0 1 0 0]\n",
      " [0 0 5 0 0 0 0 0 0 0]\n",
      " [0 0 3 0 0 0 0 2 0 0]\n",
      " [0 0 3 0 0 0 0 0 0 2]\n",
      " [0 0 4 1 0 0 0 0 0 0]\n",
      " [0 0 3 2 0 0 0 0 0 0]\n",
      " [0 0 3 2 0 0 0 0 0 0]\n",
      " [0 0 2 0 0 0 0 1 0 2]]\n"
     ]
    }
   ],
   "source": [
    "y_pred = model_loaded.predict(x_test)\n",
    "print(confusion_matrix(y_test, y_pred.argmax(axis=1)))"
   ]
  },
  {
   "cell_type": "code",
   "execution_count": 20,
   "metadata": {},
   "outputs": [
    {
     "data": {
      "text/plain": [
       "<tensorflow.python.training.tracking.util.CheckpointLoadStatus at 0x2279c2bf070>"
      ]
     },
     "execution_count": 20,
     "metadata": {},
     "output_type": "execute_result"
    }
   ],
   "source": [
    "model_loaded.load_weights(\"weights/model_for_fun_AK\")"
   ]
  },
  {
   "cell_type": "code",
   "execution_count": 21,
   "metadata": {},
   "outputs": [
    {
     "name": "stdout",
     "output_type": "stream",
     "text": [
      "              precision    recall  f1-score   support\n",
      "\n",
      "           0       1.00      1.00      1.00         5\n",
      "           1       1.00      0.60      0.75         5\n",
      "           2       0.50      0.80      0.62         5\n",
      "           3       1.00      0.60      0.75         5\n",
      "           4       1.00      0.80      0.89         5\n",
      "           5       0.83      1.00      0.91         5\n",
      "           6       0.83      1.00      0.91         5\n",
      "           7       1.00      1.00      1.00         5\n",
      "           8       1.00      1.00      1.00         5\n",
      "           9       1.00      1.00      1.00         5\n",
      "\n",
      "    accuracy                           0.88        50\n",
      "   macro avg       0.92      0.88      0.88        50\n",
      "weighted avg       0.92      0.88      0.88        50\n",
      "\n"
     ]
    }
   ],
   "source": [
    "y_pred = our_cnn.predict(x_test)\n",
    "print(classification_report(y_test, y_pred.argmax(axis=1)))"
   ]
  },
  {
   "cell_type": "code",
   "execution_count": null,
   "metadata": {},
   "outputs": [],
   "source": [
    "model_loaded.predict(x_test[:2])"
   ]
  },
  {
   "cell_type": "code",
   "execution_count": null,
   "metadata": {},
   "outputs": [],
   "source": [
    "our_cnn.save(\"model/simple.h5\")"
   ]
  },
  {
   "cell_type": "code",
   "execution_count": null,
   "metadata": {},
   "outputs": [],
   "source": [
    "model_loaded_h5 = tf.keras.models.load_model(\"model/simple.h5\")"
   ]
  },
  {
   "cell_type": "code",
   "execution_count": null,
   "metadata": {},
   "outputs": [],
   "source": [
    "y_pred = model_loaded_h5.predict(x_test)\n",
    "print(classification_report(y_test, y_pred.argmax(axis=1)))"
   ]
  },
  {
   "cell_type": "code",
   "execution_count": null,
   "metadata": {},
   "outputs": [],
   "source": [
    "model_loaded_h5.predict(x_test[:2])"
   ]
  }
 ],
 "metadata": {
  "kernelspec": {
   "display_name": "Python 3 (ipykernel)",
   "language": "python",
   "name": "python3"
  },
  "language_info": {
   "codemirror_mode": {
    "name": "ipython",
    "version": 3
   },
   "file_extension": ".py",
   "mimetype": "text/x-python",
   "name": "python",
   "nbconvert_exporter": "python",
   "pygments_lexer": "ipython3",
   "version": "3.9.7"
  },
  "vscode": {
   "interpreter": {
    "hash": "5be42bdc0f3942fe006c6eed7ae26cb7bae447fc8643a580b87df87dd2180d23"
   }
  }
 },
 "nbformat": 4,
 "nbformat_minor": 2
}
