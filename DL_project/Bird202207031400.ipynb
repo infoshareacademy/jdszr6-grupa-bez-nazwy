{
 "cells": [
  {
   "cell_type": "code",
   "execution_count": 1,
   "metadata": {},
   "outputs": [],
   "source": [
    "import glob2\n",
    "import cv2\n",
    "import os\n",
    "import numpy as np\n",
    "import matplotlib.pyplot as plt"
   ]
  },
  {
   "cell_type": "code",
   "execution_count": 2,
   "metadata": {},
   "outputs": [],
   "source": [
    "files = glob2.glob(\"train/*\")\n",
    "species = []\n",
    "for f in files:\n",
    "    species.append(f[6:]) # birds species list"
   ]
  },
  {
   "cell_type": "markdown",
   "metadata": {},
   "source": [
    "Birds information data scrap from wikipedia - to be updated"
   ]
  },
  {
   "cell_type": "code",
   "execution_count": 3,
   "metadata": {},
   "outputs": [],
   "source": [
    "# # %%script false --no-raise-error # dont execute cell\n",
    "\n",
    "# from selenium import webdriver\n",
    "# from selenium.webdriver.common.by import By\n",
    "# from selenium.common.exceptions import NoSuchElementException\n",
    "# import re\n",
    "\n",
    "# webpage = r\"https://en.wikipedia.org/wiki/Main_Page\"\n",
    "\n",
    "# for searchterm in species[:4]:\n",
    "\n",
    "#     driver = webdriver.Chrome()\n",
    "#     driver.minimize_window()\n",
    "#     driver.get(webpage)\n",
    "\n",
    "#     # find search-box\n",
    "#     sbox = driver.find_element(By.CLASS_NAME, \"vector-search-box-input\")\n",
    "#     try:\n",
    "#         sbox.send_keys(searchterm) # write searching keywords in search-box\n",
    "#         submit = driver.find_element(By.ID, \"searchButton\")\n",
    "#         submit.click()\n",
    "\n",
    "#         try: # if searchterm correction is available - use it\n",
    "#             driver.find_element(By.XPATH, \"//*[@class='mw-search-result'][1]/div[1]/a\").click()\n",
    "#             found = \"found with 'did you mean' correction\"\n",
    "#         except NoSuchElementException:\n",
    "#             found = \"found\"\n",
    "        \n",
    "#         # get basic information of specie\n",
    "#         basic_info = driver.find_element(By.XPATH, '//*[@id=\"mw-content-text\"]/div[1]/p[2]').text\n",
    "#         # clean text\n",
    "#         basic_info = re.sub('\\s?\\[.*?\\]', '', basic_info).strip()\n",
    "    \n",
    "#     except NoSuchElementException:\n",
    "#         found = \"NOT found\"\n",
    "\n",
    "#     print(\"searching for\", searchterm, \"-\", found)\n",
    "\n",
    "#     try: # look for 'description' heading\n",
    "#         driver.find_element(By.ID, \"Description\")\n",
    "#         description = driver.find_element(By.XPATH, '//*[@id=\"Description\"]/parent::h2/following-sibling::p').text\n",
    "#         description = re.sub('\\s?\\[.*?\\]', '', description).strip()\n",
    "#     except NoSuchElementException:\n",
    "#         description = \"\"\n",
    "\n",
    "#     driver.close()\n",
    "\n",
    "#     print(\"information sample:\", basic_info[:75])\n",
    "#     print(\"description sample:\", description[:75])"
   ]
  },
  {
   "cell_type": "markdown",
   "metadata": {},
   "source": [
    "Definition to create array of bird species catalogues"
   ]
  },
  {
   "cell_type": "code",
   "execution_count": 4,
   "metadata": {},
   "outputs": [],
   "source": [
    "def get_species_dataset(directory, species_count = None, img_count = None):\n",
    "                                # reduced number of species and images per specie\n",
    "    target = []\n",
    "\n",
    "    zero = glob2.glob(os.path.join(directory, species[0])+\"/*\")[0]\n",
    "    zero_img = cv2.cvtColor(cv2.imread(zero),cv2.COLOR_BGR2RGB).reshape(1,224,224,3)\n",
    "\n",
    "    for specie in species[:species_count]:\n",
    "        specie_id = species.index(specie)\n",
    "        specie_imgs = glob2.glob(os.path.join(directory, specie)+\"/*\")\n",
    "\n",
    "        for img in specie_imgs[:img_count]:\n",
    "            tmp_img = cv2.cvtColor(cv2.imread(img),cv2.COLOR_BGR2RGB).reshape(1,224,224,3)\n",
    "            \n",
    "            if specie == species[0] and img == specie_imgs[0]:\n",
    "                dataset = zero_img\n",
    "                \n",
    "            else:\n",
    "                dataset = np.concatenate((dataset, tmp_img ), axis=0)\n",
    "\n",
    "            target.append(specie_id)\n",
    "            \n",
    "    target_arr = np.array(target).reshape(-1,1)\n",
    "\n",
    "    print(\"            dataset shape:\", dataset.shape)\n",
    "    print(\"             target shape:\", target_arr.shape)\n",
    "    print(\"target classes and counts:\", dict((i, target.count(i)) for i in target))\n",
    "\n",
    "    return dataset, target_arr"
   ]
  },
  {
   "cell_type": "markdown",
   "metadata": {},
   "source": [
    "Dataset for DL training"
   ]
  },
  {
   "cell_type": "code",
   "execution_count": 5,
   "metadata": {},
   "outputs": [
    {
     "name": "stdout",
     "output_type": "stream",
     "text": [
      "            dataset shape: (808, 224, 224, 3)\n",
      "             target shape: (808, 1)\n",
      "target classes and counts: {0: 166, 1: 180, 2: 179, 3: 137, 4: 146}\n"
     ]
    }
   ],
   "source": [
    "x_train, y_train = get_species_dataset(\"train\", 5)"
   ]
  },
  {
   "cell_type": "code",
   "execution_count": null,
   "metadata": {},
   "outputs": [],
   "source": []
  },
  {
   "cell_type": "code",
   "execution_count": 6,
   "metadata": {},
   "outputs": [
    {
     "name": "stdout",
     "output_type": "stream",
     "text": [
      "            dataset shape: (25, 224, 224, 3)\n",
      "             target shape: (25, 1)\n",
      "target classes and counts: {0: 5, 1: 5, 2: 5, 3: 5, 4: 5}\n"
     ]
    }
   ],
   "source": [
    "x_test, y_test = get_species_dataset(\"test\", 5)"
   ]
  },
  {
   "cell_type": "code",
   "execution_count": 31,
   "metadata": {},
   "outputs": [
    {
     "data": {
      "text/plain": [
       "array([[0],\n",
       "       [0],\n",
       "       [0],\n",
       "       [0],\n",
       "       [0],\n",
       "       [1],\n",
       "       [1],\n",
       "       [1],\n",
       "       [1],\n",
       "       [1],\n",
       "       [2],\n",
       "       [2],\n",
       "       [2],\n",
       "       [2],\n",
       "       [2],\n",
       "       [3],\n",
       "       [3],\n",
       "       [3],\n",
       "       [3],\n",
       "       [3],\n",
       "       [4],\n",
       "       [4],\n",
       "       [4],\n",
       "       [4],\n",
       "       [4]])"
      ]
     },
     "execution_count": 31,
     "metadata": {},
     "output_type": "execute_result"
    }
   ],
   "source": [
    "y_test"
   ]
  },
  {
   "cell_type": "code",
   "execution_count": 7,
   "metadata": {},
   "outputs": [],
   "source": [
    "import tensorflow as tf"
   ]
  },
  {
   "cell_type": "code",
   "execution_count": 8,
   "metadata": {},
   "outputs": [],
   "source": [
    "from tensorflow.keras import layers\n",
    "\n",
    "def create_cnn_model(inShape, convNum, hNum, hAct, outNum, loss):\n",
    "    \"\"\"\n",
    "    :param inShape: kształt wejścia, h*w*c\n",
    "    :param convNum: lista ilości featerów w warstwach konwolucyjnych\n",
    "    :param hNum: lista ilości neuronów w poszczególnych warstwach ukrytych\n",
    "    :param hAct: rodzaj aktywacji w warstwach ukrytych, str\n",
    "    :param outNum: ilość\n",
    "    :param loss: funkcja kosztu\n",
    "    \"\"\"\n",
    "    # pusty model\n",
    "    model = tf.keras.Sequential()\n",
    "    # warstwa wejściowa\n",
    "    model.add(layers.InputLayer(input_shape=(inShape)))\n",
    "    # warstwy konwolucyjne\n",
    "    for idx, oneConvNum in enumerate(convNum):\n",
    "        # dodajemy kolejną warstwę konwolucyjną\n",
    "        # zmienia nam ilość cech(kanałów) na oneConvNum\n",
    "        model.add(layers.Conv2D(\n",
    "                                    filters=oneConvNum,\n",
    "                                    kernel_size=3,\n",
    "                                    strides=1,\n",
    "                                    padding=\"SAME\",\n",
    "                                    activation=\"relu\"\n",
    "                                    )\n",
    "                                )\n",
    "        # doajemy następującego po convie maxpool'a\n",
    "        # zmniejsza nam wymiarowość HxW o połowę\n",
    "        model.add(layers.MaxPool2D(\n",
    "                                    pool_size=(2, 2),\n",
    "                                    strides=2,\n",
    "                                    padding=\"SAME\"\n",
    "                                    )\n",
    "                                )\n",
    "    # spłaszczamy po konwolucjach, przygotowanie pod relu\n",
    "    model.add(layers.Flatten())\n",
    "    # warstwy fully connected\n",
    "    for idx, oneHidNum in enumerate(hNum):\n",
    "        # dodajemy warstwę\n",
    "        model.add(layers.Dense(oneHidNum, activation=hAct))\n",
    "    # warstwa wyjściowa\n",
    "    model.add(layers.Dense(outNum))\n",
    "    # warstwa softmax, dystrybucja prawdopodobieństwa\n",
    "    model.add(layers.Softmax())\n",
    "    print(model.summary())\n",
    "    \n",
    "    opt = tf.keras.optimizers.Adam()\n",
    "    \n",
    "    model.compile(\n",
    "        optimizer=opt,\n",
    "        loss=loss,\n",
    "        metrics=[\"accuracy\"]\n",
    "    )\n",
    "    \n",
    "    return model"
   ]
  },
  {
   "cell_type": "code",
   "execution_count": 9,
   "metadata": {},
   "outputs": [
    {
     "name": "stdout",
     "output_type": "stream",
     "text": [
      "Model: \"sequential\"\n",
      "_________________________________________________________________\n",
      " Layer (type)                Output Shape              Param #   \n",
      "=================================================================\n",
      " conv2d (Conv2D)             (None, 224, 224, 8)       224       \n",
      "                                                                 \n",
      " max_pooling2d (MaxPooling2D  (None, 112, 112, 8)      0         \n",
      " )                                                               \n",
      "                                                                 \n",
      " conv2d_1 (Conv2D)           (None, 112, 112, 16)      1168      \n",
      "                                                                 \n",
      " max_pooling2d_1 (MaxPooling  (None, 56, 56, 16)       0         \n",
      " 2D)                                                             \n",
      "                                                                 \n",
      " conv2d_2 (Conv2D)           (None, 56, 56, 24)        3480      \n",
      "                                                                 \n",
      " max_pooling2d_2 (MaxPooling  (None, 28, 28, 24)       0         \n",
      " 2D)                                                             \n",
      "                                                                 \n",
      " conv2d_3 (Conv2D)           (None, 28, 28, 32)        6944      \n",
      "                                                                 \n",
      " max_pooling2d_3 (MaxPooling  (None, 14, 14, 32)       0         \n",
      " 2D)                                                             \n",
      "                                                                 \n",
      " conv2d_4 (Conv2D)           (None, 14, 14, 40)        11560     \n",
      "                                                                 \n",
      " max_pooling2d_4 (MaxPooling  (None, 7, 7, 40)         0         \n",
      " 2D)                                                             \n",
      "                                                                 \n",
      " flatten (Flatten)           (None, 1960)              0         \n",
      "                                                                 \n",
      " dense (Dense)               (None, 5)                 9805      \n",
      "                                                                 \n",
      " softmax (Softmax)           (None, 5)                 0         \n",
      "                                                                 \n",
      "=================================================================\n",
      "Total params: 33,181\n",
      "Trainable params: 33,181\n",
      "Non-trainable params: 0\n",
      "_________________________________________________________________\n",
      "None\n"
     ]
    }
   ],
   "source": [
    "our_cnn = create_cnn_model(\n",
    "    inShape=(224, 224, 3),\n",
    "    convNum=[8,16,24,32,40],\n",
    "    hNum=[],\n",
    "    hAct='relu',\n",
    "    outNum=5,\n",
    "    loss=tf.keras.losses.SparseCategoricalCrossentropy()\n",
    ")"
   ]
  },
  {
   "cell_type": "code",
   "execution_count": 10,
   "metadata": {},
   "outputs": [
    {
     "name": "stdout",
     "output_type": "stream",
     "text": [
      "Epoch 1/30\n",
      "7/7 [==============================] - 15s 2s/step - loss: 19.5792 - accuracy: 0.2030 - val_loss: 6.3783 - val_accuracy: 0.1600\n",
      "Epoch 2/30\n",
      "7/7 [==============================] - 14s 2s/step - loss: 3.6942 - accuracy: 0.2438 - val_loss: 2.0533 - val_accuracy: 0.1200\n",
      "Epoch 3/30\n",
      "7/7 [==============================] - 13s 2s/step - loss: 1.7808 - accuracy: 0.2599 - val_loss: 1.5866 - val_accuracy: 0.3200\n",
      "Epoch 4/30\n",
      "7/7 [==============================] - 12s 2s/step - loss: 1.5428 - accuracy: 0.3156 - val_loss: 1.4177 - val_accuracy: 0.3200\n",
      "Epoch 5/30\n",
      "7/7 [==============================] - 11s 2s/step - loss: 1.3973 - accuracy: 0.4084 - val_loss: 1.3918 - val_accuracy: 0.4800\n",
      "Epoch 6/30\n",
      "7/7 [==============================] - 12s 2s/step - loss: 1.2691 - accuracy: 0.5037 - val_loss: 1.3031 - val_accuracy: 0.5200\n",
      "Epoch 7/30\n",
      "7/7 [==============================] - 11s 2s/step - loss: 1.1504 - accuracy: 0.5594 - val_loss: 1.1677 - val_accuracy: 0.5200\n",
      "Epoch 8/30\n",
      "7/7 [==============================] - 12s 2s/step - loss: 1.0182 - accuracy: 0.6275 - val_loss: 1.1141 - val_accuracy: 0.7200\n",
      "Epoch 9/30\n",
      "7/7 [==============================] - 12s 2s/step - loss: 0.8521 - accuracy: 0.7005 - val_loss: 0.8776 - val_accuracy: 0.6800\n",
      "Epoch 10/30\n",
      "7/7 [==============================] - 12s 2s/step - loss: 0.7250 - accuracy: 0.7327 - val_loss: 0.7611 - val_accuracy: 0.7200\n",
      "Epoch 11/30\n",
      "7/7 [==============================] - 12s 2s/step - loss: 0.6067 - accuracy: 0.7723 - val_loss: 0.8630 - val_accuracy: 0.7200\n",
      "Epoch 12/30\n",
      "7/7 [==============================] - 11s 2s/step - loss: 0.5125 - accuracy: 0.8243 - val_loss: 0.6900 - val_accuracy: 0.8000\n",
      "Epoch 13/30\n",
      "7/7 [==============================] - 11s 2s/step - loss: 0.4115 - accuracy: 0.8676 - val_loss: 0.6543 - val_accuracy: 0.8000\n",
      "Epoch 14/30\n",
      "7/7 [==============================] - 11s 2s/step - loss: 0.3370 - accuracy: 0.8948 - val_loss: 0.6723 - val_accuracy: 0.8400\n",
      "Epoch 15/30\n",
      "7/7 [==============================] - 11s 2s/step - loss: 0.2752 - accuracy: 0.9183 - val_loss: 0.5481 - val_accuracy: 0.8400\n",
      "Epoch 16/30\n",
      "7/7 [==============================] - 11s 2s/step - loss: 0.2331 - accuracy: 0.9418 - val_loss: 0.6142 - val_accuracy: 0.8400\n",
      "Epoch 17/30\n",
      "7/7 [==============================] - 11s 2s/step - loss: 0.1945 - accuracy: 0.9542 - val_loss: 0.5260 - val_accuracy: 0.8400\n",
      "Epoch 18/30\n",
      "7/7 [==============================] - 11s 2s/step - loss: 0.1574 - accuracy: 0.9666 - val_loss: 0.5979 - val_accuracy: 0.8400\n",
      "Epoch 19/30\n",
      "7/7 [==============================] - 11s 2s/step - loss: 0.1482 - accuracy: 0.9752 - val_loss: 0.6233 - val_accuracy: 0.8400\n",
      "Epoch 20/30\n",
      "7/7 [==============================] - 11s 2s/step - loss: 0.1070 - accuracy: 0.9889 - val_loss: 0.4362 - val_accuracy: 0.8000\n",
      "Epoch 21/30\n",
      "7/7 [==============================] - 11s 2s/step - loss: 0.0902 - accuracy: 0.9876 - val_loss: 0.4383 - val_accuracy: 0.8800\n",
      "Epoch 22/30\n",
      "7/7 [==============================] - 11s 2s/step - loss: 0.0804 - accuracy: 0.9864 - val_loss: 0.5704 - val_accuracy: 0.8400\n",
      "Epoch 23/30\n",
      "7/7 [==============================] - 11s 2s/step - loss: 0.0695 - accuracy: 0.9901 - val_loss: 0.3740 - val_accuracy: 0.8400\n",
      "Epoch 24/30\n",
      "7/7 [==============================] - 12s 2s/step - loss: 0.0555 - accuracy: 0.9913 - val_loss: 0.4905 - val_accuracy: 0.8400\n",
      "Epoch 25/30\n",
      "7/7 [==============================] - 11s 2s/step - loss: 0.0452 - accuracy: 0.9938 - val_loss: 0.4004 - val_accuracy: 0.8400\n",
      "Epoch 26/30\n",
      "7/7 [==============================] - 11s 2s/step - loss: 0.0371 - accuracy: 0.9950 - val_loss: 0.3573 - val_accuracy: 0.9200\n",
      "Epoch 27/30\n",
      "7/7 [==============================] - 11s 2s/step - loss: 0.0311 - accuracy: 0.9963 - val_loss: 0.3430 - val_accuracy: 0.8800\n",
      "Epoch 28/30\n",
      "7/7 [==============================] - 11s 2s/step - loss: 0.0264 - accuracy: 0.9988 - val_loss: 0.5204 - val_accuracy: 0.8400\n",
      "Epoch 29/30\n",
      "7/7 [==============================] - 11s 2s/step - loss: 0.0258 - accuracy: 0.9950 - val_loss: 0.4253 - val_accuracy: 0.8400\n",
      "Epoch 30/30\n",
      "7/7 [==============================] - 11s 2s/step - loss: 0.0200 - accuracy: 0.9988 - val_loss: 0.3645 - val_accuracy: 0.8800\n"
     ]
    }
   ],
   "source": [
    "history = our_cnn.fit(\n",
    "    x=x_train,\n",
    "    y=y_train,\n",
    "    epochs=30,\n",
    "    batch_size=128,\n",
    "    validation_data=(x_test, y_test)\n",
    ")"
   ]
  },
  {
   "cell_type": "code",
   "execution_count": 11,
   "metadata": {},
   "outputs": [
    {
     "data": {
      "image/png": "[encoded data removed]",
      "text/plain": [
       "<Figure size 432x288 with 1 Axes>"
      ]
     },
     "metadata": {
      "needs_background": "light"
     },
     "output_type": "display_data"
    }
   ],
   "source": [
    "plt.plot(history.history[\"loss\"])\n",
    "plt.plot(history.history[\"val_loss\"])\n",
    "plt.legend([\"loss\", \"val_loss\"])\n",
    "plt.show()"
   ]
  },
  {
   "cell_type": "code",
   "execution_count": 12,
   "metadata": {},
   "outputs": [
    {
     "data": {
      "text/plain": [
       "dict_keys(['loss', 'accuracy', 'val_loss', 'val_accuracy'])"
      ]
     },
     "execution_count": 12,
     "metadata": {},
     "output_type": "execute_result"
    }
   ],
   "source": [
    "history.history.keys()"
   ]
  },
  {
   "cell_type": "code",
   "execution_count": 13,
   "metadata": {},
   "outputs": [
    {
     "data": {
      "image/png": "[encoded data removed]",
      "text/plain": [
       "<Figure size 432x288 with 1 Axes>"
      ]
     },
     "metadata": {
      "needs_background": "light"
     },
     "output_type": "display_data"
    }
   ],
   "source": [
    "plt.plot(history.history[\"accuracy\"])\n",
    "plt.plot(history.history[\"val_accuracy\"])\n",
    "plt.legend([\"accuracy\", \"val_accuracy\"])\n",
    "plt.show()"
   ]
  },
  {
   "cell_type": "code",
   "execution_count": 14,
   "metadata": {},
   "outputs": [],
   "source": [
    "our_cnn.save_weights(\"weights/model_for_fun\")"
   ]
  },
  {
   "cell_type": "code",
   "execution_count": 15,
   "metadata": {},
   "outputs": [
    {
     "data": {
      "text/plain": [
       "array([[6.7779160e-01, 7.8586889e-03, 1.5162300e-01, 2.8803846e-04,\n",
       "        1.6243868e-01],\n",
       "       [6.7423600e-01, 3.2408190e-01, 7.0264134e-05, 1.6118500e-03,\n",
       "        2.6033119e-08]], dtype=float32)"
      ]
     },
     "execution_count": 15,
     "metadata": {},
     "output_type": "execute_result"
    }
   ],
   "source": [
    "our_cnn.predict(x_test[:2])"
   ]
  },
  {
   "cell_type": "markdown",
   "metadata": {},
   "source": [
    "    inShape=(224, 224, 3),\n",
    "    convNum=[8,16,24,32,40],\n",
    "    hNum=[],\n",
    "    hAct='relu',\n",
    "    outNum=5,\n",
    "    loss=tf.keras.losses.SparseCategoricalCrossentropy()"
   ]
  },
  {
   "cell_type": "code",
   "execution_count": 16,
   "metadata": {},
   "outputs": [
    {
     "name": "stdout",
     "output_type": "stream",
     "text": [
      "Model: \"sequential_1\"\n",
      "_________________________________________________________________\n",
      " Layer (type)                Output Shape              Param #   \n",
      "=================================================================\n",
      " conv2d_5 (Conv2D)           (None, 224, 224, 8)       224       \n",
      "                                                                 \n",
      " max_pooling2d_5 (MaxPooling  (None, 112, 112, 8)      0         \n",
      " 2D)                                                             \n",
      "                                                                 \n",
      " conv2d_6 (Conv2D)           (None, 112, 112, 16)      1168      \n",
      "                                                                 \n",
      " max_pooling2d_6 (MaxPooling  (None, 56, 56, 16)       0         \n",
      " 2D)                                                             \n",
      "                                                                 \n",
      " conv2d_7 (Conv2D)           (None, 56, 56, 24)        3480      \n",
      "                                                                 \n",
      " max_pooling2d_7 (MaxPooling  (None, 28, 28, 24)       0         \n",
      " 2D)                                                             \n",
      "                                                                 \n",
      " conv2d_8 (Conv2D)           (None, 28, 28, 32)        6944      \n",
      "                                                                 \n",
      " max_pooling2d_8 (MaxPooling  (None, 14, 14, 32)       0         \n",
      " 2D)                                                             \n",
      "                                                                 \n",
      " conv2d_9 (Conv2D)           (None, 14, 14, 40)        11560     \n",
      "                                                                 \n",
      " max_pooling2d_9 (MaxPooling  (None, 7, 7, 40)         0         \n",
      " 2D)                                                             \n",
      "                                                                 \n",
      " flatten_1 (Flatten)         (None, 1960)              0         \n",
      "                                                                 \n",
      " dense_1 (Dense)             (None, 5)                 9805      \n",
      "                                                                 \n",
      " softmax_1 (Softmax)         (None, 5)                 0         \n",
      "                                                                 \n",
      "=================================================================\n",
      "Total params: 33,181\n",
      "Trainable params: 33,181\n",
      "Non-trainable params: 0\n",
      "_________________________________________________________________\n",
      "None\n"
     ]
    }
   ],
   "source": [
    "model_loaded = create_cnn_model(\n",
    "        inShape=(224, 224, 3),\n",
    "    convNum=[8,16,24,32,40],\n",
    "    hNum=[],\n",
    "    hAct='relu',\n",
    "    outNum=5,\n",
    "    loss=tf.keras.losses.SparseCategoricalCrossentropy()\n",
    ")"
   ]
  },
  {
   "cell_type": "code",
   "execution_count": 29,
   "metadata": {},
   "outputs": [],
   "source": [
    "from sklearn.metrics import classification_report, confusion_matrix"
   ]
  },
  {
   "cell_type": "code",
   "execution_count": 40,
   "metadata": {},
   "outputs": [
    {
     "name": "stdout",
     "output_type": "stream",
     "text": [
      "              precision    recall  f1-score   support\n",
      "\n",
      "           0       0.80      0.80      0.80         5\n",
      "           1       1.00      0.80      0.89         5\n",
      "           2       0.83      1.00      0.91         5\n",
      "           3       1.00      0.80      0.89         5\n",
      "           4       0.83      1.00      0.91         5\n",
      "\n",
      "    accuracy                           0.88        25\n",
      "   macro avg       0.89      0.88      0.88        25\n",
      "weighted avg       0.89      0.88      0.88        25\n",
      "\n"
     ]
    }
   ],
   "source": [
    "y_pred = model_loaded.predict(x_test)\n",
    "print(classification_report(y_test, y_pred.argmax(axis=1)))"
   ]
  },
  {
   "cell_type": "code",
   "execution_count": 41,
   "metadata": {},
   "outputs": [
    {
     "name": "stdout",
     "output_type": "stream",
     "text": [
      "[[4 0 0 0 1]\n",
      " [1 4 0 0 0]\n",
      " [0 0 5 0 0]\n",
      " [0 0 1 4 0]\n",
      " [0 0 0 0 5]]\n"
     ]
    }
   ],
   "source": [
    "y_pred = model_loaded.predict(x_test)\n",
    "print(confusion_matrix(y_test, y_pred.argmax(axis=1)))"
   ]
  },
  {
   "cell_type": "code",
   "execution_count": 19,
   "metadata": {},
   "outputs": [
    {
     "data": {
      "text/plain": [
       "<tensorflow.python.training.tracking.util.CheckpointLoadStatus at 0x24abdc01700>"
      ]
     },
     "execution_count": 19,
     "metadata": {},
     "output_type": "execute_result"
    }
   ],
   "source": [
    "model_loaded.load_weights(\"weights/model_for_fun\")"
   ]
  },
  {
   "cell_type": "code",
   "execution_count": 33,
   "metadata": {},
   "outputs": [
    {
     "name": "stdout",
     "output_type": "stream",
     "text": [
      "              precision    recall  f1-score   support\n",
      "\n",
      "           0       1.00      0.20      0.33        25\n",
      "           1       0.00      0.00      0.00         0\n",
      "           2       0.00      0.00      0.00         0\n",
      "           3       0.00      0.00      0.00         0\n",
      "           4       0.00      0.00      0.00         0\n",
      "\n",
      "    accuracy                           0.20        25\n",
      "   macro avg       0.20      0.04      0.07        25\n",
      "weighted avg       1.00      0.20      0.33        25\n",
      "\n"
     ]
    },
    {
     "name": "stderr",
     "output_type": "stream",
     "text": [
      "c:\\Users\\AMD\\anaconda3\\lib\\site-packages\\sklearn\\metrics\\_classification.py:1318: UndefinedMetricWarning: Recall and F-score are ill-defined and being set to 0.0 in labels with no true samples. Use `zero_division` parameter to control this behavior.\n",
      "  _warn_prf(average, modifier, msg_start, len(result))\n",
      "c:\\Users\\AMD\\anaconda3\\lib\\site-packages\\sklearn\\metrics\\_classification.py:1318: UndefinedMetricWarning: Recall and F-score are ill-defined and being set to 0.0 in labels with no true samples. Use `zero_division` parameter to control this behavior.\n",
      "  _warn_prf(average, modifier, msg_start, len(result))\n",
      "c:\\Users\\AMD\\anaconda3\\lib\\site-packages\\sklearn\\metrics\\_classification.py:1318: UndefinedMetricWarning: Recall and F-score are ill-defined and being set to 0.0 in labels with no true samples. Use `zero_division` parameter to control this behavior.\n",
      "  _warn_prf(average, modifier, msg_start, len(result))\n"
     ]
    }
   ],
   "source": [
    "y_pred = our_cnn.predict(x_test)\n",
    "print(classification_report(y_test.argmax(axis=1), y_pred.argmax(axis=1)))"
   ]
  },
  {
   "cell_type": "code",
   "execution_count": 21,
   "metadata": {},
   "outputs": [
    {
     "data": {
      "text/plain": [
       "array([[6.7779160e-01, 7.8586889e-03, 1.5162300e-01, 2.8803846e-04,\n",
       "        1.6243868e-01],\n",
       "       [6.7423600e-01, 3.2408190e-01, 7.0264134e-05, 1.6118500e-03,\n",
       "        2.6033119e-08]], dtype=float32)"
      ]
     },
     "execution_count": 21,
     "metadata": {},
     "output_type": "execute_result"
    }
   ],
   "source": [
    "model_loaded.predict(x_test[:2])"
   ]
  },
  {
   "cell_type": "code",
   "execution_count": 22,
   "metadata": {},
   "outputs": [],
   "source": [
    "our_cnn.save(\"model/simple.h5\")"
   ]
  },
  {
   "cell_type": "code",
   "execution_count": 23,
   "metadata": {},
   "outputs": [],
   "source": [
    "model_loaded_h5 = tf.keras.models.load_model(\"model/simple.h5\")"
   ]
  },
  {
   "cell_type": "code",
   "execution_count": 24,
   "metadata": {},
   "outputs": [
    {
     "name": "stdout",
     "output_type": "stream",
     "text": [
      "              precision    recall  f1-score   support\n",
      "\n",
      "           0       1.00      0.20      0.33        25\n",
      "           1       0.00      0.00      0.00         0\n",
      "           2       0.00      0.00      0.00         0\n",
      "           3       0.00      0.00      0.00         0\n",
      "           4       0.00      0.00      0.00         0\n",
      "\n",
      "    accuracy                           0.20        25\n",
      "   macro avg       0.20      0.04      0.07        25\n",
      "weighted avg       1.00      0.20      0.33        25\n",
      "\n"
     ]
    },
    {
     "name": "stderr",
     "output_type": "stream",
     "text": [
      "c:\\Users\\AMD\\anaconda3\\lib\\site-packages\\sklearn\\metrics\\_classification.py:1318: UndefinedMetricWarning: Recall and F-score are ill-defined and being set to 0.0 in labels with no true samples. Use `zero_division` parameter to control this behavior.\n",
      "  _warn_prf(average, modifier, msg_start, len(result))\n",
      "c:\\Users\\AMD\\anaconda3\\lib\\site-packages\\sklearn\\metrics\\_classification.py:1318: UndefinedMetricWarning: Recall and F-score are ill-defined and being set to 0.0 in labels with no true samples. Use `zero_division` parameter to control this behavior.\n",
      "  _warn_prf(average, modifier, msg_start, len(result))\n",
      "c:\\Users\\AMD\\anaconda3\\lib\\site-packages\\sklearn\\metrics\\_classification.py:1318: UndefinedMetricWarning: Recall and F-score are ill-defined and being set to 0.0 in labels with no true samples. Use `zero_division` parameter to control this behavior.\n",
      "  _warn_prf(average, modifier, msg_start, len(result))\n"
     ]
    }
   ],
   "source": [
    "y_pred = model_loaded_h5.predict(x_test)\n",
    "print(classification_report(y_test.argmax(axis=1), y_pred.argmax(axis=1)))"
   ]
  },
  {
   "cell_type": "code",
   "execution_count": 25,
   "metadata": {},
   "outputs": [
    {
     "data": {
      "text/plain": [
       "array([[6.7779160e-01, 7.8586889e-03, 1.5162300e-01, 2.8803846e-04,\n",
       "        1.6243868e-01],\n",
       "       [6.7423600e-01, 3.2408190e-01, 7.0264134e-05, 1.6118500e-03,\n",
       "        2.6033119e-08]], dtype=float32)"
      ]
     },
     "execution_count": 25,
     "metadata": {},
     "output_type": "execute_result"
    }
   ],
   "source": [
    "model_loaded_h5.predict(x_test[:2])"
   ]
  }
 ],
 "metadata": {
  "kernelspec": {
   "display_name": "Python 3.8.11 ('base')",
   "language": "python",
   "name": "python3"
  },
  "language_info": {
   "codemirror_mode": {
    "name": "ipython",
    "version": 3
   },
   "file_extension": ".py",
   "mimetype": "text/x-python",
   "name": "python",
   "nbconvert_exporter": "python",
   "pygments_lexer": "ipython3",
   "version": "3.8.11"
  },
  "orig_nbformat": 4,
  "vscode": {
   "interpreter": {
    "hash": "84e7ca4d3cda02558b8488111a750648cb6a4b3668a23f44e278fc8092a466ab"
   }
  }
 },
 "nbformat": 4,
 "nbformat_minor": 2
}
