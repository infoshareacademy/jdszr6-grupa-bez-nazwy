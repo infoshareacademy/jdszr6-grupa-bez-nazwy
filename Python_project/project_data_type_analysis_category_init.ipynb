{
 "cells": [
  {
   "cell_type": "code",
   "execution_count": 1,
   "id": "a81ba977",
   "metadata": {},
   "outputs": [
    {
     "data": {
      "text/html": [
       "<div>\n",
       "<style scoped>\n",
       "    .dataframe tbody tr th:only-of-type {\n",
       "        vertical-align: middle;\n",
       "    }\n",
       "\n",
       "    .dataframe tbody tr th {\n",
       "        vertical-align: top;\n",
       "    }\n",
       "\n",
       "    .dataframe thead th {\n",
       "        text-align: right;\n",
       "    }\n",
       "</style>\n",
       "<table border=\"1\" class=\"dataframe\">\n",
       "  <thead>\n",
       "    <tr style=\"text-align: right;\">\n",
       "      <th></th>\n",
       "      <th>App</th>\n",
       "      <th>Category</th>\n",
       "      <th>Rating</th>\n",
       "      <th>Reviews</th>\n",
       "      <th>Size</th>\n",
       "      <th>Installs</th>\n",
       "      <th>Type</th>\n",
       "      <th>Price</th>\n",
       "      <th>Content Rating</th>\n",
       "      <th>Genres</th>\n",
       "      <th>Last Updated</th>\n",
       "      <th>Current Ver</th>\n",
       "      <th>Android Ver</th>\n",
       "    </tr>\n",
       "  </thead>\n",
       "  <tbody>\n",
       "    <tr>\n",
       "      <th>0</th>\n",
       "      <td>Photo Editor &amp; Candy Camera &amp; Grid &amp; ScrapBook</td>\n",
       "      <td>ART_AND_DESIGN</td>\n",
       "      <td>4.1</td>\n",
       "      <td>159</td>\n",
       "      <td>19M</td>\n",
       "      <td>10,000+</td>\n",
       "      <td>Free</td>\n",
       "      <td>0</td>\n",
       "      <td>Everyone</td>\n",
       "      <td>Art &amp; Design</td>\n",
       "      <td>January 7, 2018</td>\n",
       "      <td>1.0.0</td>\n",
       "      <td>4.0.3 and up</td>\n",
       "    </tr>\n",
       "    <tr>\n",
       "      <th>1</th>\n",
       "      <td>Coloring book moana</td>\n",
       "      <td>ART_AND_DESIGN</td>\n",
       "      <td>3.9</td>\n",
       "      <td>967</td>\n",
       "      <td>14M</td>\n",
       "      <td>500,000+</td>\n",
       "      <td>Free</td>\n",
       "      <td>0</td>\n",
       "      <td>Everyone</td>\n",
       "      <td>Art &amp; Design;Pretend Play</td>\n",
       "      <td>January 15, 2018</td>\n",
       "      <td>2.0.0</td>\n",
       "      <td>4.0.3 and up</td>\n",
       "    </tr>\n",
       "    <tr>\n",
       "      <th>2</th>\n",
       "      <td>U Launcher Lite – FREE Live Cool Themes, Hide ...</td>\n",
       "      <td>ART_AND_DESIGN</td>\n",
       "      <td>4.7</td>\n",
       "      <td>87510</td>\n",
       "      <td>8.7M</td>\n",
       "      <td>5,000,000+</td>\n",
       "      <td>Free</td>\n",
       "      <td>0</td>\n",
       "      <td>Everyone</td>\n",
       "      <td>Art &amp; Design</td>\n",
       "      <td>August 1, 2018</td>\n",
       "      <td>1.2.4</td>\n",
       "      <td>4.0.3 and up</td>\n",
       "    </tr>\n",
       "    <tr>\n",
       "      <th>3</th>\n",
       "      <td>Sketch - Draw &amp; Paint</td>\n",
       "      <td>ART_AND_DESIGN</td>\n",
       "      <td>4.5</td>\n",
       "      <td>215644</td>\n",
       "      <td>25M</td>\n",
       "      <td>50,000,000+</td>\n",
       "      <td>Free</td>\n",
       "      <td>0</td>\n",
       "      <td>Teen</td>\n",
       "      <td>Art &amp; Design</td>\n",
       "      <td>June 8, 2018</td>\n",
       "      <td>Varies with device</td>\n",
       "      <td>4.2 and up</td>\n",
       "    </tr>\n",
       "    <tr>\n",
       "      <th>4</th>\n",
       "      <td>Pixel Draw - Number Art Coloring Book</td>\n",
       "      <td>ART_AND_DESIGN</td>\n",
       "      <td>4.3</td>\n",
       "      <td>967</td>\n",
       "      <td>2.8M</td>\n",
       "      <td>100,000+</td>\n",
       "      <td>Free</td>\n",
       "      <td>0</td>\n",
       "      <td>Everyone</td>\n",
       "      <td>Art &amp; Design;Creativity</td>\n",
       "      <td>June 20, 2018</td>\n",
       "      <td>1.1</td>\n",
       "      <td>4.4 and up</td>\n",
       "    </tr>\n",
       "    <tr>\n",
       "      <th>...</th>\n",
       "      <td>...</td>\n",
       "      <td>...</td>\n",
       "      <td>...</td>\n",
       "      <td>...</td>\n",
       "      <td>...</td>\n",
       "      <td>...</td>\n",
       "      <td>...</td>\n",
       "      <td>...</td>\n",
       "      <td>...</td>\n",
       "      <td>...</td>\n",
       "      <td>...</td>\n",
       "      <td>...</td>\n",
       "      <td>...</td>\n",
       "    </tr>\n",
       "    <tr>\n",
       "      <th>10836</th>\n",
       "      <td>Sya9a Maroc - FR</td>\n",
       "      <td>FAMILY</td>\n",
       "      <td>4.5</td>\n",
       "      <td>38</td>\n",
       "      <td>53M</td>\n",
       "      <td>5,000+</td>\n",
       "      <td>Free</td>\n",
       "      <td>0</td>\n",
       "      <td>Everyone</td>\n",
       "      <td>Education</td>\n",
       "      <td>July 25, 2017</td>\n",
       "      <td>1.48</td>\n",
       "      <td>4.1 and up</td>\n",
       "    </tr>\n",
       "    <tr>\n",
       "      <th>10837</th>\n",
       "      <td>Fr. Mike Schmitz Audio Teachings</td>\n",
       "      <td>FAMILY</td>\n",
       "      <td>5.0</td>\n",
       "      <td>4</td>\n",
       "      <td>3.6M</td>\n",
       "      <td>100+</td>\n",
       "      <td>Free</td>\n",
       "      <td>0</td>\n",
       "      <td>Everyone</td>\n",
       "      <td>Education</td>\n",
       "      <td>July 6, 2018</td>\n",
       "      <td>1.0</td>\n",
       "      <td>4.1 and up</td>\n",
       "    </tr>\n",
       "    <tr>\n",
       "      <th>10838</th>\n",
       "      <td>Parkinson Exercices FR</td>\n",
       "      <td>MEDICAL</td>\n",
       "      <td>NaN</td>\n",
       "      <td>3</td>\n",
       "      <td>9.5M</td>\n",
       "      <td>1,000+</td>\n",
       "      <td>Free</td>\n",
       "      <td>0</td>\n",
       "      <td>Everyone</td>\n",
       "      <td>Medical</td>\n",
       "      <td>January 20, 2017</td>\n",
       "      <td>1.0</td>\n",
       "      <td>2.2 and up</td>\n",
       "    </tr>\n",
       "    <tr>\n",
       "      <th>10839</th>\n",
       "      <td>The SCP Foundation DB fr nn5n</td>\n",
       "      <td>BOOKS_AND_REFERENCE</td>\n",
       "      <td>4.5</td>\n",
       "      <td>114</td>\n",
       "      <td>Varies with device</td>\n",
       "      <td>1,000+</td>\n",
       "      <td>Free</td>\n",
       "      <td>0</td>\n",
       "      <td>Mature 17+</td>\n",
       "      <td>Books &amp; Reference</td>\n",
       "      <td>January 19, 2015</td>\n",
       "      <td>Varies with device</td>\n",
       "      <td>Varies with device</td>\n",
       "    </tr>\n",
       "    <tr>\n",
       "      <th>10840</th>\n",
       "      <td>iHoroscope - 2018 Daily Horoscope &amp; Astrology</td>\n",
       "      <td>LIFESTYLE</td>\n",
       "      <td>4.5</td>\n",
       "      <td>398307</td>\n",
       "      <td>19M</td>\n",
       "      <td>10,000,000+</td>\n",
       "      <td>Free</td>\n",
       "      <td>0</td>\n",
       "      <td>Everyone</td>\n",
       "      <td>Lifestyle</td>\n",
       "      <td>July 25, 2018</td>\n",
       "      <td>Varies with device</td>\n",
       "      <td>Varies with device</td>\n",
       "    </tr>\n",
       "  </tbody>\n",
       "</table>\n",
       "<p>10841 rows × 13 columns</p>\n",
       "</div>"
      ],
      "text/plain": [
       "                                                     App             Category  \\\n",
       "0         Photo Editor & Candy Camera & Grid & ScrapBook       ART_AND_DESIGN   \n",
       "1                                    Coloring book moana       ART_AND_DESIGN   \n",
       "2      U Launcher Lite – FREE Live Cool Themes, Hide ...       ART_AND_DESIGN   \n",
       "3                                  Sketch - Draw & Paint       ART_AND_DESIGN   \n",
       "4                  Pixel Draw - Number Art Coloring Book       ART_AND_DESIGN   \n",
       "...                                                  ...                  ...   \n",
       "10836                                   Sya9a Maroc - FR               FAMILY   \n",
       "10837                   Fr. Mike Schmitz Audio Teachings               FAMILY   \n",
       "10838                             Parkinson Exercices FR              MEDICAL   \n",
       "10839                      The SCP Foundation DB fr nn5n  BOOKS_AND_REFERENCE   \n",
       "10840      iHoroscope - 2018 Daily Horoscope & Astrology            LIFESTYLE   \n",
       "\n",
       "       Rating Reviews                Size     Installs  Type Price  \\\n",
       "0         4.1     159                 19M      10,000+  Free     0   \n",
       "1         3.9     967                 14M     500,000+  Free     0   \n",
       "2         4.7   87510                8.7M   5,000,000+  Free     0   \n",
       "3         4.5  215644                 25M  50,000,000+  Free     0   \n",
       "4         4.3     967                2.8M     100,000+  Free     0   \n",
       "...       ...     ...                 ...          ...   ...   ...   \n",
       "10836     4.5      38                 53M       5,000+  Free     0   \n",
       "10837     5.0       4                3.6M         100+  Free     0   \n",
       "10838     NaN       3                9.5M       1,000+  Free     0   \n",
       "10839     4.5     114  Varies with device       1,000+  Free     0   \n",
       "10840     4.5  398307                 19M  10,000,000+  Free     0   \n",
       "\n",
       "      Content Rating                     Genres      Last Updated  \\\n",
       "0           Everyone               Art & Design   January 7, 2018   \n",
       "1           Everyone  Art & Design;Pretend Play  January 15, 2018   \n",
       "2           Everyone               Art & Design    August 1, 2018   \n",
       "3               Teen               Art & Design      June 8, 2018   \n",
       "4           Everyone    Art & Design;Creativity     June 20, 2018   \n",
       "...              ...                        ...               ...   \n",
       "10836       Everyone                  Education     July 25, 2017   \n",
       "10837       Everyone                  Education      July 6, 2018   \n",
       "10838       Everyone                    Medical  January 20, 2017   \n",
       "10839     Mature 17+          Books & Reference  January 19, 2015   \n",
       "10840       Everyone                  Lifestyle     July 25, 2018   \n",
       "\n",
       "              Current Ver         Android Ver  \n",
       "0                   1.0.0        4.0.3 and up  \n",
       "1                   2.0.0        4.0.3 and up  \n",
       "2                   1.2.4        4.0.3 and up  \n",
       "3      Varies with device          4.2 and up  \n",
       "4                     1.1          4.4 and up  \n",
       "...                   ...                 ...  \n",
       "10836                1.48          4.1 and up  \n",
       "10837                 1.0          4.1 and up  \n",
       "10838                 1.0          2.2 and up  \n",
       "10839  Varies with device  Varies with device  \n",
       "10840  Varies with device  Varies with device  \n",
       "\n",
       "[10841 rows x 13 columns]"
      ]
     },
     "execution_count": 1,
     "metadata": {},
     "output_type": "execute_result"
    }
   ],
   "source": [
    "import pandas as pd\n",
    "import numpy as np\n",
    "import os\n",
    "\n",
    "df1 = pd.read_csv('googleplaystore.csv') \n",
    "df1\n",
    "\n",
    "\n"
   ]
  },
  {
   "cell_type": "code",
   "execution_count": null,
   "id": "ddbffa7c",
   "metadata": {},
   "outputs": [],
   "source": []
  },
  {
   "cell_type": "code",
   "execution_count": 2,
   "id": "d6fcdaff",
   "metadata": {},
   "outputs": [],
   "source": [
    "# dane = df1.iloc[: , :9] \n",
    "# dane = df1[['App', 'Category', 'Rating', 'Reviews', 'Size', 'Installs', 'Type', 'Content Rating']].groupby(['App', 'Category', 'Rating', 'Size', 'Installs', 'Type', 'Content Rating']).mean().reset_index()\n",
    "# dane\n"
   ]
  },
  {
   "cell_type": "code",
   "execution_count": 3,
   "id": "50619526",
   "metadata": {},
   "outputs": [
    {
     "name": "stderr",
     "output_type": "stream",
     "text": [
      "C:\\Users\\andrz\\AppData\\Local\\Temp/ipykernel_14036/578550136.py:2: FutureWarning: The default value of regex will change from True to False in a future version. In addition, single character regular expressions will *not* be treated as literal strings when regex=True.\n",
      "  data[\"Installs\"] = pd.to_numeric(data[\"Installs\"].str.replace(\",\",\"\").str.replace(\"+\",\"\"))\n"
     ]
    },
    {
     "data": {
      "text/html": [
       "<div>\n",
       "<style scoped>\n",
       "    .dataframe tbody tr th:only-of-type {\n",
       "        vertical-align: middle;\n",
       "    }\n",
       "\n",
       "    .dataframe tbody tr th {\n",
       "        vertical-align: top;\n",
       "    }\n",
       "\n",
       "    .dataframe thead th {\n",
       "        text-align: right;\n",
       "    }\n",
       "</style>\n",
       "<table border=\"1\" class=\"dataframe\">\n",
       "  <thead>\n",
       "    <tr style=\"text-align: right;\">\n",
       "      <th></th>\n",
       "      <th>App</th>\n",
       "      <th>Type</th>\n",
       "      <th>Category</th>\n",
       "      <th>Content Rating</th>\n",
       "      <th>Rating</th>\n",
       "      <th>Reviews</th>\n",
       "      <th>Installs</th>\n",
       "    </tr>\n",
       "  </thead>\n",
       "  <tbody>\n",
       "    <tr>\n",
       "      <th>0</th>\n",
       "      <td>+Download 4 Instagram Twitter</td>\n",
       "      <td>Free</td>\n",
       "      <td>SOCIAL</td>\n",
       "      <td>Everyone</td>\n",
       "      <td>4.5</td>\n",
       "      <td>40467</td>\n",
       "      <td>1000000</td>\n",
       "    </tr>\n",
       "    <tr>\n",
       "      <th>1</th>\n",
       "      <td>- Free Comics - Comic Apps</td>\n",
       "      <td>Free</td>\n",
       "      <td>COMICS</td>\n",
       "      <td>Mature 17+</td>\n",
       "      <td>3.5</td>\n",
       "      <td>115</td>\n",
       "      <td>10000</td>\n",
       "    </tr>\n",
       "    <tr>\n",
       "      <th>2</th>\n",
       "      <td>.R</td>\n",
       "      <td>Free</td>\n",
       "      <td>TOOLS</td>\n",
       "      <td>Everyone</td>\n",
       "      <td>4.5</td>\n",
       "      <td>259</td>\n",
       "      <td>10000</td>\n",
       "    </tr>\n",
       "    <tr>\n",
       "      <th>3</th>\n",
       "      <td>/u/app</td>\n",
       "      <td>Free</td>\n",
       "      <td>COMMUNICATION</td>\n",
       "      <td>Mature 17+</td>\n",
       "      <td>4.7</td>\n",
       "      <td>573</td>\n",
       "      <td>10000</td>\n",
       "    </tr>\n",
       "    <tr>\n",
       "      <th>4</th>\n",
       "      <td>058.ba</td>\n",
       "      <td>Free</td>\n",
       "      <td>NEWS_AND_MAGAZINES</td>\n",
       "      <td>Everyone</td>\n",
       "      <td>4.4</td>\n",
       "      <td>27</td>\n",
       "      <td>100</td>\n",
       "    </tr>\n",
       "    <tr>\n",
       "      <th>...</th>\n",
       "      <td>...</td>\n",
       "      <td>...</td>\n",
       "      <td>...</td>\n",
       "      <td>...</td>\n",
       "      <td>...</td>\n",
       "      <td>...</td>\n",
       "      <td>...</td>\n",
       "    </tr>\n",
       "    <tr>\n",
       "      <th>8191</th>\n",
       "      <td>감성학원 BL 첫사랑</td>\n",
       "      <td>Free</td>\n",
       "      <td>COMICS</td>\n",
       "      <td>Everyone</td>\n",
       "      <td>4.4</td>\n",
       "      <td>190</td>\n",
       "      <td>10000</td>\n",
       "    </tr>\n",
       "    <tr>\n",
       "      <th>8192</th>\n",
       "      <td>💎 I'm rich</td>\n",
       "      <td>Paid</td>\n",
       "      <td>LIFESTYLE</td>\n",
       "      <td>Everyone</td>\n",
       "      <td>3.8</td>\n",
       "      <td>718</td>\n",
       "      <td>10000</td>\n",
       "    </tr>\n",
       "    <tr>\n",
       "      <th>8193</th>\n",
       "      <td>💘 WhatsLov: Smileys of love, stickers and GIF</td>\n",
       "      <td>Free</td>\n",
       "      <td>SOCIAL</td>\n",
       "      <td>Everyone</td>\n",
       "      <td>4.6</td>\n",
       "      <td>22098</td>\n",
       "      <td>1000000</td>\n",
       "    </tr>\n",
       "    <tr>\n",
       "      <th>8194</th>\n",
       "      <td>📏 Smart Ruler ↔️ cm/inch measuring for homework!</td>\n",
       "      <td>Free</td>\n",
       "      <td>TOOLS</td>\n",
       "      <td>Everyone</td>\n",
       "      <td>4.0</td>\n",
       "      <td>19</td>\n",
       "      <td>10000</td>\n",
       "    </tr>\n",
       "    <tr>\n",
       "      <th>8195</th>\n",
       "      <td>🔥 Football Wallpapers 4K | Full HD Backgrounds 😍</td>\n",
       "      <td>Free</td>\n",
       "      <td>ENTERTAINMENT</td>\n",
       "      <td>Everyone</td>\n",
       "      <td>4.7</td>\n",
       "      <td>11661</td>\n",
       "      <td>1000000</td>\n",
       "    </tr>\n",
       "  </tbody>\n",
       "</table>\n",
       "<p>8196 rows × 7 columns</p>\n",
       "</div>"
      ],
      "text/plain": [
       "                                                   App  Type  \\\n",
       "0                        +Download 4 Instagram Twitter  Free   \n",
       "1                           - Free Comics - Comic Apps  Free   \n",
       "2                                                   .R  Free   \n",
       "3                                               /u/app  Free   \n",
       "4                                               058.ba  Free   \n",
       "...                                                ...   ...   \n",
       "8191                                       감성학원 BL 첫사랑  Free   \n",
       "8192                                        💎 I'm rich  Paid   \n",
       "8193     💘 WhatsLov: Smileys of love, stickers and GIF  Free   \n",
       "8194  📏 Smart Ruler ↔️ cm/inch measuring for homework!  Free   \n",
       "8195  🔥 Football Wallpapers 4K | Full HD Backgrounds 😍  Free   \n",
       "\n",
       "                Category Content Rating  Rating  Reviews  Installs  \n",
       "0                 SOCIAL       Everyone     4.5    40467   1000000  \n",
       "1                 COMICS     Mature 17+     3.5      115     10000  \n",
       "2                  TOOLS       Everyone     4.5      259     10000  \n",
       "3          COMMUNICATION     Mature 17+     4.7      573     10000  \n",
       "4     NEWS_AND_MAGAZINES       Everyone     4.4       27       100  \n",
       "...                  ...            ...     ...      ...       ...  \n",
       "8191              COMICS       Everyone     4.4      190     10000  \n",
       "8192           LIFESTYLE       Everyone     3.8      718     10000  \n",
       "8193              SOCIAL       Everyone     4.6    22098   1000000  \n",
       "8194               TOOLS       Everyone     4.0       19     10000  \n",
       "8195       ENTERTAINMENT       Everyone     4.7    11661   1000000  \n",
       "\n",
       "[8196 rows x 7 columns]"
      ]
     },
     "execution_count": 3,
     "metadata": {},
     "output_type": "execute_result"
    }
   ],
   "source": [
    "data = df1[['App', 'Category', 'Rating', 'Reviews', 'Size', 'Installs', 'Type', 'Content Rating']].groupby(['App']).max().dropna().reset_index()\n",
    "data[\"Installs\"] = pd.to_numeric(data[\"Installs\"].str.replace(\",\",\"\").str.replace(\"+\",\"\"))\n",
    "data[\"Reviews\"] = pd.to_numeric(data[\"Reviews\"])\n",
    "mydata = data[['App',\"Type\",'Category', 'Content Rating', \"Rating\", \"Reviews\", \"Installs\"]]\n",
    "mydata\n"
   ]
  },
  {
   "cell_type": "code",
   "execution_count": 4,
   "id": "9498cd75",
   "metadata": {},
   "outputs": [
    {
     "data": {
      "text/plain": [
       "0"
      ]
     },
     "execution_count": 4,
     "metadata": {},
     "output_type": "execute_result"
    }
   ],
   "source": [
    "#sprawdzanie czy sa duble\n",
    "\n",
    "mydata['App'].duplicated().sum()\n"
   ]
  },
  {
   "cell_type": "code",
   "execution_count": 5,
   "id": "56f2a460",
   "metadata": {},
   "outputs": [
    {
     "data": {
      "text/plain": [
       "Text(0.5, 0, 'Rating')"
      ]
     },
     "execution_count": 5,
     "metadata": {},
     "output_type": "execute_result"
    },
    {
     "data": {
      "image/png": "[encoded data removed]",
      "text/plain": [
       "<Figure size 432x288 with 1 Axes>"
      ]
     },
     "metadata": {
      "needs_background": "light"
     },
     "output_type": "display_data"
    }
   ],
   "source": [
    "data_type = mydata[['App', 'Type', 'Rating', 'Installs', 'Reviews']]\n",
    "# avg_rt =data_type.groupby(by='Type').mean()['Rating']\n",
    "# avg_rt\n",
    "free_type =data_type[data_type['Type']== 'Free']\n",
    "paid_type =data_type[data_type['Type']== 'Paid']\n",
    "\n",
    "import matplotlib.pyplot as plt\n",
    "\n",
    "\n",
    "free_type['Rating'].plot.density()\n",
    "paid_type['Rating'].plot.density(color = 'k')\n",
    "plt.title('Density plot for Free/Paid applications vs rating')\n",
    "plt.xlabel('Rating')\n",
    "\n"
   ]
  },
  {
   "cell_type": "code",
   "execution_count": 6,
   "id": "3b0ab9e9",
   "metadata": {},
   "outputs": [
    {
     "data": {
      "text/plain": [
       "<AxesSubplot:ylabel='Density'>"
      ]
     },
     "execution_count": 6,
     "metadata": {},
     "output_type": "execute_result"
    },
    {
     "data": {
      "image/png": "[encoded data removed]",
      "text/plain": [
       "<Figure size 432x288 with 1 Axes>"
      ]
     },
     "metadata": {
      "needs_background": "light"
     },
     "output_type": "display_data"
    }
   ],
   "source": [
    "#bez usuwania outlines dla Installs\n",
    "\n",
    "free_type =data_type[data_type['Type']== 'Free']\n",
    "paid_type =data_type[data_type['Type']== 'Paid']\n",
    "\n",
    "import matplotlib.pyplot as plt\n",
    "import seaborn as sns\n",
    "\n",
    "\n",
    "free_type['Installs'].plot.density()\n",
    "paid_type['Installs'].plot.density()\n"
   ]
  },
  {
   "cell_type": "code",
   "execution_count": 7,
   "id": "3c6b7069",
   "metadata": {},
   "outputs": [
    {
     "data": {
      "text/plain": [
       "<AxesSubplot:ylabel='Density'>"
      ]
     },
     "execution_count": 7,
     "metadata": {},
     "output_type": "execute_result"
    },
    {
     "data": {
      "image/png": "[encoded data removed]",
      "text/plain": [
       "<Figure size 432x288 with 1 Axes>"
      ]
     },
     "metadata": {
      "needs_background": "light"
     },
     "output_type": "display_data"
    }
   ],
   "source": [
    "free_type[\"Reviews\"].plot.density()\n",
    "paid_type['Reviews'].plot.density()"
   ]
  },
  {
   "cell_type": "code",
   "execution_count": 8,
   "id": "54bb5a38",
   "metadata": {},
   "outputs": [
    {
     "data": {
      "text/plain": [
       "<AxesSubplot:ylabel='Density'>"
      ]
     },
     "execution_count": 8,
     "metadata": {},
     "output_type": "execute_result"
    },
    {
     "data": {
      "image/png": "[encoded data removed]",
      "text/plain": [
       "<Figure size 432x288 with 2 Axes>"
      ]
     },
     "metadata": {
      "needs_background": "light"
     },
     "output_type": "display_data"
    }
   ],
   "source": [
    "plt.subplot(1,2,1)\n",
    "free_type['Reviews'].plot.density()\n",
    "plt.subplot(1,2,2)\n",
    "paid_type['Reviews'].plot.density(color = 'k')"
   ]
  },
  {
   "cell_type": "code",
   "execution_count": 9,
   "id": "c8001be9",
   "metadata": {},
   "outputs": [
    {
     "data": {
      "text/plain": [
       "<AxesSubplot:ylabel='Density'>"
      ]
     },
     "execution_count": 9,
     "metadata": {},
     "output_type": "execute_result"
    },
    {
     "data": {
      "image/png": "[encoded data removed]",
      "text/plain": [
       "<Figure size 432x288 with 2 Axes>"
      ]
     },
     "metadata": {
      "needs_background": "light"
     },
     "output_type": "display_data"
    }
   ],
   "source": [
    "#przebieg dla 'Installs' bez usuwania outlines - na dwóch różnych wykresach\n",
    "\n",
    "plt.subplot(2,1,1)\n",
    "free_type['Installs'].plot.density()\n",
    "plt.subplot(2,1,2)\n",
    "paid_type['Installs'].plot.density(color = 'k')\n"
   ]
  },
  {
   "cell_type": "code",
   "execution_count": 10,
   "id": "a941dea5",
   "metadata": {},
   "outputs": [
    {
     "data": {
      "text/plain": [
       "9635767.33"
      ]
     },
     "execution_count": 10,
     "metadata": {},
     "output_type": "execute_result"
    }
   ],
   "source": [
    "roz_mean_i =round(free_type['Installs'].mean() - paid_type['Installs'].mean(), 2)\n",
    "roz_mean_i\n"
   ]
  },
  {
   "cell_type": "code",
   "execution_count": 11,
   "id": "ebfe0a91",
   "metadata": {},
   "outputs": [
    {
     "data": {
      "text/plain": [
       "56359531.85"
      ]
     },
     "execution_count": 11,
     "metadata": {},
     "output_type": "execute_result"
    }
   ],
   "source": [
    "roz_std_i =round(free_type['Installs'].std() - paid_type['Installs'].std(), 2)\n",
    "roz_std_i"
   ]
  },
  {
   "cell_type": "code",
   "execution_count": 12,
   "id": "97089a2d",
   "metadata": {},
   "outputs": [
    {
     "data": {
      "text/plain": [
       "263766.95"
      ]
     },
     "execution_count": 12,
     "metadata": {},
     "output_type": "execute_result"
    }
   ],
   "source": [
    "roz_mean_r =round(free_type['Reviews'].mean() - paid_type['Reviews'].mean(), 2)\n",
    "roz_mean_r"
   ]
  },
  {
   "cell_type": "code",
   "execution_count": 13,
   "id": "b6ed157d",
   "metadata": {},
   "outputs": [
    {
     "data": {
      "text/plain": [
       "1961268.12"
      ]
     },
     "execution_count": 13,
     "metadata": {},
     "output_type": "execute_result"
    }
   ],
   "source": [
    "roz_std_r =round(free_type['Reviews'].std() - paid_type['Reviews'].std(), 2)\n",
    "roz_std_r"
   ]
  },
  {
   "cell_type": "code",
   "execution_count": 14,
   "id": "4eb7617a",
   "metadata": {},
   "outputs": [
    {
     "data": {
      "text/plain": [
       "37.96"
      ]
     },
     "execution_count": 14,
     "metadata": {},
     "output_type": "execute_result"
    }
   ],
   "source": [
    "stos_mean_i = round(free_type['Installs'].mean()/paid_type['Installs'].mean(), 2)\n",
    "stos_mean_i"
   ]
  },
  {
   "cell_type": "code",
   "execution_count": 15,
   "id": "fed9a828",
   "metadata": {},
   "outputs": [
    {
     "data": {
      "text/plain": [
       "25.16"
      ]
     },
     "execution_count": 15,
     "metadata": {},
     "output_type": "execute_result"
    }
   ],
   "source": [
    "stos_mean_r = round(free_type['Reviews'].mean()/paid_type['Reviews'].mean(), 2)\n",
    "stos_mean_r"
   ]
  },
  {
   "cell_type": "code",
   "execution_count": 16,
   "id": "1d3c87e4",
   "metadata": {},
   "outputs": [
    {
     "data": {
      "text/plain": [
       "1000000000"
      ]
     },
     "execution_count": 16,
     "metadata": {},
     "output_type": "execute_result"
    }
   ],
   "source": [
    "data_type['Installs'].max()"
   ]
  },
  {
   "cell_type": "code",
   "execution_count": 17,
   "id": "85f17727",
   "metadata": {},
   "outputs": [
    {
     "name": "stdout",
     "output_type": "stream",
     "text": [
      "4007     Google Photos\n",
      "4422         Instagram\n",
      "6807    Subway Surfers\n",
      "Name: App, dtype: object\n",
      "----------\n",
      "3432    Facebook\n",
      "Name: App, dtype: object\n"
     ]
    },
    {
     "data": {
      "text/html": [
       "<div>\n",
       "<style scoped>\n",
       "    .dataframe tbody tr th:only-of-type {\n",
       "        vertical-align: middle;\n",
       "    }\n",
       "\n",
       "    .dataframe tbody tr th {\n",
       "        vertical-align: top;\n",
       "    }\n",
       "\n",
       "    .dataframe thead th {\n",
       "        text-align: right;\n",
       "    }\n",
       "</style>\n",
       "<table border=\"1\" class=\"dataframe\">\n",
       "  <thead>\n",
       "    <tr style=\"text-align: right;\">\n",
       "      <th></th>\n",
       "      <th>App</th>\n",
       "      <th>Type</th>\n",
       "      <th>Rating</th>\n",
       "      <th>Installs</th>\n",
       "      <th>Reviews</th>\n",
       "    </tr>\n",
       "  </thead>\n",
       "  <tbody>\n",
       "    <tr>\n",
       "      <th>4007</th>\n",
       "      <td>Google Photos</td>\n",
       "      <td>Free</td>\n",
       "      <td>4.5</td>\n",
       "      <td>1000000000</td>\n",
       "      <td>10859051</td>\n",
       "    </tr>\n",
       "    <tr>\n",
       "      <th>4422</th>\n",
       "      <td>Instagram</td>\n",
       "      <td>Free</td>\n",
       "      <td>4.5</td>\n",
       "      <td>1000000000</td>\n",
       "      <td>66577446</td>\n",
       "    </tr>\n",
       "    <tr>\n",
       "      <th>6807</th>\n",
       "      <td>Subway Surfers</td>\n",
       "      <td>Free</td>\n",
       "      <td>4.5</td>\n",
       "      <td>1000000000</td>\n",
       "      <td>27725352</td>\n",
       "    </tr>\n",
       "  </tbody>\n",
       "</table>\n",
       "</div>"
      ],
      "text/plain": [
       "                 App  Type  Rating    Installs   Reviews\n",
       "4007   Google Photos  Free     4.5  1000000000  10859051\n",
       "4422       Instagram  Free     4.5  1000000000  66577446\n",
       "6807  Subway Surfers  Free     4.5  1000000000  27725352"
      ]
     },
     "execution_count": 17,
     "metadata": {},
     "output_type": "execute_result"
    }
   ],
   "source": [
    "max_data= data_type[data_type['Installs'] ==data_type['Installs'].max()] #zestawienie aplikacji o największej liczbie pobrań\n",
    "\n",
    "max_data_r =max_data[max_data['Reviews']== max_data['Reviews'].max()] #aplikacja najbardziej popularna (rozważanie pod kątem free/paid) // Subway Surfers\n",
    "max_data_r\n",
    "\n",
    "max_data_rt =max_data[max_data['Rating']== max_data['Rating'].max()] #aplikacje najbardziej popularne najlepiej ocenianie // Subway Surfers\n",
    "print(max_data_rt['App'])\n",
    "print('----------')\n",
    "print(max_data_r['App'])\n",
    "max_data_rt"
   ]
  },
  {
   "cell_type": "code",
   "execution_count": 18,
   "id": "d6f08fad",
   "metadata": {},
   "outputs": [
    {
     "data": {
      "text/plain": [
       "10.0"
      ]
     },
     "execution_count": 18,
     "metadata": {},
     "output_type": "execute_result"
    }
   ],
   "source": [
    "\n",
    "\n",
    "max_data_f= free_type[free_type['Installs'] ==free_type['Installs'].max()]\n",
    "max_data_f\n",
    "\n",
    "max_data_p = paid_type[paid_type['Installs']== paid_type['Installs'].max()]\n",
    "sts_max = max_data_f['Installs'].unique()[0] / max_data_p['Installs'].unique()[0]\n",
    "sts_max #aplikacja o największej liczny pobrań należąca do kategorii darmowe jest 100 razy bardziej popularna niż aplikacja najczęściej pobierana płatna"
   ]
  },
  {
   "cell_type": "code",
   "execution_count": 19,
   "id": "7127b43a",
   "metadata": {},
   "outputs": [
    {
     "name": "stdout",
     "output_type": "stream",
     "text": [
      "Średnia ocena aplikacji darmowej to : 4.166504214963111, natomiast płatnej to: 4.26241721854304\n"
     ]
    }
   ],
   "source": [
    "avg_free = data_type[data_type['Type']== 'Free']['Rating'].mean()\n",
    "avg_paid = data_type[data_type['Type']== 'Paid']['Rating'].mean()\n",
    "\n",
    "\n",
    "print(f'Średnia ocena aplikacji darmowej to : {avg_free}, natomiast płatnej to: {avg_paid}')"
   ]
  },
  {
   "cell_type": "code",
   "execution_count": 20,
   "id": "39ddb64f",
   "metadata": {},
   "outputs": [
    {
     "data": {
      "text/html": [
       "<div>\n",
       "<style scoped>\n",
       "    .dataframe tbody tr th:only-of-type {\n",
       "        vertical-align: middle;\n",
       "    }\n",
       "\n",
       "    .dataframe tbody tr th {\n",
       "        vertical-align: top;\n",
       "    }\n",
       "\n",
       "    .dataframe thead th {\n",
       "        text-align: right;\n",
       "    }\n",
       "</style>\n",
       "<table border=\"1\" class=\"dataframe\">\n",
       "  <thead>\n",
       "    <tr style=\"text-align: right;\">\n",
       "      <th></th>\n",
       "      <th>Rating</th>\n",
       "      <th>Installs</th>\n",
       "      <th>Reviews</th>\n",
       "    </tr>\n",
       "  </thead>\n",
       "  <tbody>\n",
       "    <tr>\n",
       "      <th>Rating</th>\n",
       "      <td>1.000000</td>\n",
       "      <td>0.040254</td>\n",
       "      <td>0.055035</td>\n",
       "    </tr>\n",
       "    <tr>\n",
       "      <th>Installs</th>\n",
       "      <td>0.040254</td>\n",
       "      <td>1.000000</td>\n",
       "      <td>0.623897</td>\n",
       "    </tr>\n",
       "    <tr>\n",
       "      <th>Reviews</th>\n",
       "      <td>0.055035</td>\n",
       "      <td>0.623897</td>\n",
       "      <td>1.000000</td>\n",
       "    </tr>\n",
       "  </tbody>\n",
       "</table>\n",
       "</div>"
      ],
      "text/plain": [
       "            Rating  Installs   Reviews\n",
       "Rating    1.000000  0.040254  0.055035\n",
       "Installs  0.040254  1.000000  0.623897\n",
       "Reviews   0.055035  0.623897  1.000000"
      ]
     },
     "execution_count": 20,
     "metadata": {},
     "output_type": "execute_result"
    }
   ],
   "source": [
    "data_type.corr(method='pearson') #badanie korelacji"
   ]
  },
  {
   "cell_type": "code",
   "execution_count": 21,
   "id": "d9cf90e5",
   "metadata": {},
   "outputs": [
    {
     "data": {
      "text/html": [
       "<div>\n",
       "<style scoped>\n",
       "    .dataframe tbody tr th:only-of-type {\n",
       "        vertical-align: middle;\n",
       "    }\n",
       "\n",
       "    .dataframe tbody tr th {\n",
       "        vertical-align: top;\n",
       "    }\n",
       "\n",
       "    .dataframe thead th {\n",
       "        text-align: right;\n",
       "    }\n",
       "</style>\n",
       "<table border=\"1\" class=\"dataframe\">\n",
       "  <thead>\n",
       "    <tr style=\"text-align: right;\">\n",
       "      <th></th>\n",
       "      <th>count</th>\n",
       "      <th>mean</th>\n",
       "      <th>std</th>\n",
       "      <th>min</th>\n",
       "      <th>25%</th>\n",
       "      <th>50%</th>\n",
       "      <th>75%</th>\n",
       "      <th>max</th>\n",
       "    </tr>\n",
       "    <tr>\n",
       "      <th>Type</th>\n",
       "      <th></th>\n",
       "      <th></th>\n",
       "      <th></th>\n",
       "      <th></th>\n",
       "      <th></th>\n",
       "      <th></th>\n",
       "      <th></th>\n",
       "      <th></th>\n",
       "    </tr>\n",
       "  </thead>\n",
       "  <tbody>\n",
       "    <tr>\n",
       "      <th>Free</th>\n",
       "      <td>7592.0</td>\n",
       "      <td>4.166504</td>\n",
       "      <td>0.534214</td>\n",
       "      <td>1.0</td>\n",
       "      <td>4.0</td>\n",
       "      <td>4.3</td>\n",
       "      <td>4.5</td>\n",
       "      <td>5.0</td>\n",
       "    </tr>\n",
       "    <tr>\n",
       "      <th>Paid</th>\n",
       "      <td>604.0</td>\n",
       "      <td>4.262417</td>\n",
       "      <td>0.555863</td>\n",
       "      <td>1.0</td>\n",
       "      <td>4.1</td>\n",
       "      <td>4.4</td>\n",
       "      <td>4.6</td>\n",
       "      <td>5.0</td>\n",
       "    </tr>\n",
       "  </tbody>\n",
       "</table>\n",
       "</div>"
      ],
      "text/plain": [
       "       count      mean       std  min  25%  50%  75%  max\n",
       "Type                                                     \n",
       "Free  7592.0  4.166504  0.534214  1.0  4.0  4.3  4.5  5.0\n",
       "Paid   604.0  4.262417  0.555863  1.0  4.1  4.4  4.6  5.0"
      ]
     },
     "execution_count": 21,
     "metadata": {},
     "output_type": "execute_result"
    }
   ],
   "source": [
    "#statystyka - bez usuniecia outlines\n",
    "\n",
    "s1 = data_type.groupby(by='Type').describe()['Rating']\n",
    "s2 = data_type.groupby(by='Type').describe()['Reviews']\n",
    "s3 = data_type.groupby(by='Type').describe()['Installs']\n",
    "\n",
    "s1"
   ]
  },
  {
   "cell_type": "code",
   "execution_count": 22,
   "id": "e4788fb7",
   "metadata": {},
   "outputs": [
    {
     "data": {
      "text/plain": [
       "<AxesSubplot:>"
      ]
     },
     "execution_count": 22,
     "metadata": {},
     "output_type": "execute_result"
    },
    {
     "data": {
      "image/png": "[encoded data removed]",
      "text/plain": [
       "<Figure size 432x288 with 1 Axes>"
      ]
     },
     "metadata": {
      "needs_background": "light"
     },
     "output_type": "display_data"
    }
   ],
   "source": [
    "\n",
    "mydata['Type'].value_counts().plot(kind='bar', color=('green', 'red'))"
   ]
  },
  {
   "cell_type": "code",
   "execution_count": 23,
   "id": "5f217459",
   "metadata": {},
   "outputs": [
    {
     "data": {
      "text/html": [
       "<div>\n",
       "<style scoped>\n",
       "    .dataframe tbody tr th:only-of-type {\n",
       "        vertical-align: middle;\n",
       "    }\n",
       "\n",
       "    .dataframe tbody tr th {\n",
       "        vertical-align: top;\n",
       "    }\n",
       "\n",
       "    .dataframe thead th {\n",
       "        text-align: right;\n",
       "    }\n",
       "</style>\n",
       "<table border=\"1\" class=\"dataframe\">\n",
       "  <thead>\n",
       "    <tr style=\"text-align: right;\">\n",
       "      <th></th>\n",
       "      <th>App</th>\n",
       "      <th>Type</th>\n",
       "      <th>Rating</th>\n",
       "      <th>Installs</th>\n",
       "      <th>Reviews</th>\n",
       "    </tr>\n",
       "  </thead>\n",
       "  <tbody>\n",
       "    <tr>\n",
       "      <th>3432</th>\n",
       "      <td>Facebook</td>\n",
       "      <td>Free</td>\n",
       "      <td>4.1</td>\n",
       "      <td>1000000000</td>\n",
       "      <td>78158306</td>\n",
       "    </tr>\n",
       "    <tr>\n",
       "      <th>7665</th>\n",
       "      <td>WhatsApp Messenger</td>\n",
       "      <td>Free</td>\n",
       "      <td>4.4</td>\n",
       "      <td>1000000000</td>\n",
       "      <td>69119316</td>\n",
       "    </tr>\n",
       "    <tr>\n",
       "      <th>4422</th>\n",
       "      <td>Instagram</td>\n",
       "      <td>Free</td>\n",
       "      <td>4.5</td>\n",
       "      <td>1000000000</td>\n",
       "      <td>66577446</td>\n",
       "    </tr>\n",
       "    <tr>\n",
       "      <th>5096</th>\n",
       "      <td>Messenger – Text and Video Chat for Free</td>\n",
       "      <td>Free</td>\n",
       "      <td>4.0</td>\n",
       "      <td>1000000000</td>\n",
       "      <td>56646578</td>\n",
       "    </tr>\n",
       "    <tr>\n",
       "      <th>6807</th>\n",
       "      <td>Subway Surfers</td>\n",
       "      <td>Free</td>\n",
       "      <td>4.5</td>\n",
       "      <td>1000000000</td>\n",
       "      <td>27725352</td>\n",
       "    </tr>\n",
       "    <tr>\n",
       "      <th>7834</th>\n",
       "      <td>YouTube</td>\n",
       "      <td>Free</td>\n",
       "      <td>4.3</td>\n",
       "      <td>1000000000</td>\n",
       "      <td>25655305</td>\n",
       "    </tr>\n",
       "    <tr>\n",
       "      <th>4007</th>\n",
       "      <td>Google Photos</td>\n",
       "      <td>Free</td>\n",
       "      <td>4.5</td>\n",
       "      <td>1000000000</td>\n",
       "      <td>10859051</td>\n",
       "    </tr>\n",
       "    <tr>\n",
       "      <th>6592</th>\n",
       "      <td>Skype - free IM &amp; video calls</td>\n",
       "      <td>Free</td>\n",
       "      <td>4.1</td>\n",
       "      <td>1000000000</td>\n",
       "      <td>10484169</td>\n",
       "    </tr>\n",
       "    <tr>\n",
       "      <th>3991</th>\n",
       "      <td>Google Chrome: Fast &amp; Secure</td>\n",
       "      <td>Free</td>\n",
       "      <td>4.3</td>\n",
       "      <td>1000000000</td>\n",
       "      <td>9643041</td>\n",
       "    </tr>\n",
       "    <tr>\n",
       "      <th>5000</th>\n",
       "      <td>Maps - Navigate &amp; Explore</td>\n",
       "      <td>Free</td>\n",
       "      <td>4.3</td>\n",
       "      <td>1000000000</td>\n",
       "      <td>9235373</td>\n",
       "    </tr>\n",
       "  </tbody>\n",
       "</table>\n",
       "</div>"
      ],
      "text/plain": [
       "                                           App  Type  Rating    Installs  \\\n",
       "3432                                  Facebook  Free     4.1  1000000000   \n",
       "7665                        WhatsApp Messenger  Free     4.4  1000000000   \n",
       "4422                                 Instagram  Free     4.5  1000000000   \n",
       "5096  Messenger – Text and Video Chat for Free  Free     4.0  1000000000   \n",
       "6807                            Subway Surfers  Free     4.5  1000000000   \n",
       "7834                                   YouTube  Free     4.3  1000000000   \n",
       "4007                             Google Photos  Free     4.5  1000000000   \n",
       "6592             Skype - free IM & video calls  Free     4.1  1000000000   \n",
       "3991              Google Chrome: Fast & Secure  Free     4.3  1000000000   \n",
       "5000                 Maps - Navigate & Explore  Free     4.3  1000000000   \n",
       "\n",
       "       Reviews  \n",
       "3432  78158306  \n",
       "7665  69119316  \n",
       "4422  66577446  \n",
       "5096  56646578  \n",
       "6807  27725352  \n",
       "7834  25655305  \n",
       "4007  10859051  \n",
       "6592  10484169  \n",
       "3991   9643041  \n",
       "5000   9235373  "
      ]
     },
     "execution_count": 23,
     "metadata": {},
     "output_type": "execute_result"
    }
   ],
   "source": [
    "top_10_free =free_type.sort_values(['Installs',\"Reviews\"], ascending=False).iloc[:10]\n",
    "\n",
    "top_10_free\n",
    "\n"
   ]
  },
  {
   "cell_type": "code",
   "execution_count": 24,
   "id": "c5c907a7",
   "metadata": {},
   "outputs": [
    {
     "data": {
      "text/html": [
       "<div>\n",
       "<style scoped>\n",
       "    .dataframe tbody tr th:only-of-type {\n",
       "        vertical-align: middle;\n",
       "    }\n",
       "\n",
       "    .dataframe tbody tr th {\n",
       "        vertical-align: top;\n",
       "    }\n",
       "\n",
       "    .dataframe thead th {\n",
       "        text-align: right;\n",
       "    }\n",
       "</style>\n",
       "<table border=\"1\" class=\"dataframe\">\n",
       "  <thead>\n",
       "    <tr style=\"text-align: right;\">\n",
       "      <th></th>\n",
       "      <th>App</th>\n",
       "      <th>Category</th>\n",
       "      <th>Rating</th>\n",
       "      <th>Reviews</th>\n",
       "      <th>Size</th>\n",
       "      <th>Installs</th>\n",
       "      <th>Type</th>\n",
       "      <th>Content Rating</th>\n",
       "    </tr>\n",
       "  </thead>\n",
       "  <tbody>\n",
       "    <tr>\n",
       "      <th>1829</th>\n",
       "      <td>Calculator</td>\n",
       "      <td>TOOLS</td>\n",
       "      <td>4.3</td>\n",
       "      <td>57</td>\n",
       "      <td>Varies with device</td>\n",
       "      <td>100000000</td>\n",
       "      <td>Paid</td>\n",
       "      <td>Everyone</td>\n",
       "    </tr>\n",
       "    <tr>\n",
       "      <th>5135</th>\n",
       "      <td>Minecraft</td>\n",
       "      <td>FAMILY</td>\n",
       "      <td>4.5</td>\n",
       "      <td>2376564</td>\n",
       "      <td>Varies with device</td>\n",
       "      <td>10000000</td>\n",
       "      <td>Paid</td>\n",
       "      <td>Everyone 10+</td>\n",
       "    </tr>\n",
       "    <tr>\n",
       "      <th>4236</th>\n",
       "      <td>Hitman Sniper</td>\n",
       "      <td>GAME</td>\n",
       "      <td>4.6</td>\n",
       "      <td>408292</td>\n",
       "      <td>29M</td>\n",
       "      <td>10000000</td>\n",
       "      <td>Paid</td>\n",
       "      <td>Mature 17+</td>\n",
       "    </tr>\n",
       "    <tr>\n",
       "      <th>4030</th>\n",
       "      <td>Grand Theft Auto: San Andreas</td>\n",
       "      <td>GAME</td>\n",
       "      <td>4.4</td>\n",
       "      <td>348962</td>\n",
       "      <td>26M</td>\n",
       "      <td>1000000</td>\n",
       "      <td>Paid</td>\n",
       "      <td>Mature 17+</td>\n",
       "    </tr>\n",
       "    <tr>\n",
       "      <th>1374</th>\n",
       "      <td>Bloons TD 5</td>\n",
       "      <td>FAMILY</td>\n",
       "      <td>4.6</td>\n",
       "      <td>190086</td>\n",
       "      <td>94M</td>\n",
       "      <td>1000000</td>\n",
       "      <td>Paid</td>\n",
       "      <td>Everyone</td>\n",
       "    </tr>\n",
       "    <tr>\n",
       "      <th>7675</th>\n",
       "      <td>Where's My Water?</td>\n",
       "      <td>FAMILY</td>\n",
       "      <td>4.7</td>\n",
       "      <td>188740</td>\n",
       "      <td>69M</td>\n",
       "      <td>1000000</td>\n",
       "      <td>Paid</td>\n",
       "      <td>Everyone</td>\n",
       "    </tr>\n",
       "    <tr>\n",
       "      <th>1919</th>\n",
       "      <td>Card Wars - Adventure Time</td>\n",
       "      <td>FAMILY</td>\n",
       "      <td>4.3</td>\n",
       "      <td>129603</td>\n",
       "      <td>23M</td>\n",
       "      <td>1000000</td>\n",
       "      <td>Paid</td>\n",
       "      <td>Everyone 10+</td>\n",
       "    </tr>\n",
       "    <tr>\n",
       "      <th>7288</th>\n",
       "      <td>True Skate</td>\n",
       "      <td>SPORTS</td>\n",
       "      <td>4.4</td>\n",
       "      <td>129409</td>\n",
       "      <td>73M</td>\n",
       "      <td>1000000</td>\n",
       "      <td>Paid</td>\n",
       "      <td>Everyone</td>\n",
       "    </tr>\n",
       "    <tr>\n",
       "      <th>3581</th>\n",
       "      <td>Five Nights at Freddy's</td>\n",
       "      <td>GAME</td>\n",
       "      <td>4.6</td>\n",
       "      <td>100805</td>\n",
       "      <td>50M</td>\n",
       "      <td>1000000</td>\n",
       "      <td>Paid</td>\n",
       "      <td>Teen</td>\n",
       "    </tr>\n",
       "    <tr>\n",
       "      <th>1204</th>\n",
       "      <td>Beautiful Widgets Pro</td>\n",
       "      <td>PERSONALIZATION</td>\n",
       "      <td>4.2</td>\n",
       "      <td>97890</td>\n",
       "      <td>14M</td>\n",
       "      <td>1000000</td>\n",
       "      <td>Paid</td>\n",
       "      <td>Everyone</td>\n",
       "    </tr>\n",
       "  </tbody>\n",
       "</table>\n",
       "</div>"
      ],
      "text/plain": [
       "                                App         Category  Rating  Reviews  \\\n",
       "1829                     Calculator            TOOLS     4.3       57   \n",
       "5135                      Minecraft           FAMILY     4.5  2376564   \n",
       "4236                  Hitman Sniper             GAME     4.6   408292   \n",
       "4030  Grand Theft Auto: San Andreas             GAME     4.4   348962   \n",
       "1374                    Bloons TD 5           FAMILY     4.6   190086   \n",
       "7675              Where's My Water?           FAMILY     4.7   188740   \n",
       "1919     Card Wars - Adventure Time           FAMILY     4.3   129603   \n",
       "7288                     True Skate           SPORTS     4.4   129409   \n",
       "3581        Five Nights at Freddy's             GAME     4.6   100805   \n",
       "1204          Beautiful Widgets Pro  PERSONALIZATION     4.2    97890   \n",
       "\n",
       "                    Size   Installs  Type Content Rating  \n",
       "1829  Varies with device  100000000  Paid       Everyone  \n",
       "5135  Varies with device   10000000  Paid   Everyone 10+  \n",
       "4236                 29M   10000000  Paid     Mature 17+  \n",
       "4030                 26M    1000000  Paid     Mature 17+  \n",
       "1374                 94M    1000000  Paid       Everyone  \n",
       "7675                 69M    1000000  Paid       Everyone  \n",
       "1919                 23M    1000000  Paid   Everyone 10+  \n",
       "7288                 73M    1000000  Paid       Everyone  \n",
       "3581                 50M    1000000  Paid           Teen  \n",
       "1204                 14M    1000000  Paid       Everyone  "
      ]
     },
     "execution_count": 24,
     "metadata": {},
     "output_type": "execute_result"
    }
   ],
   "source": [
    "data[data[\"Type\"] == \"Paid\"].sort_values(['Installs',\"Reviews\"], ascending=False).iloc[:10] #jako ciekawostka"
   ]
  },
  {
   "cell_type": "code",
   "execution_count": null,
   "id": "0758c733",
   "metadata": {},
   "outputs": [],
   "source": []
  },
  {
   "cell_type": "markdown",
   "id": "74acdba4",
   "metadata": {},
   "source": []
  }
 ],
 "metadata": {
  "kernelspec": {
   "display_name": "Python 3 (ipykernel)",
   "language": "python",
   "name": "python3"
  },
  "language_info": {
   "codemirror_mode": {
    "name": "ipython",
    "version": 3
   },
   "file_extension": ".py",
   "mimetype": "text/x-python",
   "name": "python",
   "nbconvert_exporter": "python",
   "pygments_lexer": "ipython3",
   "version": "3.9.7"
  }
 },
 "nbformat": 4,
 "nbformat_minor": 5
}
