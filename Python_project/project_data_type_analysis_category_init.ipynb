{
 "cells": [
  {
   "cell_type": "code",
   "execution_count": 76,
   "id": "a81ba977",
   "metadata": {},
   "outputs": [
    {
     "data": {
      "text/html": [
       "<div>\n",
       "<style scoped>\n",
       "    .dataframe tbody tr th:only-of-type {\n",
       "        vertical-align: middle;\n",
       "    }\n",
       "\n",
       "    .dataframe tbody tr th {\n",
       "        vertical-align: top;\n",
       "    }\n",
       "\n",
       "    .dataframe thead th {\n",
       "        text-align: right;\n",
       "    }\n",
       "</style>\n",
       "<table border=\"1\" class=\"dataframe\">\n",
       "  <thead>\n",
       "    <tr style=\"text-align: right;\">\n",
       "      <th></th>\n",
       "      <th>App</th>\n",
       "      <th>Category</th>\n",
       "      <th>Rating</th>\n",
       "      <th>Reviews</th>\n",
       "      <th>Size</th>\n",
       "      <th>Installs</th>\n",
       "      <th>Type</th>\n",
       "      <th>Price</th>\n",
       "      <th>Content Rating</th>\n",
       "      <th>Genres</th>\n",
       "      <th>Last Updated</th>\n",
       "      <th>Current Ver</th>\n",
       "      <th>Android Ver</th>\n",
       "    </tr>\n",
       "  </thead>\n",
       "  <tbody>\n",
       "    <tr>\n",
       "      <th>0</th>\n",
       "      <td>Photo Editor &amp; Candy Camera &amp; Grid &amp; ScrapBook</td>\n",
       "      <td>ART_AND_DESIGN</td>\n",
       "      <td>4.1</td>\n",
       "      <td>159</td>\n",
       "      <td>19M</td>\n",
       "      <td>10,000+</td>\n",
       "      <td>Free</td>\n",
       "      <td>0</td>\n",
       "      <td>Everyone</td>\n",
       "      <td>Art &amp; Design</td>\n",
       "      <td>January 7, 2018</td>\n",
       "      <td>1.0.0</td>\n",
       "      <td>4.0.3 and up</td>\n",
       "    </tr>\n",
       "    <tr>\n",
       "      <th>1</th>\n",
       "      <td>Coloring book moana</td>\n",
       "      <td>ART_AND_DESIGN</td>\n",
       "      <td>3.9</td>\n",
       "      <td>967</td>\n",
       "      <td>14M</td>\n",
       "      <td>500,000+</td>\n",
       "      <td>Free</td>\n",
       "      <td>0</td>\n",
       "      <td>Everyone</td>\n",
       "      <td>Art &amp; Design;Pretend Play</td>\n",
       "      <td>January 15, 2018</td>\n",
       "      <td>2.0.0</td>\n",
       "      <td>4.0.3 and up</td>\n",
       "    </tr>\n",
       "    <tr>\n",
       "      <th>2</th>\n",
       "      <td>U Launcher Lite – FREE Live Cool Themes, Hide ...</td>\n",
       "      <td>ART_AND_DESIGN</td>\n",
       "      <td>4.7</td>\n",
       "      <td>87510</td>\n",
       "      <td>8.7M</td>\n",
       "      <td>5,000,000+</td>\n",
       "      <td>Free</td>\n",
       "      <td>0</td>\n",
       "      <td>Everyone</td>\n",
       "      <td>Art &amp; Design</td>\n",
       "      <td>August 1, 2018</td>\n",
       "      <td>1.2.4</td>\n",
       "      <td>4.0.3 and up</td>\n",
       "    </tr>\n",
       "    <tr>\n",
       "      <th>3</th>\n",
       "      <td>Sketch - Draw &amp; Paint</td>\n",
       "      <td>ART_AND_DESIGN</td>\n",
       "      <td>4.5</td>\n",
       "      <td>215644</td>\n",
       "      <td>25M</td>\n",
       "      <td>50,000,000+</td>\n",
       "      <td>Free</td>\n",
       "      <td>0</td>\n",
       "      <td>Teen</td>\n",
       "      <td>Art &amp; Design</td>\n",
       "      <td>June 8, 2018</td>\n",
       "      <td>Varies with device</td>\n",
       "      <td>4.2 and up</td>\n",
       "    </tr>\n",
       "    <tr>\n",
       "      <th>4</th>\n",
       "      <td>Pixel Draw - Number Art Coloring Book</td>\n",
       "      <td>ART_AND_DESIGN</td>\n",
       "      <td>4.3</td>\n",
       "      <td>967</td>\n",
       "      <td>2.8M</td>\n",
       "      <td>100,000+</td>\n",
       "      <td>Free</td>\n",
       "      <td>0</td>\n",
       "      <td>Everyone</td>\n",
       "      <td>Art &amp; Design;Creativity</td>\n",
       "      <td>June 20, 2018</td>\n",
       "      <td>1.1</td>\n",
       "      <td>4.4 and up</td>\n",
       "    </tr>\n",
       "    <tr>\n",
       "      <th>...</th>\n",
       "      <td>...</td>\n",
       "      <td>...</td>\n",
       "      <td>...</td>\n",
       "      <td>...</td>\n",
       "      <td>...</td>\n",
       "      <td>...</td>\n",
       "      <td>...</td>\n",
       "      <td>...</td>\n",
       "      <td>...</td>\n",
       "      <td>...</td>\n",
       "      <td>...</td>\n",
       "      <td>...</td>\n",
       "      <td>...</td>\n",
       "    </tr>\n",
       "    <tr>\n",
       "      <th>10836</th>\n",
       "      <td>Sya9a Maroc - FR</td>\n",
       "      <td>FAMILY</td>\n",
       "      <td>4.5</td>\n",
       "      <td>38</td>\n",
       "      <td>53M</td>\n",
       "      <td>5,000+</td>\n",
       "      <td>Free</td>\n",
       "      <td>0</td>\n",
       "      <td>Everyone</td>\n",
       "      <td>Education</td>\n",
       "      <td>July 25, 2017</td>\n",
       "      <td>1.48</td>\n",
       "      <td>4.1 and up</td>\n",
       "    </tr>\n",
       "    <tr>\n",
       "      <th>10837</th>\n",
       "      <td>Fr. Mike Schmitz Audio Teachings</td>\n",
       "      <td>FAMILY</td>\n",
       "      <td>5.0</td>\n",
       "      <td>4</td>\n",
       "      <td>3.6M</td>\n",
       "      <td>100+</td>\n",
       "      <td>Free</td>\n",
       "      <td>0</td>\n",
       "      <td>Everyone</td>\n",
       "      <td>Education</td>\n",
       "      <td>July 6, 2018</td>\n",
       "      <td>1.0</td>\n",
       "      <td>4.1 and up</td>\n",
       "    </tr>\n",
       "    <tr>\n",
       "      <th>10838</th>\n",
       "      <td>Parkinson Exercices FR</td>\n",
       "      <td>MEDICAL</td>\n",
       "      <td>NaN</td>\n",
       "      <td>3</td>\n",
       "      <td>9.5M</td>\n",
       "      <td>1,000+</td>\n",
       "      <td>Free</td>\n",
       "      <td>0</td>\n",
       "      <td>Everyone</td>\n",
       "      <td>Medical</td>\n",
       "      <td>January 20, 2017</td>\n",
       "      <td>1.0</td>\n",
       "      <td>2.2 and up</td>\n",
       "    </tr>\n",
       "    <tr>\n",
       "      <th>10839</th>\n",
       "      <td>The SCP Foundation DB fr nn5n</td>\n",
       "      <td>BOOKS_AND_REFERENCE</td>\n",
       "      <td>4.5</td>\n",
       "      <td>114</td>\n",
       "      <td>Varies with device</td>\n",
       "      <td>1,000+</td>\n",
       "      <td>Free</td>\n",
       "      <td>0</td>\n",
       "      <td>Mature 17+</td>\n",
       "      <td>Books &amp; Reference</td>\n",
       "      <td>January 19, 2015</td>\n",
       "      <td>Varies with device</td>\n",
       "      <td>Varies with device</td>\n",
       "    </tr>\n",
       "    <tr>\n",
       "      <th>10840</th>\n",
       "      <td>iHoroscope - 2018 Daily Horoscope &amp; Astrology</td>\n",
       "      <td>LIFESTYLE</td>\n",
       "      <td>4.5</td>\n",
       "      <td>398307</td>\n",
       "      <td>19M</td>\n",
       "      <td>10,000,000+</td>\n",
       "      <td>Free</td>\n",
       "      <td>0</td>\n",
       "      <td>Everyone</td>\n",
       "      <td>Lifestyle</td>\n",
       "      <td>July 25, 2018</td>\n",
       "      <td>Varies with device</td>\n",
       "      <td>Varies with device</td>\n",
       "    </tr>\n",
       "  </tbody>\n",
       "</table>\n",
       "<p>10841 rows × 13 columns</p>\n",
       "</div>"
      ],
      "text/plain": [
       "                                                     App             Category  \\\n",
       "0         Photo Editor & Candy Camera & Grid & ScrapBook       ART_AND_DESIGN   \n",
       "1                                    Coloring book moana       ART_AND_DESIGN   \n",
       "2      U Launcher Lite – FREE Live Cool Themes, Hide ...       ART_AND_DESIGN   \n",
       "3                                  Sketch - Draw & Paint       ART_AND_DESIGN   \n",
       "4                  Pixel Draw - Number Art Coloring Book       ART_AND_DESIGN   \n",
       "...                                                  ...                  ...   \n",
       "10836                                   Sya9a Maroc - FR               FAMILY   \n",
       "10837                   Fr. Mike Schmitz Audio Teachings               FAMILY   \n",
       "10838                             Parkinson Exercices FR              MEDICAL   \n",
       "10839                      The SCP Foundation DB fr nn5n  BOOKS_AND_REFERENCE   \n",
       "10840      iHoroscope - 2018 Daily Horoscope & Astrology            LIFESTYLE   \n",
       "\n",
       "       Rating Reviews                Size     Installs  Type Price  \\\n",
       "0         4.1     159                 19M      10,000+  Free     0   \n",
       "1         3.9     967                 14M     500,000+  Free     0   \n",
       "2         4.7   87510                8.7M   5,000,000+  Free     0   \n",
       "3         4.5  215644                 25M  50,000,000+  Free     0   \n",
       "4         4.3     967                2.8M     100,000+  Free     0   \n",
       "...       ...     ...                 ...          ...   ...   ...   \n",
       "10836     4.5      38                 53M       5,000+  Free     0   \n",
       "10837     5.0       4                3.6M         100+  Free     0   \n",
       "10838     NaN       3                9.5M       1,000+  Free     0   \n",
       "10839     4.5     114  Varies with device       1,000+  Free     0   \n",
       "10840     4.5  398307                 19M  10,000,000+  Free     0   \n",
       "\n",
       "      Content Rating                     Genres      Last Updated  \\\n",
       "0           Everyone               Art & Design   January 7, 2018   \n",
       "1           Everyone  Art & Design;Pretend Play  January 15, 2018   \n",
       "2           Everyone               Art & Design    August 1, 2018   \n",
       "3               Teen               Art & Design      June 8, 2018   \n",
       "4           Everyone    Art & Design;Creativity     June 20, 2018   \n",
       "...              ...                        ...               ...   \n",
       "10836       Everyone                  Education     July 25, 2017   \n",
       "10837       Everyone                  Education      July 6, 2018   \n",
       "10838       Everyone                    Medical  January 20, 2017   \n",
       "10839     Mature 17+          Books & Reference  January 19, 2015   \n",
       "10840       Everyone                  Lifestyle     July 25, 2018   \n",
       "\n",
       "              Current Ver         Android Ver  \n",
       "0                   1.0.0        4.0.3 and up  \n",
       "1                   2.0.0        4.0.3 and up  \n",
       "2                   1.2.4        4.0.3 and up  \n",
       "3      Varies with device          4.2 and up  \n",
       "4                     1.1          4.4 and up  \n",
       "...                   ...                 ...  \n",
       "10836                1.48          4.1 and up  \n",
       "10837                 1.0          4.1 and up  \n",
       "10838                 1.0          2.2 and up  \n",
       "10839  Varies with device  Varies with device  \n",
       "10840  Varies with device  Varies with device  \n",
       "\n",
       "[10841 rows x 13 columns]"
      ]
     },
     "execution_count": 76,
     "metadata": {},
     "output_type": "execute_result"
    }
   ],
   "source": [
    "import pandas as pd\n",
    "import numpy as np\n",
    "import os\n",
    "\n",
    "df1 = pd.read_csv('googleplaystore.csv') \n",
    "df1\n",
    "\n",
    "\n"
   ]
  },
  {
   "cell_type": "code",
   "execution_count": null,
   "id": "ddbffa7c",
   "metadata": {},
   "outputs": [],
   "source": []
  },
  {
   "cell_type": "code",
   "execution_count": 77,
   "id": "d6fcdaff",
   "metadata": {},
   "outputs": [
    {
     "data": {
      "text/html": [
       "<div>\n",
       "<style scoped>\n",
       "    .dataframe tbody tr th:only-of-type {\n",
       "        vertical-align: middle;\n",
       "    }\n",
       "\n",
       "    .dataframe tbody tr th {\n",
       "        vertical-align: top;\n",
       "    }\n",
       "\n",
       "    .dataframe thead th {\n",
       "        text-align: right;\n",
       "    }\n",
       "</style>\n",
       "<table border=\"1\" class=\"dataframe\">\n",
       "  <thead>\n",
       "    <tr style=\"text-align: right;\">\n",
       "      <th></th>\n",
       "      <th>App</th>\n",
       "      <th>Category</th>\n",
       "      <th>Rating</th>\n",
       "      <th>Size</th>\n",
       "      <th>Installs</th>\n",
       "      <th>Type</th>\n",
       "      <th>Content Rating</th>\n",
       "      <th>Reviews</th>\n",
       "    </tr>\n",
       "  </thead>\n",
       "  <tbody>\n",
       "    <tr>\n",
       "      <th>0</th>\n",
       "      <td>+Download 4 Instagram Twitter</td>\n",
       "      <td>SOCIAL</td>\n",
       "      <td>4.5</td>\n",
       "      <td>22M</td>\n",
       "      <td>1,000,000+</td>\n",
       "      <td>Free</td>\n",
       "      <td>Everyone</td>\n",
       "      <td>40467.0</td>\n",
       "    </tr>\n",
       "    <tr>\n",
       "      <th>1</th>\n",
       "      <td>- Free Comics - Comic Apps</td>\n",
       "      <td>COMICS</td>\n",
       "      <td>3.5</td>\n",
       "      <td>9.1M</td>\n",
       "      <td>10,000+</td>\n",
       "      <td>Free</td>\n",
       "      <td>Mature 17+</td>\n",
       "      <td>115.0</td>\n",
       "    </tr>\n",
       "    <tr>\n",
       "      <th>2</th>\n",
       "      <td>.R</td>\n",
       "      <td>TOOLS</td>\n",
       "      <td>4.5</td>\n",
       "      <td>203k</td>\n",
       "      <td>10,000+</td>\n",
       "      <td>Free</td>\n",
       "      <td>Everyone</td>\n",
       "      <td>259.0</td>\n",
       "    </tr>\n",
       "    <tr>\n",
       "      <th>3</th>\n",
       "      <td>/u/app</td>\n",
       "      <td>COMMUNICATION</td>\n",
       "      <td>4.7</td>\n",
       "      <td>53M</td>\n",
       "      <td>10,000+</td>\n",
       "      <td>Free</td>\n",
       "      <td>Mature 17+</td>\n",
       "      <td>573.0</td>\n",
       "    </tr>\n",
       "    <tr>\n",
       "      <th>4</th>\n",
       "      <td>058.ba</td>\n",
       "      <td>NEWS_AND_MAGAZINES</td>\n",
       "      <td>4.4</td>\n",
       "      <td>14M</td>\n",
       "      <td>100+</td>\n",
       "      <td>Free</td>\n",
       "      <td>Everyone</td>\n",
       "      <td>27.0</td>\n",
       "    </tr>\n",
       "    <tr>\n",
       "      <th>...</th>\n",
       "      <td>...</td>\n",
       "      <td>...</td>\n",
       "      <td>...</td>\n",
       "      <td>...</td>\n",
       "      <td>...</td>\n",
       "      <td>...</td>\n",
       "      <td>...</td>\n",
       "      <td>...</td>\n",
       "    </tr>\n",
       "    <tr>\n",
       "      <th>8288</th>\n",
       "      <td>감성학원 BL 첫사랑</td>\n",
       "      <td>COMICS</td>\n",
       "      <td>4.4</td>\n",
       "      <td>34M</td>\n",
       "      <td>10,000+</td>\n",
       "      <td>Free</td>\n",
       "      <td>Everyone</td>\n",
       "      <td>190.0</td>\n",
       "    </tr>\n",
       "    <tr>\n",
       "      <th>8289</th>\n",
       "      <td>💎 I'm rich</td>\n",
       "      <td>LIFESTYLE</td>\n",
       "      <td>3.8</td>\n",
       "      <td>26M</td>\n",
       "      <td>10,000+</td>\n",
       "      <td>Paid</td>\n",
       "      <td>Everyone</td>\n",
       "      <td>718.0</td>\n",
       "    </tr>\n",
       "    <tr>\n",
       "      <th>8290</th>\n",
       "      <td>💘 WhatsLov: Smileys of love, stickers and GIF</td>\n",
       "      <td>SOCIAL</td>\n",
       "      <td>4.6</td>\n",
       "      <td>18M</td>\n",
       "      <td>1,000,000+</td>\n",
       "      <td>Free</td>\n",
       "      <td>Everyone</td>\n",
       "      <td>22098.0</td>\n",
       "    </tr>\n",
       "    <tr>\n",
       "      <th>8291</th>\n",
       "      <td>📏 Smart Ruler ↔️ cm/inch measuring for homework!</td>\n",
       "      <td>TOOLS</td>\n",
       "      <td>4.0</td>\n",
       "      <td>3.2M</td>\n",
       "      <td>10,000+</td>\n",
       "      <td>Free</td>\n",
       "      <td>Everyone</td>\n",
       "      <td>19.0</td>\n",
       "    </tr>\n",
       "    <tr>\n",
       "      <th>8292</th>\n",
       "      <td>🔥 Football Wallpapers 4K | Full HD Backgrounds 😍</td>\n",
       "      <td>ENTERTAINMENT</td>\n",
       "      <td>4.7</td>\n",
       "      <td>4.0M</td>\n",
       "      <td>1,000,000+</td>\n",
       "      <td>Free</td>\n",
       "      <td>Everyone</td>\n",
       "      <td>11661.0</td>\n",
       "    </tr>\n",
       "  </tbody>\n",
       "</table>\n",
       "<p>8293 rows × 8 columns</p>\n",
       "</div>"
      ],
      "text/plain": [
       "                                                   App            Category  \\\n",
       "0                        +Download 4 Instagram Twitter              SOCIAL   \n",
       "1                           - Free Comics - Comic Apps              COMICS   \n",
       "2                                                   .R               TOOLS   \n",
       "3                                               /u/app       COMMUNICATION   \n",
       "4                                               058.ba  NEWS_AND_MAGAZINES   \n",
       "...                                                ...                 ...   \n",
       "8288                                       감성학원 BL 첫사랑              COMICS   \n",
       "8289                                        💎 I'm rich           LIFESTYLE   \n",
       "8290     💘 WhatsLov: Smileys of love, stickers and GIF              SOCIAL   \n",
       "8291  📏 Smart Ruler ↔️ cm/inch measuring for homework!               TOOLS   \n",
       "8292  🔥 Football Wallpapers 4K | Full HD Backgrounds 😍       ENTERTAINMENT   \n",
       "\n",
       "      Rating  Size    Installs  Type Content Rating  Reviews  \n",
       "0        4.5   22M  1,000,000+  Free       Everyone  40467.0  \n",
       "1        3.5  9.1M     10,000+  Free     Mature 17+    115.0  \n",
       "2        4.5  203k     10,000+  Free       Everyone    259.0  \n",
       "3        4.7   53M     10,000+  Free     Mature 17+    573.0  \n",
       "4        4.4   14M        100+  Free       Everyone     27.0  \n",
       "...      ...   ...         ...   ...            ...      ...  \n",
       "8288     4.4   34M     10,000+  Free       Everyone    190.0  \n",
       "8289     3.8   26M     10,000+  Paid       Everyone    718.0  \n",
       "8290     4.6   18M  1,000,000+  Free       Everyone  22098.0  \n",
       "8291     4.0  3.2M     10,000+  Free       Everyone     19.0  \n",
       "8292     4.7  4.0M  1,000,000+  Free       Everyone  11661.0  \n",
       "\n",
       "[8293 rows x 8 columns]"
      ]
     },
     "execution_count": 77,
     "metadata": {},
     "output_type": "execute_result"
    }
   ],
   "source": [
    "# dane = df1.iloc[: , :9] \n",
    "dane = df1[['App', 'Category', 'Rating', 'Reviews', 'Size', 'Installs', 'Type', 'Content Rating']].groupby(['App', 'Category', 'Rating', 'Size', 'Installs', 'Type', 'Content Rating']).mean().reset_index()\n",
    "dane\n"
   ]
  },
  {
   "cell_type": "code",
   "execution_count": 78,
   "id": "9498cd75",
   "metadata": {},
   "outputs": [
    {
     "data": {
      "text/plain": [
       "App               False\n",
       "Category          False\n",
       "Rating            False\n",
       "Size              False\n",
       "Installs          False\n",
       "Type              False\n",
       "Content Rating    False\n",
       "Reviews           False\n",
       "dtype: bool"
      ]
     },
     "execution_count": 78,
     "metadata": {},
     "output_type": "execute_result"
    }
   ],
   "source": [
    "#sprawdzanie czy sa duble\n",
    "\n",
    "dane.isna().max()\n"
   ]
  },
  {
   "cell_type": "code",
   "execution_count": 79,
   "id": "56f2a460",
   "metadata": {},
   "outputs": [
    {
     "data": {
      "text/plain": [
       "Text(0.5, 0, 'Rating')"
      ]
     },
     "execution_count": 79,
     "metadata": {},
     "output_type": "execute_result"
    },
    {
     "data": {
      "image/png": "[encoded data removed]",
      "text/plain": [
       "<Figure size 432x288 with 1 Axes>"
      ]
     },
     "metadata": {
      "needs_background": "light"
     },
     "output_type": "display_data"
    }
   ],
   "source": [
    "data_type = dane[['App', 'Type', 'Rating', 'Installs', 'Reviews']]\n",
    "avg_rt =data_type.groupby(by='Type').mean()['Rating']\n",
    "avg_rt\n",
    "free_type =data_type[data_type['Type']== 'Free']\n",
    "paid_type =data_type[data_type['Type']== 'Paid']\n",
    "\n",
    "import matplotlib.pyplot as plt\n",
    "\n",
    "\n",
    "free_type['Rating'].plot.density()\n",
    "paid_type['Rating'].plot.density(color = 'k')\n",
    "plt.title('Density plot for Free/Paid applications vs rating')\n",
    "plt.xlabel('Rating')\n",
    "\n"
   ]
  },
  {
   "cell_type": "code",
   "execution_count": 80,
   "id": "a73d926a",
   "metadata": {},
   "outputs": [
    {
     "name": "stdout",
     "output_type": "stream",
     "text": [
      "65013.0 -97386.5 162665.5\n",
      "0 1527\n"
     ]
    }
   ],
   "source": [
    "#obliczenia outliners dla Reviews \n",
    "data_type.groupby(by='Type').describe()['Reviews']\n",
    "q1 =data_type.quantile(0.25)['Reviews']\n",
    "q3 =data_type.quantile(0.75)['Reviews']\n",
    "iqr = q3 - q1\n",
    "lower_bound = (q1 - 1.5*iqr)\n",
    "upper_bound = (q3 + 1.5*iqr)\n",
    "print(iqr, lower_bound, upper_bound)\n",
    "\n",
    "num_of_outliers_L = (data_type['Reviews']< lower_bound).sum()\n",
    "num_of_outliers_U = (data_type['Reviews']> upper_bound).sum()\n",
    "\n",
    "print(num_of_outliers_L, num_of_outliers_U)\n"
   ]
  },
  {
   "cell_type": "code",
   "execution_count": 81,
   "id": "2b3335ea",
   "metadata": {},
   "outputs": [
    {
     "data": {
      "text/plain": [
       "Text(0.5, 0, 'Reviews')"
      ]
     },
     "execution_count": 81,
     "metadata": {},
     "output_type": "execute_result"
    },
    {
     "data": {
      "image/png": "[encoded data removed]",
      "text/plain": [
       "<Figure size 432x288 with 1 Axes>"
      ]
     },
     "metadata": {
      "needs_background": "light"
     },
     "output_type": "display_data"
    }
   ],
   "source": [
    "#wybranie danych nie będacymi outlines\n",
    "sorted_data= data_type[(data_type['Reviews'] < upper_bound) & (data_type['Reviews'] > lower_bound)]\n",
    "\n",
    "free_type_s =sorted_data[sorted_data['Type']== 'Free']\n",
    "paid_type_s =sorted_data[sorted_data['Type']== 'Paid']\n",
    "\n",
    "import matplotlib.pyplot as plt\n",
    "import seaborn as sns\n",
    "\n",
    "\n",
    "free_type_s['Reviews'].plot.density()\n",
    "paid_type_s['Reviews'].plot.density(color = 'k')\n",
    "plt.title('Density plot for Free/Paid applications vs no. of reviews')\n",
    "plt.xlabel('Reviews')\n"
   ]
  },
  {
   "cell_type": "code",
   "execution_count": 82,
   "id": "34640d7f",
   "metadata": {},
   "outputs": [
    {
     "data": {
      "text/html": [
       "<div>\n",
       "<style scoped>\n",
       "    .dataframe tbody tr th:only-of-type {\n",
       "        vertical-align: middle;\n",
       "    }\n",
       "\n",
       "    .dataframe tbody tr th {\n",
       "        vertical-align: top;\n",
       "    }\n",
       "\n",
       "    .dataframe thead th {\n",
       "        text-align: right;\n",
       "    }\n",
       "</style>\n",
       "<table border=\"1\" class=\"dataframe\">\n",
       "  <thead>\n",
       "    <tr style=\"text-align: right;\">\n",
       "      <th></th>\n",
       "      <th>count</th>\n",
       "      <th>mean</th>\n",
       "      <th>std</th>\n",
       "      <th>min</th>\n",
       "      <th>25%</th>\n",
       "      <th>50%</th>\n",
       "      <th>75%</th>\n",
       "      <th>max</th>\n",
       "    </tr>\n",
       "    <tr>\n",
       "      <th>Type</th>\n",
       "      <th></th>\n",
       "      <th></th>\n",
       "      <th></th>\n",
       "      <th></th>\n",
       "      <th></th>\n",
       "      <th></th>\n",
       "      <th></th>\n",
       "      <th></th>\n",
       "    </tr>\n",
       "  </thead>\n",
       "  <tbody>\n",
       "    <tr>\n",
       "      <th>Free</th>\n",
       "      <td>6183.0</td>\n",
       "      <td>16344.144913</td>\n",
       "      <td>31453.377132</td>\n",
       "      <td>1.0</td>\n",
       "      <td>81.0</td>\n",
       "      <td>1291.0</td>\n",
       "      <td>16068.0</td>\n",
       "      <td>162655.0</td>\n",
       "    </tr>\n",
       "    <tr>\n",
       "      <th>Paid</th>\n",
       "      <td>583.0</td>\n",
       "      <td>6389.041166</td>\n",
       "      <td>18371.457228</td>\n",
       "      <td>1.0</td>\n",
       "      <td>30.0</td>\n",
       "      <td>217.0</td>\n",
       "      <td>2522.0</td>\n",
       "      <td>129603.0</td>\n",
       "    </tr>\n",
       "  </tbody>\n",
       "</table>\n",
       "</div>"
      ],
      "text/plain": [
       "       count          mean           std  min   25%     50%      75%       max\n",
       "Type                                                                          \n",
       "Free  6183.0  16344.144913  31453.377132  1.0  81.0  1291.0  16068.0  162655.0\n",
       "Paid   583.0   6389.041166  18371.457228  1.0  30.0   217.0   2522.0  129603.0"
      ]
     },
     "execution_count": 82,
     "metadata": {},
     "output_type": "execute_result"
    }
   ],
   "source": [
    "#statystyka po usunięciu outlines\n",
    "sorted_data.groupby(by='Type').describe()['Reviews']"
   ]
  },
  {
   "cell_type": "code",
   "execution_count": 83,
   "id": "6897833d",
   "metadata": {},
   "outputs": [
    {
     "name": "stdout",
     "output_type": "stream",
     "text": [
      "0 3\n"
     ]
    }
   ],
   "source": [
    "#sprawdzanie outlines - inna metoda - sigma (to ma zastosowanie tylko do rozkładów normlanych, najprawdopodobniej nie jest aplikowalne)\n",
    "sigma = data_type['Reviews'].std()\n",
    "srednia = data_type['Reviews'].mean()\n",
    "\n",
    "low_boundary = (srednia - 3*sigma)\n",
    "upp_boundary = (srednia + 3*sigma)\n",
    "\n",
    "numb_of_otliers_L = (data_type['Reviews'] < low_boundary).sum()\n",
    "numb_of_otliers_U = (data_type['Reviews'] > upp_boundary).sum()\n",
    "\n",
    "print(numb_of_otliers_L, numb_of_otliers_U)"
   ]
  },
  {
   "cell_type": "code",
   "execution_count": 84,
   "id": "6ef055dd",
   "metadata": {},
   "outputs": [
    {
     "data": {
      "text/plain": [
       "<AxesSubplot:ylabel='Density'>"
      ]
     },
     "execution_count": 84,
     "metadata": {},
     "output_type": "execute_result"
    },
    {
     "data": {
      "image/png": "[encoded data removed]",
      "text/plain": [
       "<Figure size 432x288 with 1 Axes>"
      ]
     },
     "metadata": {
      "needs_background": "light"
     },
     "output_type": "display_data"
    }
   ],
   "source": [
    "sorted_data_sigma= data_type[(data_type['Reviews'] < upp_boundary) & (data_type['Reviews'] > low_boundary)]\n",
    "\n",
    "free_type_ss =sorted_data_sigma[sorted_data_sigma['Type']== 'Free']\n",
    "paid_type_ss =sorted_data_sigma[sorted_data_sigma['Type']== 'Paid']\n",
    "\n",
    "import matplotlib.pyplot as plt\n",
    "import seaborn as sns\n",
    "\n",
    "\n",
    "free_type_ss['Reviews'].plot.density()\n",
    "paid_type_ss['Reviews'].plot.density()\n",
    "\n",
    "#wykres nie jest czytelny - tylko 3 outlines, metodyka nie ma znaczenia/zastosowania?"
   ]
  },
  {
   "cell_type": "code",
   "execution_count": 85,
   "id": "fe3b10e9",
   "metadata": {},
   "outputs": [
    {
     "name": "stderr",
     "output_type": "stream",
     "text": [
      "C:\\Users\\andrz\\AppData\\Local\\Temp/ipykernel_22512/390395051.py:3: SettingWithCopyWarning: \n",
      "A value is trying to be set on a copy of a slice from a DataFrame.\n",
      "Try using .loc[row_indexer,col_indexer] = value instead\n",
      "\n",
      "See the caveats in the documentation: https://pandas.pydata.org/pandas-docs/stable/user_guide/indexing.html#returning-a-view-versus-a-copy\n",
      "  data_type['Installs'] = data_type['Installs'].str.rstrip('+')\n",
      "C:\\Users\\andrz\\AppData\\Local\\Temp/ipykernel_22512/390395051.py:4: SettingWithCopyWarning: \n",
      "A value is trying to be set on a copy of a slice from a DataFrame.\n",
      "Try using .loc[row_indexer,col_indexer] = value instead\n",
      "\n",
      "See the caveats in the documentation: https://pandas.pydata.org/pandas-docs/stable/user_guide/indexing.html#returning-a-view-versus-a-copy\n",
      "  data_type['Installs'] = data_type['Installs'].replace(',', '', regex = True)\n",
      "C:\\Users\\andrz\\AppData\\Local\\Temp/ipykernel_22512/390395051.py:6: SettingWithCopyWarning: \n",
      "A value is trying to be set on a copy of a slice from a DataFrame.\n",
      "Try using .loc[row_indexer,col_indexer] = value instead\n",
      "\n",
      "See the caveats in the documentation: https://pandas.pydata.org/pandas-docs/stable/user_guide/indexing.html#returning-a-view-versus-a-copy\n",
      "  data_type['Installs'] = pd.to_numeric(data_type['Installs'])\n"
     ]
    }
   ],
   "source": [
    "#zamiana str na int - Installs\n",
    "\n",
    "data_type['Installs'] = data_type['Installs'].str.rstrip('+')\n",
    "data_type['Installs'] = data_type['Installs'].replace(',', '', regex = True)\n",
    "data_type\n",
    "data_type['Installs'] = pd.to_numeric(data_type['Installs'])\n",
    "\n"
   ]
  },
  {
   "cell_type": "code",
   "execution_count": 86,
   "id": "25830561",
   "metadata": {},
   "outputs": [
    {
     "name": "stdout",
     "output_type": "stream",
     "text": [
      "990000.0 -1475000.0 2485000.0\n",
      "0 2050\n"
     ]
    },
    {
     "data": {
      "text/html": [
       "<div>\n",
       "<style scoped>\n",
       "    .dataframe tbody tr th:only-of-type {\n",
       "        vertical-align: middle;\n",
       "    }\n",
       "\n",
       "    .dataframe tbody tr th {\n",
       "        vertical-align: top;\n",
       "    }\n",
       "\n",
       "    .dataframe thead th {\n",
       "        text-align: right;\n",
       "    }\n",
       "</style>\n",
       "<table border=\"1\" class=\"dataframe\">\n",
       "  <thead>\n",
       "    <tr style=\"text-align: right;\">\n",
       "      <th></th>\n",
       "      <th>count</th>\n",
       "      <th>mean</th>\n",
       "      <th>std</th>\n",
       "      <th>min</th>\n",
       "      <th>25%</th>\n",
       "      <th>50%</th>\n",
       "      <th>75%</th>\n",
       "      <th>max</th>\n",
       "    </tr>\n",
       "    <tr>\n",
       "      <th>Type</th>\n",
       "      <th></th>\n",
       "      <th></th>\n",
       "      <th></th>\n",
       "      <th></th>\n",
       "      <th></th>\n",
       "      <th></th>\n",
       "      <th></th>\n",
       "      <th></th>\n",
       "    </tr>\n",
       "  </thead>\n",
       "  <tbody>\n",
       "    <tr>\n",
       "      <th>Free</th>\n",
       "      <td>7687.0</td>\n",
       "      <td>1.040538e+07</td>\n",
       "      <td>6.205632e+07</td>\n",
       "      <td>1.0</td>\n",
       "      <td>10000.0</td>\n",
       "      <td>500000.0</td>\n",
       "      <td>5000000.0</td>\n",
       "      <td>1.000000e+09</td>\n",
       "    </tr>\n",
       "    <tr>\n",
       "      <th>Paid</th>\n",
       "      <td>606.0</td>\n",
       "      <td>9.546614e+04</td>\n",
       "      <td>6.008403e+05</td>\n",
       "      <td>1.0</td>\n",
       "      <td>1000.0</td>\n",
       "      <td>5000.0</td>\n",
       "      <td>50000.0</td>\n",
       "      <td>1.000000e+07</td>\n",
       "    </tr>\n",
       "  </tbody>\n",
       "</table>\n",
       "</div>"
      ],
      "text/plain": [
       "       count          mean           std  min      25%       50%        75%  \\\n",
       "Type                                                                          \n",
       "Free  7687.0  1.040538e+07  6.205632e+07  1.0  10000.0  500000.0  5000000.0   \n",
       "Paid   606.0  9.546614e+04  6.008403e+05  1.0   1000.0    5000.0    50000.0   \n",
       "\n",
       "               max  \n",
       "Type                \n",
       "Free  1.000000e+09  \n",
       "Paid  1.000000e+07  "
      ]
     },
     "execution_count": 86,
     "metadata": {},
     "output_type": "execute_result"
    }
   ],
   "source": [
    "#obliczenia outliners dla Installs \n",
    "data_type.groupby(by='Type').describe()['Installs']\n",
    "q1_i =data_type.quantile(0.25)['Installs']\n",
    "q3_i =data_type.quantile(0.75)['Installs']\n",
    "iqr_i = q3_i - q1_i\n",
    "lower_bound_i = (q1_i - 1.5*iqr_i)\n",
    "upper_bound_i = (q3_i + 1.5*iqr_i)\n",
    "print(iqr_i, lower_bound_i, upper_bound_i)\n",
    "\n",
    "num_of_outliers_L_i = (data_type['Installs']< lower_bound_i).sum()\n",
    "num_of_outliers_U_i = (data_type['Installs']> upper_bound_i).sum()\n",
    "\n",
    "print(num_of_outliers_L_i, num_of_outliers_U_i)\n",
    "data_type.groupby(by='Type').describe()['Installs']\n",
    "\n",
    "#pytanie czy outlines jest dobrze policzone? wychodzi 2050 outlines w górnym pułapie... bez tych obliczń wykres jest nieczytelny jednak..."
   ]
  },
  {
   "cell_type": "code",
   "execution_count": 87,
   "id": "e9375c3a",
   "metadata": {},
   "outputs": [
    {
     "data": {
      "text/plain": [
       "<AxesSubplot:ylabel='Density'>"
      ]
     },
     "execution_count": 87,
     "metadata": {},
     "output_type": "execute_result"
    },
    {
     "data": {
      "image/png": "[encoded data removed]",
      "text/plain": [
       "<Figure size 432x288 with 1 Axes>"
      ]
     },
     "metadata": {
      "needs_background": "light"
     },
     "output_type": "display_data"
    }
   ],
   "source": [
    "#wybranie danych nie będace outlines - wykres nieczytelny...\n",
    "\n",
    "sorted_data_i= data_type[(data_type['Installs'] < upper_bound_i) & (data_type['Installs'] > lower_bound_i)]\n",
    "\n",
    "free_type_si =sorted_data_i[sorted_data_i['Type']== 'Free']\n",
    "paid_type_si =sorted_data_i[sorted_data_i['Type']== 'Paid']\n",
    "\n",
    "\n",
    "free_type_si['Reviews'].plot.density()\n",
    "paid_type_si['Reviews'].plot.density()"
   ]
  },
  {
   "cell_type": "code",
   "execution_count": 88,
   "id": "3b0ab9e9",
   "metadata": {},
   "outputs": [
    {
     "data": {
      "text/plain": [
       "<AxesSubplot:ylabel='Density'>"
      ]
     },
     "execution_count": 88,
     "metadata": {},
     "output_type": "execute_result"
    },
    {
     "data": {
      "image/png": "[encoded data removed]",
      "text/plain": [
       "<Figure size 432x288 with 1 Axes>"
      ]
     },
     "metadata": {
      "needs_background": "light"
     },
     "output_type": "display_data"
    }
   ],
   "source": [
    "#bez usuwania outlines dla Installs\n",
    "\n",
    "free_type =data_type[data_type['Type']== 'Free']\n",
    "paid_type =data_type[data_type['Type']== 'Paid']\n",
    "\n",
    "import matplotlib.pyplot as plt\n",
    "import seaborn as sns\n",
    "\n",
    "\n",
    "free_type['Installs'].plot.density()\n",
    "paid_type['Installs'].plot.density()\n"
   ]
  },
  {
   "cell_type": "code",
   "execution_count": 89,
   "id": "c7368f34",
   "metadata": {},
   "outputs": [
    {
     "data": {
      "text/html": [
       "<div>\n",
       "<style scoped>\n",
       "    .dataframe tbody tr th:only-of-type {\n",
       "        vertical-align: middle;\n",
       "    }\n",
       "\n",
       "    .dataframe tbody tr th {\n",
       "        vertical-align: top;\n",
       "    }\n",
       "\n",
       "    .dataframe thead th {\n",
       "        text-align: right;\n",
       "    }\n",
       "</style>\n",
       "<table border=\"1\" class=\"dataframe\">\n",
       "  <thead>\n",
       "    <tr style=\"text-align: right;\">\n",
       "      <th></th>\n",
       "      <th></th>\n",
       "      <th>App</th>\n",
       "      <th>Rating</th>\n",
       "      <th>Reviews</th>\n",
       "    </tr>\n",
       "    <tr>\n",
       "      <th>Installs</th>\n",
       "      <th>Type</th>\n",
       "      <th></th>\n",
       "      <th></th>\n",
       "      <th></th>\n",
       "    </tr>\n",
       "  </thead>\n",
       "  <tbody>\n",
       "    <tr>\n",
       "      <th rowspan=\"2\" valign=\"top\">1</th>\n",
       "      <th>Free</th>\n",
       "      <td>1</td>\n",
       "      <td>1</td>\n",
       "      <td>1</td>\n",
       "    </tr>\n",
       "    <tr>\n",
       "      <th>Paid</th>\n",
       "      <td>2</td>\n",
       "      <td>2</td>\n",
       "      <td>2</td>\n",
       "    </tr>\n",
       "    <tr>\n",
       "      <th>5</th>\n",
       "      <th>Free</th>\n",
       "      <td>9</td>\n",
       "      <td>9</td>\n",
       "      <td>9</td>\n",
       "    </tr>\n",
       "    <tr>\n",
       "      <th rowspan=\"2\" valign=\"top\">10</th>\n",
       "      <th>Free</th>\n",
       "      <td>51</td>\n",
       "      <td>51</td>\n",
       "      <td>51</td>\n",
       "    </tr>\n",
       "    <tr>\n",
       "      <th>Paid</th>\n",
       "      <td>18</td>\n",
       "      <td>18</td>\n",
       "      <td>18</td>\n",
       "    </tr>\n",
       "    <tr>\n",
       "      <th rowspan=\"2\" valign=\"top\">50</th>\n",
       "      <th>Free</th>\n",
       "      <td>42</td>\n",
       "      <td>42</td>\n",
       "      <td>42</td>\n",
       "    </tr>\n",
       "    <tr>\n",
       "      <th>Paid</th>\n",
       "      <td>14</td>\n",
       "      <td>14</td>\n",
       "      <td>14</td>\n",
       "    </tr>\n",
       "    <tr>\n",
       "      <th rowspan=\"2\" valign=\"top\">100</th>\n",
       "      <th>Free</th>\n",
       "      <td>237</td>\n",
       "      <td>237</td>\n",
       "      <td>237</td>\n",
       "    </tr>\n",
       "    <tr>\n",
       "      <th>Paid</th>\n",
       "      <td>66</td>\n",
       "      <td>66</td>\n",
       "      <td>66</td>\n",
       "    </tr>\n",
       "    <tr>\n",
       "      <th rowspan=\"2\" valign=\"top\">500</th>\n",
       "      <th>Free</th>\n",
       "      <td>163</td>\n",
       "      <td>163</td>\n",
       "      <td>163</td>\n",
       "    </tr>\n",
       "    <tr>\n",
       "      <th>Paid</th>\n",
       "      <td>36</td>\n",
       "      <td>36</td>\n",
       "      <td>36</td>\n",
       "    </tr>\n",
       "    <tr>\n",
       "      <th rowspan=\"2\" valign=\"top\">1000</th>\n",
       "      <th>Free</th>\n",
       "      <td>566</td>\n",
       "      <td>566</td>\n",
       "      <td>566</td>\n",
       "    </tr>\n",
       "    <tr>\n",
       "      <th>Paid</th>\n",
       "      <td>132</td>\n",
       "      <td>132</td>\n",
       "      <td>132</td>\n",
       "    </tr>\n",
       "    <tr>\n",
       "      <th rowspan=\"2\" valign=\"top\">5000</th>\n",
       "      <th>Free</th>\n",
       "      <td>360</td>\n",
       "      <td>360</td>\n",
       "      <td>360</td>\n",
       "    </tr>\n",
       "    <tr>\n",
       "      <th>Paid</th>\n",
       "      <td>65</td>\n",
       "      <td>65</td>\n",
       "      <td>65</td>\n",
       "    </tr>\n",
       "    <tr>\n",
       "      <th rowspan=\"2\" valign=\"top\">10000</th>\n",
       "      <th>Free</th>\n",
       "      <td>871</td>\n",
       "      <td>871</td>\n",
       "      <td>871</td>\n",
       "    </tr>\n",
       "    <tr>\n",
       "      <th>Paid</th>\n",
       "      <td>117</td>\n",
       "      <td>117</td>\n",
       "      <td>117</td>\n",
       "    </tr>\n",
       "    <tr>\n",
       "      <th rowspan=\"2\" valign=\"top\">50000</th>\n",
       "      <th>Free</th>\n",
       "      <td>417</td>\n",
       "      <td>417</td>\n",
       "      <td>417</td>\n",
       "    </tr>\n",
       "    <tr>\n",
       "      <th>Paid</th>\n",
       "      <td>40</td>\n",
       "      <td>40</td>\n",
       "      <td>40</td>\n",
       "    </tr>\n",
       "    <tr>\n",
       "      <th rowspan=\"2\" valign=\"top\">100000</th>\n",
       "      <th>Free</th>\n",
       "      <td>1016</td>\n",
       "      <td>1016</td>\n",
       "      <td>1016</td>\n",
       "    </tr>\n",
       "    <tr>\n",
       "      <th>Paid</th>\n",
       "      <td>82</td>\n",
       "      <td>82</td>\n",
       "      <td>82</td>\n",
       "    </tr>\n",
       "    <tr>\n",
       "      <th rowspan=\"2\" valign=\"top\">500000</th>\n",
       "      <th>Free</th>\n",
       "      <td>497</td>\n",
       "      <td>497</td>\n",
       "      <td>497</td>\n",
       "    </tr>\n",
       "    <tr>\n",
       "      <th>Paid</th>\n",
       "      <td>12</td>\n",
       "      <td>12</td>\n",
       "      <td>12</td>\n",
       "    </tr>\n",
       "    <tr>\n",
       "      <th rowspan=\"2\" valign=\"top\">1000000</th>\n",
       "      <th>Free</th>\n",
       "      <td>1409</td>\n",
       "      <td>1409</td>\n",
       "      <td>1409</td>\n",
       "    </tr>\n",
       "    <tr>\n",
       "      <th>Paid</th>\n",
       "      <td>20</td>\n",
       "      <td>20</td>\n",
       "      <td>20</td>\n",
       "    </tr>\n",
       "    <tr>\n",
       "      <th>5000000</th>\n",
       "      <th>Free</th>\n",
       "      <td>621</td>\n",
       "      <td>621</td>\n",
       "      <td>621</td>\n",
       "    </tr>\n",
       "    <tr>\n",
       "      <th rowspan=\"2\" valign=\"top\">10000000</th>\n",
       "      <th>Free</th>\n",
       "      <td>964</td>\n",
       "      <td>964</td>\n",
       "      <td>964</td>\n",
       "    </tr>\n",
       "    <tr>\n",
       "      <th>Paid</th>\n",
       "      <td>2</td>\n",
       "      <td>2</td>\n",
       "      <td>2</td>\n",
       "    </tr>\n",
       "    <tr>\n",
       "      <th>50000000</th>\n",
       "      <th>Free</th>\n",
       "      <td>211</td>\n",
       "      <td>211</td>\n",
       "      <td>211</td>\n",
       "    </tr>\n",
       "    <tr>\n",
       "      <th>100000000</th>\n",
       "      <th>Free</th>\n",
       "      <td>204</td>\n",
       "      <td>204</td>\n",
       "      <td>204</td>\n",
       "    </tr>\n",
       "    <tr>\n",
       "      <th>500000000</th>\n",
       "      <th>Free</th>\n",
       "      <td>27</td>\n",
       "      <td>27</td>\n",
       "      <td>27</td>\n",
       "    </tr>\n",
       "    <tr>\n",
       "      <th>1000000000</th>\n",
       "      <th>Free</th>\n",
       "      <td>21</td>\n",
       "      <td>21</td>\n",
       "      <td>21</td>\n",
       "    </tr>\n",
       "  </tbody>\n",
       "</table>\n",
       "</div>"
      ],
      "text/plain": [
       "                  App  Rating  Reviews\n",
       "Installs   Type                       \n",
       "1          Free     1       1        1\n",
       "           Paid     2       2        2\n",
       "5          Free     9       9        9\n",
       "10         Free    51      51       51\n",
       "           Paid    18      18       18\n",
       "50         Free    42      42       42\n",
       "           Paid    14      14       14\n",
       "100        Free   237     237      237\n",
       "           Paid    66      66       66\n",
       "500        Free   163     163      163\n",
       "           Paid    36      36       36\n",
       "1000       Free   566     566      566\n",
       "           Paid   132     132      132\n",
       "5000       Free   360     360      360\n",
       "           Paid    65      65       65\n",
       "10000      Free   871     871      871\n",
       "           Paid   117     117      117\n",
       "50000      Free   417     417      417\n",
       "           Paid    40      40       40\n",
       "100000     Free  1016    1016     1016\n",
       "           Paid    82      82       82\n",
       "500000     Free   497     497      497\n",
       "           Paid    12      12       12\n",
       "1000000    Free  1409    1409     1409\n",
       "           Paid    20      20       20\n",
       "5000000    Free   621     621      621\n",
       "10000000   Free   964     964      964\n",
       "           Paid     2       2        2\n",
       "50000000   Free   211     211      211\n",
       "100000000  Free   204     204      204\n",
       "500000000  Free    27      27       27\n",
       "1000000000 Free    21      21       21"
      ]
     },
     "execution_count": 89,
     "metadata": {},
     "output_type": "execute_result"
    },
    {
     "data": {
      "image/png": "[encoded data removed]",
      "text/plain": [
       "<Figure size 432x288 with 2 Axes>"
      ]
     },
     "metadata": {
      "needs_background": "light"
     },
     "output_type": "display_data"
    }
   ],
   "source": [
    "#przebieg dla Installs - zestawinie w 'klasie' ilości pobrań i sprawdzenie częstotliwości 'klasy' - bardziej informacyjnie niż do użycia\n",
    "data_type.groupby(['Installs', 'Type']).count()\n",
    "\n",
    "\n",
    "free_instal =data_type[data_type['Type']== 'Free'].groupby('Installs').count()['App']\n",
    "paid_instal =data_type[data_type['Type']== 'Paid'].groupby('Installs').count()['App']\n",
    "\n",
    "\n",
    "plt.subplot(2,1,1)\n",
    "free_instal.plot.density()\n",
    "plt.subplot(2,1,2)\n",
    "paid_instal.plot.density(color = 'k')\n",
    "data_type.groupby(['Installs', 'Type']).count()\n",
    "\n"
   ]
  },
  {
   "cell_type": "code",
   "execution_count": 90,
   "id": "c8001be9",
   "metadata": {},
   "outputs": [
    {
     "name": "stdout",
     "output_type": "stream",
     "text": [
      "count    7.687000e+03\n",
      "mean     1.040538e+07\n",
      "std      6.205632e+07\n",
      "min      1.000000e+00\n",
      "25%      1.000000e+04\n",
      "50%      5.000000e+05\n",
      "75%      5.000000e+06\n",
      "max      1.000000e+09\n",
      "Name: Installs, dtype: float64\n",
      "count    6.060000e+02\n",
      "mean     9.546614e+04\n",
      "std      6.008403e+05\n",
      "min      1.000000e+00\n",
      "25%      1.000000e+03\n",
      "50%      5.000000e+03\n",
      "75%      5.000000e+04\n",
      "max      1.000000e+07\n",
      "Name: Installs, dtype: float64\n"
     ]
    },
    {
     "data": {
      "image/png": "[encoded data removed]",
      "text/plain": [
       "<Figure size 432x288 with 2 Axes>"
      ]
     },
     "metadata": {
      "needs_background": "light"
     },
     "output_type": "display_data"
    }
   ],
   "source": [
    "#przebieg dla 'Installs' bez usuwania outlines - na dwóch różnych wykresach\n",
    "\n",
    "plt.subplot(2,1,1)\n",
    "free_type['Installs'].plot.density()\n",
    "plt.subplot(2,1,2)\n",
    "paid_type['Installs'].plot.density(color = 'k')\n",
    "\n",
    "print(free_type['Installs'].describe())\n",
    "print(paid_type['Installs'].describe())"
   ]
  },
  {
   "cell_type": "code",
   "execution_count": 91,
   "id": "243ef858",
   "metadata": {},
   "outputs": [
    {
     "data": {
      "text/plain": [
       "<AxesSubplot:>"
      ]
     },
     "execution_count": 91,
     "metadata": {},
     "output_type": "execute_result"
    },
    {
     "data": {
      "image/png": "[encoded data removed]",
      "text/plain": [
       "<Figure size 432x288 with 1 Axes>"
      ]
     },
     "metadata": {
      "needs_background": "light"
     },
     "output_type": "display_data"
    }
   ],
   "source": [
    "#histogram dla Installs tylko po to zeby porównać dokładniej powyższe przebiegi\n",
    "\n",
    "free_instal.hist()\n",
    "paid_instal.hist()"
   ]
  },
  {
   "cell_type": "code",
   "execution_count": 92,
   "id": "1d3c87e4",
   "metadata": {},
   "outputs": [
    {
     "data": {
      "text/plain": [
       "1000000000"
      ]
     },
     "execution_count": 92,
     "metadata": {},
     "output_type": "execute_result"
    }
   ],
   "source": [
    "data_type['Installs'].max()"
   ]
  },
  {
   "cell_type": "code",
   "execution_count": 93,
   "id": "85f17727",
   "metadata": {},
   "outputs": [
    {
     "name": "stdout",
     "output_type": "stream",
     "text": [
      "4051     Google Photos\n",
      "4474         Instagram\n",
      "6888    Subway Surfers\n",
      "Name: App, dtype: object\n",
      "----------\n",
      "6888    Subway Surfers\n",
      "Name: App, dtype: object\n"
     ]
    },
    {
     "data": {
      "text/html": [
       "<div>\n",
       "<style scoped>\n",
       "    .dataframe tbody tr th:only-of-type {\n",
       "        vertical-align: middle;\n",
       "    }\n",
       "\n",
       "    .dataframe tbody tr th {\n",
       "        vertical-align: top;\n",
       "    }\n",
       "\n",
       "    .dataframe thead th {\n",
       "        text-align: right;\n",
       "    }\n",
       "</style>\n",
       "<table border=\"1\" class=\"dataframe\">\n",
       "  <thead>\n",
       "    <tr style=\"text-align: right;\">\n",
       "      <th></th>\n",
       "      <th>App</th>\n",
       "      <th>Type</th>\n",
       "      <th>Rating</th>\n",
       "      <th>Installs</th>\n",
       "      <th>Reviews</th>\n",
       "    </tr>\n",
       "  </thead>\n",
       "  <tbody>\n",
       "    <tr>\n",
       "      <th>4051</th>\n",
       "      <td>Google Photos</td>\n",
       "      <td>Free</td>\n",
       "      <td>4.5</td>\n",
       "      <td>1000000000</td>\n",
       "      <td>2.714639e+30</td>\n",
       "    </tr>\n",
       "    <tr>\n",
       "      <th>4474</th>\n",
       "      <td>Instagram</td>\n",
       "      <td>Free</td>\n",
       "      <td>4.5</td>\n",
       "      <td>1000000000</td>\n",
       "      <td>1.664433e+31</td>\n",
       "    </tr>\n",
       "    <tr>\n",
       "      <th>6888</th>\n",
       "      <td>Subway Surfers</td>\n",
       "      <td>Free</td>\n",
       "      <td>4.5</td>\n",
       "      <td>1000000000</td>\n",
       "      <td>4.620377e+46</td>\n",
       "    </tr>\n",
       "  </tbody>\n",
       "</table>\n",
       "</div>"
      ],
      "text/plain": [
       "                 App  Type  Rating    Installs       Reviews\n",
       "4051   Google Photos  Free     4.5  1000000000  2.714639e+30\n",
       "4474       Instagram  Free     4.5  1000000000  1.664433e+31\n",
       "6888  Subway Surfers  Free     4.5  1000000000  4.620377e+46"
      ]
     },
     "execution_count": 93,
     "metadata": {},
     "output_type": "execute_result"
    }
   ],
   "source": [
    "max_data= data_type[data_type['Installs'] ==data_type['Installs'].max()] #zestawienie aplikacji o największej liczbie pobrań\n",
    "\n",
    "max_data_r =max_data[max_data['Reviews']== max_data['Reviews'].max()] #aplikacja najbardziej popularna (rozważanie pod kątem free/paid) // Subway Surfers\n",
    "max_data_r\n",
    "\n",
    "max_data_rt =max_data[max_data['Rating']== max_data['Rating'].max()] #aplikacje najbardziej popularne najlepiej ocenianie // Subway Surfers\n",
    "print(max_data_rt['App'])\n",
    "print('----------')\n",
    "print(max_data_r['App'])\n",
    "max_data_rt"
   ]
  },
  {
   "cell_type": "code",
   "execution_count": 94,
   "id": "d6f08fad",
   "metadata": {},
   "outputs": [
    {
     "data": {
      "text/plain": [
       "100.0"
      ]
     },
     "execution_count": 94,
     "metadata": {},
     "output_type": "execute_result"
    }
   ],
   "source": [
    "\n",
    "\n",
    "max_data_f= free_type[free_type['Installs'] ==free_type['Installs'].max()]\n",
    "max_data_f\n",
    "\n",
    "max_data_p = paid_type[paid_type['Installs']== paid_type['Installs'].max()]\n",
    "sts_max = max_data_f['Installs'].unique()[0] / max_data_p['Installs'].unique()[0]\n",
    "sts_max #aplikacja o największej liczny pobrań należąca do kategorii darmowe jest 100 razy bardziej popularna niż aplikacja najczęściej pobierana płatna"
   ]
  },
  {
   "cell_type": "code",
   "execution_count": 95,
   "id": "76e90da9",
   "metadata": {},
   "outputs": [
    {
     "name": "stdout",
     "output_type": "stream",
     "text": [
      "Stosunek ilości pobrań do ilości aplikacji w bazie dla aplikacji damrowych wynosi :10405377.11, natomiast dla płatnych: 95466.14\n"
     ]
    }
   ],
   "source": [
    "#suma pobrań aplikacji płatnej / darmowej względem ilości takich aplikacji\n",
    "\n",
    "sum_free = data_type[data_type['Type']== 'Free']['Installs'].sum()\n",
    "no_free = len(data_type[data_type['Type']== 'Free'])\n",
    "sum_paid = data_type[data_type['Type']== 'Paid']['Installs'].sum()\n",
    "no_paid = len(data_type[data_type['Type']== 'Paid'])\n",
    "\n",
    "wsp_free = round(sum_free/no_free, 2)\n",
    "wsp_paid = round(sum_paid/no_paid, 2)\n",
    "print(f'Stosunek ilości pobrań do ilości aplikacji w bazie dla aplikacji damrowych wynosi :{wsp_free}, natomiast dla płatnych: {wsp_paid}')"
   ]
  },
  {
   "cell_type": "code",
   "execution_count": 96,
   "id": "736858c7",
   "metadata": {},
   "outputs": [
    {
     "name": "stdout",
     "output_type": "stream",
     "text": [
      "Stosunek ilości recenzji do ilości aplikacji w bazie dla aplikacji damrowych wynosi :1.395159028010926e+43, natomiast dla płatnych: 292545255005.72\n"
     ]
    }
   ],
   "source": [
    "sum_free_r = data_type[data_type['Type']== 'Free']['Reviews'].sum()\n",
    "no_free = len(data_type[data_type['Type']== 'Free'])\n",
    "sum_paid_r = data_type[data_type['Type']== 'Paid']['Reviews'].sum()\n",
    "no_paid = len(data_type[data_type['Type']== 'Paid'])\n",
    "\n",
    "wsp_free_r = round(sum_free_r/no_free, 2)\n",
    "wsp_paid_r = round(sum_paid_r/no_paid, 2)\n",
    "print(f'Stosunek ilości recenzji do ilości aplikacji w bazie dla aplikacji damrowych wynosi :{wsp_free_r}, natomiast dla płatnych: {wsp_paid_r}')"
   ]
  },
  {
   "cell_type": "code",
   "execution_count": 97,
   "id": "7127b43a",
   "metadata": {},
   "outputs": [
    {
     "name": "stdout",
     "output_type": "stream",
     "text": [
      "Średnia ocena aplikacji darmowej to : 4.168284116040059, natomiast płatnej to: 4.261056105610554\n"
     ]
    }
   ],
   "source": [
    "avg_free = data_type[data_type['Type']== 'Free']['Rating'].mean()\n",
    "avg_paid = data_type[data_type['Type']== 'Paid']['Rating'].mean()\n",
    "\n",
    "\n",
    "print(f'Średnia ocena aplikacji darmowej to : {avg_free}, natomiast płatnej to: {avg_paid}')"
   ]
  },
  {
   "cell_type": "code",
   "execution_count": 98,
   "id": "39ddb64f",
   "metadata": {},
   "outputs": [
    {
     "data": {
      "text/html": [
       "<div>\n",
       "<style scoped>\n",
       "    .dataframe tbody tr th:only-of-type {\n",
       "        vertical-align: middle;\n",
       "    }\n",
       "\n",
       "    .dataframe tbody tr th {\n",
       "        vertical-align: top;\n",
       "    }\n",
       "\n",
       "    .dataframe thead th {\n",
       "        text-align: right;\n",
       "    }\n",
       "</style>\n",
       "<table border=\"1\" class=\"dataframe\">\n",
       "  <thead>\n",
       "    <tr style=\"text-align: right;\">\n",
       "      <th></th>\n",
       "      <th>Rating</th>\n",
       "      <th>Installs</th>\n",
       "      <th>Reviews</th>\n",
       "    </tr>\n",
       "  </thead>\n",
       "  <tbody>\n",
       "    <tr>\n",
       "      <th>Rating</th>\n",
       "      <td>1.000000</td>\n",
       "      <td>0.042378</td>\n",
       "      <td>0.009994</td>\n",
       "    </tr>\n",
       "    <tr>\n",
       "      <th>Installs</th>\n",
       "      <td>0.042378</td>\n",
       "      <td>1.000000</td>\n",
       "      <td>0.190131</td>\n",
       "    </tr>\n",
       "    <tr>\n",
       "      <th>Reviews</th>\n",
       "      <td>0.009994</td>\n",
       "      <td>0.190131</td>\n",
       "      <td>1.000000</td>\n",
       "    </tr>\n",
       "  </tbody>\n",
       "</table>\n",
       "</div>"
      ],
      "text/plain": [
       "            Rating  Installs   Reviews\n",
       "Rating    1.000000  0.042378  0.009994\n",
       "Installs  0.042378  1.000000  0.190131\n",
       "Reviews   0.009994  0.190131  1.000000"
      ]
     },
     "execution_count": 98,
     "metadata": {},
     "output_type": "execute_result"
    }
   ],
   "source": [
    "data_type.corr(method='pearson') #badanie korelacji"
   ]
  },
  {
   "cell_type": "code",
   "execution_count": 99,
   "id": "d9cf90e5",
   "metadata": {},
   "outputs": [
    {
     "data": {
      "text/html": [
       "<div>\n",
       "<style scoped>\n",
       "    .dataframe tbody tr th:only-of-type {\n",
       "        vertical-align: middle;\n",
       "    }\n",
       "\n",
       "    .dataframe tbody tr th {\n",
       "        vertical-align: top;\n",
       "    }\n",
       "\n",
       "    .dataframe thead th {\n",
       "        text-align: right;\n",
       "    }\n",
       "</style>\n",
       "<table border=\"1\" class=\"dataframe\">\n",
       "  <thead>\n",
       "    <tr style=\"text-align: right;\">\n",
       "      <th></th>\n",
       "      <th>count</th>\n",
       "      <th>mean</th>\n",
       "      <th>std</th>\n",
       "      <th>min</th>\n",
       "      <th>25%</th>\n",
       "      <th>50%</th>\n",
       "      <th>75%</th>\n",
       "      <th>max</th>\n",
       "    </tr>\n",
       "    <tr>\n",
       "      <th>Type</th>\n",
       "      <th></th>\n",
       "      <th></th>\n",
       "      <th></th>\n",
       "      <th></th>\n",
       "      <th></th>\n",
       "      <th></th>\n",
       "      <th></th>\n",
       "      <th></th>\n",
       "    </tr>\n",
       "  </thead>\n",
       "  <tbody>\n",
       "    <tr>\n",
       "      <th>Free</th>\n",
       "      <td>7687.0</td>\n",
       "      <td>4.168284</td>\n",
       "      <td>0.531917</td>\n",
       "      <td>1.0</td>\n",
       "      <td>4.0</td>\n",
       "      <td>4.3</td>\n",
       "      <td>4.5</td>\n",
       "      <td>5.0</td>\n",
       "    </tr>\n",
       "    <tr>\n",
       "      <th>Paid</th>\n",
       "      <td>606.0</td>\n",
       "      <td>4.261056</td>\n",
       "      <td>0.559606</td>\n",
       "      <td>1.0</td>\n",
       "      <td>4.1</td>\n",
       "      <td>4.4</td>\n",
       "      <td>4.6</td>\n",
       "      <td>5.0</td>\n",
       "    </tr>\n",
       "  </tbody>\n",
       "</table>\n",
       "</div>"
      ],
      "text/plain": [
       "       count      mean       std  min  25%  50%  75%  max\n",
       "Type                                                     \n",
       "Free  7687.0  4.168284  0.531917  1.0  4.0  4.3  4.5  5.0\n",
       "Paid   606.0  4.261056  0.559606  1.0  4.1  4.4  4.6  5.0"
      ]
     },
     "execution_count": 99,
     "metadata": {},
     "output_type": "execute_result"
    }
   ],
   "source": [
    "#statystyka - bez usuniecia outlines\n",
    "\n",
    "s1 = data_type.groupby(by='Type').describe()['Rating']\n",
    "s2 = data_type.groupby(by='Type').describe()['Reviews']\n",
    "s3 = data_type.groupby(by='Type').describe()['Installs']\n",
    "\n",
    "s1"
   ]
  },
  {
   "cell_type": "code",
   "execution_count": 100,
   "id": "c5b2179c",
   "metadata": {},
   "outputs": [
    {
     "name": "stdout",
     "output_type": "stream",
     "text": [
      "                                                   App            Category  \\\n",
      "0                        +Download 4 Instagram Twitter              SOCIAL   \n",
      "1                           - Free Comics - Comic Apps              COMICS   \n",
      "2                                                   .R               TOOLS   \n",
      "3                                               /u/app       COMMUNICATION   \n",
      "4                                               058.ba  NEWS_AND_MAGAZINES   \n",
      "...                                                ...                 ...   \n",
      "8288                                       감성학원 BL 첫사랑              COMICS   \n",
      "8289                                        💎 I'm rich           LIFESTYLE   \n",
      "8290     💘 WhatsLov: Smileys of love, stickers and GIF              SOCIAL   \n",
      "8291  📏 Smart Ruler ↔️ cm/inch measuring for homework!               TOOLS   \n",
      "8292  🔥 Football Wallpapers 4K | Full HD Backgrounds 😍       ENTERTAINMENT   \n",
      "\n",
      "      Rating  Installs  Reviews  \n",
      "0        4.5   1000000  40467.0  \n",
      "1        3.5     10000    115.0  \n",
      "2        4.5     10000    259.0  \n",
      "3        4.7     10000    573.0  \n",
      "4        4.4       100     27.0  \n",
      "...      ...       ...      ...  \n",
      "8288     4.4     10000    190.0  \n",
      "8289     3.8     10000    718.0  \n",
      "8290     4.6   1000000  22098.0  \n",
      "8291     4.0     10000     19.0  \n",
      "8292     4.7   1000000  11661.0  \n",
      "\n",
      "[8293 rows x 5 columns]\n"
     ]
    },
    {
     "name": "stderr",
     "output_type": "stream",
     "text": [
      "C:\\Users\\andrz\\AppData\\Local\\Temp/ipykernel_22512/1573607859.py:5: SettingWithCopyWarning: \n",
      "A value is trying to be set on a copy of a slice from a DataFrame.\n",
      "Try using .loc[row_indexer,col_indexer] = value instead\n",
      "\n",
      "See the caveats in the documentation: https://pandas.pydata.org/pandas-docs/stable/user_guide/indexing.html#returning-a-view-versus-a-copy\n",
      "  data_category['Installs'] = data_category['Installs'].str.rstrip('+')\n",
      "C:\\Users\\andrz\\AppData\\Local\\Temp/ipykernel_22512/1573607859.py:6: SettingWithCopyWarning: \n",
      "A value is trying to be set on a copy of a slice from a DataFrame.\n",
      "Try using .loc[row_indexer,col_indexer] = value instead\n",
      "\n",
      "See the caveats in the documentation: https://pandas.pydata.org/pandas-docs/stable/user_guide/indexing.html#returning-a-view-versus-a-copy\n",
      "  data_category['Installs'] = data_category['Installs'].replace(',', '', regex = True)\n",
      "C:\\Users\\andrz\\AppData\\Local\\Temp/ipykernel_22512/1573607859.py:7: SettingWithCopyWarning: \n",
      "A value is trying to be set on a copy of a slice from a DataFrame.\n",
      "Try using .loc[row_indexer,col_indexer] = value instead\n",
      "\n",
      "See the caveats in the documentation: https://pandas.pydata.org/pandas-docs/stable/user_guide/indexing.html#returning-a-view-versus-a-copy\n",
      "  data_category['Installs'] = pd.to_numeric(data_category['Installs'])\n"
     ]
    },
    {
     "data": {
      "text/plain": [
       "<matplotlib.legend.Legend at 0x1a7e04ae7c0>"
      ]
     },
     "execution_count": 100,
     "metadata": {},
     "output_type": "execute_result"
    },
    {
     "data": {
      "image/png": "[encoded data removed]",
      "text/plain": [
       "<Figure size 432x288 with 1 Axes>"
      ]
     },
     "metadata": {
      "needs_background": "light"
     },
     "output_type": "display_data"
    }
   ],
   "source": [
    "data_category= dane[['App', 'Category', 'Rating', 'Installs', 'Reviews']]\n",
    "\n",
    "\n",
    "\n",
    "data_category['Installs'] = data_category['Installs'].str.rstrip('+')\n",
    "data_category['Installs'] = data_category['Installs'].replace(',', '', regex = True)\n",
    "data_category['Installs'] = pd.to_numeric(data_category['Installs'])\n",
    "\n",
    "print(data_category)\n",
    "\n",
    "food_category =data_category[data_category['Category']== 'FOOD_AND_DRINK']\n",
    "video_category =data_category[data_category['Category']== 'VIDEO_PLAYERS']\n",
    "home_category =data_category[data_category['Category']== 'HOUSE_AND_HOME']\n",
    "navigation_category =data_category[data_category['Category']== 'MAPS_AND_NAVIGATION']\n",
    "entertainment_category =data_category[data_category['Category']== 'ENTERTAINMENT']\n",
    "finance_category =data_category[data_category['Category']== 'FINANCE'] \n",
    "education_category =data_category[data_category['Category']== 'EDUCATION'] \n",
    "vehicles_category =data_category[data_category['Category']== 'AUTO_AND_VEHICLES']\n",
    "weather_category =data_category[data_category['Category']== 'WEATHER']\n",
    "beauty_category =data_category[data_category['Category']== 'BEAUTY']\n",
    "events_category =data_category[data_category['Category']== 'EVENTS']\n",
    "libraries_category =data_category[data_category['Category']== 'LIBRARIES_AND_DEMO']\n",
    "parenting_category =data_category[data_category['Category']== 'PARENTING']\n",
    "\n",
    "import matplotlib.pyplot as plt\n",
    "\n",
    "\n",
    "food_category['Rating'].plot.density(label='food and drink')\n",
    "video_category['Rating'].plot.density(label= 'video players', color = 'k')\n",
    "home_category['Rating'].plot.density(label= 'house and home', color = 'm')\n",
    "navigation_category['Rating'].plot.density(label= 'maps and navigation', color = 'r')\n",
    "entertainment_category['Rating'].plot.density(label= 'entertainment', color = 'g')\n",
    "plt.title('Density plot for category of applications vs rating - part 1')\n",
    "plt.xlabel('Rating')\n",
    "plt.legend()\n",
    "\n",
    "\n",
    "\n"
   ]
  },
  {
   "cell_type": "code",
   "execution_count": 101,
   "id": "fe4e0202",
   "metadata": {},
   "outputs": [
    {
     "data": {
      "text/plain": [
       "<matplotlib.legend.Legend at 0x1a7e04da070>"
      ]
     },
     "execution_count": 101,
     "metadata": {},
     "output_type": "execute_result"
    },
    {
     "data": {
      "image/png": "[encoded data removed]",
      "text/plain": [
       "<Figure size 432x288 with 1 Axes>"
      ]
     },
     "metadata": {
      "needs_background": "light"
     },
     "output_type": "display_data"
    }
   ],
   "source": [
    "finance_category['Rating'].plot.density(label='finance')\n",
    "education_category['Rating'].plot.density(label= 'education', color = 'k')\n",
    "vehicles_category['Rating'].plot.density(label= 'auto and vehicles', color = 'm')\n",
    "weather_category['Rating'].plot.density(label= 'weather', color = 'r')\n",
    "plt.title('Density plot for category of applications vs rating - part 2')\n",
    "plt.xlabel('Rating')\n",
    "plt.legend()"
   ]
  },
  {
   "cell_type": "code",
   "execution_count": 102,
   "id": "de1de43c",
   "metadata": {},
   "outputs": [
    {
     "data": {
      "text/plain": [
       "<matplotlib.legend.Legend at 0x1a7da2a67c0>"
      ]
     },
     "execution_count": 102,
     "metadata": {},
     "output_type": "execute_result"
    },
    {
     "data": {
      "image/png": "[encoded data removed]",
      "text/plain": [
       "<Figure size 432x288 with 1 Axes>"
      ]
     },
     "metadata": {
      "needs_background": "light"
     },
     "output_type": "display_data"
    }
   ],
   "source": [
    "beauty_category['Rating'].plot.density(label='beauty')\n",
    "events_category['Rating'].plot.density(label= 'events', color = 'k')\n",
    "libraries_category['Rating'].plot.density(label= 'libraries and demo', color = 'm')\n",
    "parenting_category['Rating'].plot.density(label= 'parenting', color = 'r')\n",
    "plt.title('Density plot for category of applications vs rating - part 3')\n",
    "plt.xlabel('Rating')\n",
    "plt.legend()"
   ]
  },
  {
   "cell_type": "code",
   "execution_count": 103,
   "id": "4dc21b74",
   "metadata": {},
   "outputs": [
    {
     "data": {
      "text/plain": [
       "<matplotlib.legend.Legend at 0x1a7e02ec7c0>"
      ]
     },
     "execution_count": 103,
     "metadata": {},
     "output_type": "execute_result"
    },
    {
     "data": {
      "image/png": "[encoded data removed]",
      "text/plain": [
       "<Figure size 432x288 with 1 Axes>"
      ]
     },
     "metadata": {
      "needs_background": "light"
     },
     "output_type": "display_data"
    }
   ],
   "source": [
    "#na podstawie 3 poprzednich wykresów tylko top-y\n",
    "\n",
    "entertainment_category['Rating'].plot.density(label= 'entertainment', color = 'g')\n",
    "education_category['Rating'].plot.density(label= 'education', color = 'k')\n",
    "weather_category['Rating'].plot.density(label= 'weather', color = 'r')\n",
    "beauty_category['Rating'].plot.density(label='beauty')\n",
    "plt.title('Density plot for most popular category of applications vs rating')\n",
    "plt.xlabel('Rating')\n",
    "plt.legend()\n"
   ]
  },
  {
   "cell_type": "code",
   "execution_count": 104,
   "id": "c7f767cc",
   "metadata": {},
   "outputs": [
    {
     "name": "stdout",
     "output_type": "stream",
     "text": [
      "65013.0 -97386.5 162665.5\n",
      "0 1527\n"
     ]
    },
    {
     "data": {
      "text/plain": [
       "<matplotlib.legend.Legend at 0x1a7e0547eb0>"
      ]
     },
     "execution_count": 104,
     "metadata": {},
     "output_type": "execute_result"
    },
    {
     "data": {
      "image/png": "[encoded data removed]",
      "text/plain": [
       "<Figure size 432x288 with 1 Axes>"
      ]
     },
     "metadata": {
      "needs_background": "light"
     },
     "output_type": "display_data"
    }
   ],
   "source": [
    "#obliczenia outliners dla Reviews \n",
    "q1 =data_category.quantile(0.25)['Reviews']\n",
    "q3 =data_category.quantile(0.75)['Reviews']\n",
    "iqr = q3 - q1\n",
    "lower_bound = (q1 - 1.5*iqr)\n",
    "upper_bound = (q3 + 1.5*iqr)\n",
    "print(iqr, lower_bound, upper_bound)\n",
    "\n",
    "num_of_outliers_L = (data_category['Reviews']< lower_bound).sum()\n",
    "num_of_outliers_U = (data_category['Reviews']> upper_bound).sum()\n",
    "\n",
    "print(num_of_outliers_L, num_of_outliers_U)\n",
    "\n",
    "#wybranie danych nie będacymi outlines\n",
    "sorted_data_c= data_category[(data_category['Reviews'] < upper_bound) & (data_category['Reviews'] > lower_bound)]\n",
    "\n",
    "food_category_s =sorted_data_c[sorted_data_c['Category']== 'FOOD_AND_DRINK']\n",
    "video_category_s =sorted_data_c[sorted_data_c['Category']== 'VIDEO_PLAYERS']\n",
    "home_category_s =sorted_data_c[sorted_data_c['Category']== 'HOUSE_AND_HOME']\n",
    "navigation_category_c =sorted_data_c[sorted_data_c['Category']== 'MAPS_AND_NAVIGATION']\n",
    "entertainment_category_c =sorted_data_c[sorted_data_c['Category']== 'ENTERTAINMENT']\n",
    "finance_category_c =sorted_data_c[sorted_data_c['Category']== 'FINANCE'] \n",
    "education_category_c =sorted_data_c[sorted_data_c['Category']== 'EDUCATION'] \n",
    "vehicles_category_c =sorted_data_c[sorted_data_c['Category']== 'AUTO_AND_VEHICLES']\n",
    "weather_category_c =sorted_data_c[sorted_data_c['Category']== 'WEATHER']\n",
    "beauty_category_c =sorted_data_c[sorted_data_c['Category']== 'BEAUTY']\n",
    "events_category_c =sorted_data_c[sorted_data_c['Category']== 'EVENTS']\n",
    "libraries_category_c =sorted_data_c[sorted_data_c['Category']== 'LIBRARIES_AND_DEMO']\n",
    "parenting_category_c =sorted_data_c[sorted_data_c['Category']== 'PARENTING']\n",
    "\n",
    "import matplotlib.pyplot as plt\n",
    "import seaborn as sns\n",
    "\n",
    "\n",
    "food_category_s['Reviews'].plot.density(label='food and drink')\n",
    "video_category_s['Reviews'].plot.density(label= 'video players', color = 'k')\n",
    "home_category_s['Reviews'].plot.density(label= 'house and home', color = 'm')\n",
    "navigation_category_c['Reviews'].plot.density(label= 'maps and navigation', color = 'r')\n",
    "entertainment_category_c['Reviews'].plot.density(label= 'entertainment', color = 'g')\n",
    "plt.title('Density plot for category of applications vs reviews - part 1')\n",
    "plt.xlabel('Reviews')\n",
    "plt.legend()\n",
    "\n"
   ]
  },
  {
   "cell_type": "code",
   "execution_count": 105,
   "id": "56976a85",
   "metadata": {},
   "outputs": [
    {
     "data": {
      "text/plain": [
       "<matplotlib.legend.Legend at 0x1a7e05cf760>"
      ]
     },
     "execution_count": 105,
     "metadata": {},
     "output_type": "execute_result"
    },
    {
     "data": {
      "image/png": "[encoded data removed]",
      "text/plain": [
       "<Figure size 432x288 with 1 Axes>"
      ]
     },
     "metadata": {
      "needs_background": "light"
     },
     "output_type": "display_data"
    }
   ],
   "source": [
    "finance_category_c['Reviews'].plot.density(label='finance')\n",
    "education_category_c['Reviews'].plot.density(label= 'education', color = 'k')\n",
    "vehicles_category_c['Reviews'].plot.density(label= 'auto and vehicles', color = 'm')\n",
    "weather_category_c['Reviews'].plot.density(label= 'weather', color = 'r')\n",
    "plt.title('Density plot for category of applications vs rating - part 2')\n",
    "plt.xlabel('Reviews')\n",
    "plt.legend()"
   ]
  },
  {
   "cell_type": "code",
   "execution_count": 106,
   "id": "43a0752f",
   "metadata": {},
   "outputs": [
    {
     "data": {
      "text/plain": [
       "<matplotlib.legend.Legend at 0x1a7e0325130>"
      ]
     },
     "execution_count": 106,
     "metadata": {},
     "output_type": "execute_result"
    },
    {
     "data": {
      "image/png": "[encoded data removed]",
      "text/plain": [
       "<Figure size 432x288 with 1 Axes>"
      ]
     },
     "metadata": {
      "needs_background": "light"
     },
     "output_type": "display_data"
    }
   ],
   "source": [
    "beauty_category_c['Reviews'].plot.density(label='beauty')\n",
    "events_category_c['Reviews'].plot.density(label= 'events', color = 'k')\n",
    "libraries_category_c['Reviews'].plot.density(label= 'libraries and demo', color = 'm')\n",
    "parenting_category_c['Reviews'].plot.density(label= 'parenting', color = 'r')\n",
    "plt.title('Density plot for category of applications vs rating - part 3')\n",
    "plt.xlabel('Reviews')\n",
    "plt.legend()"
   ]
  },
  {
   "cell_type": "code",
   "execution_count": 107,
   "id": "6f0e0f8c",
   "metadata": {},
   "outputs": [
    {
     "data": {
      "text/plain": [
       "<matplotlib.legend.Legend at 0x1a7e0322a60>"
      ]
     },
     "execution_count": 107,
     "metadata": {},
     "output_type": "execute_result"
    },
    {
     "data": {
      "image/png": "[encoded data removed]",
      "text/plain": [
       "<Figure size 432x288 with 1 Axes>"
      ]
     },
     "metadata": {
      "needs_background": "light"
     },
     "output_type": "display_data"
    }
   ],
   "source": [
    "#na podstawie 3 poprzednich wykresów tylko top-y\n",
    "\n",
    "entertainment_category_c['Reviews'].plot.density(label= 'entertainment', color = 'g')\n",
    "education_category_c['Reviews'].plot.density(label= 'education', color = 'k')\n",
    "weather_category_c['Reviews'].plot.density(label= 'weather', color = 'r')\n",
    "beauty_category_c['Reviews'].plot.density(label='beauty')\n",
    "plt.title('Density plot for most popular category of applications vs reviews')\n",
    "plt.xlabel('Reviews')\n",
    "plt.legend()"
   ]
  },
  {
   "cell_type": "code",
   "execution_count": 113,
   "id": "375da2ab",
   "metadata": {},
   "outputs": [
    {
     "data": {
      "text/plain": [
       "<matplotlib.legend.Legend at 0x1a7e0872340>"
      ]
     },
     "execution_count": 113,
     "metadata": {},
     "output_type": "execute_result"
    },
    {
     "data": {
      "image/png": "[encoded data removed]",
      "text/plain": [
       "<Figure size 432x288 with 2 Axes>"
      ]
     },
     "metadata": {
      "needs_background": "light"
     },
     "output_type": "display_data"
    }
   ],
   "source": [
    "plt.subplot(2,1,1)\n",
    "food_category['Installs'].plot.density(label='food and drink')\n",
    "plt.subplot(2,1,2)\n",
    "# video_category['Installs'].plot.density(label= 'video players', color = 'k')\n",
    "# home_category['Installs'].plot.density(label= 'house and home', color = 'm')\n",
    "# navigation_category['Installs'].plot.density(label= 'maps and navigation', color = 'r')\n",
    "# entertainment_category['Installs'].plot.density(label= 'entertainment', color = 'g')\n",
    "# finance_category['Installs'].plot.density(label='finance')\n",
    "# education_category['Installs'].plot.density(label= 'education', color = 'k')\n",
    "# vehicles_category['Installs'].plot.density(label= 'auto and vehicles', color = 'm') # ew. do rozważania\n",
    "# weather_category['Installs'].plot.density(label= 'weather', color = 'r') #do rozważania\n",
    "beauty_category['Installs'].plot.density(label='beauty')\n",
    "# events_category['Installs'].plot.density(label= 'events', color = 'k')\n",
    "# libraries_category['Installs'].plot.density(label= 'libraries and demo', color = 'm')\n",
    "# parenting_category['Installs'].plot.density(label= 'parenting', color = 'r')\n",
    "plt.title('Density plot for category of applications vs installs - part 1')\n",
    "plt.xlabel('Installs')\n",
    "plt.legend()"
   ]
  },
  {
   "cell_type": "code",
   "execution_count": 114,
   "id": "c7581491",
   "metadata": {},
   "outputs": [
    {
     "data": {
      "text/plain": [
       "<matplotlib.legend.Legend at 0x1a7e08baca0>"
      ]
     },
     "execution_count": 114,
     "metadata": {},
     "output_type": "execute_result"
    },
    {
     "data": {
      "image/png": "[encoded data removed]",
      "text/plain": [
       "<Figure size 432x288 with 1 Axes>"
      ]
     },
     "metadata": {
      "needs_background": "light"
     },
     "output_type": "display_data"
    }
   ],
   "source": [
    "food_category['Installs'].plot.density(label='food and drink')\n",
    "weather_category['Installs'].plot.density(label= 'weather', color = 'r')\n",
    "beauty_category['Installs'].plot.density(label='beauty')\n",
    "# entertainment_category['Installs'].plot.density(label= 'entertainment', color = 'g') - aplikacje rozrywkowe istnieją zawsze, jest ich więcej co nie znaczy że są populanriejsze\n",
    "plt.title('Density plot for category of applications vs installs - top')\n",
    "plt.xlabel('Installs')\n",
    "plt.legend()"
   ]
  },
  {
   "cell_type": "code",
   "execution_count": 110,
   "id": "83e8d91d",
   "metadata": {},
   "outputs": [
    {
     "name": "stdout",
     "output_type": "stream",
     "text": [
      "                                                   App       Category  Rating  \\\n",
      "8292  🔥 Football Wallpapers 4K | Full HD Backgrounds 😍  ENTERTAINMENT     4.7   \n",
      "\n",
      "      Installs  Reviews  \n",
      "8292   1000000  11661.0  \n",
      "-----\n",
      "          App       Category  Rating   Installs       Reviews\n",
      "5515  Netflix  ENTERTAINMENT     4.4  100000000  1.364052e+27\n",
      "-----\n",
      "                    App       Category  Rating    Installs    Reviews\n",
      "4053  Google Play Games  ENTERTAINMENT     4.3  1000000000  7165362.0\n"
     ]
    }
   ],
   "source": [
    "\n",
    "entertainment_category= data_category[data_category['Category']== 'ENTERTAINMENT']\n",
    "entertainment_category_max_rt = entertainment_category[entertainment_category['Rating']== entertainment_category['Rating'].max()]\n",
    "\n",
    "entertainment_category_max_rv = entertainment_category[entertainment_category['Reviews']== entertainment_category['Reviews'].max()]\n",
    "entertainment_category_max_rv\n",
    "\n",
    "entertainment_category_max_in = entertainment_category[entertainment_category['Installs']== entertainment_category['Installs'].max()]\n",
    "entertainment_category_max_in\n",
    "\n",
    "print(entertainment_category_max_rt)\n",
    "print('-----')\n",
    "print(entertainment_category_max_rv)\n",
    "print('-----')\n",
    "print(entertainment_category_max_in)\n",
    "\n"
   ]
  },
  {
   "cell_type": "code",
   "execution_count": 111,
   "id": "39f1ff36",
   "metadata": {},
   "outputs": [
    {
     "name": "stdout",
     "output_type": "stream",
     "text": [
      "                                                 App   Category  Rating  \\\n",
      "4784  Learn Japanese, Korean, Chinese Offline & Free  EDUCATION     4.9   \n",
      "6483                             Sago Mini Hat Maker  EDUCATION     4.9   \n",
      "\n",
      "      Installs   Reviews  \n",
      "4784   1000000  133136.0  \n",
      "6483      1000      11.0  \n",
      "-----\n",
      "                                 App   Category  Rating   Installs  \\\n",
      "2893  Duolingo: Learn Languages Free  EDUCATION     4.7  100000000   \n",
      "\n",
      "           Reviews  \n",
      "2893  1.572481e+27  \n",
      "-----\n",
      "                                 App   Category  Rating   Installs  \\\n",
      "2893  Duolingo: Learn Languages Free  EDUCATION     4.7  100000000   \n",
      "\n",
      "           Reviews  \n",
      "2893  1.572481e+27  \n"
     ]
    }
   ],
   "source": [
    "education_category= data_category[data_category['Category']== 'EDUCATION']\n",
    "education_category_max_rt = education_category[education_category['Rating']== education_category['Rating'].max()]\n",
    "\n",
    "education_category_max_rv = education_category[education_category['Reviews']== education_category['Reviews'].max()]\n",
    "education_category_max_rv\n",
    "\n",
    "education_category_max_in = education_category[education_category['Installs']== education_category['Installs'].max()]\n",
    "education_category_max_in\n",
    "\n",
    "\n",
    "print(education_category_max_rt)\n",
    "print('-----')\n",
    "print(education_category_max_rv)\n",
    "print('-----')\n",
    "print(education_category_max_in)"
   ]
  },
  {
   "cell_type": "code",
   "execution_count": 112,
   "id": "56d86116",
   "metadata": {},
   "outputs": [
    {
     "data": {
      "text/html": [
       "<div>\n",
       "<style scoped>\n",
       "    .dataframe tbody tr th:only-of-type {\n",
       "        vertical-align: middle;\n",
       "    }\n",
       "\n",
       "    .dataframe tbody tr th {\n",
       "        vertical-align: top;\n",
       "    }\n",
       "\n",
       "    .dataframe thead th {\n",
       "        text-align: right;\n",
       "    }\n",
       "</style>\n",
       "<table border=\"1\" class=\"dataframe\">\n",
       "  <thead>\n",
       "    <tr style=\"text-align: right;\">\n",
       "      <th></th>\n",
       "      <th>App</th>\n",
       "      <th>Category</th>\n",
       "      <th>Rating</th>\n",
       "      <th>Size</th>\n",
       "      <th>Installs</th>\n",
       "      <th>Type</th>\n",
       "      <th>Content Rating</th>\n",
       "      <th>Reviews</th>\n",
       "    </tr>\n",
       "  </thead>\n",
       "  <tbody>\n",
       "    <tr>\n",
       "      <th>6888</th>\n",
       "      <td>Subway Surfers</td>\n",
       "      <td>GAME</td>\n",
       "      <td>4.5</td>\n",
       "      <td>76M</td>\n",
       "      <td>1,000,000,000+</td>\n",
       "      <td>Free</td>\n",
       "      <td>Everyone 10+</td>\n",
       "      <td>4.620377e+46</td>\n",
       "    </tr>\n",
       "  </tbody>\n",
       "</table>\n",
       "</div>"
      ],
      "text/plain": [
       "                 App Category  Rating Size        Installs  Type  \\\n",
       "6888  Subway Surfers     GAME     4.5  76M  1,000,000,000+  Free   \n",
       "\n",
       "     Content Rating       Reviews  \n",
       "6888   Everyone 10+  4.620377e+46  "
      ]
     },
     "execution_count": 112,
     "metadata": {},
     "output_type": "execute_result"
    }
   ],
   "source": [
    "dane[dane['App']== 'Subway Surfers']\n",
    "\n"
   ]
  },
  {
   "cell_type": "markdown",
   "id": "74acdba4",
   "metadata": {},
   "source": []
  }
 ],
 "metadata": {
  "kernelspec": {
   "display_name": "Python 3 (ipykernel)",
   "language": "python",
   "name": "python3"
  },
  "language_info": {
   "codemirror_mode": {
    "name": "ipython",
    "version": 3
   },
   "file_extension": ".py",
   "mimetype": "text/x-python",
   "name": "python",
   "nbconvert_exporter": "python",
   "pygments_lexer": "ipython3",
   "version": "3.9.7"
  }
 },
 "nbformat": 4,
 "nbformat_minor": 5
}
