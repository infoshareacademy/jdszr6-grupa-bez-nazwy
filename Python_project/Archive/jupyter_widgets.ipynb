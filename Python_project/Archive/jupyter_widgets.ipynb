{
 "cells": [
  {
   "cell_type": "markdown",
   "metadata": {},
   "source": [
    "# Jupyter widgets\n",
    "\n",
    "Interaktywny notebook z IPython widgets\n",
    "\n",
    "`conda install -c conda-forge ipywidgets`\n",
    "\n",
    "`pip install ipywidgets`"
   ]
  },
  {
   "cell_type": "code",
   "execution_count": null,
   "metadata": {},
   "outputs": [],
   "source": [
    "import ipywidgets as widgets"
   ]
  },
  {
   "cell_type": "markdown",
   "metadata": {},
   "source": [
    "Tworzenie i zwracanie widgetu pokazuje go."
   ]
  },
  {
   "cell_type": "code",
   "execution_count": null,
   "metadata": {},
   "outputs": [],
   "source": [
    "widgets.IntSlider()"
   ]
  },
  {
   "cell_type": "markdown",
   "metadata": {},
   "source": [
    "Wyświetlić można również wprost."
   ]
  },
  {
   "cell_type": "code",
   "execution_count": null,
   "metadata": {},
   "outputs": [],
   "source": [
    "from IPython.display import display\n",
    "w = widgets.IntSlider()\n",
    "display(w)"
   ]
  },
  {
   "cell_type": "markdown",
   "metadata": {},
   "source": [
    "Nawet wielokrotnie."
   ]
  },
  {
   "cell_type": "code",
   "execution_count": null,
   "metadata": {},
   "outputs": [],
   "source": [
    "display(w)"
   ]
  },
  {
   "cell_type": "markdown",
   "metadata": {},
   "source": [
    "Żeby użyć slidera musimy stworzyć funkcje i podpiąć ją pod obiekt."
   ]
  },
  {
   "cell_type": "code",
   "execution_count": null,
   "metadata": {},
   "outputs": [],
   "source": [
    "def value_handler(v):\n",
    "    print(v)\n",
    "\n",
    "widgets.interact(value_handler, v=w)"
   ]
  },
  {
   "cell_type": "markdown",
   "metadata": {},
   "source": [
    "Innym typem widgetu jest Dropdown."
   ]
  },
  {
   "cell_type": "code",
   "execution_count": null,
   "metadata": {},
   "outputs": [],
   "source": [
    "choice_widget = widgets.Dropdown(options=[\"option 1\", \"option 2\"])\n",
    "display(choice_widget)"
   ]
  },
  {
   "cell_type": "code",
   "execution_count": null,
   "metadata": {},
   "outputs": [],
   "source": [
    "slider_widget = widgets.IntSlider()"
   ]
  },
  {
   "cell_type": "markdown",
   "metadata": {},
   "source": [
    "Swtórzmy handler do obsługi obu widgetów.\n",
    "\n",
    "Wartości będą w mutowalnym słowniku, po to, żeby mogły się łatwo zmieniać."
   ]
  },
  {
   "cell_type": "code",
   "execution_count": null,
   "metadata": {},
   "outputs": [],
   "source": [
    "values = {\"slider\": slider_widget.value, \"option\": choice_widget.value}\n",
    "\n",
    "def widgets_handler(slider_val, option_choice):\n",
    "    values[\"slider\"] = slider_val\n",
    "    values[\"option\"] = option_choice\n",
    "\n",
    "widgets.interact(widgets_handler, slider_val=slider_widget, option_choice=choice_widget)"
   ]
  },
  {
   "cell_type": "code",
   "execution_count": null,
   "metadata": {},
   "outputs": [],
   "source": [
    "print(values)"
   ]
  },
  {
   "cell_type": "markdown",
   "metadata": {},
   "source": [
    "Ostatni widget na dzisiaj to Button."
   ]
  },
  {
   "cell_type": "code",
   "execution_count": null,
   "metadata": {},
   "outputs": [],
   "source": [
    "run_button = widgets.Button(description=\"Run Experiment\")\n",
    "\n",
    "def button_callback(button):\n",
    "    print(\"Running experiment!\")\n",
    "    print(values)\n",
    "\n",
    "run_button.on_click(button_callback)"
   ]
  },
  {
   "cell_type": "code",
   "execution_count": null,
   "metadata": {},
   "outputs": [],
   "source": [
    "display(choice_widget, slider_widget, run_button)"
   ]
  },
  {
   "cell_type": "markdown",
   "metadata": {},
   "source": [
    "Użycie interact zadba o czyszczenie outputu"
   ]
  },
  {
   "cell_type": "code",
   "execution_count": null,
   "metadata": {},
   "outputs": [],
   "source": [
    "import matplotlib.pyplot as plt\n",
    "\n",
    "def plot_callback(sl_value):\n",
    "    plt.plot(range(101), [sl_value] * 101)\n",
    "\n",
    "slider_widget_2 = widgets.IntSlider()\n",
    "widgets.interact(plot_callback, sl_value=slider_widget_2)"
   ]
  },
  {
   "cell_type": "markdown",
   "metadata": {},
   "source": [
    "#### Ćwiczenie Widgets\n",
    "\n",
    "Stwórz UI dla eksperymentów z klasyfikatorem RandomForest!\n",
    "\n",
    "Potrzebujemy być w stanie ustawić kilka parametrów:\n",
    "\n",
    "- Liczba estymatorów (Slider)\n",
    "- Kryterium \"gini\" lub \"entropy\" (Dropdown lub RadioButton)\n",
    "\n",
    "Potrzebny również jest przycisk \"RUN\", którego wciśnięcie ma skutkować czytelnym wypisaniem wartości."
   ]
  },
  {
   "cell_type": "code",
   "execution_count": null,
   "metadata": {},
   "outputs": [],
   "source": []
  }
 ],
 "metadata": {
  "kernelspec": {
   "display_name": "Python 3",
   "language": "python",
   "name": "python3"
  },
  "language_info": {
   "codemirror_mode": {
    "name": "ipython",
    "version": 3
   },
   "file_extension": ".py",
   "mimetype": "text/x-python",
   "name": "python",
   "nbconvert_exporter": "python",
   "pygments_lexer": "ipython3",
   "version": "3.7.6"
  }
 },
 "nbformat": 4,
 "nbformat_minor": 2
}
