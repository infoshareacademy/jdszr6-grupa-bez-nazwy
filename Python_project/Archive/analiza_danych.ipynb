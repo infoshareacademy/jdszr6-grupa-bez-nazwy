{
 "cells": [
  {
   "cell_type": "code",
   "execution_count": 1,
   "metadata": {},
   "outputs": [],
   "source": [
    "import pandas as pd\n",
    "import numpy as np\n",
    "import matplotlib.pyplot as plt\n",
    "import matplotlib\n",
    "\n",
    "df = pd.read_csv(\"googleplaystore.csv\")\n",
    "#data = df.iloc[:,[1,2,3,4,5,6,7,9]]\n",
    "##data.iloc[10472,1:] = data.iloc[10472,1:].shift(1)\n",
    "#data[\"Installs\"] = pd.to_numeric(data[\"Installs\"].str.replace(\",\",\"\").str.replace(\"+\",\"\"))\n",
    "#data = data[data[\"Category\"].str.contains(\"1.9\") == False]\n",
    "#mydata = data[[\"Size\",\"Category\", \"Rating\", \"Reviews\", \"Installs\"]]\n",
    "#mydata[\"Reviews\"] = pd.to_numeric(mydata[\"Reviews\"])\n",
    "#cat_list = list(mydata[\"Category\"].drop_duplicates())\n",
    "\n",
    "#cat_data = mydata[[\"Size\",\"Rating\",\"Reviews\",\"Installs\"]]\n",
    "#cat_data"
   ]
  },
  {
   "cell_type": "code",
   "execution_count": 16,
   "metadata": {},
   "outputs": [
    {
     "name": "stderr",
     "output_type": "stream",
     "text": [
      "<ipython-input-16-43423b590ebc>:2: FutureWarning: The default value of regex will change from True to False in a future version. In addition, single character regular expressions will*not* be treated as literal strings when regex=True.\n",
      "  data[\"Installs\"] = pd.to_numeric(data[\"Installs\"].str.replace(\",\",\"\").str.replace(\"+\",\"\"))\n",
      "<ipython-input-16-43423b590ebc>:5: SettingWithCopyWarning: \n",
      "A value is trying to be set on a copy of a slice from a DataFrame.\n",
      "Try using .loc[row_indexer,col_indexer] = value instead\n",
      "\n",
      "See the caveats in the documentation: https://pandas.pydata.org/pandas-docs/stable/user_guide/indexing.html#returning-a-view-versus-a-copy\n",
      "  mydata[\"Reviews\"] = pd.to_numeric(mydata[\"Reviews\"])\n"
     ]
    },
    {
     "data": {
      "text/html": [
       "<div>\n",
       "<style scoped>\n",
       "    .dataframe tbody tr th:only-of-type {\n",
       "        vertical-align: middle;\n",
       "    }\n",
       "\n",
       "    .dataframe tbody tr th {\n",
       "        vertical-align: top;\n",
       "    }\n",
       "\n",
       "    .dataframe thead th {\n",
       "        text-align: right;\n",
       "    }\n",
       "</style>\n",
       "<table border=\"1\" class=\"dataframe\">\n",
       "  <thead>\n",
       "    <tr style=\"text-align: right;\">\n",
       "      <th></th>\n",
       "      <th>Size</th>\n",
       "      <th>Rating</th>\n",
       "      <th>Reviews</th>\n",
       "      <th>Installs</th>\n",
       "    </tr>\n",
       "  </thead>\n",
       "  <tbody>\n",
       "    <tr>\n",
       "      <th>0</th>\n",
       "      <td>22M</td>\n",
       "      <td>4.5</td>\n",
       "      <td>40467</td>\n",
       "      <td>1000000</td>\n",
       "    </tr>\n",
       "    <tr>\n",
       "      <th>1</th>\n",
       "      <td>9.1M</td>\n",
       "      <td>3.5</td>\n",
       "      <td>115</td>\n",
       "      <td>10000</td>\n",
       "    </tr>\n",
       "    <tr>\n",
       "      <th>2</th>\n",
       "      <td>203k</td>\n",
       "      <td>4.5</td>\n",
       "      <td>259</td>\n",
       "      <td>10000</td>\n",
       "    </tr>\n",
       "    <tr>\n",
       "      <th>3</th>\n",
       "      <td>53M</td>\n",
       "      <td>4.7</td>\n",
       "      <td>573</td>\n",
       "      <td>10000</td>\n",
       "    </tr>\n",
       "    <tr>\n",
       "      <th>4</th>\n",
       "      <td>14M</td>\n",
       "      <td>4.4</td>\n",
       "      <td>27</td>\n",
       "      <td>100</td>\n",
       "    </tr>\n",
       "    <tr>\n",
       "      <th>...</th>\n",
       "      <td>...</td>\n",
       "      <td>...</td>\n",
       "      <td>...</td>\n",
       "      <td>...</td>\n",
       "    </tr>\n",
       "    <tr>\n",
       "      <th>8191</th>\n",
       "      <td>34M</td>\n",
       "      <td>4.4</td>\n",
       "      <td>190</td>\n",
       "      <td>10000</td>\n",
       "    </tr>\n",
       "    <tr>\n",
       "      <th>8192</th>\n",
       "      <td>26M</td>\n",
       "      <td>3.8</td>\n",
       "      <td>718</td>\n",
       "      <td>10000</td>\n",
       "    </tr>\n",
       "    <tr>\n",
       "      <th>8193</th>\n",
       "      <td>18M</td>\n",
       "      <td>4.6</td>\n",
       "      <td>22098</td>\n",
       "      <td>1000000</td>\n",
       "    </tr>\n",
       "    <tr>\n",
       "      <th>8194</th>\n",
       "      <td>3.2M</td>\n",
       "      <td>4.0</td>\n",
       "      <td>19</td>\n",
       "      <td>10000</td>\n",
       "    </tr>\n",
       "    <tr>\n",
       "      <th>8195</th>\n",
       "      <td>4.0M</td>\n",
       "      <td>4.7</td>\n",
       "      <td>11661</td>\n",
       "      <td>1000000</td>\n",
       "    </tr>\n",
       "  </tbody>\n",
       "</table>\n",
       "<p>8196 rows × 4 columns</p>\n",
       "</div>"
      ],
      "text/plain": [
       "      Size  Rating  Reviews  Installs\n",
       "0      22M     4.5    40467   1000000\n",
       "1     9.1M     3.5      115     10000\n",
       "2     203k     4.5      259     10000\n",
       "3      53M     4.7      573     10000\n",
       "4      14M     4.4       27       100\n",
       "...    ...     ...      ...       ...\n",
       "8191   34M     4.4      190     10000\n",
       "8192   26M     3.8      718     10000\n",
       "8193   18M     4.6    22098   1000000\n",
       "8194  3.2M     4.0       19     10000\n",
       "8195  4.0M     4.7    11661   1000000\n",
       "\n",
       "[8196 rows x 4 columns]"
      ]
     },
     "execution_count": 16,
     "metadata": {},
     "output_type": "execute_result"
    }
   ],
   "source": [
    "data = df[['App', 'Category', 'Rating', 'Reviews', 'Size', 'Installs', 'Type', 'Content Rating']].groupby(['App']).max().dropna().reset_index()\n",
    "data[\"Installs\"] = pd.to_numeric(data[\"Installs\"].str.replace(\",\",\"\").str.replace(\"+\",\"\"))\n",
    "data_all=data[['App', 'Category', 'Rating', 'Reviews', 'Size', 'Installs', 'Type', 'Content Rating']]\n",
    "mydata = data[[\"Size\", \"Rating\", \"Reviews\", \"Installs\"]]\n",
    "mydata[\"Reviews\"] = pd.to_numeric(mydata[\"Reviews\"])\n",
    "data_all[\"Reviews\"] = pd.to_numeric(data_all[\"Reviews\"])\n",
    "mydata"
   ]
  },
  {
   "cell_type": "code",
   "execution_count": 3,
   "metadata": {},
   "outputs": [
    {
     "data": {
      "text/plain": [
       "Rating      float64\n",
       "Reviews       int64\n",
       "Size         object\n",
       "Installs      int64\n",
       "dtype: object"
      ]
     },
     "execution_count": 3,
     "metadata": {},
     "output_type": "execute_result"
    }
   ],
   "source": [
    "cat_data=mydata[['Rating', 'Reviews', 'Size', 'Installs']]\n",
    "cat_data.dtypes"
   ]
  },
  {
   "cell_type": "code",
   "execution_count": 4,
   "metadata": {},
   "outputs": [
    {
     "data": {
      "text/plain": [
       "926                   1.0M\n",
       "3909                  1.0M\n",
       "8033                  1.0M\n",
       "6218                  1.0M\n",
       "2338                  1.1M\n",
       "               ...        \n",
       "6438    Varies with device\n",
       "6428    Varies with device\n",
       "6423    Varies with device\n",
       "1635    Varies with device\n",
       "4012    Varies with device\n",
       "Name: Size, Length: 8196, dtype: object"
      ]
     },
     "execution_count": 4,
     "metadata": {},
     "output_type": "execute_result"
    }
   ],
   "source": [
    "#dodaj diagram wystepowan\n",
    "cat_data[\"Size\"].count()\n",
    "cat_data[\"Size\"].sort_values()"
   ]
  },
  {
   "cell_type": "code",
   "execution_count": 316,
   "metadata": {},
   "outputs": [
    {
     "data": {
      "text/plain": [
       "array(['1.0M', '1.1M', '1.2M', '1.3M', '1.4M', '1.5M', '1.6M', '1.7M',\n",
       "       '1.8M', '1.9M', '10.0M', '100M', '103k', '10M', '116k', '118k',\n",
       "       '11M', '11k', '121k', '122k', '12M', '13M', '141k', '143k', '144k',\n",
       "       '14M', '14k', '153k', '154k', '15M', '160k', '161k', '164k',\n",
       "       '169k', '16M', '170k', '173k', '175k', '176k', '17M', '17k',\n",
       "       '186k', '18M', '18k', '190k', '192k', '193k', '196k', '19M',\n",
       "       '2.0M', '2.1M', '2.2M', '2.3M', '2.4M', '2.5M', '2.6M', '2.7M',\n",
       "       '2.8M', '2.9M', '201k', '203k', '206k', '208k', '209k', '20M',\n",
       "       '20k', '210k', '219k', '21M', '220k', '221k', '226k', '228k',\n",
       "       '22M', '232k', '234k', '239k', '23M', '23k', '240k', '241k',\n",
       "       '246k', '24M', '24k', '251k', '253k', '257k', '259k', '25M', '25k',\n",
       "       '266k', '26M', '26k', '270k', '27M', '27k', '280k', '283k', '288k',\n",
       "       '28M', '28k', '292k', '293k', '29M', '29k', '3.0M', '3.1M', '3.2M',\n",
       "       '3.3M', '3.4M', '3.5M', '3.6M', '3.7M', '3.8M', '3.9M', '306k',\n",
       "       '308k', '309k', '30M', '313k', '314k', '317k', '318k', '31M',\n",
       "       '322k', '323k', '32M', '334k', '335k', '33M', '33k', '34M', '34k',\n",
       "       '350k', '351k', '35M', '364k', '36M', '371k', '373k', '375k',\n",
       "       '376k', '378k', '37M', '383k', '387k', '38M', '39M', '39k', '4.0M',\n",
       "       '4.1M', '4.2M', '4.3M', '4.4M', '4.5M', '4.6M', '4.7M', '4.8M',\n",
       "       '4.9M', '400k', '404k', '40M', '411k', '412k', '414k', '417k',\n",
       "       '41M', '41k', '420k', '429k', '42M', '430k', '437k', '43M', '442k',\n",
       "       '444k', '44M', '454k', '458k', '459k', '45M', '45k', '460k',\n",
       "       '467k', '46M', '470k', '473k', '478k', '47M', '485k', '48M', '48k',\n",
       "       '496k', '498k', '499k', '49M', '5.0M', '5.1M', '5.2M', '5.3M',\n",
       "       '5.4M', '5.5M', '5.6M', '5.7M', '5.8M', '5.9M', '500k', '506k',\n",
       "       '50M', '50k', '511k', '516k', '51M', '51k', '523k', '525k', '526k',\n",
       "       '52M', '53M', '540k', '544k', '545k', '54M', '54k', '551k', '552k',\n",
       "       '554k', '556k', '55M', '55k', '562k', '56M', '57M', '582k', '585k',\n",
       "       '58M', '58k', '592k', '597k', '598k', '59M', '6.0M', '6.1M',\n",
       "       '6.2M', '6.3M', '6.4M', '6.5M', '6.6M', '6.7M', '6.8M', '6.9M',\n",
       "       '600k', '608k', '609k', '60M', '613k', '619k', '61M', '61k',\n",
       "       '624k', '626k', '629k', '62M', '636k', '63M', '643k', '647k',\n",
       "       '64M', '655k', '656k', '65M', '66M', '676k', '67M', '683k', '68M',\n",
       "       '691k', '695k', '696k', '69M', '7.0M', '7.1M', '7.2M', '7.3M',\n",
       "       '7.4M', '7.5M', '7.6M', '7.7M', '7.8M', '7.9M', '704k', '70M',\n",
       "       '70k', '713k', '714k', '716k', '717k', '71M', '720k', '721k',\n",
       "       '728k', '72M', '72k', '730k', '73M', '73k', '746k', '74M', '74k',\n",
       "       '756k', '75M', '76M', '772k', '775k', '778k', '779k', '77M',\n",
       "       '780k', '782k', '784k', '785k', '787k', '78M', '78k', '79M', '79k',\n",
       "       '8.0M', '8.1M', '8.2M', '8.3M', '8.4M', '8.5M', '8.5k', '8.6M',\n",
       "       '8.7M', '8.8M', '8.9M', '801k', '809k', '80M', '811k', '812k',\n",
       "       '816k', '818k', '81M', '81k', '82M', '82k', '837k', '83M', '840k',\n",
       "       '842k', '847k', '84M', '853k', '857k', '85M', '860k', '861k',\n",
       "       '862k', '865k', '86M', '872k', '879k', '87M', '887k', '88M',\n",
       "       '892k', '899k', '89M', '89k', '9.0M', '9.1M', '9.2M', '9.3M',\n",
       "       '9.4M', '9.5M', '9.6M', '9.7M', '9.8M', '9.9M', '903k', '90M',\n",
       "       '914k', '916k', '91M', '91k', '920k', '924k', '92M', '930k',\n",
       "       '939k', '93M', '93k', '948k', '94M', '951k', '953k', '954k',\n",
       "       '957k', '95M', '963k', '965k', '96M', '975k', '976k', '97M',\n",
       "       '980k', '982k', '986k', '98M', '994k', '99M', 'Varies with device'],\n",
       "      dtype=object)"
      ]
     },
     "execution_count": 316,
     "metadata": {},
     "output_type": "execute_result"
    }
   ],
   "source": [
    "my_data4=cat_data[\"Size\"].unique()\n",
    "my_data4.sort()\n",
    "my_data4"
   ]
  },
  {
   "cell_type": "code",
   "execution_count": 6,
   "metadata": {},
   "outputs": [
    {
     "name": "stdout",
     "output_type": "stream",
     "text": [
      "1171\n",
      "7025\n"
     ]
    },
    {
     "data": {
      "text/plain": [
       "8196"
      ]
     },
     "execution_count": 6,
     "metadata": {},
     "output_type": "execute_result"
    }
   ],
   "source": [
    "my_data2=cat_data[cat_data[\"Size\"]==\"Varies with device\"].count()[\"Size\"]\n",
    "print(my_data2)\n",
    "\n",
    "my_data3=cat_data[cat_data[\"Size\"]!=\"Varies with device\"].count()[\"Size\"]\n",
    "print(my_data3)\n",
    "cat_data[\"Size\"].count()\n"
   ]
  },
  {
   "cell_type": "code",
   "execution_count": 7,
   "metadata": {},
   "outputs": [],
   "source": [
    "# != Zależy od urządzenia\n",
    "my_data=cat_data[cat_data[\"Size\"]!=\"Varies with device\"]\n",
    "\n"
   ]
  },
  {
   "cell_type": "code",
   "execution_count": null,
   "metadata": {},
   "outputs": [],
   "source": []
  },
  {
   "cell_type": "code",
   "execution_count": 8,
   "metadata": {},
   "outputs": [
    {
     "data": {
      "text/html": [
       "<div>\n",
       "<style scoped>\n",
       "    .dataframe tbody tr th:only-of-type {\n",
       "        vertical-align: middle;\n",
       "    }\n",
       "\n",
       "    .dataframe tbody tr th {\n",
       "        vertical-align: top;\n",
       "    }\n",
       "\n",
       "    .dataframe thead th {\n",
       "        text-align: right;\n",
       "    }\n",
       "</style>\n",
       "<table border=\"1\" class=\"dataframe\">\n",
       "  <thead>\n",
       "    <tr style=\"text-align: right;\">\n",
       "      <th></th>\n",
       "      <th></th>\n",
       "      <th>count</th>\n",
       "      <th>mean</th>\n",
       "      <th>std</th>\n",
       "    </tr>\n",
       "  </thead>\n",
       "  <tbody>\n",
       "    <tr>\n",
       "      <th>25</th>\n",
       "      <td>14M</td>\n",
       "      <td>149.0</td>\n",
       "      <td>4.172483</td>\n",
       "      <td>0.581687</td>\n",
       "    </tr>\n",
       "    <tr>\n",
       "      <th>20</th>\n",
       "      <td>12M</td>\n",
       "      <td>146.0</td>\n",
       "      <td>4.208904</td>\n",
       "      <td>0.532129</td>\n",
       "    </tr>\n",
       "    <tr>\n",
       "      <th>16</th>\n",
       "      <td>11M</td>\n",
       "      <td>144.0</td>\n",
       "      <td>4.236111</td>\n",
       "      <td>0.502666</td>\n",
       "    </tr>\n",
       "    <tr>\n",
       "      <th>21</th>\n",
       "      <td>13M</td>\n",
       "      <td>143.0</td>\n",
       "      <td>4.131469</td>\n",
       "      <td>0.601456</td>\n",
       "    </tr>\n",
       "    <tr>\n",
       "      <th>29</th>\n",
       "      <td>15M</td>\n",
       "      <td>138.0</td>\n",
       "      <td>4.215217</td>\n",
       "      <td>0.496543</td>\n",
       "    </tr>\n",
       "    <tr>\n",
       "      <th>39</th>\n",
       "      <td>17M</td>\n",
       "      <td>115.0</td>\n",
       "      <td>4.191304</td>\n",
       "      <td>0.516664</td>\n",
       "    </tr>\n",
       "    <tr>\n",
       "      <th>88</th>\n",
       "      <td>25M</td>\n",
       "      <td>113.0</td>\n",
       "      <td>4.222124</td>\n",
       "      <td>0.533140</td>\n",
       "    </tr>\n",
       "    <tr>\n",
       "      <th>34</th>\n",
       "      <td>16M</td>\n",
       "      <td>106.0</td>\n",
       "      <td>4.113208</td>\n",
       "      <td>0.604598</td>\n",
       "    </tr>\n",
       "    <tr>\n",
       "      <th>68</th>\n",
       "      <td>21M</td>\n",
       "      <td>106.0</td>\n",
       "      <td>4.146226</td>\n",
       "      <td>0.601613</td>\n",
       "    </tr>\n",
       "    <tr>\n",
       "      <th>48</th>\n",
       "      <td>19M</td>\n",
       "      <td>105.0</td>\n",
       "      <td>4.144762</td>\n",
       "      <td>0.499996</td>\n",
       "    </tr>\n",
       "  </tbody>\n",
       "</table>\n",
       "</div>"
      ],
      "text/plain": [
       "         count      mean       std\n",
       "25  14M  149.0  4.172483  0.581687\n",
       "20  12M  146.0  4.208904  0.532129\n",
       "16  11M  144.0  4.236111  0.502666\n",
       "21  13M  143.0  4.131469  0.601456\n",
       "29  15M  138.0  4.215217  0.496543\n",
       "39  17M  115.0  4.191304  0.516664\n",
       "88  25M  113.0  4.222124  0.533140\n",
       "34  16M  106.0  4.113208  0.604598\n",
       "68  21M  106.0  4.146226  0.601613\n",
       "48  19M  105.0  4.144762  0.499996"
      ]
     },
     "execution_count": 8,
     "metadata": {},
     "output_type": "execute_result"
    }
   ],
   "source": [
    "data = my_data[[\"Size\",\"Rating\"]].groupby(\"Size\").describe().reset_index()\n",
    "data.columns = data.columns.droplevel()\n",
    "data = data.sort_values(\"count\", ascending=False)\n",
    "data.iloc[:10,0:4]"
   ]
  },
  {
   "cell_type": "code",
   "execution_count": 9,
   "metadata": {},
   "outputs": [
    {
     "data": {
      "text/html": [
       "<div>\n",
       "<style scoped>\n",
       "    .dataframe tbody tr th:only-of-type {\n",
       "        vertical-align: middle;\n",
       "    }\n",
       "\n",
       "    .dataframe tbody tr th {\n",
       "        vertical-align: top;\n",
       "    }\n",
       "\n",
       "    .dataframe thead th {\n",
       "        text-align: right;\n",
       "    }\n",
       "</style>\n",
       "<table border=\"1\" class=\"dataframe\">\n",
       "  <thead>\n",
       "    <tr style=\"text-align: right;\">\n",
       "      <th></th>\n",
       "      <th></th>\n",
       "      <th>count</th>\n",
       "      <th>mean</th>\n",
       "      <th>std</th>\n",
       "    </tr>\n",
       "  </thead>\n",
       "  <tbody>\n",
       "    <tr>\n",
       "      <th>25</th>\n",
       "      <td>14M</td>\n",
       "      <td>149.0</td>\n",
       "      <td>203968.570470</td>\n",
       "      <td>1.233602e+06</td>\n",
       "    </tr>\n",
       "    <tr>\n",
       "      <th>20</th>\n",
       "      <td>12M</td>\n",
       "      <td>146.0</td>\n",
       "      <td>59364.869863</td>\n",
       "      <td>1.944620e+05</td>\n",
       "    </tr>\n",
       "    <tr>\n",
       "      <th>16</th>\n",
       "      <td>11M</td>\n",
       "      <td>144.0</td>\n",
       "      <td>92376.791667</td>\n",
       "      <td>4.587358e+05</td>\n",
       "    </tr>\n",
       "    <tr>\n",
       "      <th>21</th>\n",
       "      <td>13M</td>\n",
       "      <td>143.0</td>\n",
       "      <td>77670.440559</td>\n",
       "      <td>2.066414e+05</td>\n",
       "    </tr>\n",
       "    <tr>\n",
       "      <th>29</th>\n",
       "      <td>15M</td>\n",
       "      <td>138.0</td>\n",
       "      <td>176846.268116</td>\n",
       "      <td>1.206934e+06</td>\n",
       "    </tr>\n",
       "    <tr>\n",
       "      <th>39</th>\n",
       "      <td>17M</td>\n",
       "      <td>115.0</td>\n",
       "      <td>227923.843478</td>\n",
       "      <td>1.211490e+06</td>\n",
       "    </tr>\n",
       "    <tr>\n",
       "      <th>88</th>\n",
       "      <td>25M</td>\n",
       "      <td>113.0</td>\n",
       "      <td>105809.115044</td>\n",
       "      <td>3.331479e+05</td>\n",
       "    </tr>\n",
       "    <tr>\n",
       "      <th>34</th>\n",
       "      <td>16M</td>\n",
       "      <td>106.0</td>\n",
       "      <td>139333.471698</td>\n",
       "      <td>6.643854e+05</td>\n",
       "    </tr>\n",
       "    <tr>\n",
       "      <th>68</th>\n",
       "      <td>21M</td>\n",
       "      <td>106.0</td>\n",
       "      <td>93263.386792</td>\n",
       "      <td>2.653496e+05</td>\n",
       "    </tr>\n",
       "    <tr>\n",
       "      <th>48</th>\n",
       "      <td>19M</td>\n",
       "      <td>105.0</td>\n",
       "      <td>42226.819048</td>\n",
       "      <td>1.096258e+05</td>\n",
       "    </tr>\n",
       "  </tbody>\n",
       "</table>\n",
       "</div>"
      ],
      "text/plain": [
       "         count           mean           std\n",
       "25  14M  149.0  203968.570470  1.233602e+06\n",
       "20  12M  146.0   59364.869863  1.944620e+05\n",
       "16  11M  144.0   92376.791667  4.587358e+05\n",
       "21  13M  143.0   77670.440559  2.066414e+05\n",
       "29  15M  138.0  176846.268116  1.206934e+06\n",
       "39  17M  115.0  227923.843478  1.211490e+06\n",
       "88  25M  113.0  105809.115044  3.331479e+05\n",
       "34  16M  106.0  139333.471698  6.643854e+05\n",
       "68  21M  106.0   93263.386792  2.653496e+05\n",
       "48  19M  105.0   42226.819048  1.096258e+05"
      ]
     },
     "execution_count": 9,
     "metadata": {},
     "output_type": "execute_result"
    }
   ],
   "source": [
    "data = my_data[[\"Size\",\"Reviews\"]].groupby(\"Size\").describe().reset_index()\n",
    "data.columns = data.columns.droplevel()\n",
    "data = data.sort_values(\"count\", ascending=False)\n",
    "data.iloc[:10,0:4]"
   ]
  },
  {
   "cell_type": "code",
   "execution_count": 10,
   "metadata": {},
   "outputs": [
    {
     "data": {
      "text/html": [
       "<div>\n",
       "<style scoped>\n",
       "    .dataframe tbody tr th:only-of-type {\n",
       "        vertical-align: middle;\n",
       "    }\n",
       "\n",
       "    .dataframe tbody tr th {\n",
       "        vertical-align: top;\n",
       "    }\n",
       "\n",
       "    .dataframe thead th {\n",
       "        text-align: right;\n",
       "    }\n",
       "</style>\n",
       "<table border=\"1\" class=\"dataframe\">\n",
       "  <thead>\n",
       "    <tr style=\"text-align: right;\">\n",
       "      <th></th>\n",
       "      <th></th>\n",
       "      <th>count</th>\n",
       "      <th>mean</th>\n",
       "      <th>std</th>\n",
       "    </tr>\n",
       "  </thead>\n",
       "  <tbody>\n",
       "    <tr>\n",
       "      <th>25</th>\n",
       "      <td>14M</td>\n",
       "      <td>149.0</td>\n",
       "      <td>4.017626e+06</td>\n",
       "      <td>1.398543e+07</td>\n",
       "    </tr>\n",
       "    <tr>\n",
       "      <th>20</th>\n",
       "      <td>12M</td>\n",
       "      <td>146.0</td>\n",
       "      <td>3.871504e+06</td>\n",
       "      <td>1.485148e+07</td>\n",
       "    </tr>\n",
       "    <tr>\n",
       "      <th>16</th>\n",
       "      <td>11M</td>\n",
       "      <td>144.0</td>\n",
       "      <td>6.614949e+06</td>\n",
       "      <td>4.326272e+07</td>\n",
       "    </tr>\n",
       "    <tr>\n",
       "      <th>21</th>\n",
       "      <td>13M</td>\n",
       "      <td>143.0</td>\n",
       "      <td>1.117654e+07</td>\n",
       "      <td>8.440597e+07</td>\n",
       "    </tr>\n",
       "    <tr>\n",
       "      <th>29</th>\n",
       "      <td>15M</td>\n",
       "      <td>138.0</td>\n",
       "      <td>3.366042e+06</td>\n",
       "      <td>1.283143e+07</td>\n",
       "    </tr>\n",
       "    <tr>\n",
       "      <th>39</th>\n",
       "      <td>17M</td>\n",
       "      <td>115.0</td>\n",
       "      <td>8.929391e+06</td>\n",
       "      <td>4.863077e+07</td>\n",
       "    </tr>\n",
       "    <tr>\n",
       "      <th>88</th>\n",
       "      <td>25M</td>\n",
       "      <td>113.0</td>\n",
       "      <td>4.384349e+06</td>\n",
       "      <td>1.316118e+07</td>\n",
       "    </tr>\n",
       "    <tr>\n",
       "      <th>34</th>\n",
       "      <td>16M</td>\n",
       "      <td>106.0</td>\n",
       "      <td>4.531361e+06</td>\n",
       "      <td>1.517230e+07</td>\n",
       "    </tr>\n",
       "    <tr>\n",
       "      <th>68</th>\n",
       "      <td>21M</td>\n",
       "      <td>106.0</td>\n",
       "      <td>2.985763e+06</td>\n",
       "      <td>8.595272e+06</td>\n",
       "    </tr>\n",
       "    <tr>\n",
       "      <th>48</th>\n",
       "      <td>19M</td>\n",
       "      <td>105.0</td>\n",
       "      <td>1.680470e+06</td>\n",
       "      <td>2.836241e+06</td>\n",
       "    </tr>\n",
       "  </tbody>\n",
       "</table>\n",
       "</div>"
      ],
      "text/plain": [
       "         count          mean           std\n",
       "25  14M  149.0  4.017626e+06  1.398543e+07\n",
       "20  12M  146.0  3.871504e+06  1.485148e+07\n",
       "16  11M  144.0  6.614949e+06  4.326272e+07\n",
       "21  13M  143.0  1.117654e+07  8.440597e+07\n",
       "29  15M  138.0  3.366042e+06  1.283143e+07\n",
       "39  17M  115.0  8.929391e+06  4.863077e+07\n",
       "88  25M  113.0  4.384349e+06  1.316118e+07\n",
       "34  16M  106.0  4.531361e+06  1.517230e+07\n",
       "68  21M  106.0  2.985763e+06  8.595272e+06\n",
       "48  19M  105.0  1.680470e+06  2.836241e+06"
      ]
     },
     "execution_count": 10,
     "metadata": {},
     "output_type": "execute_result"
    }
   ],
   "source": [
    "data = my_data[[\"Size\",\"Installs\"]].groupby(\"Size\").describe().reset_index()\n",
    "data.columns = data.columns.droplevel()\n",
    "data = data.sort_values(\"count\", ascending=False)\n",
    "data.iloc[:10,0:4]"
   ]
  },
  {
   "cell_type": "code",
   "execution_count": 11,
   "metadata": {},
   "outputs": [
    {
     "name": "stdout",
     "output_type": "stream",
     "text": [
      "['14M', '12M', '11M', '13M', '15M', '17M', '25M', '16M', '21M', '19M', '26M', '24M', '20M', '18M', '23M', '22M', '10M', '27M', '28M', '30M', '37M', '31M', '33M', '35M', '29M', '3.3M', '44M', '40M', '2.5M', '3.8M', '2.8M', '39M', '2.3M', '2.9M', '32M', '46M', '38M', '36M', '3.0M', '34M', '48M', '4.0M', '3.1M', '3.4M', '3.9M', '5.0M', '3.5M', '3.7M', '3.2M', '4.3M', '2.7M', '4.1M', '2.2M', '4.2M', '2.4M', '5.4M', '41M', '49M', '6.3M', '3.6M', '43M', '45M', '2.6M', '1.5M', '2.0M', '1.8M', '50M', '4.6M', '4.5M', '5.7M', '63M', '6.1M', '4.4M', '7.3M', '5.3M', '6.9M', '53M', '4.9M', '1.6M', '5.1M', '47M', '1.2M', '42M', '57M', '2.1M', '60M', '5.8M', '8.7M', '8.5M', '99M', '4.7M', '9.8M', '7.0M', '1.7M', '8.3M', '5.9M', '1.3M', '9.1M', '9.2M', '6.4M', '6.0M', '5.5M', '1.9M', '52M', '55M', '1.1M', '7.4M', '51M', '56M', '6.5M', '5.6M', '7.9M', '54M', '1.4M', '5.2M', '59M', '8.2M', '6.6M', '6.2M', '61M', '4.8M', '9.0M', '7.2M', '7.1M', '96M', '6.8M', '6.7M', '7.5M', '8.1M', '7.7M', '7.6M', '9.5M', '58M', '8.8M', '8.4M', '8.9M', '67M', '62M', '8.6M', '78M', '9.4M', '8.0M', '70M', '7.8M', '72M', '9.7M', '91M', '69M', '9.9M', '82M', '95M', '94M', '68M', '100M', '64M', '76M', '73M', '66M', '85M', '88M', '71M', '93M', '80M', '9.6M', '74M', '92M', '97M', '83M', '98M', '9.3M', '81M', '77M', '79M', '84M', '65M', '89M', '87M', '86M', '75M', '10.0M', '90M', '1.0M', '375k', '266k', '201k', '318k', '364k', '334k', '335k', '323k', '192k', '29k', '118k', '70k', '417k', '58k', '26k', '17k', '141k', '79k', '228k', '51k', '196k', '592k', '458k', '499k', '498k', '496k', '48k', '478k', '485k', '459k', '444k', '473k', '470k', '454k', '429k', '442k', '437k', '430k', '420k', '41k', '414k', '412k', '411k', '506k', '371k', '45k', '523k', '39k', '404k', '50k', '526k', '350k', '387k', '540k', '544k', '545k', '383k', '54k', '552k', '730k', '554k', '556k', '378k', '55k', '562k', '376k', '582k', '585k', '373k', '597k', '598k', '516k', '511k', '351k', '691k', '292k', '626k', '322k', '600k', '608k', '609k', '317k', '613k', '619k', '314k', '61k', '624k', '629k', '293k', '313k', '636k', '309k', '643k', '647k', '308k', '655k', '656k', '306k', '676k', '33k', '34k', '695k', '704k', '696k', '28k', '288k', '283k', '280k', '27k', '270k', '25k', '259k', '257k', '253k', '683k', '713k', '714k', '716k', '717k', '467k', '720k', '721k', '728k', '24k', '72k', '525k', '801k', '400k', '551k', '779k', '239k', '780k', '782k', '784k', '785k', '787k', '234k', '78k', '232k', '226k', '221k', '220k', '219k', '857k', '8.5k', '20k', '210k', '861k', '190k', '954k', '91k', '920k', '778k', '775k', '772k', '193k', '842k', '816k', '809k', '203k', '811k', '812k', '837k', '818k', '82k', '840k', '206k', '23k', '81k', '847k', '853k', '460k', '208k', '209k', '241k', '74k', '756k', '240k', '924k', '930k', '939k', '170k', '872k', '879k', '186k', '887k', '892k', '899k', '176k', '89k', '175k', '173k', '169k', '865k', '164k', '161k', '160k', '154k', '153k', '14k', '903k', '746k', '251k', '246k', '18k', '862k', '122k', '975k', '93k', '948k', '121k', '951k', '953k', '957k', '860k', '11k', '963k', '965k', '976k', '73k', '116k', '980k', '982k', '986k', '103k', '994k', '143k', '916k', '914k', '144k', '500k']\n"
     ]
    }
   ],
   "source": [
    "sorted_list = list(data.sort_values(\"count\", ascending=False)[\"\"])\n",
    "print(sorted_list)"
   ]
  },
  {
   "cell_type": "code",
   "execution_count": 12,
   "metadata": {},
   "outputs": [
    {
     "name": "stderr",
     "output_type": "stream",
     "text": [
      "<ipython-input-12-a70fc1b51885>:8: MatplotlibDeprecationWarning: Adding an axes using the same arguments as a previous axes currently reuses the earlier instance.  In a future version, a new instance will always be created and returned.  Meanwhile, this warning can be suppressed, and the future behavior ensured, by passing a unique label to each axes instance.\n",
      "  plt.subplot(1,3,1)\n",
      "<ipython-input-12-a70fc1b51885>:14: MatplotlibDeprecationWarning: Adding an axes using the same arguments as a previous axes currently reuses the earlier instance.  In a future version, a new instance will always be created and returned.  Meanwhile, this warning can be suppressed, and the future behavior ensured, by passing a unique label to each axes instance.\n",
      "  plt.subplot(1,3,2)\n",
      "<ipython-input-12-a70fc1b51885>:20: MatplotlibDeprecationWarning: Adding an axes using the same arguments as a previous axes currently reuses the earlier instance.  In a future version, a new instance will always be created and returned.  Meanwhile, this warning can be suppressed, and the future behavior ensured, by passing a unique label to each axes instance.\n",
      "  plt.subplot(1,3,3)\n",
      "<ipython-input-12-a70fc1b51885>:8: MatplotlibDeprecationWarning: Adding an axes using the same arguments as a previous axes currently reuses the earlier instance.  In a future version, a new instance will always be created and returned.  Meanwhile, this warning can be suppressed, and the future behavior ensured, by passing a unique label to each axes instance.\n",
      "  plt.subplot(1,3,1)\n",
      "<ipython-input-12-a70fc1b51885>:14: MatplotlibDeprecationWarning: Adding an axes using the same arguments as a previous axes currently reuses the earlier instance.  In a future version, a new instance will always be created and returned.  Meanwhile, this warning can be suppressed, and the future behavior ensured, by passing a unique label to each axes instance.\n",
      "  plt.subplot(1,3,2)\n",
      "<ipython-input-12-a70fc1b51885>:20: MatplotlibDeprecationWarning: Adding an axes using the same arguments as a previous axes currently reuses the earlier instance.  In a future version, a new instance will always be created and returned.  Meanwhile, this warning can be suppressed, and the future behavior ensured, by passing a unique label to each axes instance.\n",
      "  plt.subplot(1,3,3)\n",
      "<ipython-input-12-a70fc1b51885>:8: MatplotlibDeprecationWarning: Adding an axes using the same arguments as a previous axes currently reuses the earlier instance.  In a future version, a new instance will always be created and returned.  Meanwhile, this warning can be suppressed, and the future behavior ensured, by passing a unique label to each axes instance.\n",
      "  plt.subplot(1,3,1)\n",
      "<ipython-input-12-a70fc1b51885>:14: MatplotlibDeprecationWarning: Adding an axes using the same arguments as a previous axes currently reuses the earlier instance.  In a future version, a new instance will always be created and returned.  Meanwhile, this warning can be suppressed, and the future behavior ensured, by passing a unique label to each axes instance.\n",
      "  plt.subplot(1,3,2)\n",
      "<ipython-input-12-a70fc1b51885>:20: MatplotlibDeprecationWarning: Adding an axes using the same arguments as a previous axes currently reuses the earlier instance.  In a future version, a new instance will always be created and returned.  Meanwhile, this warning can be suppressed, and the future behavior ensured, by passing a unique label to each axes instance.\n",
      "  plt.subplot(1,3,3)\n",
      "<ipython-input-12-a70fc1b51885>:8: MatplotlibDeprecationWarning: Adding an axes using the same arguments as a previous axes currently reuses the earlier instance.  In a future version, a new instance will always be created and returned.  Meanwhile, this warning can be suppressed, and the future behavior ensured, by passing a unique label to each axes instance.\n",
      "  plt.subplot(1,3,1)\n",
      "<ipython-input-12-a70fc1b51885>:14: MatplotlibDeprecationWarning: Adding an axes using the same arguments as a previous axes currently reuses the earlier instance.  In a future version, a new instance will always be created and returned.  Meanwhile, this warning can be suppressed, and the future behavior ensured, by passing a unique label to each axes instance.\n",
      "  plt.subplot(1,3,2)\n",
      "<ipython-input-12-a70fc1b51885>:20: MatplotlibDeprecationWarning: Adding an axes using the same arguments as a previous axes currently reuses the earlier instance.  In a future version, a new instance will always be created and returned.  Meanwhile, this warning can be suppressed, and the future behavior ensured, by passing a unique label to each axes instance.\n",
      "  plt.subplot(1,3,3)\n",
      "<ipython-input-12-a70fc1b51885>:8: MatplotlibDeprecationWarning: Adding an axes using the same arguments as a previous axes currently reuses the earlier instance.  In a future version, a new instance will always be created and returned.  Meanwhile, this warning can be suppressed, and the future behavior ensured, by passing a unique label to each axes instance.\n",
      "  plt.subplot(1,3,1)\n",
      "<ipython-input-12-a70fc1b51885>:14: MatplotlibDeprecationWarning: Adding an axes using the same arguments as a previous axes currently reuses the earlier instance.  In a future version, a new instance will always be created and returned.  Meanwhile, this warning can be suppressed, and the future behavior ensured, by passing a unique label to each axes instance.\n",
      "  plt.subplot(1,3,2)\n",
      "<ipython-input-12-a70fc1b51885>:20: MatplotlibDeprecationWarning: Adding an axes using the same arguments as a previous axes currently reuses the earlier instance.  In a future version, a new instance will always be created and returned.  Meanwhile, this warning can be suppressed, and the future behavior ensured, by passing a unique label to each axes instance.\n",
      "  plt.subplot(1,3,3)\n",
      "<ipython-input-12-a70fc1b51885>:8: MatplotlibDeprecationWarning: Adding an axes using the same arguments as a previous axes currently reuses the earlier instance.  In a future version, a new instance will always be created and returned.  Meanwhile, this warning can be suppressed, and the future behavior ensured, by passing a unique label to each axes instance.\n",
      "  plt.subplot(1,3,1)\n",
      "<ipython-input-12-a70fc1b51885>:14: MatplotlibDeprecationWarning: Adding an axes using the same arguments as a previous axes currently reuses the earlier instance.  In a future version, a new instance will always be created and returned.  Meanwhile, this warning can be suppressed, and the future behavior ensured, by passing a unique label to each axes instance.\n",
      "  plt.subplot(1,3,2)\n",
      "<ipython-input-12-a70fc1b51885>:20: MatplotlibDeprecationWarning: Adding an axes using the same arguments as a previous axes currently reuses the earlier instance.  In a future version, a new instance will always be created and returned.  Meanwhile, this warning can be suppressed, and the future behavior ensured, by passing a unique label to each axes instance.\n",
      "  plt.subplot(1,3,3)\n",
      "<ipython-input-12-a70fc1b51885>:8: MatplotlibDeprecationWarning: Adding an axes using the same arguments as a previous axes currently reuses the earlier instance.  In a future version, a new instance will always be created and returned.  Meanwhile, this warning can be suppressed, and the future behavior ensured, by passing a unique label to each axes instance.\n",
      "  plt.subplot(1,3,1)\n",
      "<ipython-input-12-a70fc1b51885>:14: MatplotlibDeprecationWarning: Adding an axes using the same arguments as a previous axes currently reuses the earlier instance.  In a future version, a new instance will always be created and returned.  Meanwhile, this warning can be suppressed, and the future behavior ensured, by passing a unique label to each axes instance.\n",
      "  plt.subplot(1,3,2)\n",
      "<ipython-input-12-a70fc1b51885>:20: MatplotlibDeprecationWarning: Adding an axes using the same arguments as a previous axes currently reuses the earlier instance.  In a future version, a new instance will always be created and returned.  Meanwhile, this warning can be suppressed, and the future behavior ensured, by passing a unique label to each axes instance.\n",
      "  plt.subplot(1,3,3)\n",
      "<ipython-input-12-a70fc1b51885>:8: MatplotlibDeprecationWarning: Adding an axes using the same arguments as a previous axes currently reuses the earlier instance.  In a future version, a new instance will always be created and returned.  Meanwhile, this warning can be suppressed, and the future behavior ensured, by passing a unique label to each axes instance.\n",
      "  plt.subplot(1,3,1)\n",
      "<ipython-input-12-a70fc1b51885>:14: MatplotlibDeprecationWarning: Adding an axes using the same arguments as a previous axes currently reuses the earlier instance.  In a future version, a new instance will always be created and returned.  Meanwhile, this warning can be suppressed, and the future behavior ensured, by passing a unique label to each axes instance.\n",
      "  plt.subplot(1,3,2)\n",
      "<ipython-input-12-a70fc1b51885>:20: MatplotlibDeprecationWarning: Adding an axes using the same arguments as a previous axes currently reuses the earlier instance.  In a future version, a new instance will always be created and returned.  Meanwhile, this warning can be suppressed, and the future behavior ensured, by passing a unique label to each axes instance.\n",
      "  plt.subplot(1,3,3)\n",
      "<ipython-input-12-a70fc1b51885>:8: MatplotlibDeprecationWarning: Adding an axes using the same arguments as a previous axes currently reuses the earlier instance.  In a future version, a new instance will always be created and returned.  Meanwhile, this warning can be suppressed, and the future behavior ensured, by passing a unique label to each axes instance.\n",
      "  plt.subplot(1,3,1)\n",
      "<ipython-input-12-a70fc1b51885>:14: MatplotlibDeprecationWarning: Adding an axes using the same arguments as a previous axes currently reuses the earlier instance.  In a future version, a new instance will always be created and returned.  Meanwhile, this warning can be suppressed, and the future behavior ensured, by passing a unique label to each axes instance.\n",
      "  plt.subplot(1,3,2)\n",
      "<ipython-input-12-a70fc1b51885>:20: MatplotlibDeprecationWarning: Adding an axes using the same arguments as a previous axes currently reuses the earlier instance.  In a future version, a new instance will always be created and returned.  Meanwhile, this warning can be suppressed, and the future behavior ensured, by passing a unique label to each axes instance.\n",
      "  plt.subplot(1,3,3)\n"
     ]
    },
    {
     "data": {
      "image/png": "[encoded data removed]",
      "text/plain": [
       "<Figure size 1600x240 with 3 Axes>"
      ]
     },
     "metadata": {
      "needs_background": "light"
     },
     "output_type": "display_data"
    }
   ],
   "source": [
    "i = 0\n",
    "top = 10\n",
    "top_list = sorted_list[:top]\n",
    "plt.figure(figsize=(20,3), dpi = 80)\n",
    "\n",
    "while i < top:\n",
    "    \n",
    "    plt.subplot(1,3,1)\n",
    "    reviews = mydata[mydata[\"Size\"] == top_list[i]][\"Reviews\"]\n",
    "    reviews.plot.density()\n",
    "    plt.legend(top_list)\n",
    "    plt.xlabel(\"Reviews\")\n",
    "\n",
    "    plt.subplot(1,3,2)\n",
    "    ratings = mydata[mydata[\"Size\"] == top_list[i]][\"Rating\"]\n",
    "    ratings.plot.density()\n",
    "    plt.legend(top_list)\n",
    "    plt.xlabel(\"Ratings\")\n",
    "\n",
    "    plt.subplot(1,3,3)\n",
    "    installs = mydata[mydata[\"Size\"] == top_list[i]][\"Installs\"]\n",
    "    installs.plot.density()\n",
    "    plt.legend(top_list)\n",
    "    plt.xlabel(\"Installs\")\n",
    "    plt.tight_layout()\n",
    "\n",
    "    i += 1"
   ]
  },
  {
   "cell_type": "markdown",
   "metadata": {},
   "source": [
    "data"
   ]
  },
  {
   "cell_type": "code",
   "execution_count": 322,
   "metadata": {},
   "outputs": [
    {
     "data": {
      "text/html": [
       "<div>\n",
       "<style scoped>\n",
       "    .dataframe tbody tr th:only-of-type {\n",
       "        vertical-align: middle;\n",
       "    }\n",
       "\n",
       "    .dataframe tbody tr th {\n",
       "        vertical-align: top;\n",
       "    }\n",
       "\n",
       "    .dataframe thead th {\n",
       "        text-align: right;\n",
       "    }\n",
       "</style>\n",
       "<table border=\"1\" class=\"dataframe\">\n",
       "  <thead>\n",
       "    <tr style=\"text-align: right;\">\n",
       "      <th></th>\n",
       "      <th>App</th>\n",
       "      <th>Category</th>\n",
       "      <th>Rating</th>\n",
       "      <th>Reviews</th>\n",
       "      <th>Size</th>\n",
       "      <th>Installs</th>\n",
       "      <th>Type</th>\n",
       "      <th>Content Rating</th>\n",
       "      <th>Size mb</th>\n",
       "    </tr>\n",
       "  </thead>\n",
       "  <tbody>\n",
       "    <tr>\n",
       "      <th>0</th>\n",
       "      <td>+Download 4 Instagram Twitter</td>\n",
       "      <td>SOCIAL</td>\n",
       "      <td>4.5</td>\n",
       "      <td>40467</td>\n",
       "      <td>22M</td>\n",
       "      <td>1000000</td>\n",
       "      <td>Free</td>\n",
       "      <td>Everyone</td>\n",
       "      <td>22.000000</td>\n",
       "    </tr>\n",
       "    <tr>\n",
       "      <th>1</th>\n",
       "      <td>- Free Comics - Comic Apps</td>\n",
       "      <td>COMICS</td>\n",
       "      <td>3.5</td>\n",
       "      <td>115</td>\n",
       "      <td>9.1M</td>\n",
       "      <td>10000</td>\n",
       "      <td>Free</td>\n",
       "      <td>Mature 17+</td>\n",
       "      <td>9.100000</td>\n",
       "    </tr>\n",
       "    <tr>\n",
       "      <th>2</th>\n",
       "      <td>.R</td>\n",
       "      <td>TOOLS</td>\n",
       "      <td>4.5</td>\n",
       "      <td>259</td>\n",
       "      <td>203k</td>\n",
       "      <td>10000</td>\n",
       "      <td>Free</td>\n",
       "      <td>Everyone</td>\n",
       "      <td>0.198242</td>\n",
       "    </tr>\n",
       "    <tr>\n",
       "      <th>3</th>\n",
       "      <td>/u/app</td>\n",
       "      <td>COMMUNICATION</td>\n",
       "      <td>4.7</td>\n",
       "      <td>573</td>\n",
       "      <td>53M</td>\n",
       "      <td>10000</td>\n",
       "      <td>Free</td>\n",
       "      <td>Mature 17+</td>\n",
       "      <td>53.000000</td>\n",
       "    </tr>\n",
       "    <tr>\n",
       "      <th>4</th>\n",
       "      <td>058.ba</td>\n",
       "      <td>NEWS_AND_MAGAZINES</td>\n",
       "      <td>4.4</td>\n",
       "      <td>27</td>\n",
       "      <td>14M</td>\n",
       "      <td>100</td>\n",
       "      <td>Free</td>\n",
       "      <td>Everyone</td>\n",
       "      <td>14.000000</td>\n",
       "    </tr>\n",
       "  </tbody>\n",
       "</table>\n",
       "</div>"
      ],
      "text/plain": [
       "                             App            Category  Rating Reviews  Size  \\\n",
       "0  +Download 4 Instagram Twitter              SOCIAL     4.5   40467   22M   \n",
       "1     - Free Comics - Comic Apps              COMICS     3.5     115  9.1M   \n",
       "2                             .R               TOOLS     4.5     259  203k   \n",
       "3                         /u/app       COMMUNICATION     4.7     573   53M   \n",
       "4                         058.ba  NEWS_AND_MAGAZINES     4.4      27   14M   \n",
       "\n",
       "   Installs  Type Content Rating    Size mb  \n",
       "0   1000000  Free       Everyone  22.000000  \n",
       "1     10000  Free     Mature 17+   9.100000  \n",
       "2     10000  Free       Everyone   0.198242  \n",
       "3     10000  Free     Mature 17+  53.000000  \n",
       "4       100  Free       Everyone  14.000000  "
      ]
     },
     "execution_count": 322,
     "metadata": {},
     "output_type": "execute_result"
    }
   ],
   "source": [
    "size = data[:]\n",
    "size = size[size[\"Size\"] != \"Varies with device\"]\n",
    "size[\"Size number\"] = pd.to_numeric(size[\"Size\"].str[:-1])\n",
    "size[\"Size units\"] = size[\"Size\"].str[-1:]\n",
    "size[\"unit bytes\"] = size[\"Size units\"].apply(lambda x: 1/1024 if x == \"k\" else 1)\n",
    "size[\"unit bytes\"] = pd.to_numeric(size[\"unit bytes\"])\n",
    "size[\"Size mb\"] = size[\"Size number\"] * size[\"unit bytes\"]\n",
    "size = size.iloc[:,[0,1,2,3,4,5,6,7,11]]\n",
    "size.head()"
   ]
  },
  {
   "cell_type": "code",
   "execution_count": 323,
   "metadata": {},
   "outputs": [
    {
     "data": {
      "text/plain": [
       "0       22.000000\n",
       "1        9.100000\n",
       "2        0.198242\n",
       "3       53.000000\n",
       "4       14.000000\n",
       "          ...    \n",
       "8191    34.000000\n",
       "8192    26.000000\n",
       "8193    18.000000\n",
       "8194     3.200000\n",
       "8195     4.000000\n",
       "Name: Size mb, Length: 7025, dtype: float64"
      ]
     },
     "execution_count": 323,
     "metadata": {},
     "output_type": "execute_result"
    }
   ],
   "source": []
  },
  {
   "cell_type": "code",
   "execution_count": null,
   "metadata": {},
   "outputs": [],
   "source": []
  },
  {
   "cell_type": "markdown",
   "metadata": {},
   "source": []
  },
  {
   "cell_type": "code",
   "execution_count": 157,
   "metadata": {},
   "outputs": [
    {
     "name": "stdout",
     "output_type": "stream",
     "text": [
      "Free    7592\n",
      "Paid     604\n",
      "Name: Type, dtype: int64\n"
     ]
    },
    {
     "data": {
      "image/png": "[encoded data removed]",
      "text/plain": [
       "<Figure size 504x432 with 1 Axes>"
      ]
     },
     "metadata": {
      "needs_background": "light"
     },
     "output_type": "display_data"
    }
   ],
   "source": [
    "#podział darmowe i płatne\n",
    "print(data_all[\"Type\"].value_counts())\n",
    "data_all[\"Type\"].value_counts().plot(kind='bar',figsize=(7, 6), rot=0 )\n",
    "plt.ylabel(\"Ilość aplikacji\", labelpad=14)\n",
    "plt.title(\"Podział aplikacji na darmowe i płatne\", y=1.02)\n",
    "plt.grid(b=True, axis='y')"
   ]
  },
  {
   "cell_type": "code",
   "execution_count": 327,
   "metadata": {},
   "outputs": [
    {
     "name": "stdout",
     "output_type": "stream",
     "text": [
      "posiadamy dane o rozmiarze :  7025\n",
      "Varies with device :  1171\n"
     ]
    },
    {
     "data": {
      "image/png": "[encoded data removed]",
      "text/plain": [
       "<Figure size 432x288 with 1 Axes>"
      ]
     },
     "metadata": {
      "needs_background": "light"
     },
     "output_type": "display_data"
    }
   ],
   "source": [
    "#podział na rozmiar aplikacji\n",
    "fig = plt.figure()\n",
    "ax = fig.add_axes([0,0,1,1])\n",
    "z=data_all[data_all[\"Size\"]!=\"Varies with device\"].count()[\"Size\"]\n",
    "h=data_all[data_all[\"Size\"]==\"Varies with device\"].count()[\"Size\"]\n",
    "zh=[z,h]\n",
    "zh_name=[\"posiadamy dane o rozmiarze \",\"Varies with device (brak danych)\"]\n",
    "print(\"posiadamy dane o rozmiarze : \", z)\n",
    "print(\"Varies with device : \",h)\n",
    "ax.bar(zh_name,zh,width = 0.45)\n",
    "plt.ylabel(\"Ilość aplikacji\", labelpad=14)\n",
    "plt.title(\"Podział aplikacji na Size\", y=1.02)\n",
    "plt.grid(b=True, axis='y')\n",
    "plt.show()"
   ]
  },
  {
   "cell_type": "code",
   "execution_count": 331,
   "metadata": {},
   "outputs": [
    {
     "name": "stdout",
     "output_type": "stream",
     "text": [
      "Średnia liczba Size aplikacji\n",
      "pow sr:  2555\n",
      "poniżej sr :  4470\n"
     ]
    },
    {
     "data": {
      "image/png": "[encoded data removed]",
      "text/plain": [
       "<Figure size 432x288 with 1 Axes>"
      ]
     },
     "metadata": {
      "needs_background": "light"
     },
     "output_type": "display_data"
    }
   ],
   "source": [
    "#wylicznie sredniej Size app ilosc pow i poniżej sr\n",
    "sr=size[\"Size mb\"].mean()\n",
    "print(\"Średnia liczba Size aplikacji\")\n",
    "fig = plt.figure()\n",
    "ax = fig.add_axes([0,0,1,1])\n",
    "z=size[size[\"Size mb\"]>sr].count()[\"Size mb\"]\n",
    "h=size[size[\"Size mb\"]<sr].count()[\"Installs\"]\n",
    "zh=[z,h]\n",
    "zh_name=[\"Pow śr\",\"poniżej śr\"]\n",
    "print(\"pow sr: \", z)\n",
    "print(\"poniżej sr : \",h)\n",
    "ax.bar(zh_name,zh,width = 0.45)\n",
    "plt.ylabel(\"Ilość aplikacji\", labelpad=14)\n",
    "plt.title(\"Podział na Size mb\", y=1.02)\n",
    "plt.grid(b=True, axis='y')\n",
    "plt.show()"
   ]
  },
  {
   "cell_type": "code",
   "execution_count": 318,
   "metadata": {},
   "outputs": [
    {
     "name": "stdout",
     "output_type": "stream",
     "text": [
      "Everyone           6618\n",
      "Teen                912\n",
      "Mature 17+          357\n",
      "Everyone 10+        305\n",
      "Adults only 18+       3\n",
      "Unrated               1\n",
      "Name: Content Rating, dtype: int64\n"
     ]
    },
    {
     "data": {
      "image/png": "[encoded data removed]",
      "text/plain": [
       "<Figure size 432x288 with 1 Axes>"
      ]
     },
     "metadata": {
      "needs_background": "light"
     },
     "output_type": "display_data"
    }
   ],
   "source": [
    "data_all[\"Content Rating\"].value_counts()[2:].plot(kind='barh')\n",
    "print(data_all[\"Content Rating\"].value_counts())"
   ]
  },
  {
   "cell_type": "code",
   "execution_count": 184,
   "metadata": {},
   "outputs": [
    {
     "name": "stdout",
     "output_type": "stream",
     "text": [
      "Everyone           6618\n",
      "Teen                912\n",
      "Mature 17+          357\n",
      "Everyone 10+        305\n",
      "Adults only 18+       3\n",
      "Unrated               1\n",
      "Name: Content Rating, dtype: int64\n"
     ]
    },
    {
     "data": {
      "image/png": "[encoded data removed]",
      "text/plain": [
       "<Figure size 720x432 with 1 Axes>"
      ]
     },
     "metadata": {
      "needs_background": "light"
     },
     "output_type": "display_data"
    }
   ],
   "source": [
    "#ilość aplikacji podział na ceontent\n",
    "print(data_all[\"Content Rating\"].value_counts())\n",
    "data_all[\"Content Rating\"].value_counts().plot(kind='barh',figsize=(10, 6), rot=0 )\n",
    "plt.ylabel(\"Kategoria\", labelpad=14)\n",
    "plt.xlabel(\"Ilość aplikacji\", labelpad=14)\n",
    "plt.title(\"Podział aplikacji na Content Rating\", y=1.02)\n",
    "plt.grid(b=True, axis='x')\n",
    "plt.show()"
   ]
  },
  {
   "cell_type": "code",
   "execution_count": 189,
   "metadata": {},
   "outputs": [
    {
     "data": {
      "image/png": "[encoded data removed]",
      "text/plain": [
       "<Figure size 1080x792 with 1 Axes>"
      ]
     },
     "metadata": {
      "needs_background": "light"
     },
     "output_type": "display_data"
    }
   ],
   "source": [
    "#podział ze wzgledu na ocene aplikacji\n",
    "data_all[\"Rating\"].value_counts().plot(kind='barh',figsize=(15, 11), rot=0 )\n",
    "plt.ylabel(\"Ocena aplikacji\", labelpad=14)\n",
    "plt.xlabel(\"Ilość aplikacji\", labelpad=14)\n",
    "plt.title(\"Podział na Ocenę aplikacji\", y=1.02)\n",
    "plt.grid(b=True, axis='x')"
   ]
  },
  {
   "cell_type": "code",
   "execution_count": 193,
   "metadata": {},
   "outputs": [
    {
     "name": "stdout",
     "output_type": "stream",
     "text": [
      "Ocena wieksza równa 4 :  6287\n",
      "Oena poniżej 4 :  1909\n"
     ]
    },
    {
     "data": {
      "image/png": "[encoded data removed]",
      "text/plain": [
       "<Figure size 432x288 with 1 Axes>"
      ]
     },
     "metadata": {
      "needs_background": "light"
     },
     "output_type": "display_data"
    }
   ],
   "source": [
    "#ocena wieksza od 4\n",
    "fig = plt.figure()\n",
    "ax = fig.add_axes([0,0,1,1])\n",
    "z=data_all[data_all[\"Rating\"]>=4].count()[\"Rating\"]\n",
    "h=data_all[data_all[\"Rating\"]<4].count()[\"Rating\"]\n",
    "zh=[z,h]\n",
    "zh_name=[\"Ocena wieksza równa 4\",\"Oena poniżej 4\"]\n",
    "print(\"Ocena wieksza równa 4 : \", z)\n",
    "print(\"Oena poniżej 4 : \",h)\n",
    "ax.bar(zh_name,zh,width = 0.45)\n",
    "plt.ylabel(\"Ilość aplikacji\", labelpad=14)\n",
    "plt.title(\"Podział na Ocenę aplikacji\", y=1.02)\n",
    "plt.grid(b=True, axis='y')\n",
    "plt.show()"
   ]
  },
  {
   "cell_type": "code",
   "execution_count": 191,
   "metadata": {},
   "outputs": [
    {
     "data": {
      "image/png": "[encoded data removed]",
      "text/plain": [
       "<Figure size 1080x792 with 1 Axes>"
      ]
     },
     "metadata": {
      "needs_background": "light"
     },
     "output_type": "display_data"
    }
   ],
   "source": [
    "#podział ze wzgledu na ilość instalacji\n",
    "data_all[\"Installs\"].value_counts().plot(kind='barh',figsize=(15, 11), rot=0 )\n",
    "plt.ylabel(\"OIlość instalacji\", labelpad=14)\n",
    "plt.xlabel(\"Ilość aplikacji\", labelpad=14)\n",
    "plt.title(\"Podział na ilość instalacji\", y=1.02)\n",
    "plt.grid(b=True, axis='x')"
   ]
  },
  {
   "cell_type": "code",
   "execution_count": 271,
   "metadata": {},
   "outputs": [
    {
     "name": "stdout",
     "output_type": "stream",
     "text": [
      "Średnia liczba instalacji wszytskich aplikacji\n",
      "pow sr:  1371\n",
      "poniżej sr :  6825\n"
     ]
    },
    {
     "data": {
      "image/png": "[encoded data removed]",
      "text/plain": [
       "<Figure size 432x288 with 1 Axes>"
      ]
     },
     "metadata": {
      "needs_background": "light"
     },
     "output_type": "display_data"
    }
   ],
   "source": [
    "#podział na instalacje pow sredniej\n",
    "sr=data_all[\"Installs\"].mean()\n",
    "print(\"Średnia liczba instalacji wszytskich aplikacji\")\n",
    "fig = plt.figure()\n",
    "ax = fig.add_axes([0,0,1,1])\n",
    "z=data_all[data_all[\"Installs\"]>sr].count()[\"Installs\"]\n",
    "h=data_all[data_all[\"Installs\"]<sr].count()[\"Installs\"]\n",
    "zh=[z,h]\n",
    "zh_name=[\"Pow śr\",\"poniżej śr\"]\n",
    "print(\"pow sr: \", z)\n",
    "print(\"poniżej sr : \",h)\n",
    "ax.bar(zh_name,zh,width = 0.45)\n",
    "plt.ylabel(\"Ilość aplikacji\", labelpad=14)\n",
    "plt.title(\"Podział na instalacje\", y=1.02)\n",
    "plt.grid(b=True, axis='y')\n",
    "plt.show()\n"
   ]
  },
  {
   "cell_type": "code",
   "execution_count": null,
   "metadata": {},
   "outputs": [],
   "source": [
    "#podział ze wzgledu na ilość instalacji\n",
    "data_all[\"Reviews\"].value_counts().plot(kind='barh',figsize=(15, 11), rot=0 )\n",
    "plt.ylabel(\"OIlość instalacji\", labelpad=14)\n",
    "plt.xlabel(\"Ilość aplikacji\", labelpad=14)\n",
    "plt.title(\"Podział na ilość instalacji\", y=1.02)\n",
    "plt.grid(b=True, axis='x')"
   ]
  },
  {
   "cell_type": "code",
   "execution_count": 204,
   "metadata": {},
   "outputs": [
    {
     "name": "stdout",
     "output_type": "stream",
     "text": [
      "2         82\n",
      "3         76\n",
      "4         74\n",
      "5         74\n",
      "1         67\n",
      "          ..\n",
      "652940     1\n",
      "190086     1\n",
      "3715       1\n",
      "525552     1\n",
      "8188       1\n",
      "Name: Reviews, Length: 5321, dtype: int64\n",
      "255248.35\n"
     ]
    }
   ],
   "source": [
    "print(data_all[\"Reviews\"].value_counts())\n",
    "print(round(data_all[\"Reviews\"].mean(),2))"
   ]
  },
  {
   "cell_type": "code",
   "execution_count": 205,
   "metadata": {},
   "outputs": [
    {
     "name": "stdout",
     "output_type": "stream",
     "text": [
      "Sr 255248.35\n",
      "pow sr:  888\n",
      "poniżej sr :  7308\n"
     ]
    },
    {
     "data": {
      "image/png": "[encoded data removed]",
      "text/plain": [
       "<Figure size 432x288 with 1 Axes>"
      ]
     },
     "metadata": {
      "needs_background": "light"
     },
     "output_type": "display_data"
    }
   ],
   "source": [
    "#podział na reviews pow i poniżej sredniej\n",
    "sr=round(data_all[\"Reviews\"].mean(),2)\n",
    "print(\"Sr\", sr)\n",
    "fig = plt.figure()\n",
    "ax = fig.add_axes([0,0,1,1])\n",
    "z=data_all[data_all[\"Reviews\"]>sr].count()[\"Reviews\"]\n",
    "h=data_all[data_all[\"Reviews\"]<sr].count()[\"Reviews\"]\n",
    "zh=[z,h]\n",
    "zh_name=[\"Pow śr\",\"poniżej śr\"]\n",
    "print(\"pow sr: \", z)\n",
    "print(\"poniżej sr : \",h)\n",
    "ax.bar(zh_name,zh,width = 0.45)\n",
    "plt.ylabel(\"Ilość aplikacji\", labelpad=14)\n",
    "plt.title(\"Podział na Reviews\", y=1.02)\n",
    "plt.grid(b=True, axis='y')\n",
    "plt.show()"
   ]
  },
  {
   "cell_type": "code",
   "execution_count": 320,
   "metadata": {},
   "outputs": [
    {
     "name": "stdout",
     "output_type": "stream",
     "text": [
      "Dane przed filtrwaniem :  10841  po fitltowaniu :  8196\n"
     ]
    },
    {
     "data": {
      "image/png": "[encoded data removed]",
      "text/plain": [
       "<Figure size 720x432 with 1 Axes>"
      ]
     },
     "metadata": {
      "needs_background": "light"
     },
     "output_type": "display_data"
    }
   ],
   "source": [
    "\n",
    "x=df.count()[\"App\"]\n",
    "y=data_all.count()[\"App\"]\n",
    "print(\"Dane przed filtrwaniem : \", x,\" po fitltowaniu : \",y)\n",
    "z=x-y\n",
    "\n",
    "df5 = pd.DataFrame({'Dane odrzuocone po filtrowaniu ':[z], 'Dane wykorzystane do projektu':[y]})\n",
    "df5.plot.bar(rot=0,figsize=(10, 6))\n",
    "plt.ylabel(\"Ilość\", labelpad=14)\n",
    "plt.title(\"Dane do projektu\", y=1.02)\n",
    "plt.grid(True)\n",
    "\n"
   ]
  },
  {
   "cell_type": "code",
   "execution_count": 321,
   "metadata": {},
   "outputs": [
    {
     "data": {
      "image/png": "[encoded data removed]",
      "text/plain": [
       "<Figure size 432x288 with 1 Axes>"
      ]
     },
     "metadata": {},
     "output_type": "display_data"
    }
   ],
   "source": [
    "\n",
    " \n",
    "m=[y,z]\n",
    "name=['Dane wykorzystane do projektu','Dane odrzuocone po filtrowaniu ']\n",
    "plt.pie( m ,labels=name , startangle=70, shadow=True,autopct='%1.1f%%')\n",
    "plt.title(\"Dane do projektu\", y=1.02)\n",
    "plt.show()"
   ]
  },
  {
   "cell_type": "code",
   "execution_count": null,
   "metadata": {},
   "outputs": [],
   "source": []
  }
 ],
 "metadata": {
  "interpreter": {
   "hash": "485035c5b2a6f2b50dc2dc5ca51aeeb931032fbc9adc2e30c7c528d6bf8a9176"
  },
  "kernelspec": {
   "display_name": "Python 3",
   "language": "python",
   "name": "python3"
  },
  "language_info": {
   "codemirror_mode": {
    "name": "ipython",
    "version": 3
   },
   "file_extension": ".py",
   "mimetype": "text/x-python",
   "name": "python",
   "nbconvert_exporter": "python",
   "pygments_lexer": "ipython3",
   "version": "3.8.8"
  }
 },
 "nbformat": 4,
 "nbformat_minor": 2
}
