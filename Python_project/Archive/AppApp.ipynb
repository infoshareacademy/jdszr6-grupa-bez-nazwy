{
 "cells": [
  {
   "cell_type": "code",
   "execution_count": 92,
   "metadata": {},
   "outputs": [
    {
     "name": "stderr",
     "output_type": "stream",
     "text": [
      "<ipython-input-92-711790734b99>:6: FutureWarning: The default value of regex will change from True to False in a future version. In addition, single character regular expressions will*not* be treated as literal strings when regex=True.\n",
      "  data[\"Installs\"] = pd.to_numeric(data[\"Installs\"].str.replace(\",\",\"\").str.replace(\"+\",\"\"))\n"
     ]
    }
   ],
   "source": [
    "import pandas as pd\n",
    "\n",
    "df = pd.read_csv(\"googleplaystore.csv\")\n",
    "\n",
    "data = df[['App', 'Category', 'Rating', 'Reviews', 'Size', 'Installs', 'Type', 'Content Rating']].groupby(['App']).max().dropna().reset_index()\n",
    "data[\"Installs\"] = pd.to_numeric(data[\"Installs\"].str.replace(\",\",\"\").str.replace(\"+\",\"\"))\n",
    "data[\"Reviews\"] = pd.to_numeric(data[\"Reviews\"])\n",
    "data = data[data[\"Type\"] == \"Free\"]\n",
    "\n",
    "q = .8\n",
    "pop = data[data[\"Installs\"] > data[\"Installs\"].quantile(q)]\n",
    "pop = pop[pop[\"Reviews\"] > pop[\"Reviews\"].quantile(q)]\n",
    "pop.sort_values([\"Installs\",\"Reviews\"], ascending=False)\n",
    "\n",
    "rev_scores = pop.sort_values([\"Installs\",\"Reviews\"], ascending=False)\n",
    "rev_scores = rev_scores.groupby([\"Category\"]).count().reset_index()\n",
    "\n",
    "rev_scores[\"Score\"] = round(rev_scores[\"App\"]/min(rev_scores[\"App\"]))\n",
    "\n",
    "content_scores = pop.sort_values([\"Installs\",\"Reviews\"], ascending=False)\n",
    "content_scores = content_scores.groupby([\"Content Rating\"]).count().reset_index()"
   ]
  },
  {
   "cell_type": "code",
   "execution_count": 144,
   "metadata": {},
   "outputs": [],
   "source": [
    "categories = data[\"Category\"].sort_values().unique()\n",
    "category_scoreboard = rev_scores.iloc[:,[0,1,-1]].sort_values([\"App\"], ascending=False)\n",
    "contents = data[\"Content Rating\"].unique()\n",
    "content_scoreboard = content_scores.iloc[:,:2].sort_values([\"App\"], ascending=False)"
   ]
  },
  {
   "cell_type": "code",
   "execution_count": 145,
   "metadata": {},
   "outputs": [
    {
     "data": {
      "application/vnd.jupyter.widget-view+json": {
       "model_id": "eabb5c097fb14c9590a418e6e95f10ec",
       "version_major": 2,
       "version_minor": 0
      },
      "text/plain": [
       "VBox(children=(Label(value='Size [Mb]'), IntSlider(value=0, max=110)))"
      ]
     },
     "metadata": {},
     "output_type": "display_data"
    },
    {
     "data": {
      "application/vnd.jupyter.widget-view+json": {
       "model_id": "9c0d76d5b1274f59bf5fed098515c621",
       "version_major": 2,
       "version_minor": 0
      },
      "text/plain": [
       "VBox(children=(Label(value='Category'), Dropdown(options=('ART_AND_DESIGN', 'AUTO_AND_VEHICLES', 'BEAUTY', 'BO…"
      ]
     },
     "metadata": {},
     "output_type": "display_data"
    },
    {
     "data": {
      "application/vnd.jupyter.widget-view+json": {
       "model_id": "f9e6be37895540c998ac7e11df8c2ce2",
       "version_major": 2,
       "version_minor": 0
      },
      "text/plain": [
       "ToggleButtons(options=('Free', 'Paid'), value='Free')"
      ]
     },
     "metadata": {},
     "output_type": "display_data"
    },
    {
     "data": {
      "application/vnd.jupyter.widget-view+json": {
       "model_id": "18014593c7c0493ab44367a62940d7c0",
       "version_major": 2,
       "version_minor": 0
      },
      "text/plain": [
       "RadioButtons(options=('Everyone', 'Mature 17+', 'Everyone 10+', 'Teen', 'Unrated', 'Adults only 18+'), value='…"
      ]
     },
     "metadata": {},
     "output_type": "display_data"
    }
   ],
   "source": [
    "import ipywidgets as widgets\n",
    "from IPython.display import display\n",
    "\n",
    "size = widgets.IntSlider(max = 110)\n",
    "size_widget = widgets.VBox([widgets.Label(\"Size [Mb]\"), size])\n",
    "category = widgets.Dropdown(options=categories)\n",
    "category_widget = widgets.VBox([widgets.Label(\"Category\"), category])\n",
    "freepaid_button = widgets.ToggleButtons(options=[\"Free\", \"Paid\"])\n",
    "content_widget = widgets.RadioButtons(options=contents, desciption=\"Content rating:\")\n",
    "\n",
    "display(size_widget, category_widget, freepaid_button, content_widget)"
   ]
  },
  {
   "cell_type": "code",
   "execution_count": 194,
   "metadata": {},
   "outputs": [
    {
     "name": "stdout",
     "output_type": "stream",
     "text": [
      "Size score:        0.02\n",
      "Category score:    31.0\n",
      "Free/paid score:   1\n",
      "Content score:     176.0\n",
      "--------------------------\n",
      "TOTAL SCORE:       207.02\n"
     ]
    }
   ],
   "source": [
    "category_score = round (float ( category_scoreboard[category_scoreboard[\"Category\"] == category.value][\"Score\"] ), 2)\n",
    "content_score = float ( content_scoreboard[content_scoreboard[\"Content Rating\"] == content_widget.value][\"App\"] )\n",
    "size_score = round ( 1/size.value , 2)  ## dodać scoreboard\n",
    "\n",
    "if freepaid_button.value == \"Free\": \n",
    "    free_score = 61 # tutaj możnabyłoby przypisać zmienną z analiz\n",
    "else:\n",
    "    free_score = 1\n",
    "\n",
    "score = round (( category_score + size_score + content_score ) * free_score , 2)\n",
    "\n",
    "print(\"Size score:       \", size_score)\n",
    "print(\"Category score:   \", category_score)\n",
    "print(\"Free/paid score:  \", free_score)\n",
    "print(\"Content score:    \", content_score)\n",
    "print(\"--------------------------\")\n",
    "print(\"TOTAL SCORE:      \", score)"
   ]
  }
 ],
 "metadata": {
  "interpreter": {
   "hash": "485035c5b2a6f2b50dc2dc5ca51aeeb931032fbc9adc2e30c7c528d6bf8a9176"
  },
  "kernelspec": {
   "display_name": "Python 3.8.8 ('base')",
   "language": "python",
   "name": "python3"
  },
  "language_info": {
   "name": "python",
   "version": "3.8.8"
  },
  "orig_nbformat": 4
 },
 "nbformat": 4,
 "nbformat_minor": 2
}
