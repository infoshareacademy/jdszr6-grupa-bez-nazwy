{
 "cells": [
  {
   "cell_type": "code",
   "execution_count": 165,
   "metadata": {},
   "outputs": [],
   "source": [
    "import ipywidgets as widgets\n",
    "from IPython.display import display\n",
    "from project_functions import *"
   ]
  },
  {
   "cell_type": "code",
   "execution_count": 167,
   "metadata": {},
   "outputs": [
    {
     "data": {
      "application/vnd.jupyter.widget-view+json": {
       "model_id": "28777b4749914ffbb454c57d0b12250b",
       "version_major": 2,
       "version_minor": 0
      },
      "text/plain": [
       "VBox(children=(Label(value='Category'), Dropdown(index=14, options=('ART_AND_DESIGN', 'AUTO_AND_VEHICLES', 'BE…"
      ]
     },
     "metadata": {},
     "output_type": "display_data"
    },
    {
     "data": {
      "application/vnd.jupyter.widget-view+json": {
       "model_id": "8febccb08f914e72beae7fa316408807",
       "version_major": 2,
       "version_minor": 0
      },
      "text/plain": [
       "VBox(children=(Label(value='Content Rating'), RadioButtons(options=('Everyone', 'Mature 17+', 'Everyone 10+', …"
      ]
     },
     "metadata": {},
     "output_type": "display_data"
    },
    {
     "data": {
      "application/vnd.jupyter.widget-view+json": {
       "model_id": "3d499a0ba0cb4d228be494a5eab60fea",
       "version_major": 2,
       "version_minor": 0
      },
      "text/plain": [
       "VBox(children=(Label(value='Size [Mb]'), IntSlider(value=52, max=110)))"
      ]
     },
     "metadata": {},
     "output_type": "display_data"
    },
    {
     "data": {
      "application/vnd.jupyter.widget-view+json": {
       "model_id": "4f1c441746d14a66aaf84953358f8394",
       "version_major": 2,
       "version_minor": 0
      },
      "text/plain": [
       "ToggleButtons(options=('Free', 'Paid'), value='Free')"
      ]
     },
     "metadata": {},
     "output_type": "display_data"
    }
   ],
   "source": [
    "display(category_widget, content_widget, size_widget, freepaid_button)"
   ]
  },
  {
   "cell_type": "code",
   "execution_count": 172,
   "metadata": {},
   "outputs": [
    {
     "name": "stdout",
     "output_type": "stream",
     "text": [
      "Size score:           21.0 / 21.0\n",
      "Category score:       112.0 / 112.0\n",
      "Free/paid multiplier: x62 ((max))\n",
      "Content score:        15.0 / 15.0\n",
      "---------------------------------------\n",
      "TOTAL SCORE:          9176.0 / 9176\n",
      "TOTAL SCORE %         100.0% / 100.00%\n"
     ]
    }
   ],
   "source": [
    "print(f\"Size score:           {size_score} / {size_max}\")\n",
    "print(f\"Category score:       {category_score} / {cat_max}\")\n",
    "print(f\"Free/paid multiplier: x{subscription_score} ({paid_app_message})\")\n",
    "print(f\"Content score:        {content_score} / {cont_max}\")\n",
    "print(f\"---------------------------------------\")\n",
    "print(f\"TOTAL SCORE:          {score} / {max_score}\")\n",
    "print(f\"TOTAL SCORE %         {score_prc}% / 100.00%\")"
   ]
  }
 ],
 "metadata": {
  "interpreter": {
   "hash": "485035c5b2a6f2b50dc2dc5ca51aeeb931032fbc9adc2e30c7c528d6bf8a9176"
  },
  "kernelspec": {
   "display_name": "Python 3.8.8 ('base')",
   "language": "python",
   "name": "python3"
  },
  "language_info": {
   "codemirror_mode": {
    "name": "ipython",
    "version": 3
   },
   "file_extension": ".py",
   "mimetype": "text/x-python",
   "name": "python",
   "nbconvert_exporter": "python",
   "pygments_lexer": "ipython3",
   "version": "3.8.8"
  },
  "orig_nbformat": 4
 },
 "nbformat": 4,
 "nbformat_minor": 2
}
