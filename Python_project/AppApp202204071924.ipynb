{
 "cells": [
  {
   "cell_type": "code",
   "execution_count": 1,
   "metadata": {},
   "outputs": [
    {
     "name": "stderr",
     "output_type": "stream",
     "text": [
      "C:\\Users\\AMD\\AppData\\Local\\Temp/ipykernel_15292/2458312762.py:6: FutureWarning: The default value of regex will change from True to False in a future version. In addition, single character regular expressions will *not* be treated as literal strings when regex=True.\n",
      "  data[\"Installs\"] = pd.to_numeric(data[\"Installs\"].str.replace(\",\",\"\").str.replace(\"+\",\"\"))\n"
     ]
    }
   ],
   "source": [
    "import pandas as pd\n",
    "\n",
    "df = pd.read_csv(\"googleplaystore.csv\")\n",
    "\n",
    "data = df[['App', 'Category', 'Rating', 'Reviews', 'Size', 'Installs', 'Type', 'Content Rating']].groupby(['App']).max().dropna().reset_index()\n",
    "data[\"Installs\"] = pd.to_numeric(data[\"Installs\"].str.replace(\",\",\"\").str.replace(\"+\",\"\"))\n",
    "data[\"Reviews\"] = pd.to_numeric(data[\"Reviews\"])\n",
    "data = data[data[\"Type\"] == \"Free\"]\n",
    "\n",
    "q = .8\n",
    "pop = data[data[\"Installs\"] > data[\"Installs\"].quantile(q)]\n",
    "pop = pop[pop[\"Reviews\"] > pop[\"Reviews\"].quantile(q)]\n",
    "pop.sort_values([\"Installs\",\"Reviews\"], ascending=False)\n",
    "\n",
    "rev_scores = pop.sort_values([\"Installs\",\"Reviews\"], ascending=False)\n",
    "rev_scores = rev_scores.groupby([\"Category\"]).count().reset_index()\n",
    "\n",
    "rev_scores[\"Score\"] = round(rev_scores[\"App\"]/min(rev_scores[\"App\"]))\n",
    "\n",
    "content_scores = pop.sort_values([\"Installs\",\"Reviews\"], ascending=False)\n",
    "content_scores = content_scores.groupby([\"Content Rating\"]).count().reset_index()"
   ]
  },
  {
   "cell_type": "code",
   "execution_count": 2,
   "metadata": {},
   "outputs": [
    {
     "name": "stdout",
     "output_type": "stream",
     "text": [
      "  Content Rating  App\n",
      "0       Everyone  176\n",
      "3           Teen   64\n",
      "1   Everyone 10+   20\n",
      "2     Mature 17+   14\n"
     ]
    }
   ],
   "source": [
    "category_scoreboard = rev_scores.iloc[:,[0,1,-1]].sort_values([\"App\"], ascending=False)\n",
    "contents = data[\"Content Rating\"].unique()\n",
    "content_scoreboard = content_scores.iloc[:,:2].sort_values([\"App\"], ascending=False)\n",
    "#print( rev_scores.iloc[:,[0,1]])\n",
    "print(content_scoreboard)"
   ]
  },
  {
   "cell_type": "code",
   "execution_count": 8,
   "metadata": {},
   "outputs": [
    {
     "data": {
      "application/vnd.jupyter.widget-view+json": {
       "model_id": "38b01dcabc3d420b9c586bdcb9cc4c28",
       "version_major": 2,
       "version_minor": 0
      },
      "text/plain": [
       "VBox(children=(Label(value='Size [Mb]'), IntSlider(value=0, max=110)))"
      ]
     },
     "metadata": {},
     "output_type": "display_data"
    },
    {
     "data": {
      "application/vnd.jupyter.widget-view+json": {
       "model_id": "4e6410d817e54aa285342fe411548342",
       "version_major": 2,
       "version_minor": 0
      },
      "text/plain": [
       "VBox(children=(Label(value='Category'), Dropdown(options=('ART_AND_DESIGN', 'AUTO_AND_VEHICLES', 'BEAUTY', 'BO…"
      ]
     },
     "metadata": {},
     "output_type": "display_data"
    },
    {
     "data": {
      "application/vnd.jupyter.widget-view+json": {
       "model_id": "250ca5c67b57469ba6646eca2d22e9b0",
       "version_major": 2,
       "version_minor": 0
      },
      "text/plain": [
       "ToggleButtons(options=('Free', 'Paid'), value='Free')"
      ]
     },
     "metadata": {},
     "output_type": "display_data"
    },
    {
     "data": {
      "application/vnd.jupyter.widget-view+json": {
       "model_id": "2773616a076543e690f9de8ad0565894",
       "version_major": 2,
       "version_minor": 0
      },
      "text/plain": [
       "RadioButtons(options=('Everyone', 'Teen', 'Everyone 10', 'Mature 17+'), value='Everyone')"
      ]
     },
     "metadata": {},
     "output_type": "display_data"
    }
   ],
   "source": [
    "import ipywidgets as widgets\n",
    "from IPython.display import display\n",
    "categories = data[\"Category\"].sort_values().unique()\n",
    "size = widgets.IntSlider(max = 110)\n",
    "size_widget = widgets.VBox([widgets.Label(\"Size [Mb]\"), size])\n",
    "category = widgets.Dropdown(options=categories)\n",
    "category_widget = widgets.VBox([widgets.Label(\"Category\"), category])\n",
    "freepaid_button = widgets.ToggleButtons(options=[\"Free\", \"Paid\"])\n",
    "content_widget = widgets.RadioButtons(options=[\"Everyone\", \"Teen\", \"Everyone 10\", \"Mature 17+\" ], desciption=\"Content rating:\")\n",
    "\n",
    "display(size_widget, category_widget, freepaid_button, content_widget)\n"
   ]
  },
  {
   "cell_type": "code",
   "execution_count": 24,
   "metadata": {},
   "outputs": [
    {
     "name": "stdout",
     "output_type": "stream",
     "text": [
      "Size score:        1\n",
      "Category score:    93.0\n",
      "Free/paid score:   148\n",
      "Content score:     14.0\n",
      "--------------------------\n",
      "TOTAL SCORE:      % 61.0\n"
     ]
    }
   ],
   "source": [
    "category_score = 1\n",
    "category_score = float(category_scoreboard[category_scoreboard[\"Category\"] == category.value][\"Score\"])\n",
    "content_score = float ( content_scoreboard[content_scoreboard[\"Content Rating\"] == content_widget.value][\"App\"] )\n",
    "size_score = round ( 1/size.value if size.value != 0 else 1, 2)  ## dodać scoreboard\n",
    "\n",
    "if freepaid_button.value == \"Free\": \n",
    "    subscription_score = 148 # tutaj możnabyłoby przypisać zmienną z analiz\n",
    "else:\n",
    "    subscription_score = 1\n",
    "\n",
    "max_score = category_scoreboard[\"Score\"].max() + content_scoreboard[\"App\"].max() + 1 + 148\n",
    "\n",
    "score = round (( category_score + size_score + content_score + subscription_score) / max_score , 2) * 100\n",
    "\n",
    "print(\"Size score:       \", size_score)\n",
    "print(\"Category score:   \", category_score)\n",
    "print(\"Free/paid score:  \", subscription_score)\n",
    "print(\"Content score:    \", content_score)\n",
    "print(\"--------------------------\")\n",
    "print(\"TOTAL SCORE:      %\", score)"
   ]
  }
 ],
 "metadata": {
  "interpreter": {
   "hash": "485035c5b2a6f2b50dc2dc5ca51aeeb931032fbc9adc2e30c7c528d6bf8a9176"
  },
  "kernelspec": {
   "display_name": "Python 3.8.8 ('base')",
   "language": "python",
   "name": "python3"
  },
  "language_info": {
   "codemirror_mode": {
    "name": "ipython",
    "version": 3
   },
   "file_extension": ".py",
   "mimetype": "text/x-python",
   "name": "python",
   "nbconvert_exporter": "python",
   "pygments_lexer": "ipython3",
   "version": "3.8.11"
  },
  "orig_nbformat": 4
 },
 "nbformat": 4,
 "nbformat_minor": 2
}
