{
 "cells": [
  {
   "cell_type": "markdown",
   "metadata": {},
   "source": [
    "### <b><h1><center><font color = 'silver'>Aplikacja mobilna - Twoja szansa na sukces !</font></center></h1></b1>\n",
    "### <h1><center>✨📱📱📱✨</center></h1> "
   ]
  },
  {
   "cell_type": "markdown",
   "metadata": {},
   "source": [
    "Źródło : https://www.kaggle.com/datasets/lava18/google-play-store-apps?select=googleplaystore.csv"
   ]
  },
  {
   "cell_type": "markdown",
   "metadata": {},
   "source": [
    "<b>Założenia:</b>\n",
    "1. W celu weryfikacji 'popularności' aplikacji przeprowadzono badanie gęstości występowania aplikacji względem oceny / liczby recenzji i liczby pobrań dla poszczególbych cech. Zauważalna różnica w rozkładzie jest czynnikiem wartym rozważenia pod kątem 'popularności'.\n",
    "2. Wyznacznikiem 'popularności' pod kątem cechy 'aplikacja płatna/darmowa' uznano stosunek ilości pobrań aplikacji darmowej do płatnej.\n",
    "3. W pkt 2 skupiono się na ilości pobrań, gdyż jest to pierwsza główna skłądowa do analizy popularności aplikacji mobilnych. Jeśli aplikacja jest pobierana, uznaje się że jest znana, a zatem bardziej popularna.\n",
    "4. Przeprowadzono standaryzację i kategoryzację cechy 'rozmiar aplikacji'. Na tej podstawie pogrupowano aplikacje w klasy rozmiarowe.\n",
    "5. <font color='green'><b> Finalnym zestawieniem popularności aplikacji jest scoreboard utworzony na bazie rankingu częstości występowań danych cech (Kategoria | Odbiorca | Rozmiar | Aplikacja płatna/ darmowa). Scoreboard został przeprowadzony na kwantylu 0.8 w wystąpieniach, aby odciąć granicę popularnych aplikacji od ogółu. </b></font> \n",
    "6. <font color='gold'><b> Na bazie powyższej analizy przygotowano aplikację, która umożliwi porównać czy nowa aplikacja mobilna ma szansę być popularna i finalnie odnieść sukces. </b></font>\n",
    "\n"
   ]
  },
  {
   "cell_type": "markdown",
   "metadata": {},
   "source": [
    "<b> Pod podanym źródłem znajdują się dwa pliki:\n",
    "1. 'googleplaystore' - baza aplikacji zawierająca informacje: nazwa | typ | rozmiar | kategoria | content rating | ocena | il. recenzji | ilość pobrań\n",
    "2. 'googleplaystor_user_reviews' - baza recenzji, przydatna do analizy tekstu. Baza ta nie została wykorzystana dla poniższej analizy, natomiast stanowi punkt dalszej analizy i być może będzie podstawą do przewidywania recenzji nowej aplikacji </b>"
   ]
  },
  {
   "cell_type": "code",
   "execution_count": null,
   "metadata": {},
   "outputs": [],
   "source": [
    "from project_functions import *\n",
    "pass\n",
    "\n",
    "clean_data()"
   ]
  },
  {
   "cell_type": "markdown",
   "metadata": {},
   "source": [
    "<center><ins> W celu analizy usunieto duplikaty, puste wartości oraz dane dla rozmiaru, gdzie nie został on określony. Finalnie bazowano na <font color='pink'>7025 rekordach i 4 głównych cechach składowych </font> ('Type'/ 'Content Rating'/ 'Size mb' / 'Category') </ins></center>"
   ]
  },
  {
   "cell_type": "code",
   "execution_count": null,
   "metadata": {},
   "outputs": [],
   "source": [
    "means()"
   ]
  },
  {
   "cell_type": "code",
   "execution_count": null,
   "metadata": {},
   "outputs": [],
   "source": [
    "correlation()"
   ]
  },
  {
   "cell_type": "markdown",
   "metadata": {},
   "source": [
    "<center><b> Na podstawie powyższej analizy korelacji zauważa się, że wszystkie analizowane cechy nie są współzależne. Największa korelacja występuje pomiędzy ilością recenzji, a liczbą pobrań co jest dość oczywiste - ilość recenzji po części wynika z ilości pobrań, natomiast nie oznacza to że każda pobrana aplikacja jest recenzowana </b></center>"
   ]
  },
  {
   "cell_type": "markdown",
   "metadata": {},
   "source": [
    "<font color = 'orange'><b> Na podstawie analizy gęstości dla cech głównych składowych wymienionych wyżej, wnioskuje się iż kryterium doboru do rankingu w scoreboard będzie stosunek ilosci pobrań aplikacji darmowej do aplikacji płatnych. W przypadku pozostałych cech uznano, że do scoreboard wykorzysta się q = 0.8</b></font>"
   ]
  },
  {
   "cell_type": "code",
   "execution_count": null,
   "metadata": {},
   "outputs": [],
   "source": [
    "type_charts_installs()"
   ]
  },
  {
   "cell_type": "markdown",
   "metadata": {},
   "source": [
    "Powyższy wykres pokazuje, że rozkąłdy są zuepłeni inne. Nie wnioskujemy na podstawie powyższego wykresu jakie są różnice - badamy zależność dalej."
   ]
  },
  {
   "cell_type": "code",
   "execution_count": null,
   "metadata": {},
   "outputs": [],
   "source": [
    "mean_ratio()"
   ]
  },
  {
   "cell_type": "code",
   "execution_count": null,
   "metadata": {},
   "outputs": [],
   "source": [
    "chart_free_type_no()"
   ]
  },
  {
   "cell_type": "markdown",
   "metadata": {},
   "source": [
    "<b>Badanie cechy 'Category' na wykresie gęśtości (badano w celu porównania zależności i znalezienia specyficznego przypadku):</b>"
   ]
  },
  {
   "cell_type": "code",
   "execution_count": null,
   "metadata": {},
   "outputs": [],
   "source": [
    "chart_density_app()"
   ]
  },
  {
   "cell_type": "code",
   "execution_count": null,
   "metadata": {},
   "outputs": [],
   "source": [
    "chart_density_rating_app()"
   ]
  },
  {
   "cell_type": "markdown",
   "metadata": {},
   "source": [
    "<b>Zestawienie ilości aplikacji w stosunku do liczby pobrań dla danej kategorii:</b>"
   ]
  },
  {
   "cell_type": "code",
   "execution_count": null,
   "metadata": {},
   "outputs": [],
   "source": [
    "installs_category_no()"
   ]
  },
  {
   "cell_type": "markdown",
   "metadata": {},
   "source": [
    "<b>Badane cechy 'Size mb' - statystyka obrazująca ilość aplikacji bez przypisanej wartosci :</b>"
   ]
  },
  {
   "cell_type": "code",
   "execution_count": null,
   "metadata": {},
   "outputs": [],
   "source": [
    "chart_size_data_no_data ()"
   ]
  },
  {
   "cell_type": "markdown",
   "metadata": {},
   "source": [
    "<b> Statystyka tylko dla wybranych do analizy aplikacji: </b>"
   ]
  },
  {
   "cell_type": "code",
   "execution_count": null,
   "metadata": {},
   "outputs": [],
   "source": [
    "statistic_type()"
   ]
  },
  {
   "cell_type": "markdown",
   "metadata": {},
   "source": [
    "# <b> Tworzenie scorecardu - opis metodyki: </b>"
   ]
  },
  {
   "cell_type": "markdown",
   "metadata": {},
   "source": [
    "1. Wykonano zestawienie ilości występowań danej kategorii aplikacji ograniczonego o q = 0.8\n",
    "2. Wykonano zestawienie ilości występowań danej grupy odbiorców ograniczonej o q = 0.8\n",
    "3. Wykonano zestawieie ilości występowań danej klasy rozmiaru aplikacji (podział na klasy jako przedziały wartości rozmiarów) ograniczone o q =0.8\n",
    "4. Dla każdego zestawienia oblicozno punktację zgodnie z definicją: max(ilość wystąpień) / (ilość wystąpień) = score\n",
    "5. Punktacje dla kategorii, rozmiaru oraz odbiorcó dodano do siebie\n",
    "6. Aby wyróżnić znaczenie apliakcji darmowej jako miarę popularności - powyższą sumę przemnożono przez stosunek ilości pobran aplikacji darmowej do płatnej."
   ]
  },
  {
   "cell_type": "markdown",
   "metadata": {},
   "source": [
    "<h1><center><b><font color='green'> SCORECARD </font></b></center></h1>\n",
    "\n",
    "## <center>🥇🥈 🥉</center>"
   ]
  },
  {
   "cell_type": "code",
   "execution_count": null,
   "metadata": {},
   "outputs": [],
   "source": [
    "scoreboard()"
   ]
  },
  {
   "cell_type": "markdown",
   "metadata": {},
   "source": [
    "<h1><center><b><font color ='gold'>Na podstawie powyższego zestawienia najpopularniejszymi aplikacjami są te, które są z dziedziny gamingowej dedykowane dla każdego użytkownika, będące bezpłatne. Zazwyczaj te aplikacje mają ok 50 Mb rozmiaru.</font></b></center></h1>"
   ]
  },
  {
   "cell_type": "markdown",
   "metadata": {},
   "source": [
    "<h1><center>Teraz Twoja kolej! Spróbuj wbić się w rynek, sprawdź czy aplikacja, którą chesz utworzyć ma szansę powodzenia ! 😉😉 🔥🔥🔥</center></h1>"
   ]
  }
 ],
 "metadata": {
  "interpreter": {
   "hash": "e3d5b5d956be08382929bb93dcd9912859db75778b2a2cd5697529a2608628ef"
  },
  "kernelspec": {
   "display_name": "Python 3.9.7 ('base')",
   "language": "python",
   "name": "python3"
  },
  "language_info": {
   "codemirror_mode": {
    "name": "ipython",
    "version": 3
   },
   "file_extension": ".py",
   "mimetype": "text/x-python",
   "name": "python",
   "nbconvert_exporter": "python",
   "pygments_lexer": "ipython3",
   "version": "3.9.7"
  },
  "orig_nbformat": 4
 },
 "nbformat": 4,
 "nbformat_minor": 2
}
