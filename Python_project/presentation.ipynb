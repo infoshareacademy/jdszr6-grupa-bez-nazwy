{
 "cells": [
  {
   "cell_type": "markdown",
   "metadata": {},
   "source": [
    "### <b><h1><center><font color = 'silver'>Aplikacja mobilna - Twoja szansa na sukces !</font></center></h1></b1>\n",
    "### <h1><center>✨📱📱📱✨</center></h1> "
   ]
  },
  {
   "cell_type": "markdown",
   "metadata": {},
   "source": [
    "Źródło : https://www.kaggle.com/datasets/lava18/google-play-store-apps?select=googleplaystore.csv"
   ]
  },
  {
   "cell_type": "markdown",
   "metadata": {},
   "source": [
    "<b>Założenia:</b>\n",
    "1. W celu weryfikacji 'popularności' aplikacji przeprowadzono badanie gęstości występowania aplikacji względem oceny / liczby recenzji i liczby pobrań dla poszczególbych cech. Zauważalna różnica w rozkładzie jest czynnikiem wartym rozważenia pod kątem 'popularności'.\n",
    "2. Wyznacznikiem 'popularności' pod kątem cechy 'aplikacja płatna/darmowa' uznano stosunek ilości pobrań aplikacji darmowej do płatnej.\n",
    "3. W pkt 2 skupiono się na ilości pobrań, gdyż jest to pierwsza główna skłądowa do analizy popularności aplikacji mobilnych. Jeśli aplikacja jest pobierana, uznaje się że jest znana, a zatem bardziej popularna.\n",
    "4. Przeprowadzono standaryzację i kategoryzację cechy 'rozmiar aplikacji'. Na tej podstawie pogrupowano aplikacje w klasy rozmiarowe.\n",
    "5. <font color='green'><b> Finalnym zestawieniem popularności aplikacji jest scoreboard utworzony na bazie rankingu częstości występowań danych cech (Kategoria | Odbiorca | Rozmiar | Aplikacja płatna/ darmowa). Scoreboard został przeprowadzony na kwantylu 0.8 w wystąpieniach, aby odciąć granicę popularnych aplikacji od ogółu. </b></font> \n",
    "6. <font color='gold'><b> Na bazie powyższej analizy przygotowano aplikację, która umożliwi porównać czy nowa aplikacja mobilna ma szansę być popularna i finalnie odnieść sukces. </b></font>\n",
    "\n"
   ]
  },
  {
   "cell_type": "markdown",
   "metadata": {},
   "source": [
    "<b> Pod podanym źródłem znajdują się dwa pliki:\n",
    "1. 'googleplaystore' - baza aplikacji zawierająca informacje: nazwa | typ | rozmiar | kategoria | content rating | ocena | il. recenzji | ilość pobrań\n",
    "2. 'googleplaystor_user_reviews' - baza recenzji, przydatna do analizy tekstu. Baza ta nie została wykorzystana dla poniższej analizy, natomiast stanowi punkt dalszej analizy i być może będzie podstawą do przewidywania recenzji nowej aplikacji </b>"
   ]
  },
  {
   "cell_type": "code",
   "execution_count": 2,
   "metadata": {},
   "outputs": [
    {
     "data": {
      "text/html": [
       "<div>\n",
       "<style scoped>\n",
       "    .dataframe tbody tr th:only-of-type {\n",
       "        vertical-align: middle;\n",
       "    }\n",
       "\n",
       "    .dataframe tbody tr th {\n",
       "        vertical-align: top;\n",
       "    }\n",
       "\n",
       "    .dataframe thead th {\n",
       "        text-align: right;\n",
       "    }\n",
       "</style>\n",
       "<table border=\"1\" class=\"dataframe\">\n",
       "  <thead>\n",
       "    <tr style=\"text-align: center;\">\n",
       "      <th></th>\n",
       "      <th>App</th>\n",
       "      <th>Type</th>\n",
       "      <th>Size</th>\n",
       "      <th>Category</th>\n",
       "      <th>Content Rating</th>\n",
       "      <th>Rating</th>\n",
       "      <th>Reviews</th>\n",
       "      <th>Installs</th>\n",
       "      <th>Size mb</th>\n",
       "      <th>Size category</th>\n",
       "    </tr>\n",
       "  </thead>\n",
       "  <tbody>\n",
       "    <tr>\n",
       "      <th>0</th>\n",
       "      <td>+Download 4 Instagram Twitter</td>\n",
       "      <td>Free</td>\n",
       "      <td>22M</td>\n",
       "      <td>SOCIAL</td>\n",
       "      <td>Everyone</td>\n",
       "      <td>4.5</td>\n",
       "      <td>40467</td>\n",
       "      <td>1000000</td>\n",
       "      <td>22.000</td>\n",
       "      <td>2.0</td>\n",
       "    </tr>\n",
       "    <tr>\n",
       "      <th>1</th>\n",
       "      <td>- Free Comics - Comic Apps</td>\n",
       "      <td>Free</td>\n",
       "      <td>9.1M</td>\n",
       "      <td>COMICS</td>\n",
       "      <td>Mature 17+</td>\n",
       "      <td>3.5</td>\n",
       "      <td>115</td>\n",
       "      <td>10000</td>\n",
       "      <td>9.100</td>\n",
       "      <td>0.0</td>\n",
       "    </tr>\n",
       "    <tr>\n",
       "      <th>2</th>\n",
       "      <td>.R</td>\n",
       "      <td>Free</td>\n",
       "      <td>203k</td>\n",
       "      <td>TOOLS</td>\n",
       "      <td>Everyone</td>\n",
       "      <td>4.5</td>\n",
       "      <td>259</td>\n",
       "      <td>10000</td>\n",
       "      <td>0.198</td>\n",
       "      <td>0.0</td>\n",
       "    </tr>\n",
       "    <tr>\n",
       "      <th>3</th>\n",
       "      <td>/u/app</td>\n",
       "      <td>Free</td>\n",
       "      <td>53M</td>\n",
       "      <td>COMMUNICATION</td>\n",
       "      <td>Mature 17+</td>\n",
       "      <td>4.7</td>\n",
       "      <td>573</td>\n",
       "      <td>10000</td>\n",
       "      <td>53.000</td>\n",
       "      <td>5.0</td>\n",
       "    </tr>\n",
       "    <tr>\n",
       "      <th>4</th>\n",
       "      <td>058.ba</td>\n",
       "      <td>Free</td>\n",
       "      <td>14M</td>\n",
       "      <td>NEWS_AND_MAGAZINES</td>\n",
       "      <td>Everyone</td>\n",
       "      <td>4.4</td>\n",
       "      <td>27</td>\n",
       "      <td>100</td>\n",
       "      <td>14.000</td>\n",
       "      <td>1.0</td>\n",
       "    </tr>\n",
       "  </tbody>\n",
       "</table>\n",
       "</div>"
      ],
      "text/plain": [
       "               App                Type  Size       Category      Content Rating  Rating  Reviews  Installs  Size mb  Size category\n",
       "0  +Download 4 Instagram Twitter  Free   22M              SOCIAL     Everyone      4.5    40467    1000000  22.000        2.0     \n",
       "1     - Free Comics - Comic Apps  Free  9.1M              COMICS   Mature 17+      3.5      115      10000   9.100        0.0     \n",
       "2                             .R  Free  203k               TOOLS     Everyone      4.5      259      10000   0.198        0.0     \n",
       "3                         /u/app  Free   53M       COMMUNICATION   Mature 17+      4.7      573      10000  53.000        5.0     \n",
       "4                         058.ba  Free   14M  NEWS_AND_MAGAZINES     Everyone      4.4       27        100  14.000        1.0     "
      ]
     },
     "metadata": {},
     "output_type": "display_data"
    },
    {
     "name": "stdout",
     "output_type": "stream",
     "text": [
      "<class 'pandas.core.frame.DataFrame'>\n",
      "Int64Index: 7025 entries, 0 to 8195\n",
      "Data columns (total 10 columns):\n",
      " #   Column          Non-Null Count  Dtype  \n",
      "---  ------          --------------  -----  \n",
      " 0   App             7025 non-null   object \n",
      " 1   Type            7025 non-null   object \n",
      " 2   Size            7025 non-null   object \n",
      " 3   Category        7025 non-null   object \n",
      " 4   Content Rating  7025 non-null   object \n",
      " 5   Rating          7025 non-null   float64\n",
      " 6   Reviews         7025 non-null   int64  \n",
      " 7   Installs        7025 non-null   int64  \n",
      " 8   Size mb         7025 non-null   float64\n",
      " 9   Size category   7025 non-null   float64\n",
      "dtypes: float64(3), int64(2), object(5)\n",
      "memory usage: 603.7+ KB\n",
      "None\n",
      "No of duplicates: 0\n"
     ]
    }
   ],
   "source": [
    "from project_functions import *\n",
    "pass\n",
    "\n",
    "clean_data()"
   ]
  },
  {
   "cell_type": "markdown",
   "metadata": {},
   "source": [
    "<center><ins> W celu analizy usunieto duplikaty, puste wartości oraz dane dla rozmiaru, gdzie nie został on określony. Finalnie bazowano na <font color='pink'>7025 rekordach i 4 głównych cechach składowych </font> ('Type'/ 'Content Rating'/ 'Size mb' / 'Category') </ins></center>"
   ]
  },
  {
   "cell_type": "code",
   "execution_count": null,
   "metadata": {},
   "outputs": [],
   "source": [
    "means()"
   ]
  },
  {
   "cell_type": "code",
   "execution_count": null,
   "metadata": {},
   "outputs": [],
   "source": [
    "correlation()"
   ]
  },
  {
   "cell_type": "markdown",
   "metadata": {},
   "source": [
    "<center><b> Na podstawie powyższej analizy korelacji zauważa się, że wszystkie analizowane cechy nie są współzależne. Największa korelacja występuje pomiędzy ilością recenzji, a liczbą pobrań co jest dość oczywiste - ilość recenzji po części wynika z ilości pobrań, natomiast nie oznacza to że każda pobrana aplikacja jest recenzowana </b></center>"
   ]
  },
  {
   "cell_type": "markdown",
   "metadata": {},
   "source": [
    "<font color = 'orange'><b> Na podstawie analizy gęstości dla cech głównych składowych wymienionych wyżej, wnioskuje się iż kryterium doboru do rankingu w scoreboard będzie stosunek ilosci pobrań aplikacji darmowej do aplikacji płatnych. W przypadku pozostałych cech uznano, że do scoreboard wykorzysta się q = 0.8</b></font>"
   ]
  },
  {
   "cell_type": "code",
   "execution_count": null,
   "metadata": {},
   "outputs": [],
   "source": [
    "type_charts_installs()"
   ]
  },
  {
   "cell_type": "markdown",
   "metadata": {},
   "source": [
    "Powyższy wykres pokazuje, że rozkąłdy są zuepłeni inne. Nie wnioskujemy na podstawie powyższego wykresu jakie są różnice - badamy zależność dalej."
   ]
  },
  {
   "cell_type": "code",
   "execution_count": null,
   "metadata": {},
   "outputs": [],
   "source": [
    "mean_ratio()"
   ]
  },
  {
   "cell_type": "code",
   "execution_count": null,
   "metadata": {},
   "outputs": [],
   "source": [
    "chart_free_type_no()"
   ]
  },
  {
   "cell_type": "markdown",
   "metadata": {},
   "source": [
    "<b>Badanie cechy 'Category' na wykresie gęśtości (badano w celu porównania zależności i znalezienia specyficznego przypadku):</b>"
   ]
  },
  {
   "cell_type": "code",
   "execution_count": null,
   "metadata": {},
   "outputs": [],
   "source": [
    "chart_density_app()"
   ]
  },
  {
   "cell_type": "code",
   "execution_count": null,
   "metadata": {},
   "outputs": [],
   "source": [
    "chart_density_rating_app()"
   ]
  },
  {
   "cell_type": "markdown",
   "metadata": {},
   "source": [
    "<b>Zestawienie ilości aplikacji w stosunku do liczby pobrań dla danej kategorii:</b>"
   ]
  },
  {
   "cell_type": "code",
   "execution_count": null,
   "metadata": {},
   "outputs": [],
   "source": [
    "installs_category_no()"
   ]
  },
  {
   "cell_type": "markdown",
   "metadata": {},
   "source": [
    "<b>Badane cechy 'Size mb' - statystyka obrazująca ilość aplikacji bez przypisanej wartosci :</b>"
   ]
  },
  {
   "cell_type": "code",
   "execution_count": null,
   "metadata": {},
   "outputs": [],
   "source": [
    "chart_size_data_no_data ()"
   ]
  },
  {
   "cell_type": "markdown",
   "metadata": {},
   "source": [
    "<b> Statystyka tylko dla wybranych do analizy aplikacji: </b>"
   ]
  },
  {
   "cell_type": "code",
   "execution_count": null,
   "metadata": {},
   "outputs": [],
   "source": [
    "statistic_type()"
   ]
  },
  {
   "cell_type": "markdown",
   "metadata": {},
   "source": [
    "# <b> Tworzenie scorecardu - opis metodyki: </b>"
   ]
  },
  {
   "cell_type": "markdown",
   "metadata": {},
   "source": [
    "1. Wykonano zestawienie ilości występowań danej kategorii aplikacji ograniczonego o q = 0.8\n",
    "2. Wykonano zestawienie ilości występowań danej grupy odbiorców ograniczonej o q = 0.8\n",
    "3. Wykonano zestawieie ilości występowań danej klasy rozmiaru aplikacji (podział na klasy jako przedziały wartości rozmiarów) ograniczone o q =0.8\n",
    "4. Dla każdego zestawienia oblicozno punktację zgodnie z definicją: max(ilość wystąpień) / (ilość wystąpień) = score\n",
    "5. Punktacje dla kategorii, rozmiaru oraz odbiorcó dodano do siebie\n",
    "6. Aby wyróżnić znaczenie apliakcji darmowej jako miarę popularności - powyższą sumę przemnożono przez stosunek ilości pobran aplikacji darmowej do płatnej."
   ]
  },
  {
   "cell_type": "markdown",
   "metadata": {},
   "source": [
    "<h1><center><b><font color='green'> SCORECARD </font></b></center></h1>\n",
    "\n",
    "## <center>🥇🥈 🥉</center>"
   ]
  },
  {
   "cell_type": "code",
   "execution_count": null,
   "metadata": {},
   "outputs": [],
   "source": [
    "scoreboard()"
   ]
  },
  {
   "cell_type": "markdown",
   "metadata": {},
   "source": [
    "<h1><center><b><font color ='gold'>Na podstawie powyższego zestawienia najpopularniejszymi aplikacjami są te, które są z dziedziny gamingowej dedykowane dla każdego użytkownika, będące bezpłatne. Zazwyczaj te aplikacje mają ok 50 Mb rozmiaru.</font></b></center></h1>"
   ]
  },
  {
   "cell_type": "markdown",
   "metadata": {},
   "source": [
    "<h1><center>Teraz Twoja kolej! Spróbuj wbić się w rynek, sprawdź czy aplikacja, którą chesz utworzyć ma szansę powodzenia ! 😉😉 🔥🔥🔥</center></h1>"
   ]
  },
  {
   "cell_type": "code",
   "execution_count": 3,
   "metadata": {},
   "outputs": [
    {
     "data": {
      "application/vnd.jupyter.widget-view+json": {
       "model_id": "acd8db8290ff4e21bcb8a1c606ef9da2",
       "version_major": 2,
       "version_minor": 0
      },
      "text/plain": [
       "VBox(children=(Label(value='Category'), Dropdown(options=('ART_AND_DESIGN', 'AUTO_AND_VEHICLES', 'BEAUTY', 'BO…"
      ]
     },
     "metadata": {},
     "output_type": "display_data"
    },
    {
     "data": {
      "application/vnd.jupyter.widget-view+json": {
       "model_id": "f185b27435ff4069a11d8a963dee38a5",
       "version_major": 2,
       "version_minor": 0
      },
      "text/plain": [
       "VBox(children=(Label(value='Content Rating'), RadioButtons(options=('Everyone', 'Mature 17+', 'Everyone 10+', …"
      ]
     },
     "metadata": {},
     "output_type": "display_data"
    },
    {
     "data": {
      "application/vnd.jupyter.widget-view+json": {
       "model_id": "c18a14bba7174c89b5d6588928287a66",
       "version_major": 2,
       "version_minor": 0
      },
      "text/plain": [
       "VBox(children=(Label(value='Size [Mb]'), IntSlider(value=0, max=110)))"
      ]
     },
     "metadata": {},
     "output_type": "display_data"
    },
    {
     "data": {
      "application/vnd.jupyter.widget-view+json": {
       "model_id": "f475ccfa2bd8484bb6a0e4d28f67806a",
       "version_major": 2,
       "version_minor": 0
      },
      "text/plain": [
       "ToggleButtons(options=('Free', 'Paid'), value='Free')"
      ]
     },
     "metadata": {},
     "output_type": "display_data"
    },
    {
     "data": {
      "application/vnd.jupyter.widget-view+json": {
       "model_id": "fa7286b05a374292b4cbaab01d94a5af",
       "version_major": 2,
       "version_minor": 0
      },
      "text/plain": [
       "Button(button_style='primary', description='CALCULATE SCORE', layout=Layout(height='40px', width='25%'), style…"
      ]
     },
     "metadata": {},
     "output_type": "display_data"
    },
    {
     "data": {
      "application/vnd.jupyter.widget-view+json": {
       "model_id": "22b526b2c32f4022af9ddef22bd47a3c",
       "version_major": 2,
       "version_minor": 0
      },
      "text/plain": [
       "Output()"
      ]
     },
     "metadata": {},
     "output_type": "display_data"
    }
   ],
   "source": [
    "app()"
   ]
  }
 ],
 "metadata": {
  "interpreter": {
   "hash": "e3d5b5d956be08382929bb93dcd9912859db75778b2a2cd5697529a2608628ef"
  },
  "kernelspec": {
   "display_name": "Python 3 (ipykernel)",
   "language": "python",
   "name": "python3"
  },
  "language_info": {
   "codemirror_mode": {
    "name": "ipython",
    "version": 3
   },
   "file_extension": ".py",
   "mimetype": "text/x-python",
   "name": "python",
   "nbconvert_exporter": "python",
   "pygments_lexer": "ipython3",
   "version": "3.9.7"
  }
 },
 "nbformat": 4,
 "nbformat_minor": 2
}
